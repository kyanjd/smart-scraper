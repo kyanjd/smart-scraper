{
 "cells": [
  {
   "cell_type": "code",
   "execution_count": 4,
   "metadata": {},
   "outputs": [],
   "source": [
    "import json\n",
    "import importlib\n",
    "from transformers import T5Tokenizer\n",
    "\n",
    "import src.paper_to_equation.Generation.Equation_BaseDataset "
   ]
  },
  {
   "cell_type": "markdown",
   "metadata": {},
   "source": [
    "Confirming the default tokenizer is unsuitable"
   ]
  },
  {
   "cell_type": "code",
   "execution_count": 4,
   "metadata": {},
   "outputs": [
    {
     "name": "stdout",
     "output_type": "stream",
     "text": [
      "['▁', '<', 'mm', 'l', ':', 'm', 'i', '>', 'h', '<', '/', 'mm', 'l', ':', 'm', 'i', '>', '▁', '<', 'mm', 'l', ':', 'm', 'o', '>', '=', '<', '/', 'mm', 'l', ':', 'm', 'o', '>', '▁', '<', 'mm', 'l', ':', 'm', 'row', '>', '▁', '<', 'mm', 'l', ':', 'm', 'sub', '>', '▁', '<', 'mm', 'l', ':', 'm', 'i', '>', 'h', '<', '/', 'mm', 'l', ':', 'm', 'i', '>', '▁', '<', 'mm', 'l', ':', 'm', 'i', '>', 'c', '<', '/', 'mm', 'l', ':', 'm', 'i', '>', '▁', '<', '/', 'mm', 'l', ':', 'm', 'sub', '>', '▁', '<', 'mm', 'l', ':', 'm', 'o', '>', '+', '<', '/', 'mm', 'l', ':', 'm', 'o', '>', '▁', '<', 'mm', 'l', ':', 'm', 'sub', '>', '▁', '<', 'mm', 'l', ':', 'm', 'i', '>', 'h', '<', '/', 'mm', 'l', ':', 'm', 'i', '>', '▁', '<', 'mm', 'l', ':', 'm', 'i', '>', 'g', '<', '/', 'mm', 'l', ':', 'm', 'i', '>', '▁', '<', '/', 'mm', 'l', ':', 'm', 'sub', '>', '▁', '<', '/', 'mm', 'l', ':', 'm', 'row', '>']\n"
     ]
    }
   ],
   "source": [
    "tokenizer = T5Tokenizer.from_pretrained(\"t5-base\")\n",
    "\n",
    "mml = \"\"\"\n",
    "<mml:mi>h</mml:mi>\n",
    "  <mml:mo>=</mml:mo>\n",
    "  <mml:mrow>\n",
    "    <mml:msub>\n",
    "      <mml:mi>h</mml:mi>\n",
    "      <mml:mi>c</mml:mi>\n",
    "    </mml:msub>\n",
    "    <mml:mo>+</mml:mo>\n",
    "    <mml:msub>\n",
    "      <mml:mi>h</mml:mi>\n",
    "      <mml:mi>g</mml:mi>\n",
    "    </mml:msub>\n",
    "  </mml:mrow>\n",
    "  \"\"\"\n",
    "\n",
    "py = \"\"\"\n",
    "h = Symbol('h')\n",
    "h_g = Symbol('h_g')\n",
    "h_c = Symbol('h_c')\n",
    "e = Eq(h, h_g + h_c)\"\"\"\n",
    "\n",
    "tokens = tokenizer.tokenize(mml)\n",
    "print(tokens)\n"
   ]
  },
  {
   "cell_type": "markdown",
   "metadata": {},
   "source": [
    "Dataset class"
   ]
  },
  {
   "cell_type": "code",
   "execution_count": 13,
   "metadata": {},
   "outputs": [
    {
     "name": "stderr",
     "output_type": "stream",
     "text": [
      "Generating dataset: 100%|██████████| 10/10 [00:00<00:00, 68.01it/s]"
     ]
    },
    {
     "name": "stdout",
     "output_type": "stream",
     "text": [
      "[{'mathml': '<MI>h</MI>\\n<MO>=</MO>\\n<MROW>\\n<MSUP>\\n<mml:mtext>exp</mml:mtext>\\n<MROW>\\n<MROW>\\n<MO>-</MO>\\n<MI>Ε</MI>\\n</MROW>\\n<MO>+</MO>\\n<MI>ν</MI>\\n</MROW>\\n</MSUP>\\n<MO>-</MO>\\n<MROW>\\n<MI>sin</MI>\\n<mml:mfenced>\\n<MSUB>\\n<MI>f</MI>\\n<MROW>\\n<MI>t</MI>\\n<MI>S</MI>\\n</MROW>\\n</MSUB>\\n</mml:mfenced>\\n</MROW>\\n<MO>+</MO>\\n<MROW>\\n<MI>tan</MI>\\n<mml:mfenced>\\n<MSUB>\\n<MI>ο</MI>\\n<MROW>\\n<MI>T</MI>\\n<MI>λ</MI>\\n</MROW>\\n</MSUB>\\n</mml:mfenced>\\n</MROW>\\n</MROW>', 'python': \"h = Symbol('h')\\nΕ = Symbol('Ε')\\nν = Symbol('ν')\\nf_tS = Symbol('f_tS')\\nο_Tλ = Symbol('ο_Tλ')\\ne = Eq(h, exp(-Ε + ν) - sin(f_tS) + tan(ο_Tλ))\"}, {'mathml': '<MI>ν</MI>\\n<MO>=</MO>\\n<MROW>\\n<mml:munderover>\\n<MO>∑</MO>\\n<MROW>\\n<MI>κ</MI>\\n<MO>=</MO>\\n<mml:mn>9</mml:mn>\\n</MROW>\\n<MSUB>\\n<MI>y</MI>\\n<MI>Δ</MI>\\n</MSUB>\\n</mml:munderover>\\n<mml:mfenced>\\n<MROW>\\n<mml:msqrt>\\n<MROW>\\n<MI>Λ</MI>\\n<MO>-</MO>\\n<mml:mn>7</mml:mn>\\n</MROW>\\n</mml:msqrt>\\n<MO>+</MO>\\n<MSUP>\\n<mml:mtext>exp</mml:mtext>\\n<MI>k</MI>\\n</MSUP>\\n</MROW>\\n</mml:mfenced>\\n</MROW>', 'python': \"ν = Symbol('ν')\\nκ = Symbol('κ')\\ny_Δ = Symbol('y_Δ')\\nΛ = Symbol('Λ')\\nk = Symbol('k')\\ne = Eq(ν, Sum(sqrt(Λ - 7) + exp(k), (κ, 9, y_Δ)))\"}, {'mathml': '<MSUB>\\n<MI>G</MI>\\n<MI>θ</MI>\\n</MSUB>\\n<MO>=</MO>\\n<MROW>\\n<MFRAC>\\n<MROW>\\n<MI>sin</MI>\\n<mml:mfenced>\\n<MI>y</MI>\\n</mml:mfenced>\\n</MROW>\\n<MROW>\\n<MI>cos</MI>\\n<mml:mfenced>\\n<MROW>\\n<MI>q</MI>\\n<MO>-</MO>\\n<mml:mn>8</mml:mn>\\n</MROW>\\n</mml:mfenced>\\n</MROW>\\n</MFRAC>\\n</MROW>', 'python': \"G_θ = Symbol('G_θ')\\ny = Symbol('y')\\nq = Symbol('q')\\ne = Eq(G_θ, sin(y)/cos(q - 8))\"}, {'mathml': '<MI>O</MI>\\n<MO>=</MO>\\n<MROW>\\n<mml:munderover>\\n<MO>∑</MO>\\n<MROW>\\n<MSUB>\\n<MI>h</MI>\\n<MI>w</MI>\\n</MSUB>\\n<MO>=</MO>\\n<mml:mn>8</mml:mn>\\n</MROW>\\n<MSUB>\\n<MI>Ι</MI>\\n<MROW>\\n<MI>6</MI>\\n<MI>Π</MI>\\n<MI>θ</MI>\\n</MROW>\\n</MSUB>\\n</mml:munderover>\\n<mml:mfenced>\\n<MROW>\\n<MI>Π</MI>\\n<MO>+</MO>\\n<MROW>\\n<MI>log</MI>\\n<mml:mfenced>\\n<MSUB>\\n<MI>θ</MI>\\n<MROW>\\n<MI>ι</MI>\\n<MI>β</MI>\\n<MI>Τ</MI>\\n</MROW>\\n</MSUB>\\n</mml:mfenced>\\n</MROW>\\n<MO>+</MO>\\n<MROW>\\n<MI>sin</MI>\\n<mml:mfenced>\\n<MI>ν</MI>\\n</mml:mfenced>\\n</MROW>\\n</MROW>\\n</mml:mfenced>\\n</MROW>', 'python': \"O = Symbol('O')\\nh_w = Symbol('h_w')\\nΙ_6Πθ = Symbol('Ι_6Πθ')\\nΠ = Symbol('Π')\\nθ_ιβΤ = Symbol('θ_ιβΤ')\\nν = Symbol('ν')\\ne = Eq(O, Sum(Π + log(θ_ιβΤ) + sin(ν), (h_w, 8, Ι_6Πθ)))\"}, {'mathml': '<MI>κ</MI>\\n<MO>=</MO>\\n<MROW>\\n<mml:munderover>\\n<MO>∑</MO>\\n<MROW>\\n<MSUB>\\n<MI>φ</MI>\\n<MROW>\\n<MI>ρ</MI>\\n<MI>α</MI>\\n</MROW>\\n</MSUB>\\n<MO>=</MO>\\n<mml:mn>7</mml:mn>\\n</MROW>\\n<MI>c</MI>\\n</mml:munderover>\\n<mml:mfenced>\\n<MROW>\\n<MROW>\\n<MO>-</MO>\\n<mml:msqrt>\\n<MI>Ξ</MI>\\n</mml:msqrt>\\n<MROW>\\n<MI>cos</MI>\\n<mml:mfenced>\\n<MI>Φ</MI>\\n</mml:mfenced>\\n</MROW>\\n</MROW>\\n<MO>+</MO>\\n<MSUP>\\n<mml:mtext>exp</mml:mtext>\\n<MSUB>\\n<MI>x</MI>\\n<MROW>\\n<MI>D</MI>\\n<MI>Μ</MI>\\n</MROW>\\n</MSUB>\\n</MSUP>\\n</MROW>\\n</mml:mfenced>\\n</MROW>', 'python': \"κ = Symbol('κ')\\nφ_ρα = Symbol('φ_ρα')\\nc = Symbol('c')\\nΞ = Symbol('Ξ')\\nΦ = Symbol('Φ')\\nx_DΜ = Symbol('x_DΜ')\\ne = Eq(κ, Sum(-sqrt(Ξ)*cos(Φ) + exp(x_DΜ), (φ_ρα, 7, c)))\"}, {'mathml': '<MI>J</MI>\\n<MO>=</MO>\\n<MROW>\\n<MFRAC>\\n<MROW>\\n<MO>∂</MO>\\n</MROW>\\n<MROW>\\n<MO>∂</MO>\\n<MSUB>\\n<MI>U</MI>\\n<MROW>\\n<MI>i</MI>\\n<MI>V</MI>\\n<MI>v</MI>\\n</MROW>\\n</MSUB>\\n</MROW>\\n</MFRAC>\\n<MROW>\\n<MFRAC>\\n<MROW>\\n<MI>log</MI>\\n<mml:mfenced>\\n<MSUB>\\n<MI>U</MI>\\n<MROW>\\n<MI>i</MI>\\n<MI>V</MI>\\n<MI>v</MI>\\n</MROW>\\n</MSUB>\\n</mml:mfenced>\\n</MROW>\\n<MI>τ</MI>\\n</MFRAC>\\n</MROW>\\n</MROW>', 'python': \"J = Symbol('J')\\nU_iVv = Symbol('U_iVv')\\nτ = Symbol('τ')\\ne = Eq(J, Derivative(log(U_iVv)/τ, U_iVv))\"}, {'mathml': '<MI>a</MI>\\n<MO>=</MO>\\n<MROW>\\n<MSUP>\\n<mml:mtext>exp</mml:mtext>\\n<MI>Γ</MI>\\n</MSUP>\\n<MO>-</MO>\\n<MROW>\\n<MI>cos</MI>\\n<mml:mfenced>\\n<MI>K</MI>\\n</mml:mfenced>\\n</MROW>\\n</MROW>', 'python': \"a = Symbol('a')\\nΓ = Symbol('Γ')\\nK = Symbol('K')\\ne = Eq(a, exp(Γ) - cos(K))\"}, {'mathml': '<MSUB>\\n<MI>G</MI>\\n<MROW>\\n<MI>9</MI>\\n<MI>O</MI>\\n<MI>W</MI>\\n</MROW>\\n</MSUB>\\n<MO>=</MO>\\n<MROW>\\n<MROW>\\n<mml:mn>6</mml:mn>\\n<MI>ι</MI>\\n</MROW>\\n<MO>+</MO>\\n<MROW>\\n<MI>tan</MI>\\n<mml:mfenced>\\n<MSUB>\\n<MI>n</MI>\\n<MI>ξ</MI>\\n</MSUB>\\n</mml:mfenced>\\n</MROW>\\n</MROW>', 'python': \"G_9OW = Symbol('G_9OW')\\nι = Symbol('ι')\\nn_ξ = Symbol('n_ξ')\\ne = Eq(G_9OW, 6*ι + tan(n_ξ))\"}, {'mathml': '<MSUB>\\n<MI>b</MI>\\n<MROW>\\n<MI>K</MI>\\n<MI>ε</MI>\\n</MROW>\\n</MSUB>\\n<MO>=</MO>\\n<MROW>\\n<MFRAC>\\n<MROW>\\n<MO>∂</MO>\\n</MROW>\\n<MROW>\\n<MO>∂</MO>\\n<MI>Ν</MI>\\n</MROW>\\n</MFRAC>\\n<MROW>\\n<MROW>\\n<MI>log</MI>\\n<mml:mfenced>\\n<MI>μ</MI>\\n</mml:mfenced>\\n</MROW>\\n<MO>-</MO>\\n<MROW>\\n<MI>log</MI>\\n<mml:mfenced>\\n<MROW>\\n<MFRAC>\\n<MI>Ν</MI>\\n<MI>l</MI>\\n</MFRAC>\\n</MROW>\\n</mml:mfenced>\\n</MROW>\\n</MROW>\\n</MROW>', 'python': \"b_Kε = Symbol('b_Kε')\\nμ = Symbol('μ')\\nΝ = Symbol('Ν')\\nl = Symbol('l')\\ne = Eq(b_Kε, Derivative(log(μ) - log(Ν/l), Ν))\"}, {'mathml': '<MI>Θ</MI>\\n<MO>=</MO>\\n<MROW>\\n<MO>∫</MO>\\n<mml:mfenced>\\n<MROW>\\n<MSUP>\\n<MI>Φ</MI>\\n<MROW>\\n<MFRAC>\\n<MROW>\\n<MI>sin</MI>\\n<mml:mfenced>\\n<MI>j</MI>\\n</mml:mfenced>\\n</MROW>\\n<mml:mn>2</mml:mn>\\n</MFRAC>\\n</MROW>\\n</MSUP>\\n<MO>+</MO>\\n<MSUP>\\n<mml:mtext>exp</mml:mtext>\\n<MI>Χ</MI>\\n</MSUP>\\n</MROW>\\n</mml:mfenced>\\n<MI>d</MI>\\n<MI>Χ</MI>\\n</MROW>', 'python': \"Θ = Symbol('Θ')\\nΧ = Symbol('Χ')\\nj = Symbol('j')\\nΦ = Symbol('Φ')\\ne = Eq(Θ, Integral(Φ**(sin(j)/2) + exp(Χ), Χ))\"}]\n"
     ]
    },
    {
     "name": "stderr",
     "output_type": "stream",
     "text": [
      "\n"
     ]
    }
   ],
   "source": [
    "importlib.reload(src.paper_to_equation.Generation.Equation_BaseDataset)\n",
    "from src.paper_to_equation.Generation.Equation_BaseDataset import BaseDataset\n",
    "\n",
    "class TokenizerDataset(BaseDataset):\n",
    "    def __init__(self, num, filepath):\n",
    "        super().__init__(num, filepath)\n",
    "\n",
    "    def get_columns(self):\n",
    "        return [\"mathml\", \"python\"]\n",
    "\n",
    "    def map_atomic_tokens(self, dataset):\n",
    "\n",
    "        tag_map = {\"<mml:mo>\": \"<MO>\", \"</mml:mo>\": \"</MO>\",\n",
    "                   \"<mml:mi>\": \"<MI>\", \"</mml:mi>\": \"</MI>\",\n",
    "                   \"<mml:msub>\": \"<MSUB>\", \"</mml:msub>\": \"</MSUB>\",\n",
    "                   \"<mml:msup>\": \"<MSUP>\", \"</mml:msup>\": \"</MSUP>\",\n",
    "                   \"<mml:mrow>\": \"<MROW>\", \"</mml:mrow>\": \"</MROW>\", \n",
    "                   \"<mml:mfrac>\": \"<MFRAC>\", \"</mml:mfrac>\": \"</MFRAC>\"}\n",
    "        \n",
    "        for entry in dataset:\n",
    "            mathml = entry[\"mathml\"]\n",
    "            for tag, token in tag_map.items():\n",
    "                mathml = mathml.replace(tag, token)\n",
    "            entry[\"mathml\"] = mathml\n",
    "        \n",
    "        return dataset\n",
    "    \n",
    "    def json_to_dataset(self):\n",
    "        with open(self.filepath) as f:\n",
    "            data = json.load(f)\n",
    "        \n",
    "        return data\n",
    "        \n",
    "\n",
    "\n",
    "td = TokenizerDataset(10, \"Data/tokenizer_dataset.json\")\n",
    "td.create()\n",
    "data = td.json_to_dataset()\n",
    "mapped_data = td.map_atomic_tokens(data)\n",
    "print(mapped_data)\n",
    "\n",
    "\n",
    "    "
   ]
  }
 ],
 "metadata": {
  "kernelspec": {
   "display_name": "fyp_env",
   "language": "python",
   "name": "python3"
  },
  "language_info": {
   "codemirror_mode": {
    "name": "ipython",
    "version": 3
   },
   "file_extension": ".py",
   "mimetype": "text/x-python",
   "name": "python",
   "nbconvert_exporter": "python",
   "pygments_lexer": "ipython3",
   "version": "3.11.10"
  }
 },
 "nbformat": 4,
 "nbformat_minor": 2
}
