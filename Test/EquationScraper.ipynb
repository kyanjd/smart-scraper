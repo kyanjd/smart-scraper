{
 "cells": [
  {
   "cell_type": "code",
   "execution_count": 2,
   "metadata": {},
   "outputs": [
    {
     "name": "stderr",
     "output_type": "stream",
     "text": [
      "c:\\Users\\kyanj\\anaconda3\\envs\\fyp_env\\Lib\\site-packages\\tqdm\\auto.py:21: TqdmWarning: IProgress not found. Please update jupyter and ipywidgets. See https://ipywidgets.readthedocs.io/en/stable/user_install.html\n",
      "  from .autonotebook import tqdm as notebook_tqdm\n"
     ]
    },
    {
     "ename": "Exception",
     "evalue": "Request failed with status code: 401 \n",
     "output_type": "error",
     "traceback": [
      "\u001b[1;31m---------------------------------------------------------------------------\u001b[0m",
      "\u001b[1;31mException\u001b[0m                                 Traceback (most recent call last)",
      "Cell \u001b[1;32mIn[2], line 66\u001b[0m\n\u001b[0;32m     63\u001b[0m             f\u001b[38;5;241m.\u001b[39mwrite(\u001b[38;5;124mf\u001b[39m\u001b[38;5;124m\"\u001b[39m\u001b[38;5;124mMathML: \u001b[39m\u001b[38;5;132;01m{\u001b[39;00mitem[\u001b[38;5;124m'\u001b[39m\u001b[38;5;124mmathml_input\u001b[39m\u001b[38;5;124m'\u001b[39m]\u001b[38;5;132;01m}\u001b[39;00m\u001b[38;5;130;01m\\n\u001b[39;00m\u001b[38;5;124mPython: \u001b[39m\u001b[38;5;132;01m{\u001b[39;00mitem[\u001b[38;5;124m'\u001b[39m\u001b[38;5;124mpython_output\u001b[39m\u001b[38;5;124m'\u001b[39m]\u001b[38;5;132;01m}\u001b[39;00m\u001b[38;5;130;01m\\n\u001b[39;00m\u001b[38;5;130;01m\\n\u001b[39;00m\u001b[38;5;124m\"\u001b[39m)\n\u001b[0;32m     65\u001b[0m \u001b[38;5;28;01mif\u001b[39;00m \u001b[38;5;18m__name__\u001b[39m \u001b[38;5;241m==\u001b[39m \u001b[38;5;124m\"\u001b[39m\u001b[38;5;124m__main__\u001b[39m\u001b[38;5;124m\"\u001b[39m:\n\u001b[1;32m---> 66\u001b[0m     main()\n",
      "Cell \u001b[1;32mIn[2], line 52\u001b[0m, in \u001b[0;36mmain\u001b[1;34m()\u001b[0m\n\u001b[0;32m     50\u001b[0m api_key \u001b[38;5;241m=\u001b[39m os\u001b[38;5;241m.\u001b[39mgetenv(\u001b[38;5;124m\"\u001b[39m\u001b[38;5;124mELSEVIER_API_KEY\u001b[39m\u001b[38;5;124m\"\u001b[39m)\n\u001b[0;32m     51\u001b[0m scraper \u001b[38;5;241m=\u001b[39m EquationScraper(doi, api_key)\n\u001b[1;32m---> 52\u001b[0m scraper\u001b[38;5;241m.\u001b[39mmake_request()\n\u001b[0;32m     53\u001b[0m scraper\u001b[38;5;241m.\u001b[39mmake_soup()\n\u001b[0;32m     54\u001b[0m scraper\u001b[38;5;241m.\u001b[39mfind_equations()\n",
      "Cell \u001b[1;32mIn[2], line 20\u001b[0m, in \u001b[0;36mEquationScraper.make_request\u001b[1;34m(self)\u001b[0m\n\u001b[0;32m     18\u001b[0m     \u001b[38;5;28mself\u001b[39m\u001b[38;5;241m.\u001b[39mfull_text \u001b[38;5;241m=\u001b[39m response\u001b[38;5;241m.\u001b[39mtext \n\u001b[0;32m     19\u001b[0m \u001b[38;5;28;01melse\u001b[39;00m:\n\u001b[1;32m---> 20\u001b[0m     \u001b[38;5;28;01mraise\u001b[39;00m \u001b[38;5;167;01mException\u001b[39;00m(\u001b[38;5;124mf\u001b[39m\u001b[38;5;124m\"\u001b[39m\u001b[38;5;124mRequest failed with status code: \u001b[39m\u001b[38;5;132;01m{\u001b[39;00mresponse\u001b[38;5;241m.\u001b[39mstatus_code\u001b[38;5;132;01m}\u001b[39;00m\u001b[38;5;124m \u001b[39m\u001b[38;5;130;01m\\n\u001b[39;00m\u001b[38;5;124m\"\u001b[39m)\n",
      "\u001b[1;31mException\u001b[0m: Request failed with status code: 401 \n"
     ]
    }
   ],
   "source": [
    "import requests\n",
    "import bs4\n",
    "import os\n",
    "import sympy\n",
    "from sympy import symbols, integrate\n",
    "import google.generativeai as ai\n",
    "\n",
    "class EquationScraper():\n",
    "    def __init__(self, doi, api_key):\n",
    "        self.doi = doi\n",
    "        self.api_key = api_key\n",
    "        self.dataset = []\n",
    "\n",
    "    def make_request(self):\n",
    "        response = requests.get(f\"https://api.elsevier.com/content/article/doi/{self.doi}?APIKey={self.api_key}\")\n",
    "        if response.status_code == 200:\n",
    "            print(\"Request successful \\n\")\n",
    "            self.full_text = response.text \n",
    "        else:\n",
    "            raise Exception(f\"Request failed with status code: {response.status_code} \\n\")\n",
    "\n",
    "    def make_soup(self):\n",
    "        self.soup = bs4.BeautifulSoup(self.full_text, \"lxml\")\n",
    "\n",
    "    def find_equations(self):\n",
    "        self.equation = self.soup.find_all(\"ce:formula\")\n",
    "        equation_dict = {}\n",
    "        for eq in self.equation:\n",
    "            label = eq.find(\"ce:label\")\n",
    "            cleaned_label = int(label.text[1:-1])\n",
    "            equation_dict[cleaned_label] = eq.find(\"mml:math\")\n",
    "        self.mathml_dict = equation_dict\n",
    "    \n",
    "    def mathml_to_python(self, mathml):\n",
    "        ai.configure(api_key=os.getenv(\"API_KEY\"))\n",
    "        model = ai.GenerativeModel(\"gemini-1.5-flash\")\n",
    "        query = f\"\"\"You are a programming expert and have been tasked with converting an equation from MathML to Python.\n",
    "        Return the equation in well formatted Python code, using the sympy library if necessary for complex equations. Do not return\n",
    "        anything other than the equation and do not include the word Python.\n",
    "        The equation you need to convert is: {mathml}\"\"\"\n",
    "        response = model.generate_content(query)\n",
    "        return response\n",
    "    \n",
    "    def append_dataset(self, mathml, python):\n",
    "        self.dataset.append({\"mathml_input\": mathml, \"python_output\": python})\n",
    "\n",
    "\n",
    "def main():     \n",
    "    doi = \"10.1016/j.triboint.2021.106934\"\n",
    "    api_key = os.getenv(\"ELSEVIER_API_KEY\")\n",
    "    scraper = EquationScraper(doi, api_key)\n",
    "    scraper.make_request()\n",
    "    scraper.make_soup()\n",
    "    scraper.find_equations()\n",
    "    for eq in range(1, len(scraper.mathml_dict)+1):\n",
    "        mathml = scraper.mathml_dict[eq]\n",
    "        python = scraper.mathml_to_python(mathml)\n",
    "        scraper.append_dataset(str(mathml), python.text.split('```')[1].strip())\n",
    "    print(scraper.dataset)\n",
    "    save_path = \"equations.txt\"\n",
    "    with open(save_path, \"w\") as f:\n",
    "        for item in scraper.dataset:\n",
    "            f.write(f\"MathML: {item['mathml_input']}\\nPython: {item['python_output']}\\n\\n\")\n",
    "\n",
    "if __name__ == \"__main__\":\n",
    "    main()"
   ]
  },
  {
   "cell_type": "code",
   "execution_count": null,
   "metadata": {},
   "outputs": [],
   "source": [
    "\"\"\"<ce:formula id=\"eq0010\">\n",
    "<ce:label>(1)</ce:label>\n",
    "<mml:math altimg=\"si4.gif\" overflow=\"scroll\">\n",
    "<mml:mrow>\n",
    "<mml:mi>h</mml:mi>\n",
    "<mml:mo>=</mml:mo>\n",
    "<mml:msub>\n",
    "<mml:mi>h</mml:mi>\n",
    "<mml:mi>g</mml:mi>\n",
    "</mml:msub>\n",
    "<mml:mo>+</mml:mo>\n",
    "<mml:msub>\n",
    "<mml:mi>h</mml:mi>\n",
    "<mml:mi>c</mml:mi>\n",
    "</mml:msub>\n",
    "</mml:mrow>\n",
    "</mml:math>\n",
    "</ce:formula>\"\"\""
   ]
  }
 ],
 "metadata": {
  "kernelspec": {
   "display_name": "fyp_env",
   "language": "python",
   "name": "python3"
  },
  "language_info": {
   "codemirror_mode": {
    "name": "ipython",
    "version": 3
   },
   "file_extension": ".py",
   "mimetype": "text/x-python",
   "name": "python",
   "nbconvert_exporter": "python",
   "pygments_lexer": "ipython3",
   "version": "3.11.10"
  }
 },
 "nbformat": 4,
 "nbformat_minor": 2
}
