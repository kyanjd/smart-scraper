{
 "cells": [
  {
   "cell_type": "code",
   "execution_count": 1,
   "metadata": {},
   "outputs": [
    {
     "name": "stderr",
     "output_type": "stream",
     "text": [
      "c:\\Users\\kyanj\\anaconda3\\envs\\fyp_env\\Lib\\site-packages\\tqdm\\auto.py:21: TqdmWarning: IProgress not found. Please update jupyter and ipywidgets. See https://ipywidgets.readthedocs.io/en/stable/user_install.html\n",
      "  from .autonotebook import tqdm as notebook_tqdm\n"
     ]
    }
   ],
   "source": [
    "import google.generativeai as genai\n",
    "from google.generativeai.types import GenerationConfig\n",
    "import os\n",
    "import time\n",
    "import csv\n",
    "import pandas as pd\n",
    "import matplotlib.pyplot as plt\n",
    "import sacrebleu\n",
    "from fyp_work.paper_to_equation.Generation.Equation_BaseDataset import BaseDataset"
   ]
  },
  {
   "cell_type": "code",
   "execution_count": 2,
   "metadata": {},
   "outputs": [
    {
     "name": "stdout",
     "output_type": "stream",
     "text": [
      "API key loaded successfully!\n"
     ]
    }
   ],
   "source": [
    "api_key = os.getenv(\"GEMINI_API_KEY\")  # Returns None if the variable is not set\n",
    "# Check if the API key is loaded correctly\n",
    "if api_key:\n",
    "    print(\"API key loaded successfully!\")\n",
    "else:\n",
    "    print(\"API key not found. Please ensure it is set as an environment variable.\")\n",
    "\n",
    "genai.configure(api_key=api_key)"
   ]
  },
  {
   "cell_type": "code",
   "execution_count": 3,
   "metadata": {},
   "outputs": [],
   "source": [
    "class GeminiDataset(BaseDataset):\n",
    "    def __init__(self, num, filepath):\n",
    "        super().__init__(num, filepath)\n",
    "\n",
    "    def get_columns(self):\n",
    "        return [\"text_input\", \"output\"]"
   ]
  },
  {
   "cell_type": "code",
   "execution_count": 4,
   "metadata": {},
   "outputs": [
    {
     "name": "stderr",
     "output_type": "stream",
     "text": [
      "Generating dataset: 100%|██████████| 500/500 [00:18<00:00, 26.44it/s]\n"
     ]
    }
   ],
   "source": [
    "# Path to CSV file\n",
    "csv_file_path = \"gemini_training_3.csv\"\n",
    "\n",
    "data = GeminiDataset(500, csv_file_path)\n",
    "data.create()"
   ]
  },
  {
   "cell_type": "code",
   "execution_count": 5,
   "metadata": {},
   "outputs": [
    {
     "name": "stdout",
     "output_type": "stream",
     "text": [
      "{'text_input': '\\n<mml:mrow>\\n<mml:mrow>\\n<mml:mo>-</mml:mo>\\n<mml:mrow>\\n<mml:mi>cos</mml:mi>\\n<mml:mfenced>\\n<mml:mrow>\\n<mml:mn>9</mml:mn>\\n<mml:msub>\\n<mml:mi>R</mml:mi>\\n<mml:mi>7M</mml:mi>\\n</mml:msub>\\n</mml:mrow>\\n</mml:mfenced>\\n</mml:mrow>\\n</mml:mrow>\\n<mml:mo>+</mml:mo>\\n<mml:mrow>\\n<mml:mi>cos</mml:mi>\\n<mml:mfenced>\\n<mml:msub>\\n<mml:mi>b</mml:mi>\\n<mml:mi>ρχh</mml:mi>\\n</mml:msub>\\n</mml:mfenced>\\n</mml:mrow>\\n</mml:mrow>\\n<mml:mo>=</mml:mo>\\n<mml:mrow>\\n<mml:msqrt>\\n<mml:msub>\\n<mml:mi>v</mml:mi>\\n<mml:mi>JWΩ</mml:mi>\\n</mml:msub>\\n</mml:msqrt>\\n<mml:mo>-</mml:mo>\\n<mml:mrow>\\n<mml:mi>cos</mml:mi>\\n<mml:mfenced>\\n<mml:msub>\\n<mml:mi>H</mml:mi>\\n<mml:mi>ΖΨΙ</mml:mi>\\n</mml:msub>\\n</mml:mfenced>\\n</mml:mrow>\\n<mml:mo>+</mml:mo>\\n<mml:mn>3</mml:mn>\\n</mml:mrow>\\n', 'output': \"R_7M = Symbol('R_7M')\\nb_ρχh = Symbol('b_ρχh')\\nv_JWΩ = Symbol('v_JWΩ')\\nH_ΖΨΙ = Symbol('H_ΖΨΙ')\\ne = Eq(-cos(9*R_7M) + cos(b_ρχh), sqrt(v_JWΩ) - cos(H_ΖΨΙ) + 3)\"}\n"
     ]
    }
   ],
   "source": [
    "\n",
    "# List to store the dictionaries\n",
    "dataset = []\n",
    "\n",
    "# Read the CSV file\n",
    "with open(csv_file_path, mode='r') as file:\n",
    "    csv_reader = csv.DictReader(file)\n",
    "    for row in csv_reader:\n",
    "        # Convert each row into a dictionary and add it to the list\n",
    "        dataset.append(dict(row))\n",
    "\n",
    "print(dataset[0])"
   ]
  },
  {
   "cell_type": "code",
   "execution_count": 6,
   "metadata": {},
   "outputs": [
    {
     "name": "stderr",
     "output_type": "stream",
     "text": [
      "100%|██████████| 125/125 [12:11<00:00,  5.85s/it]"
     ]
    },
    {
     "name": "stdout",
     "output_type": "stream",
     "text": [
      "TunedModel(name='tunedModels/mmltopython2-rq77o9de7x0p',\n",
      "           source_model='models/gemini-1.5-flash-001-tuning',\n",
      "           base_model='models/gemini-1.5-flash-001-tuning',\n",
      "           display_name='mml_to_python_2',\n",
      "           description='',\n",
      "           temperature=1.0,\n",
      "           top_p=0.95,\n",
      "           top_k=64,\n",
      "           state=<State.ACTIVE: 2>,\n",
      "           create_time=datetime.datetime(2025, 1, 11, 20, 35, 11, 357607, tzinfo=datetime.timezone.utc),\n",
      "           update_time=datetime.datetime(2025, 1, 11, 20, 47, 17, 107579, tzinfo=datetime.timezone.utc),\n",
      "           tuning_task=TuningTask(start_time=datetime.datetime(2025, 1, 11, 20, 35, 11, 992275, tzinfo=datetime.timezone.utc),\n",
      "                                  complete_time=datetime.datetime(2025, 1, 11, 20, 47, 17, 107579, tzinfo=datetime.timezone.utc),\n",
      "                                  snapshots=[...],\n",
      "                                  hyperparameters=Hyperparameters(epoch_count=4,\n",
      "                                                                  batch_size=16,\n",
      "                                                                  learning_rate=0.002)),\n",
      "           reader_project_numbers=None)\n"
     ]
    },
    {
     "name": "stderr",
     "output_type": "stream",
     "text": [
      "\n"
     ]
    },
    {
     "data": {
      "text/plain": [
       "[<matplotlib.lines.Line2D at 0x1ffce0e12d0>]"
      ]
     },
     "execution_count": 6,
     "metadata": {},
     "output_type": "execute_result"
    },
    {
     "data": {
      "image/png": "[encoded data removed]",
      "text/plain": [
       "<Figure size 640x480 with 1 Axes>"
      ]
     },
     "metadata": {},
     "output_type": "display_data"
    }
   ],
   "source": [
    "base_model = \"models/gemini-1.5-flash-001-tuning\"\n",
    "\n",
    "operation = genai.create_tuned_model(\n",
    "    # You can use a tuned model here too. Set `source_model=\"tunedModels/...\"`\n",
    "    display_name=\"mml_to_python_2\",\n",
    "    source_model=base_model,\n",
    "    epoch_count=4,\n",
    "    batch_size=16,\n",
    "    learning_rate=0.002,\n",
    "    training_data=dataset,\n",
    ")\n",
    "\n",
    "for status in operation.wait_bar():\n",
    "    time.sleep(10)\n",
    "\n",
    "result = operation.result()\n",
    "print(result)\n",
    "\n",
    "snapshots = pd.DataFrame(result.tuning_task.snapshots)\n",
    "plt.plot(snapshots['epoch'], snapshots['mean_loss'])"
   ]
  },
  {
   "cell_type": "code",
   "execution_count": 7,
   "metadata": {},
   "outputs": [
    {
     "name": "stdout",
     "output_type": "stream",
     "text": [
      "h = Symbol('h')\n",
      "h_c = Symbol('h_c')\n",
      "h_g = Symbol('h_g')\n",
      "e = Eq(h, h_c + h_g)\n"
     ]
    }
   ],
   "source": [
    "tuned_model = 'tunedModels/mmltopython1-si6b5lpywfhi'\n",
    "model = genai.GenerativeModel(model_name=tuned_model)\n",
    "generation_config = GenerationConfig(temperature=0.1)\n",
    "\n",
    "# mml = \"\\n<mml:mrow>\\n<mml:mrow>\\n<mml:mo>-</mml:mo>\\n<mml:msqrt>\\n<mml:mi>y</mml:mi>\\n</mml:msqrt>\\n</mml:mrow>\\n<mml:mo>+</mml:mo>\\n<mml:mrow>\\n<mml:mi>cos</mml:mi>\\n<mml:mfenced>\\n<mml:msub>\\n<mml:mi>Υ</mml:mi>\\n<mml:mi>ξ</mml:mi>\\n</mml:msub>\\n</mml:mfenced>\\n</mml:mrow>\\n</mml:mrow>\\n<mml:mo>=</mml:mo>\\n<mml:mrow>\\n<mml:mrow>\\n<mml:msub>\\n<mml:mi>Ψ</mml:mi>\\n<mml:mi>G</mml:mi>\\n</mml:msub>\\n<mml:mrow>\\n<mml:mi>log</mml:mi>\\n<mml:mfenced>\\n<mml:mi>M</mml:mi>\\n</mml:mfenced>\\n</mml:mrow>\\n</mml:mrow>\\n<mml:mo>-</mml:mo>\\n<mml:mrow>\\n<mml:mi>sin</mml:mi>\\n<mml:mfenced>\\n<mml:mrow>\\n<mml:mn>2</mml:mn>\\n<mml:mi>k</mml:mi>\\n</mml:mrow>\\n</mml:mfenced>\\n</mml:mrow>\\n</mml:mrow>\\n\"\n",
    "\n",
    "prompt = f\"\"\"\n",
    "<mml:mi>h</mml:mi>\n",
    "  <mml:mo>=</mml:mo>\n",
    "  <mml:mrow>\n",
    "    <mml:msub>\n",
    "      <mml:mi>h</mml:mi>\n",
    "      <mml:mi>c</mml:mi>\n",
    "    </mml:msub>\n",
    "    <mml:mo>+</mml:mo>\n",
    "    <mml:msub>\n",
    "      <mml:mi>h</mml:mi>\n",
    "      <mml:mi>g</mml:mi>\n",
    "    </mml:msub>\n",
    "  </mml:mrow>\n",
    "\"\"\"\n",
    "\n",
    "response = model.generate_content(prompt, generation_config=generation_config)\n",
    "\n",
    "print(response.text)\n"
   ]
  },
  {
   "cell_type": "code",
   "execution_count": null,
   "metadata": {},
   "outputs": [
    {
     "name": "stdout",
     "output_type": "stream",
     "text": [
      "Generated 1 predictions\n",
      "Generated 2 predictions\n",
      "Generated 3 predictions\n",
      "Generated 4 predictions\n",
      "Generated 5 predictions\n",
      "Generated 6 predictions\n",
      "Generated 7 predictions\n",
      "Generated 8 predictions\n",
      "Generated 9 predictions\n",
      "Generated 10 predictions\n",
      "Generated 11 predictions\n",
      "Generated 12 predictions\n",
      "Generated 13 predictions\n",
      "Generated 14 predictions\n",
      "Generated 15 predictions\n",
      "Generated 16 predictions\n",
      "Generated 17 predictions\n",
      "Generated 18 predictions\n",
      "Generated 19 predictions\n",
      "Generated 20 predictions\n",
      "Generated 21 predictions\n",
      "Generated 22 predictions\n",
      "Generated 23 predictions\n",
      "Generated 24 predictions\n",
      "Generated 25 predictions\n",
      "Generated 26 predictions\n",
      "Generated 27 predictions\n",
      "Generated 28 predictions\n",
      "Generated 29 predictions\n",
      "Generated 30 predictions\n",
      "Generated 31 predictions\n",
      "Generated 32 predictions\n",
      "Generated 33 predictions\n",
      "Generated 34 predictions\n",
      "Generated 35 predictions\n",
      "Generated 36 predictions\n",
      "Generated 37 predictions\n",
      "Generated 38 predictions\n",
      "Generated 39 predictions\n",
      "Generated 40 predictions\n",
      "Generated 41 predictions\n",
      "Generated 42 predictions\n",
      "Generated 43 predictions\n",
      "Generated 44 predictions\n",
      "Generated 45 predictions\n",
      "Generated 46 predictions\n",
      "Generated 47 predictions\n",
      "Generated 48 predictions\n",
      "Generated 49 predictions\n",
      "Generated 50 predictions\n",
      "Generated 51 predictions\n",
      "Generated 52 predictions\n",
      "Generated 53 predictions\n",
      "Generated 54 predictions\n",
      "Generated 55 predictions\n",
      "Generated 56 predictions\n",
      "Generated 57 predictions\n",
      "Generated 58 predictions\n",
      "Generated 59 predictions\n",
      "Generated 60 predictions\n",
      "Generated 61 predictions\n",
      "Generated 62 predictions\n",
      "Generated 63 predictions\n",
      "Generated 64 predictions\n",
      "Generated 65 predictions\n",
      "Generated 66 predictions\n",
      "Generated 67 predictions\n",
      "Generated 68 predictions\n",
      "Generated 69 predictions\n",
      "Generated 70 predictions\n",
      "Generated 71 predictions\n",
      "Generated 72 predictions\n",
      "Generated 73 predictions\n",
      "Generated 74 predictions\n",
      "Generated 75 predictions\n",
      "Generated 76 predictions\n",
      "Generated 77 predictions\n",
      "Generated 78 predictions\n",
      "Generated 79 predictions\n",
      "Generated 80 predictions\n",
      "Generated 81 predictions\n",
      "Generated 82 predictions\n",
      "Generated 83 predictions\n",
      "Generated 84 predictions\n",
      "Generated 85 predictions\n",
      "Generated 86 predictions\n",
      "Generated 87 predictions\n",
      "Generated 88 predictions\n",
      "Generated 89 predictions\n",
      "Generated 90 predictions\n",
      "Generated 91 predictions\n",
      "Generated 92 predictions\n",
      "Generated 93 predictions\n",
      "Generated 94 predictions\n",
      "Generated 95 predictions\n",
      "Generated 96 predictions\n",
      "Generated 97 predictions\n",
      "Generated 98 predictions\n",
      "Generated 99 predictions\n",
      "Generated 100 predictions\n",
      "SacreBLEU Score: 61.579488107059156\n"
     ]
    }
   ],
   "source": [
    "def gemini_translate(filename, model_name):   \n",
    "    predictions = []  \n",
    "    i = 0\n",
    "    with open(f\"{filename}.csv\", \"r\") as file:\n",
    "        reader = csv.reader(file)\n",
    "        next(reader)\n",
    "        for row in reader:\n",
    "            mml = repr(row[0])\n",
    "            prompt = f\"\"\"\n",
    "            You are an expert at translating MathML to Python code using the SymPy library. Translate the following MathML expression into a valid Python SymPy expression. \n",
    "            Ensure that all variables are treated as symbolic variables and each is defined separately on a new line. \n",
    "            Assume that SymPy has been imported as `from sympy import *` so DO NOT include any import statements in your output.\n",
    "            Example: \n",
    "            MathML: '<mml:mi>h</mml:mi>\\n<mml:mo>=</mml:mo>\\n<mml:mrow>\\n<mml:msub>\\n<mml:mi>h</mml:mi>\\n<mml:mi>c</mml:mi>\\n</mml:msub>\\n<mml:mo>+</mml:mo>\\n<mml:msub>\\n<mml:mi>h</mml:mi>\\n<mml:mi>g</mml:mi>\\n</mml:msub>\\n</mml:mrow>'\n",
    "            SymPy Python code: 'h = symbols('h')\\nh_g = symbols('h_g')\\nh_c = symbols('h_c')\\ne = Eq(h, h_g + h_c)'\n",
    "            \n",
    "            Now, translate the following MathML expression into Python code using SymPy.\n",
    "            MathML: {mml}\n",
    "            SymPy Python code:\n",
    "            \"\"\"\n",
    "            model = genai.GenerativeModel(model_name=model_name)\n",
    "            generation_config = GenerationConfig(temperature=0.1)\n",
    "            response = model.generate_content(prompt, generation_config=generation_config)\n",
    "            text = response.text\n",
    "            predictions.append(repr(text))\n",
    "            i += 1\n",
    "            print(f\"Generated {i} predictions\")\n",
    "    with open(f\"{filename}_predictions.txt\", \"w\") as file:\n",
    "        for pred in predictions:\n",
    "            file.write(pred + \"\\n\")\n",
    "\n",
    "def evaluate_bleu(filename, model_name):\n",
    "    gemini_translate(filename, model_name)\n",
    "\n",
    "    with open(f\"{filename}.csv\", \"r\") as file:\n",
    "        reader = csv.reader(file)\n",
    "        next(reader)\n",
    "        refs = [repr(row[1]) for row in reader]\n",
    "    with open(f\"{filename}_predictions.txt\", \"r\") as file:\n",
    "        preds = [row for row in file]\n",
    "\n",
    "    bleu = sacrebleu.corpus_bleu(preds, [refs])\n",
    "    print(f\"SacreBLEU Score: {bleu.score}\")\n",
    "\n",
    "# evaluate_bleu(\"gemini_test_1\", 'tunedModels/mmltopython1-si6b5lpywfhi')\n",
    "evaluate_bleu(\"gemini_test_1\", \"models/gemini-1.5-flash\")"
   ]
  }
 ],
 "metadata": {
  "kernelspec": {
   "display_name": "fyp_env",
   "language": "python",
   "name": "python3"
  },
  "language_info": {
   "codemirror_mode": {
    "name": "ipython",
    "version": 3
   },
   "file_extension": ".py",
   "mimetype": "text/x-python",
   "name": "python",
   "nbconvert_exporter": "python",
   "pygments_lexer": "ipython3",
   "version": "3.11.10"
  }
 },
 "nbformat": 4,
 "nbformat_minor": 2
}
