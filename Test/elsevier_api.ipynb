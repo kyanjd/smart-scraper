{
 "cells": [
  {
   "cell_type": "code",
   "execution_count": 8,
   "metadata": {},
   "outputs": [
    {
     "ename": "KeyError",
     "evalue": "'ELSEVIER_API_KEY'",
     "output_type": "error",
     "traceback": [
      "\u001b[1;31m---------------------------------------------------------------------------\u001b[0m",
      "\u001b[1;31mKeyError\u001b[0m                                  Traceback (most recent call last)",
      "Cell \u001b[1;32mIn[8], line 23\u001b[0m\n\u001b[0;32m     19\u001b[0m             \u001b[38;5;28;01mreturn\u001b[39;00m \u001b[38;5;28;01mNone\u001b[39;00m\n\u001b[0;32m     22\u001b[0m scraper \u001b[38;5;241m=\u001b[39m HTMLScraper(\u001b[38;5;124m\"\u001b[39m\u001b[38;5;124m10.1016/j.jmatprotec.2017.04.005\u001b[39m\u001b[38;5;124m\"\u001b[39m, os\u001b[38;5;241m.\u001b[39mgetenv(\u001b[38;5;124m\"\u001b[39m\u001b[38;5;124mELSEVIER_API_KEY\u001b[39m\u001b[38;5;124m\"\u001b[39m))\n\u001b[1;32m---> 23\u001b[0m \u001b[38;5;28mprint\u001b[39m(\u001b[43mos\u001b[49m\u001b[38;5;241;43m.\u001b[39;49m\u001b[43menviron\u001b[49m\u001b[43m[\u001b[49m\u001b[38;5;124;43m\"\u001b[39;49m\u001b[38;5;124;43mELSEVIER_API_KEY\u001b[39;49m\u001b[38;5;124;43m\"\u001b[39;49m\u001b[43m]\u001b[49m)\n",
      "File \u001b[1;32m<frozen os>:679\u001b[0m, in \u001b[0;36m__getitem__\u001b[1;34m(self, key)\u001b[0m\n",
      "\u001b[1;31mKeyError\u001b[0m: 'ELSEVIER_API_KEY'"
     ]
    }
   ],
   "source": [
    "import requests\n",
    "import bs4\n",
    "import os\n",
    "\n",
    "class HTMLScraper():\n",
    "    def __init__(self, doi, api_key):\n",
    "        self.doi = doi\n",
    "        self.api_key = api_key\n",
    "        self.soup = None\n",
    "\n",
    "    def make_request(self):\n",
    "        response = requests.get(f\"https://api.elsevier.com/content/article/doi/{self.doi}?APIKey={self.api_key}\")\n",
    "        if response.status_code == 200:\n",
    "            print(\"Request successful\")\n",
    "            self.full_text = response.text\n",
    "            return self.full_text   \n",
    "        else:\n",
    "            print(\"Request failed\")\n",
    "            return None\n",
    "\n",
    "\n",
    "scraper = HTMLScraper(\"10.1016/j.jmatprotec.2017.04.005\", os.getenv(\"ELSEVIER_API_KEY\"))\n",
    "print(os.environ[\"ELSEVIER_API_KEY\"])"
   ]
  }
 ],
 "metadata": {
  "kernelspec": {
   "display_name": "fyp_env",
   "language": "python",
   "name": "python3"
  },
  "language_info": {
   "codemirror_mode": {
    "name": "ipython",
    "version": 3
   },
   "file_extension": ".py",
   "mimetype": "text/x-python",
   "name": "python",
   "nbconvert_exporter": "python",
   "pygments_lexer": "ipython3",
   "version": "3.11.10"
  }
 },
 "nbformat": 4,
 "nbformat_minor": 2
}
