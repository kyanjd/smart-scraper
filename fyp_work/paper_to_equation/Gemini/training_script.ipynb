{
 "cells": [
  {
   "cell_type": "code",
   "execution_count": 4,
   "metadata": {},
   "outputs": [],
   "source": [
    "import google.generativeai as genai\n",
    "from google.generativeai.types import GenerationConfig\n",
    "import os\n",
    "import time\n",
    "import csv\n",
    "import pandas as pd\n",
    "import matplotlib.pyplot as plt\n",
    "import sacrebleu\n",
    "from fyp_work.paper_to_equation.Generation.Equation_BaseDataset import BaseDataset"
   ]
  },
  {
   "cell_type": "code",
   "execution_count": 5,
   "metadata": {},
   "outputs": [
    {
     "name": "stdout",
     "output_type": "stream",
     "text": [
      "API key loaded successfully!\n"
     ]
    }
   ],
   "source": [
    "api_key = os.getenv(\"GEMINI_API_KEY\")  # Returns None if the variable is not set\n",
    "# Check if the API key is loaded correctly\n",
    "if api_key:\n",
    "    print(\"API key loaded successfully!\")\n",
    "else:\n",
    "    print(\"API key not found. Please ensure it is set as an environment variable.\")\n",
    "\n",
    "genai.configure(api_key=api_key)"
   ]
  },
  {
   "cell_type": "code",
   "execution_count": 6,
   "metadata": {},
   "outputs": [],
   "source": [
    "class GeminiDataset(BaseDataset):\n",
    "    def __init__(self, num, filepath):\n",
    "        super().__init__(num, filepath)\n",
    "\n",
    "    def get_columns(self):\n",
    "        return [\"text_input\", \"output\"]"
   ]
  },
  {
   "cell_type": "code",
   "execution_count": 12,
   "metadata": {},
   "outputs": [
    {
     "name": "stderr",
     "output_type": "stream",
     "text": [
      "Generating dataset: 100%|██████████| 100/100 [00:01<00:00, 94.95it/s]\n"
     ]
    }
   ],
   "source": [
    "# Path to CSV file\n",
    "csv_file_path = \"Data/gemini_test_6.csv\"\n",
    "\n",
    "data = GeminiDataset(100, csv_file_path)\n",
    "data.create()"
   ]
  },
  {
   "cell_type": "code",
   "execution_count": 9,
   "metadata": {},
   "outputs": [
    {
     "name": "stdout",
     "output_type": "stream",
     "text": [
      "{'text_input': '<mml:mi>l</mml:mi>\\n<mml:mo>=</mml:mo>\\n<mml:mrow>\\n<mml:mn>3</mml:mn>\\n<mml:mrow>\\n<mml:mi>sin</mml:mi>\\n<mml:mfenced>\\n<mml:msub>\\n<mml:mi>w</mml:mi>\\n<mml:mrow>\\n<mml:mi>υ</mml:mi>\\n<mml:mi>z</mml:mi>\\n</mml:mrow>\\n</mml:msub>\\n</mml:mfenced>\\n</mml:mrow>\\n</mml:mrow>', 'output': \"l = Symbol('l')\\nw_υz = Symbol('w_υz')\\ne = Eq(l, 3*sin(w_υz))\"}\n"
     ]
    }
   ],
   "source": [
    "dataset = data.dataset\n",
    "print(dataset[0])"
   ]
  },
  {
   "cell_type": "code",
   "execution_count": 10,
   "metadata": {},
   "outputs": [
    {
     "name": "stdout",
     "output_type": "stream",
     "text": [
      "tunedModels/mmltopython1-si6b5lpywfhi\n",
      "tunedModels/mmltopython2-rq77o9de7x0p\n",
      "tunedModels/mmltopython4-f3fuppiemnq9\n",
      "tunedModels/mmltopython5-t7qh9rtx0wwt\n"
     ]
    }
   ],
   "source": [
    "for model in genai.list_tuned_models():\n",
    "    print(model.name)    "
   ]
  },
  {
   "cell_type": "code",
   "execution_count": 11,
   "metadata": {},
   "outputs": [
    {
     "data": {
      "application/vnd.jupyter.widget-view+json": {
       "model_id": "3a10e5cc01c444fc91b88f6f6e554875",
       "version_major": 2,
       "version_minor": 0
      },
      "text/plain": [
       "  0%|          | 0/125 [00:00<?, ?it/s]"
      ]
     },
     "metadata": {},
     "output_type": "display_data"
    },
    {
     "name": "stdout",
     "output_type": "stream",
     "text": [
      "TunedModel(name='tunedModels/mmltopython6-i1nlb0w0glxy',\n",
      "           source_model='models/gemini-1.5-flash-001-tuning',\n",
      "           base_model='models/gemini-1.5-flash-001-tuning',\n",
      "           display_name='mml_to_python_6',\n",
      "           description='',\n",
      "           temperature=1.0,\n",
      "           top_p=0.95,\n",
      "           top_k=64,\n",
      "           state=<State.ACTIVE: 2>,\n",
      "           create_time=datetime.datetime(2025, 1, 22, 17, 14, 42, 339186, tzinfo=datetime.timezone.utc),\n",
      "           update_time=datetime.datetime(2025, 1, 22, 17, 25, 53, 750228, tzinfo=datetime.timezone.utc),\n",
      "           tuning_task=TuningTask(start_time=datetime.datetime(2025, 1, 22, 17, 14, 44, 85153, tzinfo=datetime.timezone.utc),\n",
      "                                  complete_time=datetime.datetime(2025, 1, 22, 17, 25, 53, 750228, tzinfo=datetime.timezone.utc),\n",
      "                                  snapshots=[...],\n",
      "                                  hyperparameters=Hyperparameters(epoch_count=4,\n",
      "                                                                  batch_size=16,\n",
      "                                                                  learning_rate=0.002)),\n",
      "           reader_project_numbers=None)\n"
     ]
    },
    {
     "data": {
      "text/plain": [
       "[<matplotlib.lines.Line2D at 0x131992fc490>]"
      ]
     },
     "execution_count": 11,
     "metadata": {},
     "output_type": "execute_result"
    },
    {
     "data": {
      "image/png": "[encoded data removed]",
      "text/plain": [
       "<Figure size 640x480 with 1 Axes>"
      ]
     },
     "metadata": {},
     "output_type": "display_data"
    }
   ],
   "source": [
    "base_model = \"models/gemini-1.5-flash-001-tuning\"\n",
    "\n",
    "operation = genai.create_tuned_model(\n",
    "    display_name=\"mml_to_python_6\",\n",
    "    source_model=base_model,\n",
    "    epoch_count=4,\n",
    "    batch_size=16,\n",
    "    learning_rate=0.002,\n",
    "    training_data=dataset,\n",
    ")\n",
    "\n",
    "for status in operation.wait_bar():\n",
    "    time.sleep(10)\n",
    "\n",
    "result = operation.result()\n",
    "print(result)\n",
    "\n",
    "snapshots = pd.DataFrame(result.tuning_task.snapshots)\n",
    "plt.plot(snapshots['epoch'], snapshots['mean_loss'])"
   ]
  },
  {
   "cell_type": "code",
   "execution_count": 7,
   "metadata": {},
   "outputs": [
    {
     "name": "stdout",
     "output_type": "stream",
     "text": [
      "h = Symbol('h')\n",
      "h_c = Symbol('h_c')\n",
      "h_g = Symbol('h_g')\n",
      "e = Eq(h, h_c + h_g)\n"
     ]
    }
   ],
   "source": [
    "tuned_model = 'tunedModels/mmltopython1-si6b5lpywfhi'\n",
    "model = genai.GenerativeModel(model_name=tuned_model)\n",
    "generation_config = GenerationConfig(temperature=0.1)\n",
    "\n",
    "# mml = \"\\n<mml:mrow>\\n<mml:mrow>\\n<mml:mo>-</mml:mo>\\n<mml:msqrt>\\n<mml:mi>y</mml:mi>\\n</mml:msqrt>\\n</mml:mrow>\\n<mml:mo>+</mml:mo>\\n<mml:mrow>\\n<mml:mi>cos</mml:mi>\\n<mml:mfenced>\\n<mml:msub>\\n<mml:mi>Υ</mml:mi>\\n<mml:mi>ξ</mml:mi>\\n</mml:msub>\\n</mml:mfenced>\\n</mml:mrow>\\n</mml:mrow>\\n<mml:mo>=</mml:mo>\\n<mml:mrow>\\n<mml:mrow>\\n<mml:msub>\\n<mml:mi>Ψ</mml:mi>\\n<mml:mi>G</mml:mi>\\n</mml:msub>\\n<mml:mrow>\\n<mml:mi>log</mml:mi>\\n<mml:mfenced>\\n<mml:mi>M</mml:mi>\\n</mml:mfenced>\\n</mml:mrow>\\n</mml:mrow>\\n<mml:mo>-</mml:mo>\\n<mml:mrow>\\n<mml:mi>sin</mml:mi>\\n<mml:mfenced>\\n<mml:mrow>\\n<mml:mn>2</mml:mn>\\n<mml:mi>k</mml:mi>\\n</mml:mrow>\\n</mml:mfenced>\\n</mml:mrow>\\n</mml:mrow>\\n\"\n",
    "\n",
    "prompt = f\"\"\"\n",
    "<mml:mi>h</mml:mi>\n",
    "  <mml:mo>=</mml:mo>\n",
    "  <mml:mrow>\n",
    "    <mml:msub>\n",
    "      <mml:mi>h</mml:mi>\n",
    "      <mml:mi>c</mml:mi>\n",
    "    </mml:msub>\n",
    "    <mml:mo>+</mml:mo>\n",
    "    <mml:msub>\n",
    "      <mml:mi>h</mml:mi>\n",
    "      <mml:mi>g</mml:mi>\n",
    "    </mml:msub>\n",
    "  </mml:mrow>\n",
    "\"\"\"\n",
    "\n",
    "response = model.generate_content(prompt, generation_config=generation_config)\n",
    "\n",
    "print(response.text)\n"
   ]
  },
  {
   "cell_type": "code",
   "execution_count": 21,
   "metadata": {},
   "outputs": [
    {
     "name": "stdout",
     "output_type": "stream",
     "text": [
      "Generated 1 predictions\n",
      "Generated 2 predictions\n",
      "Generated 3 predictions\n",
      "Generated 4 predictions\n",
      "Generated 5 predictions\n",
      "Generated 6 predictions\n",
      "Generated 7 predictions\n",
      "Generated 8 predictions\n",
      "Generated 9 predictions\n",
      "Generated 10 predictions\n",
      "Generated 11 predictions\n",
      "Generated 12 predictions\n",
      "Generated 13 predictions\n",
      "Generated 14 predictions\n",
      "Generated 15 predictions\n",
      "Generated 16 predictions\n",
      "Generated 17 predictions\n",
      "Generated 18 predictions\n",
      "Generated 19 predictions\n",
      "Generated 20 predictions\n",
      "Generated 21 predictions\n",
      "Generated 22 predictions\n",
      "Generated 23 predictions\n",
      "Generated 24 predictions\n",
      "Generated 25 predictions\n",
      "Generated 26 predictions\n",
      "Generated 27 predictions\n",
      "Generated 28 predictions\n",
      "Generated 29 predictions\n",
      "Generated 30 predictions\n",
      "Generated 31 predictions\n",
      "Generated 32 predictions\n",
      "Generated 33 predictions\n",
      "Generated 34 predictions\n",
      "Generated 35 predictions\n",
      "Generated 36 predictions\n",
      "Generated 37 predictions\n",
      "Generated 38 predictions\n",
      "Generated 39 predictions\n",
      "Generated 40 predictions\n",
      "Generated 41 predictions\n",
      "Generated 42 predictions\n",
      "Generated 43 predictions\n",
      "Generated 44 predictions\n",
      "Generated 45 predictions\n",
      "Generated 46 predictions\n",
      "Generated 47 predictions\n",
      "Generated 48 predictions\n",
      "Generated 49 predictions\n",
      "Generated 50 predictions\n",
      "Generated 51 predictions\n",
      "Generated 52 predictions\n",
      "Generated 53 predictions\n",
      "Generated 54 predictions\n",
      "Generated 55 predictions\n",
      "Generated 56 predictions\n",
      "Generated 57 predictions\n",
      "Generated 58 predictions\n",
      "Generated 59 predictions\n",
      "Generated 60 predictions\n",
      "Generated 61 predictions\n",
      "Generated 62 predictions\n",
      "Generated 63 predictions\n",
      "Generated 64 predictions\n",
      "Generated 65 predictions\n",
      "Generated 66 predictions\n",
      "Generated 67 predictions\n",
      "Generated 68 predictions\n",
      "Generated 69 predictions\n",
      "Generated 70 predictions\n",
      "Generated 71 predictions\n",
      "Generated 72 predictions\n",
      "Generated 73 predictions\n",
      "Generated 74 predictions\n",
      "Generated 75 predictions\n",
      "Generated 76 predictions\n",
      "Generated 77 predictions\n",
      "Generated 78 predictions\n",
      "Generated 79 predictions\n",
      "Generated 80 predictions\n",
      "Generated 81 predictions\n",
      "Generated 82 predictions\n",
      "Generated 83 predictions\n",
      "Generated 84 predictions\n",
      "Generated 85 predictions\n",
      "Generated 86 predictions\n",
      "Generated 87 predictions\n",
      "Generated 88 predictions\n",
      "Generated 89 predictions\n",
      "Generated 90 predictions\n",
      "Generated 91 predictions\n",
      "Generated 92 predictions\n",
      "Generated 93 predictions\n",
      "Generated 94 predictions\n",
      "Generated 95 predictions\n",
      "Generated 96 predictions\n",
      "Generated 97 predictions\n",
      "Generated 98 predictions\n",
      "Generated 99 predictions\n",
      "Generated 100 predictions\n",
      "[\"m = Symbol('m')\\ny = Symbol('y')\\ne = Eq(m, cos(y) + 3)\", \"q = Symbol('q')\\ny_υΩ = Symbol('y_υΩ')\\nd_ΝK = Symbol('d_ΝK')\\nP_Υ = Symbol('P_Υ')\\ne = Eq(q, sin(y_υΩ)**(cos(d_ΝK/P_Υ)))\", \"Q_LxΔ = Symbol('Q_LxΔ')\\nβ = Symbol('β')\\nψ_γ = Symbol('ψ_γ')\\nk = Symbol('k')\\ne = Eq(Q_LxΔ, log(k)**tan(β*ψ_γ))\", \"Χ = Symbol('Χ')\\np = Symbol('p')\\nΣ = Symbol('Σ')\\ne = Eq(Χ, sqrt(p) - tan(Σ) - 1)\", \"ν_ΓK = Symbol('ν_ΓK')\\nΠ = Symbol('Π')\\nΡ = Symbol('Ρ')\\ne = Eq(ν_ΓK, -Π + log(Ρ))\", \"G_Ν = Symbol('G_Ν')\\nw = Symbol('w')\\ne = Eq(G_Ν, log(w) - 1/4)\", \"Γ = Symbol('Γ')\\nΤ_xB = Symbol('Τ_xB')\\nΔ = Symbol('Δ')\\nu = Symbol('u')\\ne = Eq(Γ, exp(Τ_xB)**Δ + tan(u + 9))\", \"C = Symbols('C')\\nΔ_Zv = Symbols('Δ_Zv')\\nJ = Symbols('J')\\ne = Eq(C, -exp(Δ_Zv + 8) + tan(J))\", \"v = Symbol('v')\\nν = Symbol('ν')\\nΚ = Symbol('Κ')\\ne = Eq(v, -log(ν + 4) + cos(Κ))\", \"ο_yΩ = Symbol('ο_yΩ')\\nπ = π = π = π = π = π = π = π = π = π = π = π = π = π = π = π = π = π = π = π = π = π = π = π = π = π = π = π = π = π = π = π = π = π = π = π = π = π = π = π = π = π = π = π = π = π = π = π = π = π = π = π = π = π = π = π = π = π = π = π = π = π = π = π = π = π = π = π = π = π = π = π = π = π = π = π = π = π = π = π = π = π = π = π = π = π = π = π = π = π = π = π = π = π = π = π = π = π = π = π = π = π = π = π = π = π = π = π = π = π = π = π = π = π = π = π = π = π = π = π = π = π = π = π = π = π = π = π = π = π = π = π = π = π = π = π = π = π = π = π = π = π = π = π = π = π = π = π = π = π = π = π = π = π = π = π = π = π = π = π = π = π = π = π = π = π = π = π = π = π = π = π = π = π = π = π = π = π = π = π = π = π = π = π = π = π = π = π = π = π = π = π = π = π = π = π = π = π = π = π = π = π = π = π = π = π = π = π = π = π = π = π = π = π = π = π = π = π = π = π = π = π = π = π = π = π = π = π = π = π = π = π = π = π = π = π = π = π = π = π = π = π = π = π = π = π = π = π = π = π = π = π = π = π = π = π = π = π = π = π = π = π = π = π = π = π = π = π = π = π = π = π = π = π = π = π = π = π = π = π = π = π = π = π = π = π = π = π = π = π = π = π = π = π = π = π = π = π = π = π = π = π = π = π = π = π = π = π = π = π = π = π = π = π = π = π = π = π = π = π = π = π = π = π = π = π = π = π = π = π = π = π = π = π = π = π = π = π = π = π = π = π = π = π = π = π = π = π = π = π = π = π = π = π = π = π = π = π = π = π = π = π = π = π = π = π = π = π = π = π = π = π = π = π = π = π = π = π = π = π = π = π = π = π = π = π = π = π = π = π = π = π = π = π = π = π = π = π = π = π = π = π = π = π = π = π = π = π = π = π = π = π = π = π = π = π = π = π = π = π = π = π = π = π = π = π = π = π = π = π = π = π = π = π = π = π = π = π = π = π = π = π = π = π = π = π = π = π = π = π = π = π = π = π = π = π = π = π = π = π = π = π = π = π = π = π = π = π = π = π = π = π = π = π = π = π = π = π = π = π = π = π = π = π = π = π = π = π = π = π = π = π = π = π = π = π = π = π = π = π = π = π = π = π = π = π\", \"Β = Symbol('Β')\\nM = Symbol('M')\\nz = Symbol('z')\\nΧ = Symbol('Χ')\\ne = Eq(Β, exp(M)*exp(z)/Χ)\", \"Κ = Symbol('Κ')\\nf = Symbol('f')\\ni = Symbol('i')\\ne = Eq(Κ, sqrt(f)/cos(i**5))\", \"a = Symbol('a')\\nw_τ2s = Symbol('w_τ2s')\\nα = Symbol('α')\\nα_η = Symbol('α_η')\\ne = Eq(a, -exp(w_τ2s)*log(α + 2) + cos(α_η))\", \"U_Δ = Symbol('U_Δ')\\nα = Symbol('α')\\nU = Symbol('U')\\nG_rf = Symbol('G_rf')\\nκ = Symbol('κ')\\ne = Eq(U_Δ, cos(α)/(log(U/7)*log(-G_rf + κ)))\", \"w = Symbol('w')\\nη = Symbol('η')\\nΚ = Symbol('Κ')\\nΟ = Symbol('Ο')\\ne = Eq(w, sqrt(η) - sqrt(Κ + Ο))\", \"π_β = Symbol('π_β')\\nΤ = Symbol('Τ')\\nC_tΚγ = Symbol('C_tΚγ')\\ne = Eq(π_β, -Τ + log(C_tΚγ)/9)\", \"u = Symbol('u')\\nκ_X = Symbol('κ_X')\\ne = Eq(u, sin(κ_X)**8 + 4)\", \"ρ_bΖ = Symbol('ρ_bΖ')\\nο = Symbol('ο')\\ne = Eq(ρ_bΖ, sqrt(ο) + 4)\", \"τ = Symbol('τ')\\nα = Symbol('α')\\nΙ_Σ3 = Symbol('Ι_Σ3')\\nΜ = Symbol('Μ')\\ne = Eq(τ, tan(Μ)**(α**(log(Ι_Σ3)/2)))\", \"Γ = Symbol('Γ')\\nφ_OΞ = Symbol('φ_OΞ')\\nΑ_Nκf = Symbol('Α_Nκf')\\ne = Eq(Γ, φ_OΞ + tan(Α_Nκf) - 2)\", \"U = Symbol('U')\\nβ_C = Symbol('β_C')\\ng = Symbol('g')\\nφ_ΑΑ = Symbol('φ_ΑΑ')\\ne = Eq(U, β_C + sin(5*g) + tan(φ_ΑΑ))\", \"N = Symbol('N')\\nw_AXε = Symbol('w_AXε')\\ne = Eq(N, cos(w_AXε) - 4)\", \"Y_YΑ = Symbol('Y_YΑ')\\nh = Symbol('h')\\ne = Symbol('e')\\ne = Eq(Y_YΑ, tan(h)/(7*e))\", \"X_Rζi = Symbol('X_Rζi')\\nΦ = Symbol('Φ')\\nΘ = Symbol('Θ')\\nK_μν = Symbol('K_μν')\\nΜ = Symbol('Μ')\\ne = Eq(X_Rζi, -sqrt(Φ + E)*exp(Θ) - tan(K_μν*Μ))\", \"l = Symbol('l')\\nΗ = Symbol('Η')\\ns = Symbol('s')\\ne = Eq(l, log(Η)/sqrt(s))\", \"V = Symbol('V')\\nΓ = Symbol('Γ')\\nH_Μβζ = Symbol('H_Μβζ')\\ne = Eq(V, tan(Γ)/log(H_Μβζ))\", \"F = Symbol('F')\\nJ = Symbol('J')\\nM = Symbol('M')\\nΙ = Symbol('Ι')\\ne = Eq(F, J**exp(M)*tan(Ι))\", \"Η = Symbol('Η')\\nΤ = Symbol('Τ')\\nC = Symbol('C')\\nd = Symbol('d')\\nΜ = Symbol('Μ')\\ne = Eq(Η, exp(Τ)*cos(C)/log(d - Μ))\", \"ι_Ε = Symbol('ι_Ε')\\nV = Symbol('V')\\nw = Symbol('w')\\ne = Eq(ι_Ε, exp(V) + tan(w) - 2)\", \"Υ = Symbol('Υ')\\nx = Symbol('x')\\ne = Symbol('e')\\ne = Eq(Υ, sin(x/4) + cos(e))\", \"Γ = Symbol('Γ')\\nc = Symbol('c')\\nw = Symbol('w')\\ne = Eq(Γ, sqrt(c) - w + 2)\", \"G = Symbol('G')\\nq = Symbol('q')\\ne = Eq(G, log(q) - 2)\", \"F = Symbol('F')\\nU = Symbol('U')\\nJ_fΡξ = Symbol('J_fΡξ')\\ne = Eq(F, sin(U/7)**7 + tan(J_fΡξ))\", \"I_νΤ = Symbol('I_νΤ')\\nL_ΣOf = Symbol('L_ΣOf')\\nω_z = Symbol('ω_z')\\nΕ = Symbol('Ε')\\ne = Eq(I_νΤ, log(L_ΣOf)/ω_z**log(Ε))\", \"m = Symbols('m')\\nR = Symbols('R')\\nΛ_l2 = Symbols('Λ_l2')\\nf = Symbols('f')\\ns = Symbols('s')\\ne = Eq(m, sqrt(R)*exp(Λ_l2/f) + tan(s))\", \"ι = Symbol('ι')\\nc = Symbol('c')\\nΦ_aH2 = Symbol('Φ_aH2')\\ne = Eq(ι, log(c)/cos(Φ_aH2))\", \"Α = Symbol('Α')\\nΝ_dΗ = Symbol('Ν_dΗ')\\nA_2φΗ = Symbol('A_2φΗ')\\nυ = Symbol('υ')\\ne = Eq(Α, exp(Ν_dΗ/A_2φΗ) + sin(υ))\", \"Q = Symbol('Q')\\nW = Symbol('W')\\nΧ = Symbol('Χ')\\nη_jz = Symbol('η_jz')\\ne = Eq(Q, exp(W**5) + exp(Χ*η_jz)*sin(W))\", \"t_ΞKρ = Symbol('t_ΞKρ')\\nZ = Symbol('Z')\\ne = Eq(t_ΞKρ, 9*tan(Z))\", \"ν = Symbol('ν')\\nH = Symbol('H')\\nY_D = Symbol('Y_D')\\nΤ = Symbol('Τ')\\ne = Eq(ν, exp(H)/log(Y_D - 9) + log(2*Τ))\", \"a_A = Symbol('a_A')\\nB_R = Symbol('B_R')\\nφ = Symbol('φ')\\nε_Ls = Symbol('ε_Ls')\\nΤ = Symbol('Τ')\\ne = Eq(a_A, cos(Τ)**log(B_R/φ)/tan(ε_Ls))\", \"Χ = Symbol('Χ')\\nD = Symbol('D')\\nM = Symbol('M')\\ne = Eq(Χ, tan(D)/exp(M/7))\", \"U = Symbol('U')\\nU_aΕj = Symbol('U_aΕj')\\nt = Symbol('t')\\ne = Eq(U, -sin(U_aΕj) + sin(t))\", \"N_ΛΛ = Symbol('N_ΛΛ')\\nJ_π = Symbol('J_π')\\nW = Symbol('W')\\nψ = Symbol('ψ')\\ne = Eq(N_ΛΛ, exp(-W)*cos(3*ψ)**(-1)*sin(J_π))\", \"v_q = Symbol('v_q')\\nO_W6 = Symbol('O_W6')\\nc_3κ = Symbol('c_3κ')\\nΑ_MZ = Symbol('Α_MZ')\\nΖ = Symbol('Ζ')\\ne = Eq(v_q, exp(O_W6 - c_3κ)/cos(Α_MZ) + log(Ζ))\", \"μ = Symbol('μ')\\ny_d4o = Symbol('y_d4o')\\nH = Symbol('H')\\nL = Symbol('L')\\ne = Eq(μ, sin(y_d4o) - tan(H*L))\", \"E = Symbol('E')\\nψ = Symbol('ψ')\\nζ_sG = Symbol('ζ_sG')\\ne = Eq(E, sin(ψ) - cos(ζ_sG))\", \"Ζ = Symbol('Ζ')\\nu_Ι = Symbol('u_Ι')\\nU = Symbol('U')\\ne = Eq(Ζ, 8*sin(u_Ι) + cos(U))\", \"Α = Symbol('Α')\\nv = Symbol('v')\\nC = Symbol('C')\\ne = Eq(Α, C**(tan(v + 7)/2))\", \"v = Symbol('v')\\nT = Symbol('T')\\nβ_λWc = Symbol('β_λWc')\\ne = Eq(v, cos(T)**(sqrt(-7 + E))) / cos(β_λWc**5))e = Eq(v, cos(T)**(sqrt(-7 + E))) / cos(β_λWc**5))\", \"b = Symbol('b')\\nμ = Symbol('μ')\\ng_KΤζ = Symbol('g_KΤζ')\\nΤ = Symbol('Τ')\\ne = Eq(b, sin(μ) + 3*tan(g_KΤζ + Τ))\", \"U = Symbol('U')\\nΠ_ηPf = Symbol('Π_ηPf')\\ni_cΚ = Symbol('i_cΚ')\\ne = Eq(U, tan(i_cΚ)**(exp(Π_ηPf)**U))\", \"j = Symbol('j')\\nc_ζX = Symbol('c_ζX')\\ne = Eq(j, cos(c_ζX))\", \"Ι = Symbol('Ι')\\nΦ_γ5 = Symbol('Φ_γ5')\\ne = Eq(Ι, exp(Ι) + log(Φ_γ5))\", \"ω = Symbol('ω')\\nΗ = Symbol('Η')\\nα = Symbol('α')\\ne = Eq(ω, -cos(Η**6) + tan(α))\", \"E_VΤ = Symbol('E_VΤ')\\ni_tB = Symbol('i_tB')\\nr = Symbol('r')\\nm_ι = Symbol('m_ι')\\ne = Eq(E_VΤ, i_tB**tan(r) + tan(m_ι))\", \"Ζ = Symbol('Ζ')\\nc = Symbol('c')\\nR = Symbol('R')\\ne = Eq(Ζ, exp(c) + tan(R))\", \"i_d = Symbol('i_d')\\nU = Symbol('U')\\nΥ_FI = Symbol('Υ_FI')\\nR = Symbol('R')\\ne = Eq(i_d, tan(U)/tan(R**7)**sin(Υ_FI/8))\", \"l = Symbol('l')\\nq_ΟQΕ = Symbol('q_ΟQΕ')\\nμ = Symbol('μ')\\ne = Eq(l, tan(q_ΟQΕ)*tan(μ))\", \"Θ = Symbol('Θ')\\nd_S = Symbol('d_S')\\nΒ_L = Symbol('Β_L')\\ne = Eq(Θ, sqrt(d_S)/cos(Β_L))\", \"γ = Symbol('γ')\\nV = Symbol('V')\\nΗ_H = Symbol('Η_H')\\nΓ = Symbol('Γ')\\ne = Eq(γ, sqrt(V + Η_H)*exp(9*Γ))\", \"Δ_Λnι = Symbol('Δ_Λnι')\\nx = Symbol('x')\\nD_Jα = Symbol('D_Jα')\\ne = Eq(Δ_Λnι, exp(x)*sin(D_Jα - 7))\", \"E_5V = Symbol('E_5V')\\nρ_L = Symbol('ρ_L')\\nG_33Ε = Symbol('G_33Ε')\\nX = Symbol('X')\\ne = Eq(E_5V, exp(ρ_L)/log(G_33Ε/X))\", \"z_tοΣ = Symbol('z_tοΣ')\\nρ_υXW = Symbol('ρ_υXW')\\nΧ = Symbol('Χ')\\nο = Symbol('ο')\\ne = Eq(z_tοΣ, ρ_υXW**tan(Χ) + sin(ο))\", \"G = Symbol('G')\\nx_mπ = Symbol('x_mπ')\\nρ = Symbol('ρ')\\ne = Eq(G, sqrt(x_mπ)/sin(ρ))\", \"E = Symbol('E')\\nΑ_N = Symbol('Α_N')\\nγ_δx = Symbol('γ_δx')\\ne = Eq(E, exp(Α_N)**tan(γ_δx))\", \"ξ = Symbol('ξ')\\nδ_ζΡΕ = Symbol('δ_ζΡΕ')\\nM_Υfη = Symbol('M_Υfη')\\nθ = Symbol('θ')\\ne = Eq(ξ, δ_ζΡΕ*tan(M_Υfη) + tan(θ))\", \"σ = Symbol('σ')\\nf = Symbol('f')\\ne = Eq(σ, exp(σ)*tan(f))\", \"Y = Symbol('Y')\\nΥ = Symbol('Υ')\\nK = Symbol('K')\\ne = Eq(Y, 4*log(Υ)*tan(K))\", \"χ_μΒc = Symbol('χ_μΒc')\\na_β = Symbol('a_β')\\nv = Symbol('v')\\ne = Eq(χ_μΒc, sqrt(a_β) - cos(v + 8))\", \"E = Symbol('E')\\nΗ = Symbol('Η')\\nx_να = Symbol('x_να')\\ne = Eq(E, tan(Η)*tan(x_να - 5))\", \"H = Symbol('H')\\nU_e = Symbol('U_e')\\nμ_Kβ = Symbol('μ_Kβ')\\nΙ = Symbol('Ι')\\ne = Eq(H, U_e*cos(μ_Kβ)/cos(Ι))\", \"V_μ = Symbol('V_μ')\\nΒ_D = Symbol('Β_D')\\nΙ = Symbol('Ι')\\ne = Eq(V_μ, sin(Β_D)*sin(Ι))\", \"p = Symbol('p')\\nF = Symbol('F')\\nκ_ρ = Symbol('κ_ρ')\\ne = Eq(p, cos(F)/cos(κ_ρ - 4))\", \"h = Symbol('h')\\nΑ_ωQε = Symbol('Α_ωQε')\\ne = Eq(h, exp(Α_ωQε) - 2)\", \"A = Symbol('A')\\nt_xl = Symbol('t_xl')\\ne = Eq(A, tan(t_xl) + 7)\", \"z_πΟ = Symbol('z_πΟ')\\nU = Symbol('U')\\nμ_IΒ = Symbol('μ_IΒ')\\nL = Symbol('L')\\ne = Eq(z_πΟ, L*μ_IΒ**(U/2))\", \"O_7ρΘ = Symbol('O_7ρΘ')\\nh_fmΖ = Symbol('h_fmΖ')\\nχ_Δx = Symbol('χ_Δx')\\nJ = Symbol('J')\\nΙ = Symbol('Ι')\\ne = Eq(O_7ρΘ, sqrt(h_fmΖ)*log(χ_Δx) - tan(J*Ι))\", \"σ_IIP = Symbol('σ_IIP')\\nL_γΠ = Symbol('L_γΠ')\\nΜ = Symbol('Μ')\\ne = Eq(σ_IIP, exp(-Μ**7)*tan(L_γΠ))\", \"S_Z = Symbol('S_Z')\\nε_ΓΨA = Symbol('ε_ΓΨA')\\nυ_ΟU = Symbol('υ_ΟU')\\nA_Π5 = Symbol('A_Π5')\\nκ_xGg = Symbol('κ_xGg')\\ne = Eq(S_Z, cos(κ_xGg)**(exp(ε_ΓΨA)*υ_ΟU)**tan(A_Π5))\", \"T_ΠI = Symbol('T_ΠI')\\nι_u = Symbol('ι_u')\\nν_zl = Symbol('ν_zl')\\ne = Eq(T_ΠI, log(ι_u)/(2*sqrt(ν_zl)))\", \"g_ΔAS = Symbol('g_ΔAS')\\nΤ = Symbol('Τ')\\nκ = Symbol('κ')\\nr_ρΨv = Symbol('r_ρΨv')\\ne = Eq(g_ΔAS, exp(Τ)*tan(κ/2)**exp(r_ρΨv + 9))\", \"w = Symbol('w')\\nb_Δ1 = Symbol('b_Δ1')\\ny = Symbol('y')\\nν = Symbol('ν')\\ne = Eq(w, cos(y)**(sin(b_Δ1)**cos(y*ν)))\", \"z_TΑr = Symbol('z_TΑr')\\nW_FkΣ = Symbol('W_FkΣ')\\nq = Symbol('q')\\ne = Eq(z_TΑr, W_FkΣ*sin(q))\", \"Ο_HP = Symbol('Ο_HP')\\nt = Symbol('t')\\nΓ_6 = Symbol('Γ_6')\\ne = Eq(Ο_HP, t + sin(Γ_6))\", \"ξ = Symbol('ξ')\\nR = Symbol('R')\\nT = Symbol('T')\\nυ = Symbol('υ')\\nb_4βm = Symbol('b_4βm')\\ne = Eq(ξ, -exp(R) + exp(T) - tan(b_4βm**υ))\", \"P = Symbol('P')\\nχ = Symbol('χ')\\nj_EΤ = Symbol('j_EΤ')\\ne = Eq(P, -8**χ + log(j_EΤ))\", \"Θ = Symbol('Θ')\\nι = Symbol('ι')\\nd_FΦ = Symbol('d_FΦ')\\nu_Ψo = Symbol('u_Ψo')\\ne = Eq(Θ, exp(ι)*cos(d_FΦ*u_Ψo)/sin(ι/4))\", \"χ = Symbol('χ')\\np = Symbol('p')\\nX = Symbol('X')\\nΖ = Symbol('Ζ')\\ne = Eq(χ, p*log(X)*tan(Ζ))\", \"Α = Symbol('Α')\\nΗ_Ωeh = Symbol('Η_Ωeh')\\ne = Eq(Α, cos(Η_Ωeh) - 5)\", \"β = Symbol('β')\\nψ_Η = Symbol('ψ_Η')\\nκ = Symbol('κ')\\ne = Eq(β, exp(ψ_Η)/sqrt(κ))\", \"K = Symbol('K')\\nF = Symbol('F')\\nk = Symbol('k')\\ne = Eq(K, 2*exp(1/2)/tan(k**F))\", \"Α_ΤzΠ = Symbol('Α_ΤzΠ')\\nf = Symbol('f')\\nK = Symbol('K')\\ne = Symbol('e')\\nΔ = Symbol('Δ')\\ne = Eq(Α_ΤzΠ, log(f) + sin(K) + cos(e - Δ))\", \"τ = Symbol('τ')\\nΠ = Symbol('Π')\\nΦ = Symbol('Φ')\\nΖ = Symbol('Ζ')\\nΚ = Symbol('Κ')\\ne = Eq(τ, exp(-Π + Φ)*log(Ζ)*sin(Κ))\", \"β = Symbol('β')\\nμ_x = Symbol('μ_x')\\nA = Symbol('A')\\nν = Symbol('ν')\\ne = Eq(β, sqrt(μ_x) - cos(A) + tan(ν))\", \"φ = Symbol('φ')\\nΗ = Symbol('Η')\\ne = Eq(φ, 9*exp(Η))\", \"Τ = Symbol('Τ')\\nR_IP = Symbol('R_IP')\\nη = Symbol('η')\\ne = Eq(Τ, cos(η)**sin(R_IP))\", \"φ = Symbol('φ')\\nR = Symbol('R')\\nσ_φ = Symbol('σ_φ')\\ne = Eq(φ, sqrt(R) + cos(σ_φ))\", \"λ = Symbol('λ')\\nV = Symbol('V')\\ne = Eq(λ, 1 - tan(V))\", \"M = Symbol('M')\\nG = Symbol('G')\\nW_k = Symbol('W_k')\\nυ = Symbol('υ')\\ne = Eq(M, exp(G) - exp(W_k - υ))\"]\n",
      "SacreBLEU Score: 79.22291981695774\n"
     ]
    }
   ],
   "source": [
    "import csv\n",
    "def gemini_translate(filename, model_name):   \n",
    "    predictions = []  \n",
    "    i = 0\n",
    "    with open(f\"{filename}.csv\", \"r\") as file:\n",
    "        reader = csv.reader(file)\n",
    "        next(reader)\n",
    "        for row in reader:\n",
    "            mml = row[0]\n",
    "            prompt = f\"\"\"\n",
    "            You are an expert at translating MathML to Python code using the SymPy library. Translate the following MathML expression into a valid Python SymPy expression. \n",
    "            Ensure that all variables are treated as symbolic variables and each is defined separately on a new line. \n",
    "            Assume that SymPy has been imported as `from sympy import *` so DO NOT include any import statements in your output.\n",
    "            Example: \n",
    "            MathML: '<mml:mi>p</mml:mi>\\n<mml:mo>=</mml:mo>\\n<mml:mrow>\\n<mml:msub>\\n<mml:mi>p</mml:mi>\\n<mml:mi>a</mml:mi>\\n</mml:msub>\\n<mml:mo>-</mml:mo>\\n<mml:msub>\\n<mml:mi>y</mml:mi>\\n<mml:mrow>\\n<mml:mi>r</mml:mi>\\n<mml:mi>e</mml:mi>\\n<mml:mi>2</mml:mi>\\n</mml:mrow>\\n</mml:msub>\\n</mml:mrow>'\n",
    "            SymPy Python code: 'p = Symbols('p')\\np_a = Symbols('p_a')\\ny_re2 = Symbols('y_re2')\\ne = Eq(p, p_a - y_re2)'\n",
    "            \n",
    "            Now, translate the following MathML expression into Python code using SymPy.\n",
    "            MathML: {mml}\n",
    "            SymPy Python code:\n",
    "            \"\"\"\n",
    "            model = genai.GenerativeModel(model_name=model_name)\n",
    "            generation_config = GenerationConfig(temperature=0.1)\n",
    "            response = model.generate_content(prompt, generation_config=generation_config)\n",
    "            text = response.text\n",
    "            predictions.append(text)\n",
    "            i += 1\n",
    "            print(f\"Generated {i} predictions\")\n",
    "    with open(f\"{filename}_predictions.csv\", \"w\", newline=\"\") as file:\n",
    "        writer = csv.writer(file)\n",
    "        for pred in predictions:\n",
    "            writer.writerow([pred])\n",
    "\n",
    "def evaluate_bleu(filename, model_name):\n",
    "    gemini_translate(filename, model_name)\n",
    "\n",
    "    with open(f\"{filename}.csv\", \"r\") as file:\n",
    "        reader = csv.reader(file)\n",
    "        next(reader)\n",
    "        refs = [row[1] for row in reader]\n",
    "    with open(f\"{filename}_predictions.csv\", \"r\") as file:\n",
    "        reader = csv.reader(file)\n",
    "        preds = [row[0] for row in reader]\n",
    "\n",
    "    bleu = sacrebleu.corpus_bleu(preds, [refs])\n",
    "    print(f\"SacreBLEU Score: {bleu.score}\")\n",
    "\n",
    "# evaluate_bleu(\"gemini_test_1\", 'tunedModels/mmltopython1-si6b5lpywfhi')\n",
    "evaluate_bleu(\"Data/gemini_test_6\", \"tunedModels/mmltopython6-i1nlb0w0glxy\")"
   ]
  }
 ],
 "metadata": {
  "kernelspec": {
   "display_name": "fyp_env",
   "language": "python",
   "name": "python3"
  },
  "language_info": {
   "codemirror_mode": {
    "name": "ipython",
    "version": 3
   },
   "file_extension": ".py",
   "mimetype": "text/x-python",
   "name": "python",
   "nbconvert_exporter": "python",
   "pygments_lexer": "ipython3",
   "version": "3.11.10"
  }
 },
 "nbformat": 4,
 "nbformat_minor": 2
}
