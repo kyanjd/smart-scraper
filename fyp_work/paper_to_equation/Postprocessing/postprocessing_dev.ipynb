{
 "cells": [
  {
   "cell_type": "code",
   "execution_count": 9,
   "metadata": {},
   "outputs": [],
   "source": [
    "from fyp_work.paper_to_equation.Gemini.GeminiPredict import GeminiPredict\n",
    "import sympy\n",
    "from sympy import *"
   ]
  },
  {
   "cell_type": "code",
   "execution_count": 2,
   "metadata": {},
   "outputs": [
    {
     "name": "stdout",
     "output_type": "stream",
     "text": [
      "API key loaded successfully!\n"
     ]
    },
    {
     "name": "stderr",
     "output_type": "stream",
     "text": [
      "Generating Predictions:   0%|          | 0/13 [00:00<?, ?row/s]"
     ]
    },
    {
     "name": "stderr",
     "output_type": "stream",
     "text": [
      "Generating Predictions: 100%|██████████| 13/13 [00:15<00:00,  1.22s/row]\n"
     ]
    }
   ],
   "source": [
    "api_key = \"GEMINI_API_KEY\"\n",
    "filename = \"test\"\n",
    "model = \"tunedModels/mmltopython1-si6b5lpywfhi\"\n",
    "\n",
    "gp = GeminiPredict(api_key, filename, model)\n",
    "gp.predict_from_file() \n",
    "gp.save_predictions()"
   ]
  },
  {
   "cell_type": "code",
   "execution_count": 21,
   "metadata": {},
   "outputs": [
    {
     "name": "stdout",
     "output_type": "stream",
     "text": [
      "K_st \n",
      "K_stl \n",
      "R_t \n",
      "P \n",
      "k_w \n",
      "k_t \n",
      "K \n",
      "N_P \n",
      "k_s \n",
      "β \n",
      "R_s \n",
      "α \n",
      "N_L \n",
      "h_a \n",
      "k_l \n",
      "k_f \n",
      "h_g \n",
      "K_s_t_l \n",
      "λ \n",
      "R \n",
      "δ \n",
      "γ \n",
      "A \n",
      "h_f \n",
      "k \n",
      "K_s_t \n",
      "θ \n",
      "H \n",
      "h_c \n",
      "σ \n",
      "p \n",
      "B \n",
      "h_l \n",
      "σ_U \n",
      "C \n",
      "h \n"
     ]
    }
   ],
   "source": [
    "class SystemOfEquations():\n",
    "    def __init__(self, filename):\n",
    "        self.equations = []\n",
    "        self.symbol_lines = set()\n",
    "        self.symbols = set()\n",
    "\n",
    "    def extract_equations(self):\n",
    "        with open (f\"{filename}_predictions.txt\", \"r\") as file:\n",
    "            for line in file:\n",
    "                self.equations.append(line)\n",
    "\n",
    "    def get_equations(self):\n",
    "        return self.equations\n",
    "\n",
    "    def parse_equation(self, equation):\n",
    "        for line in equation.split(\"\\\\n\"):\n",
    "            if \"Symbol\" in line:\n",
    "                line = line.replace('\"', \"\")\n",
    "                self.symbol_lines.add(line)\n",
    "                self.symbols.add(line.split(\"= \")[0])\n",
    "        \n",
    "\n",
    "\n",
    "\n",
    "\n",
    "\n",
    "def main():\n",
    "    soe = SystemOfEquations(\"test\")\n",
    "    soe.extract_equations()\n",
    "    # eq = soe.equations[0]\n",
    "    # soe.parse_equation(eq)\n",
    "    for eq in soe.equations:\n",
    "        soe.parse_equation(eq)\n",
    "    for symbol in soe.symbols:\n",
    "        print(symbol)\n",
    "\n",
    "\n",
    "main()"
   ]
  }
 ],
 "metadata": {
  "kernelspec": {
   "display_name": "fyp_env",
   "language": "python",
   "name": "python3"
  },
  "language_info": {
   "codemirror_mode": {
    "name": "ipython",
    "version": 3
   },
   "file_extension": ".py",
   "mimetype": "text/x-python",
   "name": "python",
   "nbconvert_exporter": "python",
   "pygments_lexer": "ipython3",
   "version": "3.11.10"
  }
 },
 "nbformat": 4,
 "nbformat_minor": 2
}
