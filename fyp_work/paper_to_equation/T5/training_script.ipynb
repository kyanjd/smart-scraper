{
 "cells": [
  {
   "cell_type": "code",
   "execution_count": 10,
   "metadata": {},
   "outputs": [
    {
     "ename": "ModuleNotFoundError",
     "evalue": "No module named 'fyp_work'",
     "output_type": "error",
     "traceback": [
      "\u001b[1;31m---------------------------------------------------------------------------\u001b[0m",
      "\u001b[1;31mModuleNotFoundError\u001b[0m                       Traceback (most recent call last)",
      "Cell \u001b[1;32mIn[10], line 2\u001b[0m\n\u001b[0;32m      1\u001b[0m \u001b[38;5;66;03m# from datasets import load_dataset\u001b[39;00m\n\u001b[1;32m----> 2\u001b[0m \u001b[38;5;28;01mfrom\u001b[39;00m \u001b[38;5;21;01mfyp_work\u001b[39;00m\u001b[38;5;21;01m.\u001b[39;00m\u001b[38;5;21;01mpaper_to_equation\u001b[39;00m\u001b[38;5;21;01m.\u001b[39;00m\u001b[38;5;21;01mgeneration\u001b[39;00m\u001b[38;5;21;01m.\u001b[39;00m\u001b[38;5;21;01mEquationGenerator\u001b[39;00m \u001b[38;5;28;01mimport\u001b[39;00m Equation\n\u001b[0;32m      3\u001b[0m \u001b[38;5;28;01mimport\u001b[39;00m \u001b[38;5;21;01msys\u001b[39;00m\n",
      "\u001b[1;31mModuleNotFoundError\u001b[0m: No module named 'fyp_work'"
     ]
    }
   ],
   "source": [
    "# from datasets import load_dataset\n",
    "from fyp_work.paper_to_equation.generation.EquationGenerator import Equation\n",
    "import sys\n"
   ]
  },
  {
   "cell_type": "code",
   "execution_count": 9,
   "metadata": {},
   "outputs": [
    {
     "name": "stdout",
     "output_type": "stream",
     "text": [
      "['c:\\\\Users\\\\kyanj\\\\anaconda3\\\\envs\\\\fyp_env\\\\python311.zip', 'c:\\\\Users\\\\kyanj\\\\anaconda3\\\\envs\\\\fyp_env\\\\DLLs', 'c:\\\\Users\\\\kyanj\\\\anaconda3\\\\envs\\\\fyp_env\\\\Lib', 'c:\\\\Users\\\\kyanj\\\\anaconda3\\\\envs\\\\fyp_env', '', 'c:\\\\Users\\\\kyanj\\\\anaconda3\\\\envs\\\\fyp_env\\\\Lib\\\\site-packages', 'c:\\\\Users\\\\kyanj\\\\anaconda3\\\\envs\\\\fyp_env\\\\Lib\\\\site-packages\\\\win32', 'c:\\\\Users\\\\kyanj\\\\anaconda3\\\\envs\\\\fyp_env\\\\Lib\\\\site-packages\\\\win32\\\\lib', 'c:\\\\Users\\\\kyanj\\\\anaconda3\\\\envs\\\\fyp_env\\\\Lib\\\\site-packages\\\\Pythonwin', 'c:\\\\Users\\\\kyanj\\\\anaconda3\\\\envs\\\\fyp_env\\\\Lib\\\\site-packages\\\\setuptools\\\\_vendor']\n"
     ]
    }
   ],
   "source": [
    "print(sys.path)"
   ]
  }
 ],
 "metadata": {
  "kernelspec": {
   "display_name": "fyp_env",
   "language": "python",
   "name": "python3"
  },
  "language_info": {
   "codemirror_mode": {
    "name": "ipython",
    "version": 3
   },
   "file_extension": ".py",
   "mimetype": "text/x-python",
   "name": "python",
   "nbconvert_exporter": "python",
   "pygments_lexer": "ipython3",
   "version": "3.11.10"
  }
 },
 "nbformat": 4,
 "nbformat_minor": 2
}
