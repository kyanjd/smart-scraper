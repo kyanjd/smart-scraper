{
 "cells": [
  {
   "cell_type": "code",
   "execution_count": 1,
   "metadata": {},
   "outputs": [],
   "source": [
    "from fyp_work.paper_to_equation.Gemini.GeminiPredict import GeminiPredict\n",
    "from sympy import *\n",
    "import numpy as np"
   ]
  },
  {
   "cell_type": "code",
   "execution_count": 2,
   "metadata": {},
   "outputs": [
    {
     "name": "stdout",
     "output_type": "stream",
     "text": [
      "API key loaded successfully!\n"
     ]
    },
    {
     "name": "stderr",
     "output_type": "stream",
     "text": [
      "Generating Predictions:   0%|          | 0/13 [00:00<?, ?row/s]"
     ]
    },
    {
     "name": "stderr",
     "output_type": "stream",
     "text": [
      "Generating Predictions: 100%|██████████| 13/13 [00:19<00:00,  1.53s/row]\n"
     ]
    }
   ],
   "source": [
    "api_key = \"GEMINI_API_KEY\"\n",
    "filename = \"Data/HTC_gemini4\"\n",
    "model = \"tunedModels/mmltopython4-f3fuppiemnq9\"\n",
    "\n",
    "gp = GeminiPredict(api_key, filename, model)\n",
    "gp.predict_from_file(filename=\"Data/HTC_mml\") \n",
    "gp.save_predictions()"
   ]
  },
  {
   "cell_type": "code",
   "execution_count": 8,
   "metadata": {},
   "outputs": [
    {
     "name": "stdout",
     "output_type": "stream",
     "text": [
      "True\n",
      "True\n",
      "True\n",
      "True\n",
      "True\n",
      "True\n",
      "True\n",
      "True\n",
      "True\n",
      "True\n",
      "True\n",
      "True\n",
      "True\n"
     ]
    }
   ],
   "source": [
    "class SystemOfEquations():\n",
    "    def __init__(self, filepath):\n",
    "        self.equations = []\n",
    "        self.eq = []\n",
    "        self.filepath = filepath\n",
    "        self.symbol_lines = set() # Only keep one instance of each symbol line\n",
    "        self.symbols = set() # Same for symbols\n",
    "\n",
    "    def extract_equations(self):\n",
    "        with open (f\"{self.filepath}\", \"r\") as file:\n",
    "            for line in file:\n",
    "                self.equations.append(line)\n",
    "\n",
    "    def get_equations(self):\n",
    "        if not self.equations:\n",
    "            self.extract_equations()\n",
    "\n",
    "        return self.equations\n",
    "\n",
    "    def validation_check(self, equation):\n",
    "        try:\n",
    "            eval(equation)\n",
    "            return True\n",
    "        except Exception as e:\n",
    "            print(e)\n",
    "            return False\n",
    "\n",
    "    def parse_equation(self, equation):\n",
    "        for line in equation.split(\"\\\\n\"):\n",
    "            if \"Symbol\" in line:\n",
    "                line = line.replace('\"', \"\")\n",
    "                self.symbol_lines.add(line)\n",
    "                self.symbols.add(line.split(\" = \")[0])\n",
    "            elif \"Eq\" in line:\n",
    "                eq = line.split(\" = \")[1]\n",
    "                self.eq.append(eq)\n",
    "        \n",
    "    def solve(self, target):\n",
    "        pass\n",
    "    \n",
    "    def solve_test(self, target):\n",
    "        symbol_list = {\"a\", \"b\", \"c\"}\n",
    "        const = {\"c\"}\n",
    "\n",
    "        # Define symbols dynamically\n",
    "        sd = {name: Symbol(name) for name in symbol_list if name not in const}\n",
    "\n",
    "        # Substitute c = 4 directly in the equations\n",
    "        c = 4\n",
    "        # og_eq = [Eq(a, b + 5), Eq(b, c + 1)]\n",
    "        equations = [Eq(sd[\"a\"], sd[\"b\"] + 5), Eq(sd[\"b\"], c + 1)]\n",
    "        # equations = [eq.subs({a: sd[\"a\"], b: sd[\"b\"]}) for eq in og_eq]\n",
    "\n",
    "        # Solve for a\n",
    "        result = solve(equations)\n",
    "        print(result[sd[target]])\n",
    "    \n",
    "    def solve_test2(self, target):\n",
    "        pass\n",
    "\n",
    "\n",
    "\n",
    "\n",
    "\n",
    "\n",
    "def main():\n",
    "    soe = SystemOfEquations(\"Data/HTC_gemini5_predictions.txt\")\n",
    "    soe.extract_equations()\n",
    "    for eq in soe.equations:\n",
    "        soe.parse_equation(eq)\n",
    "        print(soe.validation_check(eq))\n",
    "    # soe.solve_test(\"a\")\n",
    "    \n",
    "\n",
    "\n",
    "main()"
   ]
  }
 ],
 "metadata": {
  "kernelspec": {
   "display_name": "fyp_env",
   "language": "python",
   "name": "python3"
  },
  "language_info": {
   "codemirror_mode": {
    "name": "ipython",
    "version": 3
   },
   "file_extension": ".py",
   "mimetype": "text/x-python",
   "name": "python",
   "nbconvert_exporter": "python",
   "pygments_lexer": "ipython3",
   "version": "3.11.10"
  }
 },
 "nbformat": 4,
 "nbformat_minor": 2
}
