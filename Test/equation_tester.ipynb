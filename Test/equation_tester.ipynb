{
 "cells": [
  {
   "cell_type": "code",
   "execution_count": 5,
   "metadata": {},
   "outputs": [
    {
     "name": "stdout",
     "output_type": "stream",
     "text": [
      "A*P**k3*b*v**k1*Integral(h(t), (t, 0, t))/η**k2\n"
     ]
    }
   ],
   "source": [
    "import numpy as np\n",
    "import sympy\n",
    "from sympy import symbols, Function, integrate\n",
    "\n",
    "# Define variables\n",
    "t, A, b, P, v, η, h, k1, k2, k3 = symbols('t A b P v η h k1 k2 k3')\n",
    "\n",
    "# Define h as a symbolic function of t\n",
    "h = Function('h')\n",
    "\n",
    "# Perform the integral\n",
    "ΔV = integrate(A * b * (P**k3 * v**k1) / (η**k2) * h(t), (t, 0, t))\n",
    "print(ΔV)"
   ]
  }
 ],
 "metadata": {
  "kernelspec": {
   "display_name": "fyp_env",
   "language": "python",
   "name": "python3"
  },
  "language_info": {
   "codemirror_mode": {
    "name": "ipython",
    "version": 3
   },
   "file_extension": ".py",
   "mimetype": "text/x-python",
   "name": "python",
   "nbconvert_exporter": "python",
   "pygments_lexer": "ipython3",
   "version": "3.11.10"
  }
 },
 "nbformat": 4,
 "nbformat_minor": 2
}
