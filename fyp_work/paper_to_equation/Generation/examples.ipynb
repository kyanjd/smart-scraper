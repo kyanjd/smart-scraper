{
 "cells": [
  {
   "cell_type": "code",
   "execution_count": 1,
   "metadata": {},
   "outputs": [],
   "source": [
    "from sympy import *"
   ]
  },
  {
   "cell_type": "markdown",
   "metadata": {},
   "source": [
    "Tribology Paper Equation (9)"
   ]
  },
  {
   "cell_type": "code",
   "execution_count": null,
   "metadata": {},
   "outputs": [],
   "source": [
    "\"\"\"\n",
    "<mml:mi>η</mml:mi>\n",
    "<mml:mo>=</mml:mo>\n",
    "<mml:mrow>\n",
    "<mml:msub>\n",
    "    <mml:mi>η</mml:mi>\n",
    "    <mml:mi>0</mml:mi>\n",
    "</mml:msub>\n",
    "<mml:msup>\n",
    "    <mml:mtext>exp</mml:mtext>\n",
    "    <mml:mrow>\n",
    "    <mml:mfrac>\n",
    "        <mml:msub>\n",
    "        <mml:mi>Q</mml:mi>\n",
    "        <mml:mi>η</mml:mi>\n",
    "        </mml:msub>\n",
    "        <mml:mrow>\n",
    "        <mml:mi>R</mml:mi>\n",
    "        <mml:mi>T</mml:mi>\n",
    "        </mml:mrow>\n",
    "    </mml:mfrac>\n",
    "    </mml:mrow>\n",
    "</mml:msup>\n",
    "</mml:mrow>\n",
    "\"\"\""
   ]
  },
  {
   "cell_type": "code",
   "execution_count": 5,
   "metadata": {},
   "outputs": [],
   "source": [
    "η, η_0, Q_η, R, T = symbols('η η_0 Q_η R T')\n",
    "eq = Eq(η, η_0 * exp(Q_η / (R * T)))"
   ]
  },
  {
   "cell_type": "markdown",
   "metadata": {},
   "source": [
    "HTC Paper Equation (1)"
   ]
  },
  {
   "cell_type": "code",
   "execution_count": null,
   "metadata": {},
   "outputs": [],
   "source": [
    "\"\"\"\n",
    "<mml:mi>h</mml:mi>\n",
    "  <mml:mo>=</mml:mo>\n",
    "  <mml:mrow>\n",
    "    <mml:msub>\n",
    "      <mml:mi>h</mml:mi>\n",
    "      <mml:mi>c</mml:mi>\n",
    "    </mml:msub>\n",
    "    <mml:mo>+</mml:mo>\n",
    "    <mml:msub>\n",
    "      <mml:mi>h</mml:mi>\n",
    "      <mml:mi>g</mml:mi>\n",
    "    </mml:msub>\n",
    "  </mml:mrow>\n",
    "  \"\"\""
   ]
  },
  {
   "cell_type": "code",
   "execution_count": null,
   "metadata": {},
   "outputs": [],
   "source": [
    "h = symbols('h')\n",
    "h_g = symbols('h_g')\n",
    "h_c = symbols('h_c')\n",
    "e = Eq(h, h_g + h_c)"
   ]
  }
 ],
 "metadata": {
  "kernelspec": {
   "display_name": "fyp_env",
   "language": "python",
   "name": "python3"
  },
  "language_info": {
   "codemirror_mode": {
    "name": "ipython",
    "version": 3
   },
   "file_extension": ".py",
   "mimetype": "text/x-python",
   "name": "python",
   "nbconvert_exporter": "python",
   "pygments_lexer": "ipython3",
   "version": "3.11.10"
  }
 },
 "nbformat": 4,
 "nbformat_minor": 2
}
