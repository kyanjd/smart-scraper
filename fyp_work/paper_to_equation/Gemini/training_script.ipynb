{
 "cells": [
  {
   "cell_type": "code",
   "execution_count": 1,
   "metadata": {},
   "outputs": [
    {
     "name": "stderr",
     "output_type": "stream",
     "text": [
      "c:\\Users\\kyanj\\anaconda3\\envs\\fyp_env\\Lib\\site-packages\\tqdm\\auto.py:21: TqdmWarning: IProgress not found. Please update jupyter and ipywidgets. See https://ipywidgets.readthedocs.io/en/stable/user_install.html\n",
      "  from .autonotebook import tqdm as notebook_tqdm\n"
     ]
    }
   ],
   "source": [
    "import google.generativeai as genai\n",
    "from google.generativeai.types import GenerationConfig\n",
    "import os\n",
    "import time\n",
    "import csv\n",
    "import pandas as pd\n",
    "import matplotlib.pyplot as plt\n",
    "import sacrebleu\n",
    "from fyp_work.paper_to_equation.Generation.Equation_BaseDataset import BaseDataset"
   ]
  },
  {
   "cell_type": "code",
   "execution_count": 2,
   "metadata": {},
   "outputs": [
    {
     "name": "stdout",
     "output_type": "stream",
     "text": [
      "API key loaded successfully!\n"
     ]
    }
   ],
   "source": [
    "api_key = os.getenv(\"GEMINI_API_KEY\")  # Returns None if the variable is not set\n",
    "# Check if the API key is loaded correctly\n",
    "if api_key:\n",
    "    print(\"API key loaded successfully!\")\n",
    "else:\n",
    "    print(\"API key not found. Please ensure it is set as an environment variable.\")\n",
    "\n",
    "genai.configure(api_key=api_key)"
   ]
  },
  {
   "cell_type": "code",
   "execution_count": 3,
   "metadata": {},
   "outputs": [],
   "source": [
    "class GeminiDataset(BaseDataset):\n",
    "    def __init__(self, num, filepath):\n",
    "        super().__init__(num, filepath)\n",
    "\n",
    "    def get_columns(self):\n",
    "        return [\"text_input\", \"output\"]"
   ]
  },
  {
   "cell_type": "code",
   "execution_count": 4,
   "metadata": {},
   "outputs": [
    {
     "name": "stderr",
     "output_type": "stream",
     "text": [
      "Generating dataset: 100%|██████████| 500/500 [00:07<00:00, 65.21it/s]"
     ]
    },
    {
     "name": "stdout",
     "output_type": "stream",
     "text": [
      "500\n"
     ]
    },
    {
     "name": "stderr",
     "output_type": "stream",
     "text": [
      "\n"
     ]
    }
   ],
   "source": [
    "# Path to CSV file\n",
    "csv_file_path = \"Data/gemini_training_4.csv\"\n",
    "\n",
    "data = GeminiDataset(500, csv_file_path)\n",
    "data.create()\n",
    "print(len(data.dataset))"
   ]
  },
  {
   "cell_type": "code",
   "execution_count": 7,
   "metadata": {},
   "outputs": [
    {
     "name": "stdout",
     "output_type": "stream",
     "text": [
      "{'text_input': '\\n<mml:mrow>\\n<mml:msqrt>\\n<mml:mi>c</mml:mi>\\n</mml:msqrt>\\n<mml:mo>+</mml:mo>\\n<mml:mrow>\\n<mml:mi>sin</mml:mi>\\n<mml:mfenced>\\n<mml:msub>\\n<mml:mi>Δ</mml:mi>\\n<mml:mi>1</mml:mi>\\n</mml:msub>\\n</mml:mfenced>\\n</mml:mrow>\\n<mml:mo>+</mml:mo>\\n<mml:mn>4</mml:mn>\\n</mml:mrow>\\n<mml:mo>=</mml:mo>\\n<mml:mrow>\\n<mml:mfrac>\\n<mml:mrow>\\n<mml:mi>sin</mml:mi>\\n<mml:mfenced>\\n<mml:msub>\\n<mml:mi>Σ</mml:mi>\\n<mml:mrow>\\n<mml:mi>w</mml:mi>\\n<mml:mi>s</mml:mi>\\n</mml:mrow>\\n</mml:msub>\\n</mml:mfenced>\\n</mml:mrow>\\n<mml:mrow>\\n<mml:mi>cos</mml:mi>\\n<mml:mfenced>\\n<mml:mrow>\\n<mml:mfrac>\\n<mml:mi>Y</mml:mi>\\n<mml:mn>9</mml:mn>\\n</mml:mfrac>\\n</mml:mrow>\\n</mml:mfenced>\\n</mml:mrow>\\n</mml:mfrac>\\n</mml:mrow>\\n', 'output': \"c = Symbol('c')\\nΔ_1 = Symbol('Δ_1')\\nΣ_ws = Symbol('Σ_ws')\\nY = Symbol('Y')\\ne = Eq(sqrt(c) + sin(Δ_1) + 4, sin(Σ_ws)/cos(Y/9))\"}\n"
     ]
    }
   ],
   "source": [
    "dataset = data.dataset\n",
    "print(dataset[0])"
   ]
  },
  {
   "cell_type": "code",
   "execution_count": null,
   "metadata": {},
   "outputs": [
    {
     "name": "stdout",
     "output_type": "stream",
     "text": [
      "TunedModel(name='tunedModels/mmltopython1-si6b5lpywfhi',\n",
      "           source_model='models/gemini-1.5-flash-001-tuning',\n",
      "           base_model='models/gemini-1.5-flash-001-tuning',\n",
      "           display_name='mml_to_python_1',\n",
      "           description='',\n",
      "           temperature=1.0,\n",
      "           top_p=0.95,\n",
      "           top_k=64,\n",
      "           state=<State.ACTIVE: 2>,\n",
      "           create_time=datetime.datetime(2024, 12, 30, 19, 45, 55, 864839, tzinfo=datetime.timezone.utc),\n",
      "           update_time=datetime.datetime(2024, 12, 30, 19, 58, 1, 453206, tzinfo=datetime.timezone.utc),\n",
      "           tuning_task=TuningTask(start_time=datetime.datetime(2024, 12, 30, 19, 45, 56, 443240, tzinfo=datetime.timezone.utc),\n",
      "                                  complete_time=datetime.datetime(2024, 12, 30, 19, 58, 1, 453206, tzinfo=datetime.timezone.utc),\n",
      "                                  snapshots=[...],\n",
      "                                  hyperparameters=Hyperparameters(epoch_count=4,\n",
      "                                                                  batch_size=16,\n",
      "                                                                  learning_rate=0.002)),\n",
      "           reader_project_numbers=[])\n",
      "TunedModel(name='tunedModels/mmltopython2-rq77o9de7x0p',\n",
      "           source_model='models/gemini-1.5-flash-001-tuning',\n",
      "           base_model='models/gemini-1.5-flash-001-tuning',\n",
      "           display_name='mml_to_python_2',\n",
      "           description='',\n",
      "           temperature=1.0,\n",
      "           top_p=0.95,\n",
      "           top_k=64,\n",
      "           state=<State.ACTIVE: 2>,\n",
      "           create_time=datetime.datetime(2025, 1, 11, 20, 35, 11, 357607, tzinfo=datetime.timezone.utc),\n",
      "           update_time=datetime.datetime(2025, 1, 11, 20, 47, 17, 107579, tzinfo=datetime.timezone.utc),\n",
      "           tuning_task=TuningTask(start_time=datetime.datetime(2025, 1, 11, 20, 35, 11, 992275, tzinfo=datetime.timezone.utc),\n",
      "                                  complete_time=datetime.datetime(2025, 1, 11, 20, 47, 17, 107579, tzinfo=datetime.timezone.utc),\n",
      "                                  snapshots=[...],\n",
      "                                  hyperparameters=Hyperparameters(epoch_count=4,\n",
      "                                                                  batch_size=16,\n",
      "                                                                  learning_rate=0.002)),\n",
      "           reader_project_numbers=[])\n"
     ]
    }
   ],
   "source": [
    "for model in genai.list_tuned_models():\n",
    "    print(model)    "
   ]
  },
  {
   "cell_type": "code",
   "execution_count": 10,
   "metadata": {},
   "outputs": [
    {
     "name": "stderr",
     "output_type": "stream",
     "text": [
      "100%|██████████| 125/125 [10:36<00:00,  5.09s/it]"
     ]
    },
    {
     "name": "stdout",
     "output_type": "stream",
     "text": [
      "TunedModel(name='tunedModels/mmltopython4-f3fuppiemnq9',\n",
      "           source_model='models/gemini-1.5-flash-001-tuning',\n",
      "           base_model='models/gemini-1.5-flash-001-tuning',\n",
      "           display_name='mml_to_python_4',\n",
      "           description='',\n",
      "           temperature=1.0,\n",
      "           top_p=0.95,\n",
      "           top_k=64,\n",
      "           state=<State.ACTIVE: 2>,\n",
      "           create_time=datetime.datetime(2025, 1, 12, 12, 29, 32, 665431, tzinfo=datetime.timezone.utc),\n",
      "           update_time=datetime.datetime(2025, 1, 12, 12, 40, 5, 292068, tzinfo=datetime.timezone.utc),\n",
      "           tuning_task=TuningTask(start_time=datetime.datetime(2025, 1, 12, 12, 29, 33, 609234, tzinfo=datetime.timezone.utc),\n",
      "                                  complete_time=datetime.datetime(2025, 1, 12, 12, 40, 5, 292068, tzinfo=datetime.timezone.utc),\n",
      "                                  snapshots=[...],\n",
      "                                  hyperparameters=Hyperparameters(epoch_count=4,\n",
      "                                                                  batch_size=16,\n",
      "                                                                  learning_rate=0.002)),\n",
      "           reader_project_numbers=None)\n"
     ]
    },
    {
     "name": "stderr",
     "output_type": "stream",
     "text": [
      "\n"
     ]
    },
    {
     "data": {
      "text/plain": [
       "[<matplotlib.lines.Line2D at 0x22fd40529d0>]"
      ]
     },
     "execution_count": 10,
     "metadata": {},
     "output_type": "execute_result"
    },
    {
     "data": {
      "image/png": "[encoded data removed]",
      "text/plain": [
       "<Figure size 640x480 with 1 Axes>"
      ]
     },
     "metadata": {},
     "output_type": "display_data"
    }
   ],
   "source": [
    "base_model = \"models/gemini-1.5-flash-001-tuning\"\n",
    "\n",
    "operation = genai.create_tuned_model(\n",
    "    # You can use a tuned model here too. Set `source_model=\"tunedModels/...\"`\n",
    "    display_name=\"mml_to_python_4\",\n",
    "    source_model=base_model,\n",
    "    epoch_count=4,\n",
    "    batch_size=16,\n",
    "    learning_rate=0.002,\n",
    "    training_data=dataset,\n",
    ")\n",
    "\n",
    "for status in operation.wait_bar():\n",
    "    time.sleep(10)\n",
    "\n",
    "result = operation.result()\n",
    "print(result)\n",
    "\n",
    "snapshots = pd.DataFrame(result.tuning_task.snapshots)\n",
    "plt.plot(snapshots['epoch'], snapshots['mean_loss'])"
   ]
  },
  {
   "cell_type": "code",
   "execution_count": 7,
   "metadata": {},
   "outputs": [
    {
     "name": "stdout",
     "output_type": "stream",
     "text": [
      "h = Symbol('h')\n",
      "h_c = Symbol('h_c')\n",
      "h_g = Symbol('h_g')\n",
      "e = Eq(h, h_c + h_g)\n"
     ]
    }
   ],
   "source": [
    "tuned_model = 'tunedModels/mmltopython1-si6b5lpywfhi'\n",
    "model = genai.GenerativeModel(model_name=tuned_model)\n",
    "generation_config = GenerationConfig(temperature=0.1)\n",
    "\n",
    "# mml = \"\\n<mml:mrow>\\n<mml:mrow>\\n<mml:mo>-</mml:mo>\\n<mml:msqrt>\\n<mml:mi>y</mml:mi>\\n</mml:msqrt>\\n</mml:mrow>\\n<mml:mo>+</mml:mo>\\n<mml:mrow>\\n<mml:mi>cos</mml:mi>\\n<mml:mfenced>\\n<mml:msub>\\n<mml:mi>Υ</mml:mi>\\n<mml:mi>ξ</mml:mi>\\n</mml:msub>\\n</mml:mfenced>\\n</mml:mrow>\\n</mml:mrow>\\n<mml:mo>=</mml:mo>\\n<mml:mrow>\\n<mml:mrow>\\n<mml:msub>\\n<mml:mi>Ψ</mml:mi>\\n<mml:mi>G</mml:mi>\\n</mml:msub>\\n<mml:mrow>\\n<mml:mi>log</mml:mi>\\n<mml:mfenced>\\n<mml:mi>M</mml:mi>\\n</mml:mfenced>\\n</mml:mrow>\\n</mml:mrow>\\n<mml:mo>-</mml:mo>\\n<mml:mrow>\\n<mml:mi>sin</mml:mi>\\n<mml:mfenced>\\n<mml:mrow>\\n<mml:mn>2</mml:mn>\\n<mml:mi>k</mml:mi>\\n</mml:mrow>\\n</mml:mfenced>\\n</mml:mrow>\\n</mml:mrow>\\n\"\n",
    "\n",
    "prompt = f\"\"\"\n",
    "<mml:mi>h</mml:mi>\n",
    "  <mml:mo>=</mml:mo>\n",
    "  <mml:mrow>\n",
    "    <mml:msub>\n",
    "      <mml:mi>h</mml:mi>\n",
    "      <mml:mi>c</mml:mi>\n",
    "    </mml:msub>\n",
    "    <mml:mo>+</mml:mo>\n",
    "    <mml:msub>\n",
    "      <mml:mi>h</mml:mi>\n",
    "      <mml:mi>g</mml:mi>\n",
    "    </mml:msub>\n",
    "  </mml:mrow>\n",
    "\"\"\"\n",
    "\n",
    "response = model.generate_content(prompt, generation_config=generation_config)\n",
    "\n",
    "print(response.text)\n"
   ]
  },
  {
   "cell_type": "code",
   "execution_count": 13,
   "metadata": {},
   "outputs": [
    {
     "name": "stdout",
     "output_type": "stream",
     "text": [
      "'\\n<mml:mrow>\\n<mml:msup>\\n<mml:mtext>exp</mml:mtext>\\n<mml:mi>Χ</mml:mi>\\n</mml:msup>\\n<mml:mo>+</mml:mo>\\n<mml:mrow>\\n<mml:mi>log</mml:mi>\\n<mml:mfenced>\\n<mml:mi>Ο</mml:mi>\\n</mml:mfenced>\\n</mml:mrow>\\n</mml:mrow>\\n<mml:mo>=</mml:mo>\\n<mml:mrow>\\n<mml:msup>\\n<mml:mtext>exp</mml:mtext>\\n<mml:mi>K</mml:mi>\\n</mml:msup>\\n<mml:mrow>\\n<mml:mi>tan</mml:mi>\\n<mml:mfenced>\\n<mml:mi>ι</mml:mi>\\n</mml:mfenced>\\n</mml:mrow>\\n</mml:mrow>\\n'\n",
      "Generated 1 predictions\n",
      "'\\n<mml:mrow>\\n<mml:mfrac>\\n<mml:mrow>\\n<mml:mi>tan</mml:mi>\\n<mml:mfenced>\\n<mml:msub>\\n<mml:mi>Δ</mml:mi>\\n<mml:mrow>\\n<mml:mi>u</mml:mi>\\n<mml:mi>Ι</mml:mi>\\n<mml:mi>w</mml:mi>\\n</mml:mrow>\\n</mml:msub>\\n</mml:mfenced>\\n</mml:mrow>\\n<mml:mrow>\\n<mml:mi>sin</mml:mi>\\n<mml:mfenced>\\n<mml:msup>\\n<mml:msub>\\n<mml:mi>X</mml:mi>\\n<mml:mrow>\\n<mml:mi>Σ</mml:mi>\\n<mml:mi>o</mml:mi>\\n<mml:mi>P</mml:mi>\\n</mml:mrow>\\n</mml:msub>\\n<mml:mn>4</mml:mn>\\n</mml:msup>\\n</mml:mfenced>\\n</mml:mrow>\\n</mml:mfrac>\\n</mml:mrow>\\n<mml:mo>=</mml:mo>\\n<mml:mrow>\\n<mml:msup>\\n<mml:mtext>exp</mml:mtext>\\n<mml:mi>z</mml:mi>\\n</mml:msup>\\n<mml:mrow>\\n<mml:mi>sin</mml:mi>\\n<mml:mfenced>\\n<mml:mi>m</mml:mi>\\n</mml:mfenced>\\n</mml:mrow>\\n</mml:mrow>\\n'\n",
      "Generated 2 predictions\n",
      "'\\n<mml:mrow>\\n<mml:mfrac>\\n<mml:msup>\\n<mml:mi>Χ</mml:mi>\\n<mml:mrow>\\n<mml:mfrac>\\n<mml:mrow>\\n<mml:mi>log</mml:mi>\\n<mml:mfenced>\\n<mml:msub>\\n<mml:mi>τ</mml:mi>\\n<mml:mrow>\\n<mml:mi>c</mml:mi>\\n<mml:mi>l</mml:mi>\\n<mml:mi>Ε</mml:mi>\\n</mml:mrow>\\n</mml:msub>\\n</mml:mfenced>\\n</mml:mrow>\\n<mml:mn>2</mml:mn>\\n</mml:mfrac>\\n</mml:mrow>\\n</mml:msup>\\n<mml:mrow>\\n<mml:mi>log</mml:mi>\\n<mml:mfenced>\\n<mml:mrow>\\n<mml:mfrac>\\n<mml:msub>\\n<mml:mi>N</mml:mi>\\n<mml:mi>j</mml:mi>\\n</mml:msub>\\n<mml:mi>ρ</mml:mi>\\n</mml:mfrac>\\n</mml:mrow>\\n</mml:mfenced>\\n</mml:mrow>\\n</mml:mfrac>\\n</mml:mrow>\\n<mml:mo>=</mml:mo>\\n<mml:mrow>\\n<mml:msqrt>\\n<mml:msub>\\n<mml:mi>ω</mml:mi>\\n<mml:mrow>\\n<mml:mi>Α</mml:mi>\\n<mml:mi>B</mml:mi>\\n</mml:mrow>\\n</mml:msub>\\n</mml:msqrt>\\n<mml:mrow>\\n<mml:mi>log</mml:mi>\\n<mml:mfenced>\\n<mml:mi>ψ</mml:mi>\\n</mml:mfenced>\\n</mml:mrow>\\n</mml:mrow>\\n'\n"
     ]
    },
    {
     "ename": "KeyboardInterrupt",
     "evalue": "",
     "output_type": "error",
     "traceback": [
      "\u001b[1;31m---------------------------------------------------------------------------\u001b[0m",
      "\u001b[1;31mKeyboardInterrupt\u001b[0m                         Traceback (most recent call last)",
      "Cell \u001b[1;32mIn[13], line 47\u001b[0m\n\u001b[0;32m     44\u001b[0m     \u001b[38;5;28mprint\u001b[39m(\u001b[38;5;124mf\u001b[39m\u001b[38;5;124m\"\u001b[39m\u001b[38;5;124mSacreBLEU Score: \u001b[39m\u001b[38;5;132;01m{\u001b[39;00mbleu\u001b[38;5;241m.\u001b[39mscore\u001b[38;5;132;01m}\u001b[39;00m\u001b[38;5;124m\"\u001b[39m)\n\u001b[0;32m     46\u001b[0m \u001b[38;5;66;03m# evaluate_bleu(\"gemini_test_1\", 'tunedModels/mmltopython1-si6b5lpywfhi')\u001b[39;00m\n\u001b[1;32m---> 47\u001b[0m \u001b[43mevaluate_bleu\u001b[49m\u001b[43m(\u001b[49m\u001b[38;5;124;43m\"\u001b[39;49m\u001b[38;5;124;43mData/gemini_test_4\u001b[39;49m\u001b[38;5;124;43m\"\u001b[39;49m\u001b[43m,\u001b[49m\u001b[43m \u001b[49m\u001b[38;5;124;43m\"\u001b[39;49m\u001b[38;5;124;43mtunedModels/mmltopython4-f3fuppiemnq9\u001b[39;49m\u001b[38;5;124;43m\"\u001b[39;49m\u001b[43m)\u001b[49m\n",
      "Cell \u001b[1;32mIn[13], line 34\u001b[0m, in \u001b[0;36mevaluate_bleu\u001b[1;34m(filename, model_name)\u001b[0m\n\u001b[0;32m     33\u001b[0m \u001b[38;5;28;01mdef\u001b[39;00m \u001b[38;5;21mevaluate_bleu\u001b[39m(filename, model_name):\n\u001b[1;32m---> 34\u001b[0m     \u001b[43mgemini_translate\u001b[49m\u001b[43m(\u001b[49m\u001b[43mfilename\u001b[49m\u001b[43m,\u001b[49m\u001b[43m \u001b[49m\u001b[43mmodel_name\u001b[49m\u001b[43m)\u001b[49m\n\u001b[0;32m     36\u001b[0m     \u001b[38;5;28;01mwith\u001b[39;00m \u001b[38;5;28mopen\u001b[39m(\u001b[38;5;124mf\u001b[39m\u001b[38;5;124m\"\u001b[39m\u001b[38;5;132;01m{\u001b[39;00mfilename\u001b[38;5;132;01m}\u001b[39;00m\u001b[38;5;124m.csv\u001b[39m\u001b[38;5;124m\"\u001b[39m, \u001b[38;5;124m\"\u001b[39m\u001b[38;5;124mr\u001b[39m\u001b[38;5;124m\"\u001b[39m) \u001b[38;5;28;01mas\u001b[39;00m file:\n\u001b[0;32m     37\u001b[0m         reader \u001b[38;5;241m=\u001b[39m csv\u001b[38;5;241m.\u001b[39mreader(file)\n",
      "Cell \u001b[1;32mIn[13], line 24\u001b[0m, in \u001b[0;36mgemini_translate\u001b[1;34m(filename, model_name)\u001b[0m\n\u001b[0;32m     22\u001b[0m model \u001b[38;5;241m=\u001b[39m genai\u001b[38;5;241m.\u001b[39mGenerativeModel(model_name\u001b[38;5;241m=\u001b[39mmodel_name)\n\u001b[0;32m     23\u001b[0m generation_config \u001b[38;5;241m=\u001b[39m GenerationConfig(temperature\u001b[38;5;241m=\u001b[39m\u001b[38;5;241m0.1\u001b[39m)\n\u001b[1;32m---> 24\u001b[0m response \u001b[38;5;241m=\u001b[39m \u001b[43mmodel\u001b[49m\u001b[38;5;241;43m.\u001b[39;49m\u001b[43mgenerate_content\u001b[49m\u001b[43m(\u001b[49m\u001b[43mprompt\u001b[49m\u001b[43m,\u001b[49m\u001b[43m \u001b[49m\u001b[43mgeneration_config\u001b[49m\u001b[38;5;241;43m=\u001b[39;49m\u001b[43mgeneration_config\u001b[49m\u001b[43m)\u001b[49m\n\u001b[0;32m     25\u001b[0m text \u001b[38;5;241m=\u001b[39m response\u001b[38;5;241m.\u001b[39mtext\n\u001b[0;32m     26\u001b[0m predictions\u001b[38;5;241m.\u001b[39mappend(\u001b[38;5;28mrepr\u001b[39m(text))\n",
      "File \u001b[1;32mc:\\Users\\kyanj\\anaconda3\\envs\\fyp_env\\Lib\\site-packages\\google\\generativeai\\generative_models.py:331\u001b[0m, in \u001b[0;36mGenerativeModel.generate_content\u001b[1;34m(self, contents, generation_config, safety_settings, stream, tools, tool_config, request_options)\u001b[0m\n\u001b[0;32m    329\u001b[0m         \u001b[38;5;28;01mreturn\u001b[39;00m generation_types\u001b[38;5;241m.\u001b[39mGenerateContentResponse\u001b[38;5;241m.\u001b[39mfrom_iterator(iterator)\n\u001b[0;32m    330\u001b[0m     \u001b[38;5;28;01melse\u001b[39;00m:\n\u001b[1;32m--> 331\u001b[0m         response \u001b[38;5;241m=\u001b[39m \u001b[38;5;28;43mself\u001b[39;49m\u001b[38;5;241;43m.\u001b[39;49m\u001b[43m_client\u001b[49m\u001b[38;5;241;43m.\u001b[39;49m\u001b[43mgenerate_content\u001b[49m\u001b[43m(\u001b[49m\n\u001b[0;32m    332\u001b[0m \u001b[43m            \u001b[49m\u001b[43mrequest\u001b[49m\u001b[43m,\u001b[49m\n\u001b[0;32m    333\u001b[0m \u001b[43m            \u001b[49m\u001b[38;5;241;43m*\u001b[39;49m\u001b[38;5;241;43m*\u001b[39;49m\u001b[43mrequest_options\u001b[49m\u001b[43m,\u001b[49m\n\u001b[0;32m    334\u001b[0m \u001b[43m        \u001b[49m\u001b[43m)\u001b[49m\n\u001b[0;32m    335\u001b[0m         \u001b[38;5;28;01mreturn\u001b[39;00m generation_types\u001b[38;5;241m.\u001b[39mGenerateContentResponse\u001b[38;5;241m.\u001b[39mfrom_response(response)\n\u001b[0;32m    336\u001b[0m \u001b[38;5;28;01mexcept\u001b[39;00m google\u001b[38;5;241m.\u001b[39mapi_core\u001b[38;5;241m.\u001b[39mexceptions\u001b[38;5;241m.\u001b[39mInvalidArgument \u001b[38;5;28;01mas\u001b[39;00m e:\n",
      "File \u001b[1;32mc:\\Users\\kyanj\\anaconda3\\envs\\fyp_env\\Lib\\site-packages\\google\\ai\\generativelanguage_v1beta\\services\\generative_service\\client.py:830\u001b[0m, in \u001b[0;36mGenerativeServiceClient.generate_content\u001b[1;34m(self, request, model, contents, retry, timeout, metadata)\u001b[0m\n\u001b[0;32m    827\u001b[0m \u001b[38;5;28mself\u001b[39m\u001b[38;5;241m.\u001b[39m_validate_universe_domain()\n\u001b[0;32m    829\u001b[0m \u001b[38;5;66;03m# Send the request.\u001b[39;00m\n\u001b[1;32m--> 830\u001b[0m response \u001b[38;5;241m=\u001b[39m \u001b[43mrpc\u001b[49m\u001b[43m(\u001b[49m\n\u001b[0;32m    831\u001b[0m \u001b[43m    \u001b[49m\u001b[43mrequest\u001b[49m\u001b[43m,\u001b[49m\n\u001b[0;32m    832\u001b[0m \u001b[43m    \u001b[49m\u001b[43mretry\u001b[49m\u001b[38;5;241;43m=\u001b[39;49m\u001b[43mretry\u001b[49m\u001b[43m,\u001b[49m\n\u001b[0;32m    833\u001b[0m \u001b[43m    \u001b[49m\u001b[43mtimeout\u001b[49m\u001b[38;5;241;43m=\u001b[39;49m\u001b[43mtimeout\u001b[49m\u001b[43m,\u001b[49m\n\u001b[0;32m    834\u001b[0m \u001b[43m    \u001b[49m\u001b[43mmetadata\u001b[49m\u001b[38;5;241;43m=\u001b[39;49m\u001b[43mmetadata\u001b[49m\u001b[43m,\u001b[49m\n\u001b[0;32m    835\u001b[0m \u001b[43m\u001b[49m\u001b[43m)\u001b[49m\n\u001b[0;32m    837\u001b[0m \u001b[38;5;66;03m# Done; return the response.\u001b[39;00m\n\u001b[0;32m    838\u001b[0m \u001b[38;5;28;01mreturn\u001b[39;00m response\n",
      "File \u001b[1;32mc:\\Users\\kyanj\\anaconda3\\envs\\fyp_env\\Lib\\site-packages\\google\\api_core\\gapic_v1\\method.py:131\u001b[0m, in \u001b[0;36m_GapicCallable.__call__\u001b[1;34m(self, timeout, retry, compression, *args, **kwargs)\u001b[0m\n\u001b[0;32m    128\u001b[0m \u001b[38;5;28;01mif\u001b[39;00m \u001b[38;5;28mself\u001b[39m\u001b[38;5;241m.\u001b[39m_compression \u001b[38;5;129;01mis\u001b[39;00m \u001b[38;5;129;01mnot\u001b[39;00m \u001b[38;5;28;01mNone\u001b[39;00m:\n\u001b[0;32m    129\u001b[0m     kwargs[\u001b[38;5;124m\"\u001b[39m\u001b[38;5;124mcompression\u001b[39m\u001b[38;5;124m\"\u001b[39m] \u001b[38;5;241m=\u001b[39m compression\n\u001b[1;32m--> 131\u001b[0m \u001b[38;5;28;01mreturn\u001b[39;00m \u001b[43mwrapped_func\u001b[49m\u001b[43m(\u001b[49m\u001b[38;5;241;43m*\u001b[39;49m\u001b[43margs\u001b[49m\u001b[43m,\u001b[49m\u001b[43m \u001b[49m\u001b[38;5;241;43m*\u001b[39;49m\u001b[38;5;241;43m*\u001b[39;49m\u001b[43mkwargs\u001b[49m\u001b[43m)\u001b[49m\n",
      "File \u001b[1;32mc:\\Users\\kyanj\\anaconda3\\envs\\fyp_env\\Lib\\site-packages\\google\\api_core\\retry\\retry_unary.py:293\u001b[0m, in \u001b[0;36mRetry.__call__.<locals>.retry_wrapped_func\u001b[1;34m(*args, **kwargs)\u001b[0m\n\u001b[0;32m    289\u001b[0m target \u001b[38;5;241m=\u001b[39m functools\u001b[38;5;241m.\u001b[39mpartial(func, \u001b[38;5;241m*\u001b[39margs, \u001b[38;5;241m*\u001b[39m\u001b[38;5;241m*\u001b[39mkwargs)\n\u001b[0;32m    290\u001b[0m sleep_generator \u001b[38;5;241m=\u001b[39m exponential_sleep_generator(\n\u001b[0;32m    291\u001b[0m     \u001b[38;5;28mself\u001b[39m\u001b[38;5;241m.\u001b[39m_initial, \u001b[38;5;28mself\u001b[39m\u001b[38;5;241m.\u001b[39m_maximum, multiplier\u001b[38;5;241m=\u001b[39m\u001b[38;5;28mself\u001b[39m\u001b[38;5;241m.\u001b[39m_multiplier\n\u001b[0;32m    292\u001b[0m )\n\u001b[1;32m--> 293\u001b[0m \u001b[38;5;28;01mreturn\u001b[39;00m \u001b[43mretry_target\u001b[49m\u001b[43m(\u001b[49m\n\u001b[0;32m    294\u001b[0m \u001b[43m    \u001b[49m\u001b[43mtarget\u001b[49m\u001b[43m,\u001b[49m\n\u001b[0;32m    295\u001b[0m \u001b[43m    \u001b[49m\u001b[38;5;28;43mself\u001b[39;49m\u001b[38;5;241;43m.\u001b[39;49m\u001b[43m_predicate\u001b[49m\u001b[43m,\u001b[49m\n\u001b[0;32m    296\u001b[0m \u001b[43m    \u001b[49m\u001b[43msleep_generator\u001b[49m\u001b[43m,\u001b[49m\n\u001b[0;32m    297\u001b[0m \u001b[43m    \u001b[49m\u001b[43mtimeout\u001b[49m\u001b[38;5;241;43m=\u001b[39;49m\u001b[38;5;28;43mself\u001b[39;49m\u001b[38;5;241;43m.\u001b[39;49m\u001b[43m_timeout\u001b[49m\u001b[43m,\u001b[49m\n\u001b[0;32m    298\u001b[0m \u001b[43m    \u001b[49m\u001b[43mon_error\u001b[49m\u001b[38;5;241;43m=\u001b[39;49m\u001b[43mon_error\u001b[49m\u001b[43m,\u001b[49m\n\u001b[0;32m    299\u001b[0m \u001b[43m\u001b[49m\u001b[43m)\u001b[49m\n",
      "File \u001b[1;32mc:\\Users\\kyanj\\anaconda3\\envs\\fyp_env\\Lib\\site-packages\\google\\api_core\\retry\\retry_unary.py:144\u001b[0m, in \u001b[0;36mretry_target\u001b[1;34m(target, predicate, sleep_generator, timeout, on_error, exception_factory, **kwargs)\u001b[0m\n\u001b[0;32m    142\u001b[0m \u001b[38;5;28;01mfor\u001b[39;00m sleep \u001b[38;5;129;01min\u001b[39;00m sleep_generator:\n\u001b[0;32m    143\u001b[0m     \u001b[38;5;28;01mtry\u001b[39;00m:\n\u001b[1;32m--> 144\u001b[0m         result \u001b[38;5;241m=\u001b[39m \u001b[43mtarget\u001b[49m\u001b[43m(\u001b[49m\u001b[43m)\u001b[49m\n\u001b[0;32m    145\u001b[0m         \u001b[38;5;28;01mif\u001b[39;00m inspect\u001b[38;5;241m.\u001b[39misawaitable(result):\n\u001b[0;32m    146\u001b[0m             warnings\u001b[38;5;241m.\u001b[39mwarn(_ASYNC_RETRY_WARNING)\n",
      "File \u001b[1;32mc:\\Users\\kyanj\\anaconda3\\envs\\fyp_env\\Lib\\site-packages\\google\\api_core\\timeout.py:120\u001b[0m, in \u001b[0;36mTimeToDeadlineTimeout.__call__.<locals>.func_with_timeout\u001b[1;34m(*args, **kwargs)\u001b[0m\n\u001b[0;32m    117\u001b[0m     \u001b[38;5;66;03m# Avoid setting negative timeout\u001b[39;00m\n\u001b[0;32m    118\u001b[0m     kwargs[\u001b[38;5;124m\"\u001b[39m\u001b[38;5;124mtimeout\u001b[39m\u001b[38;5;124m\"\u001b[39m] \u001b[38;5;241m=\u001b[39m \u001b[38;5;28mmax\u001b[39m(\u001b[38;5;241m0\u001b[39m, \u001b[38;5;28mself\u001b[39m\u001b[38;5;241m.\u001b[39m_timeout \u001b[38;5;241m-\u001b[39m time_since_first_attempt)\n\u001b[1;32m--> 120\u001b[0m \u001b[38;5;28;01mreturn\u001b[39;00m \u001b[43mfunc\u001b[49m\u001b[43m(\u001b[49m\u001b[38;5;241;43m*\u001b[39;49m\u001b[43margs\u001b[49m\u001b[43m,\u001b[49m\u001b[43m \u001b[49m\u001b[38;5;241;43m*\u001b[39;49m\u001b[38;5;241;43m*\u001b[39;49m\u001b[43mkwargs\u001b[49m\u001b[43m)\u001b[49m\n",
      "File \u001b[1;32mc:\\Users\\kyanj\\anaconda3\\envs\\fyp_env\\Lib\\site-packages\\google\\api_core\\grpc_helpers.py:76\u001b[0m, in \u001b[0;36m_wrap_unary_errors.<locals>.error_remapped_callable\u001b[1;34m(*args, **kwargs)\u001b[0m\n\u001b[0;32m     73\u001b[0m \u001b[38;5;129m@functools\u001b[39m\u001b[38;5;241m.\u001b[39mwraps(callable_)\n\u001b[0;32m     74\u001b[0m \u001b[38;5;28;01mdef\u001b[39;00m \u001b[38;5;21merror_remapped_callable\u001b[39m(\u001b[38;5;241m*\u001b[39margs, \u001b[38;5;241m*\u001b[39m\u001b[38;5;241m*\u001b[39mkwargs):\n\u001b[0;32m     75\u001b[0m     \u001b[38;5;28;01mtry\u001b[39;00m:\n\u001b[1;32m---> 76\u001b[0m         \u001b[38;5;28;01mreturn\u001b[39;00m \u001b[43mcallable_\u001b[49m\u001b[43m(\u001b[49m\u001b[38;5;241;43m*\u001b[39;49m\u001b[43margs\u001b[49m\u001b[43m,\u001b[49m\u001b[43m \u001b[49m\u001b[38;5;241;43m*\u001b[39;49m\u001b[38;5;241;43m*\u001b[39;49m\u001b[43mkwargs\u001b[49m\u001b[43m)\u001b[49m\n\u001b[0;32m     77\u001b[0m     \u001b[38;5;28;01mexcept\u001b[39;00m grpc\u001b[38;5;241m.\u001b[39mRpcError \u001b[38;5;28;01mas\u001b[39;00m exc:\n\u001b[0;32m     78\u001b[0m         \u001b[38;5;28;01mraise\u001b[39;00m exceptions\u001b[38;5;241m.\u001b[39mfrom_grpc_error(exc) \u001b[38;5;28;01mfrom\u001b[39;00m \u001b[38;5;21;01mexc\u001b[39;00m\n",
      "File \u001b[1;32mc:\\Users\\kyanj\\anaconda3\\envs\\fyp_env\\Lib\\site-packages\\grpc\\_channel.py:1178\u001b[0m, in \u001b[0;36m_UnaryUnaryMultiCallable.__call__\u001b[1;34m(self, request, timeout, metadata, credentials, wait_for_ready, compression)\u001b[0m\n\u001b[0;32m   1166\u001b[0m \u001b[38;5;28;01mdef\u001b[39;00m \u001b[38;5;21m__call__\u001b[39m(\n\u001b[0;32m   1167\u001b[0m     \u001b[38;5;28mself\u001b[39m,\n\u001b[0;32m   1168\u001b[0m     request: Any,\n\u001b[1;32m   (...)\u001b[0m\n\u001b[0;32m   1173\u001b[0m     compression: Optional[grpc\u001b[38;5;241m.\u001b[39mCompression] \u001b[38;5;241m=\u001b[39m \u001b[38;5;28;01mNone\u001b[39;00m,\n\u001b[0;32m   1174\u001b[0m ) \u001b[38;5;241m-\u001b[39m\u001b[38;5;241m>\u001b[39m Any:\n\u001b[0;32m   1175\u001b[0m     (\n\u001b[0;32m   1176\u001b[0m         state,\n\u001b[0;32m   1177\u001b[0m         call,\n\u001b[1;32m-> 1178\u001b[0m     ) \u001b[38;5;241m=\u001b[39m \u001b[38;5;28;43mself\u001b[39;49m\u001b[38;5;241;43m.\u001b[39;49m\u001b[43m_blocking\u001b[49m\u001b[43m(\u001b[49m\n\u001b[0;32m   1179\u001b[0m \u001b[43m        \u001b[49m\u001b[43mrequest\u001b[49m\u001b[43m,\u001b[49m\u001b[43m \u001b[49m\u001b[43mtimeout\u001b[49m\u001b[43m,\u001b[49m\u001b[43m \u001b[49m\u001b[43mmetadata\u001b[49m\u001b[43m,\u001b[49m\u001b[43m \u001b[49m\u001b[43mcredentials\u001b[49m\u001b[43m,\u001b[49m\u001b[43m \u001b[49m\u001b[43mwait_for_ready\u001b[49m\u001b[43m,\u001b[49m\u001b[43m \u001b[49m\u001b[43mcompression\u001b[49m\n\u001b[0;32m   1180\u001b[0m \u001b[43m    \u001b[49m\u001b[43m)\u001b[49m\n\u001b[0;32m   1181\u001b[0m     \u001b[38;5;28;01mreturn\u001b[39;00m _end_unary_response_blocking(state, call, \u001b[38;5;28;01mFalse\u001b[39;00m, \u001b[38;5;28;01mNone\u001b[39;00m)\n",
      "File \u001b[1;32mc:\\Users\\kyanj\\anaconda3\\envs\\fyp_env\\Lib\\site-packages\\grpc\\_channel.py:1162\u001b[0m, in \u001b[0;36m_UnaryUnaryMultiCallable._blocking\u001b[1;34m(self, request, timeout, metadata, credentials, wait_for_ready, compression)\u001b[0m\n\u001b[0;32m   1145\u001b[0m state\u001b[38;5;241m.\u001b[39mtarget \u001b[38;5;241m=\u001b[39m _common\u001b[38;5;241m.\u001b[39mdecode(\u001b[38;5;28mself\u001b[39m\u001b[38;5;241m.\u001b[39m_target)\n\u001b[0;32m   1146\u001b[0m call \u001b[38;5;241m=\u001b[39m \u001b[38;5;28mself\u001b[39m\u001b[38;5;241m.\u001b[39m_channel\u001b[38;5;241m.\u001b[39msegregated_call(\n\u001b[0;32m   1147\u001b[0m     cygrpc\u001b[38;5;241m.\u001b[39mPropagationConstants\u001b[38;5;241m.\u001b[39mGRPC_PROPAGATE_DEFAULTS,\n\u001b[0;32m   1148\u001b[0m     \u001b[38;5;28mself\u001b[39m\u001b[38;5;241m.\u001b[39m_method,\n\u001b[1;32m   (...)\u001b[0m\n\u001b[0;32m   1160\u001b[0m     \u001b[38;5;28mself\u001b[39m\u001b[38;5;241m.\u001b[39m_registered_call_handle,\n\u001b[0;32m   1161\u001b[0m )\n\u001b[1;32m-> 1162\u001b[0m event \u001b[38;5;241m=\u001b[39m \u001b[43mcall\u001b[49m\u001b[38;5;241;43m.\u001b[39;49m\u001b[43mnext_event\u001b[49m\u001b[43m(\u001b[49m\u001b[43m)\u001b[49m\n\u001b[0;32m   1163\u001b[0m _handle_event(event, state, \u001b[38;5;28mself\u001b[39m\u001b[38;5;241m.\u001b[39m_response_deserializer)\n\u001b[0;32m   1164\u001b[0m \u001b[38;5;28;01mreturn\u001b[39;00m state, call\n",
      "File \u001b[1;32msrc\\\\python\\\\grpcio\\\\grpc\\\\_cython\\\\_cygrpc/channel.pyx.pxi:388\u001b[0m, in \u001b[0;36mgrpc._cython.cygrpc.SegregatedCall.next_event\u001b[1;34m()\u001b[0m\n",
      "File \u001b[1;32msrc\\\\python\\\\grpcio\\\\grpc\\\\_cython\\\\_cygrpc/channel.pyx.pxi:211\u001b[0m, in \u001b[0;36mgrpc._cython.cygrpc._next_call_event\u001b[1;34m()\u001b[0m\n",
      "File \u001b[1;32msrc\\\\python\\\\grpcio\\\\grpc\\\\_cython\\\\_cygrpc/channel.pyx.pxi:205\u001b[0m, in \u001b[0;36mgrpc._cython.cygrpc._next_call_event\u001b[1;34m()\u001b[0m\n",
      "File \u001b[1;32msrc\\\\python\\\\grpcio\\\\grpc\\\\_cython\\\\_cygrpc/completion_queue.pyx.pxi:78\u001b[0m, in \u001b[0;36mgrpc._cython.cygrpc._latent_event\u001b[1;34m()\u001b[0m\n",
      "File \u001b[1;32msrc\\\\python\\\\grpcio\\\\grpc\\\\_cython\\\\_cygrpc/completion_queue.pyx.pxi:61\u001b[0m, in \u001b[0;36mgrpc._cython.cygrpc._internal_latent_event\u001b[1;34m()\u001b[0m\n",
      "File \u001b[1;32msrc\\\\python\\\\grpcio\\\\grpc\\\\_cython\\\\_cygrpc/completion_queue.pyx.pxi:42\u001b[0m, in \u001b[0;36mgrpc._cython.cygrpc._next\u001b[1;34m()\u001b[0m\n",
      "\u001b[1;31mKeyboardInterrupt\u001b[0m: "
     ]
    }
   ],
   "source": [
    "def gemini_translate(filename, model_name):   \n",
    "    predictions = []  \n",
    "    i = 0\n",
    "    with open(f\"{filename}.csv\", \"r\") as file:\n",
    "        reader = csv.reader(file)\n",
    "        next(reader)\n",
    "        for row in reader:\n",
    "            mml = repr(row[0])\n",
    "            print(mml)\n",
    "            prompt = f\"\"\"\n",
    "            You are an expert at translating MathML to Python code using the SymPy library. Translate the following MathML expression into a valid Python SymPy expression. \n",
    "            Ensure that all variables are treated as symbolic variables and each is defined separately on a new line. \n",
    "            Assume that SymPy has been imported as `from sympy import *` so DO NOT include any import statements in your output.\n",
    "            Example: \n",
    "            MathML: '<mml:mi>h</mml:mi>\\n<mml:mo>=</mml:mo>\\n<mml:mrow>\\n<mml:msub>\\n<mml:mi>h</mml:mi>\\n<mml:mi>c</mml:mi>\\n</mml:msub>\\n<mml:mo>+</mml:mo>\\n<mml:msub>\\n<mml:mi>h</mml:mi>\\n<mml:mi>g</mml:mi>\\n</mml:msub>\\n</mml:mrow>'\n",
    "            SymPy Python code: 'h = symbols('h')\\nh_g = symbols('h_g')\\nh_c = symbols('h_c')\\ne = Eq(h, h_g + h_c)'\n",
    "            \n",
    "            Now, translate the following MathML expression into Python code using SymPy.\n",
    "            MathML: {mml}\n",
    "            SymPy Python code:\n",
    "            \"\"\"\n",
    "            model = genai.GenerativeModel(model_name=model_name)\n",
    "            generation_config = GenerationConfig(temperature=0.1)\n",
    "            response = model.generate_content(prompt, generation_config=generation_config)\n",
    "            text = response.text\n",
    "            predictions.append(repr(text))\n",
    "            i += 1\n",
    "            print(f\"Generated {i} predictions\")\n",
    "    with open(f\"{filename}_predictions.txt\", \"w\") as file:\n",
    "        for pred in predictions:\n",
    "            file.write(pred + \"\\n\")\n",
    "\n",
    "def evaluate_bleu(filename, model_name):\n",
    "    gemini_translate(filename, model_name)\n",
    "\n",
    "    with open(f\"{filename}.csv\", \"r\") as file:\n",
    "        reader = csv.reader(file)\n",
    "        next(reader)\n",
    "        refs = [repr(row[1]) for row in reader]\n",
    "    with open(f\"{filename}_predictions.txt\", \"r\") as file:\n",
    "        preds = [row for row in file]\n",
    "\n",
    "    bleu = sacrebleu.corpus_bleu(preds, [refs])\n",
    "    print(f\"SacreBLEU Score: {bleu.score}\")\n",
    "\n",
    "# evaluate_bleu(\"gemini_test_1\", 'tunedModels/mmltopython1-si6b5lpywfhi')\n",
    "evaluate_bleu(\"Data/gemini_test_4\", \"tunedModels/mmltopython4-f3fuppiemnq9\")"
   ]
  }
 ],
 "metadata": {
  "kernelspec": {
   "display_name": "fyp_env",
   "language": "python",
   "name": "python3"
  },
  "language_info": {
   "codemirror_mode": {
    "name": "ipython",
    "version": 3
   },
   "file_extension": ".py",
   "mimetype": "text/x-python",
   "name": "python",
   "nbconvert_exporter": "python",
   "pygments_lexer": "ipython3",
   "version": "3.11.10"
  }
 },
 "nbformat": 4,
 "nbformat_minor": 2
}
