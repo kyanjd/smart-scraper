{
 "cells": [
  {
   "cell_type": "code",
   "execution_count": 10,
   "metadata": {},
   "outputs": [],
   "source": [
    "from src.paper_to_equation.Scraping.Scraper import Scraper\n",
    "import requests\n",
    "import os"
   ]
  },
  {
   "cell_type": "code",
   "execution_count": 12,
   "metadata": {},
   "outputs": [
    {
     "name": "stdout",
     "output_type": "stream",
     "text": [
      "Request successful \n",
      "\n",
      "<full-text-retrieval-response xmlns=\"http://www.elsevier.com/xml/svapi/article/dtd\" xmlns:bk=\"http://www.elsevier.com/xml/bk/dtd\" xmlns:cals=\"http://www.elsevier.com/xml/common/cals/dtd\" xmlns:ce=\"http://www.elsevier.com/xml/common/dtd\" xmlns:ja=\"http://www.elsevier.com/xml/ja/dtd\" xmlns:mml=\"http://www.w3.org/1998/Math/MathML\" xmlns:sa=\"http://www.elsevier.com/xml/common/struct-aff/dtd\" xmlns:sb=\"http://www.elsevier.com/xml/common/struct-bib/dtd\" xmlns:tb=\"http://www.elsevier.com/xml/common/table/dtd\" xmlns:xlink=\"http://www.w3.org/1999/xlink\" xmlns:xocs=\"http://www.elsevier.com/xml/xocs/dtd\" xmlns:dc=\"http://purl.org/dc/elements/1.1/\" xmlns:dcterms=\"http://purl.org/dc/terms/\" xmlns:prism=\"http://prismstandard.org/namespaces/basic/2.0/\" xmlns:xsi=\"http://www.w3.org/2001/XMLSchema-instance\"><coredata><prism:url>https://api.elsevier.com/content/article/pii/S0924013617301334</prism:url><dc:identifier>doi:10.1016/j.jmatprotec.2017.04.005</dc:identifier><eid>1-s2.0-S0924013617301334</eid><prism:doi>10.1016/j.jmatprotec.2017.04.005</prism:doi><pii>S0924-0136(17)30133-4</pii><dc:title>Determination of the interfacial heat transfer coefficient for a hot aluminium stamping process </dc:title><prism:publicationName>Journal of Materials Processing Technology</prism:publicationName><prism:aggregationType>Journal</prism:aggregationType><pubType>fla</pubType><prism:issn>09240136</prism:issn><prism:volume>247</prism:volume><prism:startingPage>158</prism:startingPage><prism:endingPage>170</prism:endingPage><prism:pageRange>158-170</prism:pageRange><dc:format>text/xml</dc:format><prism:coverDate>2017-09-30</prism:coverDate><prism:coverDisplayDate>September 2017</prism:coverDisplayDate><prism:copyright>© 2017 Elsevier B.V. All rights reserved.</prism:copyright><prism:publisher>Elsevier B.V.</prism:publisher><dc:creator>Liu, Xiaochuan</dc:creator><dc:creator>Ji, Kang</dc:creator><dc:creator>Fakir, Omer El</dc:creator><dc:creator>Fang, Haomiao</dc:creator><dc:creator>Gharbi, Mohammad M.</dc:creator><dc:creator>Wang, LiLiang</dc:creator><dc:description>\n",
      "                  The interfacial heat transfer coefficient (IHTC) is an important thermophysical parameter in hot stamping processes and must be identified not only to retain the full mechanical strength of formed components, but also to optimise the production rate. In this work, a novel experimental facility was developed and applied to measure the temperature evolutions of the specimens and tools in stamping processes. Simulated temperature evolutions obtained using the FE software PAM-STAMP were then fit to this data. The IHTC values between AA7075 and three different tool materials were characterized at different contact pressures under both dry and lubricated conditions. In addition, a mechanism based IHTC model was developed and validated as a function of contact pressure, tool material and lubricant thickness to predict the IHTC values under different conditions.\n",
      "               </dc:description><openaccess>0</openaccess><openaccessArticle>false</openaccessArticle><openaccessType/><openArchiveArticle>false</openArchiveArticle><openaccessSponsorName/><openaccessSponsorType/><openaccessUserLicense/><dcterms:subject>Interfacial heat transfer coefficient (IHTC)</dcterms:subject><dcterms:subject>Hot aluminum stamping</dcterms:subject><dcterms:subject>AA7075</dcterms:subject><dcterms:subject>IHTC test facility</dcterms:subject><link href=\"https://api.elsevier.com/content/article/pii/S0924013617301334\" rel=\"self\"/><link href=\"https://www.sciencedirect.com/science/article/pii/S0924013617301334\" rel=\"scidir\"/></coredata><scopus-id>85018318898</scopus-id><scopus-eid>2-s2.0-85018318898</scopus-eid><link href=\"https://api.elsevier.com/content/abstract/scopus_id/85018318898\" rel=\"abstract\"/><originalText><xocs:doc><xocs:meta><xocs:open-access xmlns:xocs=\"http://www.elsevier.com/xml/xocs/dtd\"\n",
      "                  xmlns:xsi=\"http://www.w3.org/2001/XMLSchema-instance\"\n",
      "                  xmlns:xoe=\"http://www.elsevier.com/xml/xoe/dtd\">\n",
      "   <xocs:oa-article-status is-open-access=\"0\" is-open-archive=\"0\"/>\n",
      "</xocs:open-access><xocs:available-online-date xmlns:xoe=\"http://www.elsevier.com/xml/xoe/dtd\" yyyymmdd=\"20170408\">2017-04-08</xocs:available-online-date></xocs:meta></xocs:doc></originalText></full-text-retrieval-response>\n"
     ]
    }
   ],
   "source": [
    "doi = \"10.1016/j.jmatprotec.2017.04.005\"\n",
    "api_key = os.getenv(\"ELSEVIER_API_KEY\")\n",
    "scraper = Scraper(doi, api_key)\n",
    "scraper.make_request()\n",
    "print(scraper.full_text)"
   ]
  },
  {
   "cell_type": "code",
   "execution_count": 14,
   "metadata": {},
   "outputs": [
    {
     "name": "stdout",
     "output_type": "stream",
     "text": [
      "Request successful \n",
      "\n"
     ]
    },
    {
     "ename": "Exception",
     "evalue": "No equations found. Ensure your WiFi account is verified with Elsevier.",
     "output_type": "error",
     "traceback": [
      "\u001b[1;31m---------------------------------------------------------------------------\u001b[0m",
      "\u001b[1;31mException\u001b[0m                                 Traceback (most recent call last)",
      "Cell \u001b[1;32mIn[14], line 7\u001b[0m\n\u001b[0;32m      4\u001b[0m     scraper \u001b[38;5;241m=\u001b[39m Scraper(doi, api_key)\n\u001b[0;32m      5\u001b[0m     mathml_dict, const_dict \u001b[38;5;241m=\u001b[39m scraper\u001b[38;5;241m.\u001b[39mscrape()\n\u001b[1;32m----> 7\u001b[0m test()\n",
      "Cell \u001b[1;32mIn[14], line 5\u001b[0m, in \u001b[0;36mtest\u001b[1;34m()\u001b[0m\n\u001b[0;32m      3\u001b[0m api_key \u001b[38;5;241m=\u001b[39m os\u001b[38;5;241m.\u001b[39mgetenv(\u001b[38;5;124m\"\u001b[39m\u001b[38;5;124mELSEVIER_API_KEY\u001b[39m\u001b[38;5;124m\"\u001b[39m)\n\u001b[0;32m      4\u001b[0m scraper \u001b[38;5;241m=\u001b[39m Scraper(doi, api_key)\n\u001b[1;32m----> 5\u001b[0m mathml_dict, const_dict \u001b[38;5;241m=\u001b[39m scraper\u001b[38;5;241m.\u001b[39mscrape()\n",
      "File \u001b[1;32m~\\Documents\\Repos\\smart-scraper\\src\\paper_to_equation\\Scraping\\Scraper.py:156\u001b[0m, in \u001b[0;36mScraper.scrape\u001b[1;34m(self, filepath)\u001b[0m\n\u001b[0;32m    154\u001b[0m mathml_dict \u001b[38;5;241m=\u001b[39m \u001b[38;5;28mself\u001b[39m\u001b[38;5;241m.\u001b[39mfind_equations()\n\u001b[0;32m    155\u001b[0m \u001b[38;5;28;01mif\u001b[39;00m \u001b[38;5;129;01mnot\u001b[39;00m mathml_dict:\n\u001b[1;32m--> 156\u001b[0m     \u001b[38;5;28;01mraise\u001b[39;00m \u001b[38;5;167;01mException\u001b[39;00m(\u001b[38;5;124m\"\u001b[39m\u001b[38;5;124mNo equations found. Ensure your WiFi account is verified with Elsevier.\u001b[39m\u001b[38;5;124m\"\u001b[39m)\n\u001b[0;32m    157\u001b[0m const_dict \u001b[38;5;241m=\u001b[39m \u001b[38;5;28mself\u001b[39m\u001b[38;5;241m.\u001b[39mfind_constants()\n\u001b[0;32m    159\u001b[0m \u001b[38;5;28;01mif\u001b[39;00m filepath:\n",
      "\u001b[1;31mException\u001b[0m: No equations found. Ensure your WiFi account is verified with Elsevier."
     ]
    }
   ],
   "source": [
    "def test():\n",
    "    doi = \"10.1016/j.jmatprotec.2017.04.005\"\n",
    "    api_key = os.getenv(\"ELSEVIER_API_KEY\")\n",
    "    scraper = Scraper(doi, api_key)\n",
    "    mathml_dict, const_dict = scraper.scrape()\n",
    "\n",
    "test()"
   ]
  }
 ],
 "metadata": {
  "kernelspec": {
   "display_name": "fyp_env",
   "language": "python",
   "name": "python3"
  },
  "language_info": {
   "codemirror_mode": {
    "name": "ipython",
    "version": 3
   },
   "file_extension": ".py",
   "mimetype": "text/x-python",
   "name": "python",
   "nbconvert_exporter": "python",
   "pygments_lexer": "ipython3",
   "version": "3.11.10"
  }
 },
 "nbformat": 4,
 "nbformat_minor": 2
}
