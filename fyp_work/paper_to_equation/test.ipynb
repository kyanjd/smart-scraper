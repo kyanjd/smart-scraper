{
 "cells": [
  {
   "cell_type": "code",
   "execution_count": 1,
   "metadata": {},
   "outputs": [],
   "source": [
    "from Gemini.GeminiPredict import GeminiPredict\n",
    "from Generation.Equation_BaseDataset import Equation, BaseDataset\n",
    "# from Postprocessing.\n",
    "from Scraping.Scraper import Scraper\n",
    "\n",
    "import os\n",
    "import google.generativeai as genai"
   ]
  },
  {
   "cell_type": "markdown",
   "metadata": {},
   "source": [
    "### Gemini"
   ]
  },
  {
   "cell_type": "code",
   "execution_count": 2,
   "metadata": {},
   "outputs": [
    {
     "name": "stdout",
     "output_type": "stream",
     "text": [
      "API key loaded successfully!\n"
     ]
    },
    {
     "name": "stderr",
     "output_type": "stream",
     "text": [
      "Generating Predictions:   0%|          | 0/13 [00:00<?, ?row/s]"
     ]
    },
    {
     "name": "stdout",
     "output_type": "stream",
     "text": [
      "'<mml:mrow>\\n<mml:mi>h</mml:mi>\\n<mml:mo>=</mml:mo>\\n<mml:msub>\\n<mml:mi>h</mml:mi>\\n<mml:mi>g</mml:mi>\\n</mml:msub>\\n<mml:mo>+</mml:mo>\\n<mml:msub>\\n<mml:mi>h</mml:mi>\\n<mml:mi>c</mml:mi>\\n</mml:msub>\\n</mml:mrow>'\n",
      "\n"
     ]
    },
    {
     "name": "stderr",
     "output_type": "stream",
     "text": [
      "Generating Predictions:   8%|▊         | 1/13 [00:01<00:15,  1.33s/row]"
     ]
    },
    {
     "name": "stdout",
     "output_type": "stream",
     "text": [
      "'<mml:mrow>\\n<mml:mi>h</mml:mi>\\n<mml:mo>=</mml:mo>\\n<mml:mn>1.45</mml:mn>\\n<mml:mi>k</mml:mi>\\n<mml:mfrac>\\n<mml:mrow>\\n<mml:mi>tan</mml:mi>\\n<mml:mi>θ</mml:mi>\\n</mml:mrow>\\n<mml:mi>σ</mml:mi>\\n</mml:mfrac>\\n<mml:msup>\\n<mml:mrow>\\n<mml:mo stretchy=\"false\">(</mml:mo>\\n<mml:mfrac>\\n<mml:mi>p</mml:mi>\\n<mml:mi>H</mml:mi>\\n</mml:mfrac>\\n<mml:mo stretchy=\"false\">)</mml:mo>\\n</mml:mrow>\\n<mml:mrow>\\n<mml:mn>0.985</mml:mn>\\n</mml:mrow>\\n</mml:msup>\\n</mml:mrow>'\n",
      "\n"
     ]
    },
    {
     "name": "stderr",
     "output_type": "stream",
     "text": [
      "Generating Predictions:  15%|█▌        | 2/13 [00:02<00:13,  1.27s/row]"
     ]
    },
    {
     "name": "stdout",
     "output_type": "stream",
     "text": [
      "'<mml:mrow>\\n<mml:mi>h</mml:mi>\\n<mml:mo>=</mml:mo>\\n<mml:mn>8000</mml:mn>\\n<mml:mstyle displaystyle=\"true\">\\n<mml:mover accent=\"true\">\\n<mml:mi>λ</mml:mi>\\n<mml:mo stretchy=\"true\">¯</mml:mo>\\n</mml:mover>\\n</mml:mstyle>\\n<mml:msup>\\n<mml:mrow>\\n<mml:mo stretchy=\"false\">(</mml:mo>\\n<mml:mfrac>\\n<mml:mi>p</mml:mi>\\n<mml:mrow>\\n<mml:mi>C</mml:mi>\\n<mml:msub>\\n<mml:mi>σ</mml:mi>\\n<mml:mi>U</mml:mi>\\n</mml:msub>\\n</mml:mrow>\\n</mml:mfrac>\\n<mml:mi>K</mml:mi>\\n<mml:mo stretchy=\"false\">)</mml:mo>\\n</mml:mrow>\\n<mml:mrow>\\n<mml:mn>0.86</mml:mn>\\n</mml:mrow>\\n</mml:msup>\\n</mml:mrow>'\n",
      "\n"
     ]
    },
    {
     "name": "stderr",
     "output_type": "stream",
     "text": [
      "Generating Predictions:  23%|██▎       | 3/13 [00:03<00:12,  1.26s/row]"
     ]
    },
    {
     "name": "stdout",
     "output_type": "stream",
     "text": [
      "'<mml:mrow>\\n<mml:mi>h</mml:mi>\\n<mml:mo>=</mml:mo>\\n<mml:mi>A</mml:mi>\\n<mml:mo stretchy=\"false\">(</mml:mo>\\n<mml:mn>1</mml:mn>\\n<mml:mo>−</mml:mo>\\n<mml:mi>exp</mml:mi>\\n<mml:mo stretchy=\"false\">(</mml:mo>\\n<mml:mo>−</mml:mo>\\n<mml:mi>B</mml:mi>\\n<mml:mi>P</mml:mi>\\n<mml:mo stretchy=\"false\">)</mml:mo>\\n<mml:mo stretchy=\"false\">)</mml:mo>\\n</mml:mrow>'\n",
      "\n"
     ]
    },
    {
     "name": "stderr",
     "output_type": "stream",
     "text": [
      "Generating Predictions:  31%|███       | 4/13 [00:05<00:14,  1.58s/row]"
     ]
    },
    {
     "name": "stdout",
     "output_type": "stream",
     "text": [
      "'<mml:mrow>\\n<mml:mi>h</mml:mi>\\n<mml:mo>=</mml:mo>\\n<mml:mfrac>\\n<mml:mrow>\\n<mml:mn>1</mml:mn>\\n<mml:mo>−</mml:mo>\\n<mml:mi>A</mml:mi>\\n</mml:mrow>\\n<mml:mrow>\\n<mml:msub>\\n<mml:mi>h</mml:mi>\\n<mml:mi>f</mml:mi>\\n</mml:msub>\\n</mml:mrow>\\n</mml:mfrac>\\n<mml:mfrac>\\n<mml:mrow>\\n<mml:mn>2</mml:mn>\\n<mml:msub>\\n<mml:mi>k</mml:mi>\\n<mml:mi>f</mml:mi>\\n</mml:msub>\\n<mml:msub>\\n<mml:mi>k</mml:mi>\\n<mml:mi>t</mml:mi>\\n</mml:msub>\\n<mml:msub>\\n<mml:mi>k</mml:mi>\\n<mml:mi>w</mml:mi>\\n</mml:msub>\\n</mml:mrow>\\n<mml:mrow>\\n<mml:mn>2</mml:mn>\\n<mml:msub>\\n<mml:mi>k</mml:mi>\\n<mml:mi>t</mml:mi>\\n</mml:msub>\\n<mml:msub>\\n<mml:mi>k</mml:mi>\\n<mml:mi>w</mml:mi>\\n</mml:msub>\\n<mml:mo>−</mml:mo>\\n<mml:msub>\\n<mml:mi>k</mml:mi>\\n<mml:mi>w</mml:mi>\\n</mml:msub>\\n<mml:msub>\\n<mml:mi>k</mml:mi>\\n<mml:mi>f</mml:mi>\\n</mml:msub>\\n<mml:mo>−</mml:mo>\\n<mml:msub>\\n<mml:mi>k</mml:mi>\\n<mml:mi>f</mml:mi>\\n</mml:msub>\\n<mml:msub>\\n<mml:mi>k</mml:mi>\\n<mml:mi>t</mml:mi>\\n</mml:msub>\\n</mml:mrow>\\n</mml:mfrac>\\n</mml:mrow>'\n",
      "\n"
     ]
    },
    {
     "name": "stderr",
     "output_type": "stream",
     "text": [
      "Generating Predictions:  38%|███▊      | 5/13 [00:07<00:11,  1.44s/row]"
     ]
    },
    {
     "name": "stdout",
     "output_type": "stream",
     "text": [
      "'<mml:mrow>\\n<mml:mi>h</mml:mi>\\n<mml:mo>=</mml:mo>\\n<mml:msub>\\n<mml:mi>h</mml:mi>\\n<mml:mi>a</mml:mi>\\n</mml:msub>\\n<mml:mo>+</mml:mo>\\n<mml:msub>\\n<mml:mi>h</mml:mi>\\n<mml:mi>c</mml:mi>\\n</mml:msub>\\n<mml:mo>+</mml:mo>\\n<mml:msub>\\n<mml:mi>h</mml:mi>\\n<mml:mi>l</mml:mi>\\n</mml:msub>\\n</mml:mrow>'\n",
      "\n"
     ]
    },
    {
     "name": "stderr",
     "output_type": "stream",
     "text": [
      "Generating Predictions:  46%|████▌     | 6/13 [00:08<00:08,  1.27s/row]"
     ]
    },
    {
     "name": "stdout",
     "output_type": "stream",
     "text": [
      "'<mml:mrow>\\n<mml:msub>\\n<mml:mi>h</mml:mi>\\n<mml:mi>c</mml:mi>\\n</mml:msub>\\n<mml:mo>=</mml:mo>\\n<mml:mi>α</mml:mi>\\n<mml:mfrac>\\n<mml:mrow>\\n<mml:msub>\\n<mml:mi>K</mml:mi>\\n<mml:mrow>\\n<mml:mi>s</mml:mi>\\n<mml:mi>t</mml:mi>\\n</mml:mrow>\\n</mml:msub>\\n<mml:msub>\\n<mml:mi>N</mml:mi>\\n<mml:mi>P</mml:mi>\\n</mml:msub>\\n</mml:mrow>\\n<mml:mi>R</mml:mi>\\n</mml:mfrac>\\n</mml:mrow>'\n",
      "\n"
     ]
    },
    {
     "name": "stderr",
     "output_type": "stream",
     "text": [
      "Generating Predictions:  54%|█████▍    | 7/13 [00:09<00:07,  1.22s/row]"
     ]
    },
    {
     "name": "stdout",
     "output_type": "stream",
     "text": [
      "'<mml:mrow>\\n<mml:msub>\\n<mml:mi>K</mml:mi>\\n<mml:mrow>\\n<mml:mi>s</mml:mi>\\n<mml:mi>t</mml:mi>\\n</mml:mrow>\\n</mml:msub>\\n<mml:mo>=</mml:mo>\\n<mml:mfrac>\\n<mml:mn>2</mml:mn>\\n<mml:mrow>\\n<mml:msup>\\n<mml:mrow>\\n<mml:msub>\\n<mml:mi>k</mml:mi>\\n<mml:mi>s</mml:mi>\\n</mml:msub>\\n</mml:mrow>\\n<mml:mrow>\\n<mml:mo>−</mml:mo>\\n<mml:mn>1</mml:mn>\\n</mml:mrow>\\n</mml:msup>\\n<mml:mo>+</mml:mo>\\n<mml:msup>\\n<mml:mrow>\\n<mml:msub>\\n<mml:mi>k</mml:mi>\\n<mml:mi>t</mml:mi>\\n</mml:msub>\\n</mml:mrow>\\n<mml:mrow>\\n<mml:mo>−</mml:mo>\\n<mml:mn>1</mml:mn>\\n</mml:mrow>\\n</mml:msup>\\n</mml:mrow>\\n</mml:mfrac>\\n</mml:mrow>'\n",
      "\n"
     ]
    },
    {
     "name": "stderr",
     "output_type": "stream",
     "text": [
      "Generating Predictions:  62%|██████▏   | 8/13 [00:10<00:05,  1.14s/row]"
     ]
    },
    {
     "name": "stdout",
     "output_type": "stream",
     "text": [
      "'<mml:mrow>\\n<mml:mi>R</mml:mi>\\n<mml:mo>=</mml:mo>\\n<mml:msqrt>\\n<mml:mrow>\\n<mml:msup>\\n<mml:mrow>\\n<mml:msub>\\n<mml:mi>R</mml:mi>\\n<mml:mi>s</mml:mi>\\n</mml:msub>\\n</mml:mrow>\\n<mml:mn>2</mml:mn>\\n</mml:msup>\\n<mml:mo>+</mml:mo>\\n<mml:msup>\\n<mml:mrow>\\n<mml:msub>\\n<mml:mi>R</mml:mi>\\n<mml:mi>t</mml:mi>\\n</mml:msub>\\n</mml:mrow>\\n<mml:mn>2</mml:mn>\\n</mml:msup>\\n</mml:mrow>\\n</mml:msqrt>\\n</mml:mrow>'\n",
      "\n"
     ]
    },
    {
     "name": "stderr",
     "output_type": "stream",
     "text": [
      "Generating Predictions:  69%|██████▉   | 9/13 [00:11<00:04,  1.09s/row]"
     ]
    },
    {
     "name": "stdout",
     "output_type": "stream",
     "text": [
      "'<mml:mrow>\\n<mml:msub>\\n<mml:mi>N</mml:mi>\\n<mml:mi>P</mml:mi>\\n</mml:msub>\\n<mml:mo>=</mml:mo>\\n<mml:mn>1</mml:mn>\\n<mml:mo>−</mml:mo>\\n<mml:mi>exp</mml:mi>\\n<mml:mo stretchy=\"false\">(</mml:mo>\\n<mml:mo>−</mml:mo>\\n<mml:mi>λ</mml:mi>\\n<mml:mfrac>\\n<mml:mi>P</mml:mi>\\n<mml:mrow>\\n<mml:msub>\\n<mml:mi>σ</mml:mi>\\n<mml:mi>U</mml:mi>\\n</mml:msub>\\n</mml:mrow>\\n</mml:mfrac>\\n<mml:mo stretchy=\"false\">)</mml:mo>\\n</mml:mrow>'\n",
      "\n"
     ]
    },
    {
     "name": "stderr",
     "output_type": "stream",
     "text": [
      "Generating Predictions:  77%|███████▋  | 10/13 [00:12<00:03,  1.11s/row]"
     ]
    },
    {
     "name": "stdout",
     "output_type": "stream",
     "text": [
      "'<mml:mrow>\\n<mml:msub>\\n<mml:mi>h</mml:mi>\\n<mml:mi>l</mml:mi>\\n</mml:msub>\\n<mml:mo>=</mml:mo>\\n<mml:mi>β</mml:mi>\\n<mml:mfrac>\\n<mml:mrow>\\n<mml:msub>\\n<mml:mi>K</mml:mi>\\n<mml:mrow>\\n<mml:mi>s</mml:mi>\\n<mml:mi>t</mml:mi>\\n<mml:mi>l</mml:mi>\\n</mml:mrow>\\n</mml:msub>\\n<mml:msub>\\n<mml:mi>N</mml:mi>\\n<mml:mi>L</mml:mi>\\n</mml:msub>\\n</mml:mrow>\\n<mml:mi>R</mml:mi>\\n</mml:mfrac>\\n</mml:mrow>'\n",
      "\n"
     ]
    },
    {
     "name": "stderr",
     "output_type": "stream",
     "text": [
      "Generating Predictions:  85%|████████▍ | 11/13 [00:13<00:02,  1.13s/row]"
     ]
    },
    {
     "name": "stdout",
     "output_type": "stream",
     "text": [
      "'<mml:mrow>\\n<mml:msub>\\n<mml:mi>K</mml:mi>\\n<mml:mrow>\\n<mml:mi>s</mml:mi>\\n<mml:mi>t</mml:mi>\\n<mml:mi>l</mml:mi>\\n</mml:mrow>\\n</mml:msub>\\n<mml:mo>=</mml:mo>\\n<mml:mfrac>\\n<mml:mn>3</mml:mn>\\n<mml:mrow>\\n<mml:msup>\\n<mml:mrow>\\n<mml:msub>\\n<mml:mi>k</mml:mi>\\n<mml:mi>s</mml:mi>\\n</mml:msub>\\n</mml:mrow>\\n<mml:mrow>\\n<mml:mo>−</mml:mo>\\n<mml:mn>1</mml:mn>\\n</mml:mrow>\\n</mml:msup>\\n<mml:mo>+</mml:mo>\\n<mml:msup>\\n<mml:mrow>\\n<mml:msub>\\n<mml:mi>k</mml:mi>\\n<mml:mi>t</mml:mi>\\n</mml:msub>\\n</mml:mrow>\\n<mml:mrow>\\n<mml:mo>−</mml:mo>\\n<mml:mn>1</mml:mn>\\n</mml:mrow>\\n</mml:msup>\\n<mml:mo>+</mml:mo>\\n<mml:msup>\\n<mml:mrow>\\n<mml:msub>\\n<mml:mi>k</mml:mi>\\n<mml:mi>l</mml:mi>\\n</mml:msub>\\n</mml:mrow>\\n<mml:mrow>\\n<mml:mo>−</mml:mo>\\n<mml:mn>1</mml:mn>\\n</mml:mrow>\\n</mml:msup>\\n</mml:mrow>\\n</mml:mfrac>\\n</mml:mrow>'\n",
      "\n"
     ]
    },
    {
     "name": "stderr",
     "output_type": "stream",
     "text": [
      "Generating Predictions:  92%|█████████▏| 12/13 [00:14<00:01,  1.09s/row]"
     ]
    },
    {
     "name": "stdout",
     "output_type": "stream",
     "text": [
      "'<mml:mrow>\\n<mml:msub>\\n<mml:mi>N</mml:mi>\\n<mml:mi>L</mml:mi>\\n</mml:msub>\\n<mml:mo>=</mml:mo>\\n<mml:mn>1</mml:mn>\\n<mml:mo>−</mml:mo>\\n<mml:mi>exp</mml:mi>\\n<mml:mo stretchy=\"false\">(</mml:mo>\\n<mml:mo>−</mml:mo>\\n<mml:mi>γ</mml:mi>\\n<mml:mi>δ</mml:mi>\\n<mml:mo stretchy=\"false\">)</mml:mo>\\n</mml:mrow>'\n",
      "\n"
     ]
    },
    {
     "name": "stderr",
     "output_type": "stream",
     "text": [
      "Generating Predictions: 100%|██████████| 13/13 [00:15<00:00,  1.19s/row]"
     ]
    },
    {
     "name": "stdout",
     "output_type": "stream",
     "text": [
      "\"h = Symbol('h')\\nh_g = Symbol('h_g')\\nh_c = Symbol('h_c')\\ne = Eq(h, h_g + h_c)\"\n"
     ]
    },
    {
     "name": "stderr",
     "output_type": "stream",
     "text": [
      "\n"
     ]
    }
   ],
   "source": [
    "api_key = os.getenv(\"GEMINI_API_KEY\")\n",
    "gp = GeminiPredict(api_key, \"Data/HTC_equations.txt\", \"tunedModels/mmltopython4-f3fuppiemnq9\")\n",
    "gp.predict_from_txt()\n",
    "print(gp.predictions[0])"
   ]
  },
  {
   "cell_type": "code",
   "execution_count": 3,
   "metadata": {},
   "outputs": [],
   "source": [
    "gp.save_predictions()\n",
    "# for model in genai.list_tuned_models():\n",
    "#     print(model.name)"
   ]
  },
  {
   "cell_type": "markdown",
   "metadata": {},
   "source": [
    "### Generation"
   ]
  },
  {
   "cell_type": "code",
   "execution_count": null,
   "metadata": {},
   "outputs": [],
   "source": [
    "eq = Equation()\n"
   ]
  },
  {
   "cell_type": "code",
   "execution_count": 4,
   "metadata": {},
   "outputs": [
    {
     "name": "stderr",
     "output_type": "stream",
     "text": [
      "Generating dataset: 100%|██████████| 50/50 [00:00<00:00, 66.17it/s]\n"
     ]
    }
   ],
   "source": [
    "class GeminiDataset(BaseDataset):\n",
    "    def __init__(self, num, filepath):\n",
    "        super().__init__(num, filepath)\n",
    "\n",
    "    def get_columns(self):\n",
    "        return [\"text_input\", \"output\"]\n",
    "    \n",
    "gd = GeminiDataset(50, \"Data/gemini_test_4.csv\")\n",
    "gd.create()"
   ]
  },
  {
   "cell_type": "markdown",
   "metadata": {},
   "source": [
    "### Postprocessing"
   ]
  },
  {
   "cell_type": "code",
   "execution_count": null,
   "metadata": {},
   "outputs": [],
   "source": []
  },
  {
   "cell_type": "markdown",
   "metadata": {},
   "source": [
    "### Scraping"
   ]
  },
  {
   "cell_type": "code",
   "execution_count": null,
   "metadata": {},
   "outputs": [],
   "source": [
    "sc = Scraper()"
   ]
  },
  {
   "cell_type": "markdown",
   "metadata": {},
   "source": [
    "### Pseudo Main\n",
    "\n",
    "- choose DOI to scrape from\n",
    "- use Scraper class to get MathML equations from paper and save to a txt file\n",
    "- (also scrape tables for constants and save)\n",
    "- LLMPredict class takes in MathML and constant files\n",
    "- predicts python\n",
    "\n"
   ]
  }
 ],
 "metadata": {
  "kernelspec": {
   "display_name": "fyp_env",
   "language": "python",
   "name": "python3"
  },
  "language_info": {
   "codemirror_mode": {
    "name": "ipython",
    "version": 3
   },
   "file_extension": ".py",
   "mimetype": "text/x-python",
   "name": "python",
   "nbconvert_exporter": "python",
   "pygments_lexer": "ipython3",
   "version": "3.11.10"
  }
 },
 "nbformat": 4,
 "nbformat_minor": 2
}
