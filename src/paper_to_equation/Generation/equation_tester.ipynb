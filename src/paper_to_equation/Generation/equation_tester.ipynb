{
 "cells": [
  {
   "cell_type": "code",
   "execution_count": 2,
   "metadata": {},
   "outputs": [
    {
     "name": "stdout",
     "output_type": "stream",
     "text": [
      "A*P**k3*b*v**k1*Integral(h(t), (t, 0, t))/η**k2\n"
     ]
    }
   ],
   "source": [
    "import numpy as np\n",
    "import sympy\n",
    "from sympy import *\n",
    "\n",
    "# Define variables\n",
    "t, A, b, P, v, η, h, k1, k2, k3 = symbols('t A b P v η h k1 k2 k3')\n",
    "\n",
    "# Define h as a symbolic function of t\n",
    "h = Function('h')\n",
    "\n",
    "# Perform the integral\n",
    "ΔV = integrate(A * b * (P**k3 * v**k1) / (η**k2) * h(t), (t, 0, t))\n",
    "print(ΔV)"
   ]
  },
  {
   "cell_type": "code",
   "execution_count": 4,
   "metadata": {},
   "outputs": [
    {
     "name": "stdout",
     "output_type": "stream",
     "text": [
      "6\n"
     ]
    }
   ],
   "source": [
    "equation = \"\"\"\n",
    "h = symbols('h')\n",
    "h_g = symbols('h_g')\n",
    "h_c = symbols('h_c')\n",
    "e = Eq(h, h_g + h_c)\"\"\"\n",
    "\n",
    "# equation = \"h = Symbol('h')\\nh_g = Symbol('h_g')\\nh_c = Symbol('h_c')\\ne = Eq(h, h_g + h_c)\"\n",
    "# exec(equation)\n",
    "exec(\"h = Symbol('h')\\nh_g = Symbol('h_g')\\nh_c = Symbol('h_c')\\ne = Eq(h, h_g + h_c)\")\n",
    "\n",
    "result = e.subs({h_g: 2, h_c: 4})\n",
    "print(result.rhs)"
   ]
  },
  {
   "cell_type": "code",
   "execution_count": null,
   "metadata": {},
   "outputs": [],
   "source": [
    "equation = \"Ρ = symbols('Ρ')\\nλ_u = symbols('λ_u')\\ni = symbols('i')\\ne = Eq(tan(Ρ), -λ_u + log(i))\"\n",
    "\n",
    "exec(equation)\n",
    "\n",
    "result = e.subs({P: 2, λ_u: 4, i: 20})\n",
    "print(result.rhs)"
   ]
  }
 ],
 "metadata": {
  "kernelspec": {
   "display_name": "fyp_env",
   "language": "python",
   "name": "python3"
  },
  "language_info": {
   "codemirror_mode": {
    "name": "ipython",
    "version": 3
   },
   "file_extension": ".py",
   "mimetype": "text/x-python",
   "name": "python",
   "nbconvert_exporter": "python",
   "pygments_lexer": "ipython3",
   "version": "3.11.10"
  }
 },
 "nbformat": 4,
 "nbformat_minor": 2
}
