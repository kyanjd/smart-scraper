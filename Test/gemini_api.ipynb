{
 "cells": [
  {
   "cell_type": "code",
   "execution_count": 10,
   "metadata": {},
   "outputs": [],
   "source": [
    "import google.generativeai as ai\n",
    "import os"
   ]
  },
  {
   "cell_type": "code",
   "execution_count": 11,
   "metadata": {},
   "outputs": [
    {
     "name": "stdout",
     "output_type": "stream",
     "text": [
      "API key loaded successfully!\n"
     ]
    }
   ],
   "source": [
    "api_key = os.getenv(\"API_KEY\")  # Returns None if the variable is not set\n",
    "# Check if the API key is loaded correctly\n",
    "if api_key:\n",
    "    print(\"API key loaded successfully!\")\n",
    "else:\n",
    "    print(\"API key not found. Please ensure it is set as an environment variable.\")\n",
    "\n",
    "ai.configure(api_key=api_key)\n",
    "model = ai.GenerativeModel(\"gemini-1.5-flash\")"
   ]
  },
  {
   "cell_type": "code",
   "execution_count": null,
   "metadata": {},
   "outputs": [],
   "source": [
    "ultramanb = ai.upload_file(\"Testing_Report__Version_1374_.pdf\")\n",
    "response = model.generate_content([\"Use the pdf as context and confirm that it has been read by returning the word 'Done'. Then, summarise the document and recommend some improvements to the ultraman system to increase accuracy\", ultramanb])\n",
    "print(response.text)"
   ]
  },
  {
   "cell_type": "markdown",
   "metadata": {},
   "source": [
    "Done.\n",
    "\n",
    "Here is a summary of the provided document and some recommendations for improving the Ultraman system's accuracy:\n",
    "\n",
    "**Summary:**\n",
    "\n",
    "The document details the design, construction, and testing of \"Ultraman,\" a robotic system for automated tribological testing in metal forming.  The system aims to improve accuracy and efficiency compared to existing manual methods. Ultraman consists of three sub-assemblies:\n",
    "\n",
    "1.  **Structure & Heating:** A robust test frame with an integrated heater to simulate hot stamping conditions.\n",
    "2.  **Transmission & Robotics:** A UR10 robotic arm integrated with a pneumatic strip feeder for precise sample handling.\n",
    "3.  **Functional Blocks:** Modules for pin sample handling, grinding, and lubrication.\n",
    "\n",
    "The system uses a Python-based control system with integration of URscript and Arduino to automate the testing process.  Testing showed that the system met many of its key requirements, notably achieving improved accuracy in sample feeding.  However, some challenges were encountered, including issues with force control, achieving fully autonomous operation, and enhancing the feeding mechanism.  The project exceeded its budget by 17%, justified by its innovative nature.\n",
    "\n",
    "**Recommendations for Improving Accuracy:**\n",
    "\n",
    "Based on the document's findings, here are recommendations to increase Ultraman's accuracy:\n",
    "\n",
    "* **Improved Force Control:** The UR10 robot's force control did not perform as expected due to vibration and surface finish issues.  Implementing additional sensors (e.g., force/torque sensors, accelerometers) and refining the control algorithms could significantly improve accuracy in force application during scratching and other processes.  Adding better vibration dampening to the system would also help.\n",
    "\n",
    "* **Enhanced Feeding Mechanism:** While the pneumatic strip feeder exceeded the desired sample feeding accuracy, issues with bowing of thinner samples were noted.  Consider implementing a 3-roll bender to flatten and re-coil the material, allowing for the use of rolled metal blanks, as suggested in the conclusion. The system should also be recalibrated more frequently.\n",
    "\n",
    "* **Improved Sensor Integration:** The document suggests integrating all actuators (heater, fan, etc.) into the central control system for better coordination and efficiency.  This would also allow for data acquisition from various sensors which could be used for real-time feedback and adaptive control adjustments to further improve precision.\n",
    "\n",
    "* **Addressing Vibration:** The system suffered from vibration, affecting force readings.  Implementing better vibration dampening measures in the system's design is crucial. This could include stiffer frame elements, more effective dampening materials, or more robust mounting mechanisms.\n",
    "\n",
    "* **Addressing Environmental Factors:** Factors such as air quality and lubricant dispersion can impact test results. Controlling the environment, using high-quality lubricants, and implementing more precise lubricant application mechanisms would improve consistency and repeatability.\n",
    "\n",
    "* **Regular Calibration:** The document highlights the need for recalibrating the strip feeder regularly. Incorporating automatic calibration routines into the control system could improve long-term accuracy and eliminate human error.\n",
    "\n",
    "By addressing these points, the Ultraman system's accuracy and reliability can be significantly enhanced, leading to more reliable and valuable tribological testing results.\n"
   ]
  },
  {
   "cell_type": "code",
   "execution_count": 7,
   "metadata": {},
   "outputs": [
    {
     "name": "stdout",
     "output_type": "stream",
     "text": [
      "## Purpose and Explanation:\n",
      "\n",
      "This equation is used to **determine the interfacial heat transfer coefficient (h)** during a hot aluminum stamping process. The heat transfer coefficient quantifies the rate at which heat is transferred across the interface between the hot aluminum workpiece and the stamping tool. This is a crucial factor in determining the efficiency and quality of the stamping process. \n",
      "\n",
      "**Here's a breakdown of the equation:**\n",
      "\n",
      "* **h:** Interfacial heat transfer coefficient (W/m²K).\n",
      "* **k:** Thermal conductivity of the aluminum (W/mK).\n",
      "* **θ:** Angle of the stamping die.\n",
      "* **σ:** Surface roughness of the die.\n",
      "* **p:** Contact pressure between the die and the workpiece (Pa).\n",
      "* **H:** Hardness of the aluminum workpiece (Pa).\n",
      "\n",
      "**Readable form of the equation:**\n",
      "\n",
      "h = 1.45 * k * (tan(θ) / σ) * (p / H)^0.985\n",
      "\n",
      "**In simple terms:**\n",
      "\n",
      "The heat transfer coefficient (h) is directly proportional to the thermal conductivity of aluminum (k) and the tangent of the die angle (tan(θ)). It is inversely proportional to the surface roughness (σ) of the die. The contact pressure (p) and hardness (H) of the aluminum also play a role, with the coefficient increasing with higher pressure and decreasing with higher hardness. \n",
      "\n",
      "**This equation is crucial in hot stamping processes as it allows engineers to predict the heat transfer between the die and the workpiece, enabling them to optimize process parameters for better control and improved stamping quality.** \n",
      "\n"
     ]
    }
   ],
   "source": [
    "query = \"\"\"Given the following MathML representation of an equation, please identify its purpose and provide a brief explanation of what the equation represents in mathematical terms. The domain is tribology, and the paper title is \"Title: Determination of the interfacial heat transfer coefficient for a hot aluminium stamping process\n",
    "\".\n",
    "\n",
    "<math xmlns=\"http://www.w3.org/1998/Math/MathML\"><mrow is=\"true\"><mi is=\"true\">h</mi><mo is=\"true\">=</mo><mn is=\"true\">1.45</mn><mi is=\"true\">k</mi><mfrac is=\"true\"><mrow is=\"true\"><mi is=\"true\">tan</mi><mi is=\"true\">θ</mi></mrow><mi is=\"true\">σ</mi></mfrac><msup is=\"true\"><mrow is=\"true\"><mo stretchy=\"false\" is=\"true\">(</mo><mfrac is=\"true\"><mi is=\"true\">p</mi><mi is=\"true\">H</mi></mfrac><mo stretchy=\"false\" is=\"true\">)</mo></mrow><mrow is=\"true\"><mn is=\"true\">0.985</mn></mrow></msup></mrow></math>\n",
    "\n",
    "\n",
    "Explain the purpose of the equation and write it out in readable form.\"\"\"\n",
    "\n",
    "response = model.generate_content(query)\n",
    "print(response.text)"
   ]
  }
 ],
 "metadata": {
  "kernelspec": {
   "display_name": "fyp_env",
   "language": "python",
   "name": "python3"
  },
  "language_info": {
   "codemirror_mode": {
    "name": "ipython",
    "version": 3
   },
   "file_extension": ".py",
   "mimetype": "text/x-python",
   "name": "python",
   "nbconvert_exporter": "python",
   "pygments_lexer": "ipython3",
   "version": "3.11.10"
  }
 },
 "nbformat": 4,
 "nbformat_minor": 2
}
