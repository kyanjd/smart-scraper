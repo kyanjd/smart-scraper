{
 "cells": [
  {
   "cell_type": "code",
   "execution_count": 38,
   "metadata": {},
   "outputs": [
    {
     "name": "stdout",
     "output_type": "stream",
     "text": [
      "Error importing huggingface_hub._snapshot_download: cannot import name 'GatedRepoError' from 'huggingface_hub.errors' (c:\\Users\\kyanj\\anaconda3\\envs\\fyp_env\\Lib\\site-packages\\huggingface_hub\\errors.py)\n"
     ]
    },
    {
     "ename": "ImportError",
     "evalue": "cannot import name 'GatedRepoError' from 'huggingface_hub.errors' (c:\\Users\\kyanj\\anaconda3\\envs\\fyp_env\\Lib\\site-packages\\huggingface_hub\\errors.py)",
     "output_type": "error",
     "traceback": [
      "\u001b[1;31m---------------------------------------------------------------------------\u001b[0m",
      "\u001b[1;31mImportError\u001b[0m                               Traceback (most recent call last)",
      "Cell \u001b[1;32mIn[38], line 9\u001b[0m\n\u001b[0;32m      7\u001b[0m \u001b[38;5;28;01mimport\u001b[39;00m \u001b[38;5;21;01mnumpy\u001b[39;00m \u001b[38;5;28;01mas\u001b[39;00m \u001b[38;5;21;01mnp\u001b[39;00m\n\u001b[0;32m      8\u001b[0m \u001b[38;5;28;01mimport\u001b[39;00m \u001b[38;5;21;01mcsv\u001b[39;00m\n\u001b[1;32m----> 9\u001b[0m \u001b[38;5;28;01mfrom\u001b[39;00m \u001b[38;5;21;01mpeft\u001b[39;00m \u001b[38;5;28;01mimport\u001b[39;00m get_peft_model, LoraConfig, TaskType\n",
      "File \u001b[1;32mc:\\Users\\kyanj\\anaconda3\\envs\\fyp_env\\Lib\\site-packages\\peft\\__init__.py:17\u001b[0m\n\u001b[0;32m      1\u001b[0m \u001b[38;5;66;03m# Copyright 2023-present the HuggingFace Inc. team.\u001b[39;00m\n\u001b[0;32m      2\u001b[0m \u001b[38;5;66;03m#\u001b[39;00m\n\u001b[0;32m      3\u001b[0m \u001b[38;5;66;03m# Licensed under the Apache License, Version 2.0 (the \"License\");\u001b[39;00m\n\u001b[1;32m   (...)\u001b[0m\n\u001b[0;32m     12\u001b[0m \u001b[38;5;66;03m# See the License for the specific language governing permissions and\u001b[39;00m\n\u001b[0;32m     13\u001b[0m \u001b[38;5;66;03m# limitations under the License.\u001b[39;00m\n\u001b[0;32m     15\u001b[0m __version__ \u001b[38;5;241m=\u001b[39m \u001b[38;5;124m\"\u001b[39m\u001b[38;5;124m0.15.1\u001b[39m\u001b[38;5;124m\"\u001b[39m\n\u001b[1;32m---> 17\u001b[0m \u001b[38;5;28;01mfrom\u001b[39;00m \u001b[38;5;21;01m.\u001b[39;00m\u001b[38;5;21;01mauto\u001b[39;00m \u001b[38;5;28;01mimport\u001b[39;00m (\n\u001b[0;32m     18\u001b[0m     MODEL_TYPE_TO_PEFT_MODEL_MAPPING,\n\u001b[0;32m     19\u001b[0m     AutoPeftModel,\n\u001b[0;32m     20\u001b[0m     AutoPeftModelForCausalLM,\n\u001b[0;32m     21\u001b[0m     AutoPeftModelForFeatureExtraction,\n\u001b[0;32m     22\u001b[0m     AutoPeftModelForQuestionAnswering,\n\u001b[0;32m     23\u001b[0m     AutoPeftModelForSeq2SeqLM,\n\u001b[0;32m     24\u001b[0m     AutoPeftModelForSequenceClassification,\n\u001b[0;32m     25\u001b[0m     AutoPeftModelForTokenClassification,\n\u001b[0;32m     26\u001b[0m )\n\u001b[0;32m     27\u001b[0m \u001b[38;5;28;01mfrom\u001b[39;00m \u001b[38;5;21;01m.\u001b[39;00m\u001b[38;5;21;01mconfig\u001b[39;00m \u001b[38;5;28;01mimport\u001b[39;00m PeftConfig, PromptLearningConfig\n\u001b[0;32m     28\u001b[0m \u001b[38;5;28;01mfrom\u001b[39;00m \u001b[38;5;21;01m.\u001b[39;00m\u001b[38;5;21;01mmapping\u001b[39;00m \u001b[38;5;28;01mimport\u001b[39;00m (\n\u001b[0;32m     29\u001b[0m     PEFT_TYPE_TO_CONFIG_MAPPING,\n\u001b[0;32m     30\u001b[0m     PEFT_TYPE_TO_MIXED_MODEL_MAPPING,\n\u001b[1;32m   (...)\u001b[0m\n\u001b[0;32m     33\u001b[0m     inject_adapter_in_model,\n\u001b[0;32m     34\u001b[0m )\n",
      "File \u001b[1;32mc:\\Users\\kyanj\\anaconda3\\envs\\fyp_env\\Lib\\site-packages\\peft\\auto.py:31\u001b[0m\n\u001b[0;32m     19\u001b[0m \u001b[38;5;28;01mfrom\u001b[39;00m \u001b[38;5;21;01mtyping\u001b[39;00m \u001b[38;5;28;01mimport\u001b[39;00m Optional\n\u001b[0;32m     21\u001b[0m \u001b[38;5;28;01mfrom\u001b[39;00m \u001b[38;5;21;01mtransformers\u001b[39;00m \u001b[38;5;28;01mimport\u001b[39;00m (\n\u001b[0;32m     22\u001b[0m     AutoModel,\n\u001b[0;32m     23\u001b[0m     AutoModelForCausalLM,\n\u001b[1;32m   (...)\u001b[0m\n\u001b[0;32m     28\u001b[0m     AutoTokenizer,\n\u001b[0;32m     29\u001b[0m )\n\u001b[1;32m---> 31\u001b[0m \u001b[38;5;28;01mfrom\u001b[39;00m \u001b[38;5;21;01m.\u001b[39;00m\u001b[38;5;21;01mconfig\u001b[39;00m \u001b[38;5;28;01mimport\u001b[39;00m PeftConfig\n\u001b[0;32m     32\u001b[0m \u001b[38;5;28;01mfrom\u001b[39;00m \u001b[38;5;21;01m.\u001b[39;00m\u001b[38;5;21;01mpeft_model\u001b[39;00m \u001b[38;5;28;01mimport\u001b[39;00m (\n\u001b[0;32m     33\u001b[0m     PeftModel,\n\u001b[0;32m     34\u001b[0m     PeftModelForCausalLM,\n\u001b[1;32m   (...)\u001b[0m\n\u001b[0;32m     39\u001b[0m     PeftModelForTokenClassification,\n\u001b[0;32m     40\u001b[0m )\n\u001b[0;32m     41\u001b[0m \u001b[38;5;28;01mfrom\u001b[39;00m \u001b[38;5;21;01m.\u001b[39;00m\u001b[38;5;21;01mutils\u001b[39;00m\u001b[38;5;21;01m.\u001b[39;00m\u001b[38;5;21;01mconstants\u001b[39;00m \u001b[38;5;28;01mimport\u001b[39;00m TOKENIZER_CONFIG_NAME\n",
      "File \u001b[1;32mc:\\Users\\kyanj\\anaconda3\\envs\\fyp_env\\Lib\\site-packages\\peft\\config.py:24\u001b[0m\n\u001b[0;32m     21\u001b[0m \u001b[38;5;28;01mfrom\u001b[39;00m \u001b[38;5;21;01mhuggingface_hub\u001b[39;00m \u001b[38;5;28;01mimport\u001b[39;00m hf_hub_download\n\u001b[0;32m     22\u001b[0m \u001b[38;5;28;01mfrom\u001b[39;00m \u001b[38;5;21;01mtransformers\u001b[39;00m\u001b[38;5;21;01m.\u001b[39;00m\u001b[38;5;21;01mutils\u001b[39;00m \u001b[38;5;28;01mimport\u001b[39;00m PushToHubMixin\n\u001b[1;32m---> 24\u001b[0m \u001b[38;5;28;01mfrom\u001b[39;00m \u001b[38;5;21;01m.\u001b[39;00m\u001b[38;5;21;01mutils\u001b[39;00m \u001b[38;5;28;01mimport\u001b[39;00m CONFIG_NAME, PeftType, TaskType\n\u001b[0;32m     27\u001b[0m \u001b[38;5;66;03m# we expect at least these keys to be present in a PEFT adapter_config.json\u001b[39;00m\n\u001b[0;32m     28\u001b[0m MIN_EXPECTED_CONFIG_KEYS \u001b[38;5;241m=\u001b[39m {\u001b[38;5;124m\"\u001b[39m\u001b[38;5;124mpeft_type\u001b[39m\u001b[38;5;124m\"\u001b[39m}\n",
      "File \u001b[1;32mc:\\Users\\kyanj\\anaconda3\\envs\\fyp_env\\Lib\\site-packages\\peft\\utils\\__init__.py:16\u001b[0m\n\u001b[0;32m      1\u001b[0m \u001b[38;5;66;03m# Copyright 2023-present the HuggingFace Inc. team.\u001b[39;00m\n\u001b[0;32m      2\u001b[0m \u001b[38;5;66;03m#\u001b[39;00m\n\u001b[0;32m      3\u001b[0m \u001b[38;5;66;03m# Licensed under the Apache License, Version 2.0 (the \"License\");\u001b[39;00m\n\u001b[1;32m   (...)\u001b[0m\n\u001b[0;32m     12\u001b[0m \u001b[38;5;66;03m# See the License for the specific language governing permissions and\u001b[39;00m\n\u001b[0;32m     13\u001b[0m \u001b[38;5;66;03m# limitations under the License.\u001b[39;00m\n\u001b[0;32m     15\u001b[0m \u001b[38;5;28;01mfrom\u001b[39;00m \u001b[38;5;21;01m.\u001b[39;00m\u001b[38;5;21;01mintegrations\u001b[39;00m \u001b[38;5;28;01mimport\u001b[39;00m map_cache_to_layer_device_map\n\u001b[1;32m---> 16\u001b[0m \u001b[38;5;28;01mfrom\u001b[39;00m \u001b[38;5;21;01m.\u001b[39;00m\u001b[38;5;21;01mloftq_utils\u001b[39;00m \u001b[38;5;28;01mimport\u001b[39;00m replace_lora_weights_loftq\n\u001b[0;32m     17\u001b[0m \u001b[38;5;28;01mfrom\u001b[39;00m \u001b[38;5;21;01m.\u001b[39;00m\u001b[38;5;21;01mother\u001b[39;00m \u001b[38;5;28;01mimport\u001b[39;00m (\n\u001b[0;32m     18\u001b[0m     CONFIG_NAME,\n\u001b[0;32m     19\u001b[0m     INCLUDE_LINEAR_LAYERS_SHORTHAND,\n\u001b[1;32m   (...)\u001b[0m\n\u001b[0;32m     50\u001b[0m     transpose,\n\u001b[0;32m     51\u001b[0m )\n\u001b[0;32m     52\u001b[0m \u001b[38;5;28;01mfrom\u001b[39;00m \u001b[38;5;21;01m.\u001b[39;00m\u001b[38;5;21;01mpeft_types\u001b[39;00m \u001b[38;5;28;01mimport\u001b[39;00m PeftType, TaskType, register_peft_method\n",
      "File \u001b[1;32mc:\\Users\\kyanj\\anaconda3\\envs\\fyp_env\\Lib\\site-packages\\peft\\utils\\loftq_utils.py:26\u001b[0m\n\u001b[0;32m     24\u001b[0m \u001b[38;5;28;01mimport\u001b[39;00m \u001b[38;5;21;01mtorch\u001b[39;00m\n\u001b[0;32m     25\u001b[0m \u001b[38;5;28;01mfrom\u001b[39;00m \u001b[38;5;21;01maccelerate\u001b[39;00m\u001b[38;5;21;01m.\u001b[39;00m\u001b[38;5;21;01mutils\u001b[39;00m\u001b[38;5;21;01m.\u001b[39;00m\u001b[38;5;21;01mmemory\u001b[39;00m \u001b[38;5;28;01mimport\u001b[39;00m clear_device_cache\n\u001b[1;32m---> 26\u001b[0m \u001b[38;5;28;01mfrom\u001b[39;00m \u001b[38;5;21;01mhuggingface_hub\u001b[39;00m \u001b[38;5;28;01mimport\u001b[39;00m snapshot_download\n\u001b[0;32m     27\u001b[0m \u001b[38;5;28;01mfrom\u001b[39;00m \u001b[38;5;21;01mhuggingface_hub\u001b[39;00m\u001b[38;5;21;01m.\u001b[39;00m\u001b[38;5;21;01merrors\u001b[39;00m \u001b[38;5;28;01mimport\u001b[39;00m HFValidationError, LocalEntryNotFoundError\n\u001b[0;32m     28\u001b[0m \u001b[38;5;28;01mfrom\u001b[39;00m \u001b[38;5;21;01msafetensors\u001b[39;00m \u001b[38;5;28;01mimport\u001b[39;00m SafetensorError, safe_open\n",
      "File \u001b[1;32mc:\\Users\\kyanj\\anaconda3\\envs\\fyp_env\\Lib\\site-packages\\huggingface_hub\\__init__.py:520\u001b[0m, in \u001b[0;36m__getattr__\u001b[1;34m(name)\u001b[0m\n\u001b[0;32m     54\u001b[0m _SUBMOD_ATTRS \u001b[38;5;241m=\u001b[39m {\n\u001b[0;32m     55\u001b[0m     \u001b[38;5;124m\"\u001b[39m\u001b[38;5;124m_commit_scheduler\u001b[39m\u001b[38;5;124m\"\u001b[39m: [\n\u001b[0;32m     56\u001b[0m         \u001b[38;5;124m\"\u001b[39m\u001b[38;5;124mCommitScheduler\u001b[39m\u001b[38;5;124m\"\u001b[39m,\n\u001b[1;32m   (...)\u001b[0m\n\u001b[0;32m    500\u001b[0m     ],\n\u001b[0;32m    501\u001b[0m }\n\u001b[0;32m    503\u001b[0m \u001b[38;5;66;03m# WARNING: __all__ is generated automatically, Any manual edit will be lost when re-generating this file !\u001b[39;00m\n\u001b[0;32m    504\u001b[0m \u001b[38;5;66;03m#\u001b[39;00m\n\u001b[0;32m    505\u001b[0m \u001b[38;5;66;03m# To update the static imports, please run the following command and commit the changes.\u001b[39;00m\n\u001b[1;32m   (...)\u001b[0m\n\u001b[0;32m    511\u001b[0m \u001b[38;5;66;03m# make style\u001b[39;00m\n\u001b[0;32m    512\u001b[0m \u001b[38;5;66;03m# ```\u001b[39;00m\n\u001b[0;32m    514\u001b[0m __all__ \u001b[38;5;241m=\u001b[39m [\n\u001b[0;32m    515\u001b[0m     \u001b[38;5;124m\"\u001b[39m\u001b[38;5;124mAsyncInferenceClient\u001b[39m\u001b[38;5;124m\"\u001b[39m,\n\u001b[0;32m    516\u001b[0m     \u001b[38;5;124m\"\u001b[39m\u001b[38;5;124mAudioClassificationInput\u001b[39m\u001b[38;5;124m\"\u001b[39m,\n\u001b[0;32m    517\u001b[0m     \u001b[38;5;124m\"\u001b[39m\u001b[38;5;124mAudioClassificationOutputElement\u001b[39m\u001b[38;5;124m\"\u001b[39m,\n\u001b[0;32m    518\u001b[0m     \u001b[38;5;124m\"\u001b[39m\u001b[38;5;124mAudioClassificationOutputTransform\u001b[39m\u001b[38;5;124m\"\u001b[39m,\n\u001b[0;32m    519\u001b[0m     \u001b[38;5;124m\"\u001b[39m\u001b[38;5;124mAudioClassificationParameters\u001b[39m\u001b[38;5;124m\"\u001b[39m,\n\u001b[1;32m--> 520\u001b[0m     \u001b[38;5;124m\"\u001b[39m\u001b[38;5;124mAudioToAudioInput\u001b[39m\u001b[38;5;124m\"\u001b[39m,\n\u001b[0;32m    521\u001b[0m     \u001b[38;5;124m\"\u001b[39m\u001b[38;5;124mAudioToAudioOutputElement\u001b[39m\u001b[38;5;124m\"\u001b[39m,\n\u001b[0;32m    522\u001b[0m     \u001b[38;5;124m\"\u001b[39m\u001b[38;5;124mAutomaticSpeechRecognitionEarlyStoppingEnum\u001b[39m\u001b[38;5;124m\"\u001b[39m,\n\u001b[0;32m    523\u001b[0m     \u001b[38;5;124m\"\u001b[39m\u001b[38;5;124mAutomaticSpeechRecognitionGenerationParameters\u001b[39m\u001b[38;5;124m\"\u001b[39m,\n\u001b[0;32m    524\u001b[0m     \u001b[38;5;124m\"\u001b[39m\u001b[38;5;124mAutomaticSpeechRecognitionInput\u001b[39m\u001b[38;5;124m\"\u001b[39m,\n\u001b[0;32m    525\u001b[0m     \u001b[38;5;124m\"\u001b[39m\u001b[38;5;124mAutomaticSpeechRecognitionOutput\u001b[39m\u001b[38;5;124m\"\u001b[39m,\n\u001b[0;32m    526\u001b[0m     \u001b[38;5;124m\"\u001b[39m\u001b[38;5;124mAutomaticSpeechRecognitionOutputChunk\u001b[39m\u001b[38;5;124m\"\u001b[39m,\n\u001b[0;32m    527\u001b[0m     \u001b[38;5;124m\"\u001b[39m\u001b[38;5;124mAutomaticSpeechRecognitionParameters\u001b[39m\u001b[38;5;124m\"\u001b[39m,\n\u001b[0;32m    528\u001b[0m     \u001b[38;5;124m\"\u001b[39m\u001b[38;5;124mCONFIG_NAME\u001b[39m\u001b[38;5;124m\"\u001b[39m,\n\u001b[0;32m    529\u001b[0m     \u001b[38;5;124m\"\u001b[39m\u001b[38;5;124mCacheNotFound\u001b[39m\u001b[38;5;124m\"\u001b[39m,\n\u001b[0;32m    530\u001b[0m     \u001b[38;5;124m\"\u001b[39m\u001b[38;5;124mCachedFileInfo\u001b[39m\u001b[38;5;124m\"\u001b[39m,\n\u001b[0;32m    531\u001b[0m     \u001b[38;5;124m\"\u001b[39m\u001b[38;5;124mCachedRepoInfo\u001b[39m\u001b[38;5;124m\"\u001b[39m,\n\u001b[0;32m    532\u001b[0m     \u001b[38;5;124m\"\u001b[39m\u001b[38;5;124mCachedRevisionInfo\u001b[39m\u001b[38;5;124m\"\u001b[39m,\n\u001b[0;32m    533\u001b[0m     \u001b[38;5;124m\"\u001b[39m\u001b[38;5;124mCardData\u001b[39m\u001b[38;5;124m\"\u001b[39m,\n\u001b[0;32m    534\u001b[0m     \u001b[38;5;124m\"\u001b[39m\u001b[38;5;124mChatCompletionInput\u001b[39m\u001b[38;5;124m\"\u001b[39m,\n\u001b[0;32m    535\u001b[0m     \u001b[38;5;124m\"\u001b[39m\u001b[38;5;124mChatCompletionInputFunctionDefinition\u001b[39m\u001b[38;5;124m\"\u001b[39m,\n\u001b[0;32m    536\u001b[0m     \u001b[38;5;124m\"\u001b[39m\u001b[38;5;124mChatCompletionInputFunctionName\u001b[39m\u001b[38;5;124m\"\u001b[39m,\n\u001b[0;32m    537\u001b[0m     \u001b[38;5;124m\"\u001b[39m\u001b[38;5;124mChatCompletionInputGrammarType\u001b[39m\u001b[38;5;124m\"\u001b[39m,\n\u001b[0;32m    538\u001b[0m     \u001b[38;5;124m\"\u001b[39m\u001b[38;5;124mChatCompletionInputGrammarTypeType\u001b[39m\u001b[38;5;124m\"\u001b[39m,\n\u001b[0;32m    539\u001b[0m     \u001b[38;5;124m\"\u001b[39m\u001b[38;5;124mChatCompletionInputMessage\u001b[39m\u001b[38;5;124m\"\u001b[39m,\n\u001b[0;32m    540\u001b[0m     \u001b[38;5;124m\"\u001b[39m\u001b[38;5;124mChatCompletionInputMessageChunk\u001b[39m\u001b[38;5;124m\"\u001b[39m,\n\u001b[0;32m    541\u001b[0m     \u001b[38;5;124m\"\u001b[39m\u001b[38;5;124mChatCompletionInputMessageChunkType\u001b[39m\u001b[38;5;124m\"\u001b[39m,\n\u001b[0;32m    542\u001b[0m     \u001b[38;5;124m\"\u001b[39m\u001b[38;5;124mChatCompletionInputStreamOptions\u001b[39m\u001b[38;5;124m\"\u001b[39m,\n\u001b[0;32m    543\u001b[0m     \u001b[38;5;124m\"\u001b[39m\u001b[38;5;124mChatCompletionInputTool\u001b[39m\u001b[38;5;124m\"\u001b[39m,\n\u001b[0;32m    544\u001b[0m     \u001b[38;5;124m\"\u001b[39m\u001b[38;5;124mChatCompletionInputToolCall\u001b[39m\u001b[38;5;124m\"\u001b[39m,\n\u001b[0;32m    545\u001b[0m     \u001b[38;5;124m\"\u001b[39m\u001b[38;5;124mChatCompletionInputToolChoiceClass\u001b[39m\u001b[38;5;124m\"\u001b[39m,\n\u001b[0;32m    546\u001b[0m     \u001b[38;5;124m\"\u001b[39m\u001b[38;5;124mChatCompletionInputToolChoiceEnum\u001b[39m\u001b[38;5;124m\"\u001b[39m,\n\u001b[0;32m    547\u001b[0m     \u001b[38;5;124m\"\u001b[39m\u001b[38;5;124mChatCompletionInputURL\u001b[39m\u001b[38;5;124m\"\u001b[39m,\n\u001b[0;32m    548\u001b[0m     \u001b[38;5;124m\"\u001b[39m\u001b[38;5;124mChatCompletionOutput\u001b[39m\u001b[38;5;124m\"\u001b[39m,\n\u001b[0;32m    549\u001b[0m     \u001b[38;5;124m\"\u001b[39m\u001b[38;5;124mChatCompletionOutputComplete\u001b[39m\u001b[38;5;124m\"\u001b[39m,\n\u001b[0;32m    550\u001b[0m     \u001b[38;5;124m\"\u001b[39m\u001b[38;5;124mChatCompletionOutputFunctionDefinition\u001b[39m\u001b[38;5;124m\"\u001b[39m,\n\u001b[0;32m    551\u001b[0m     \u001b[38;5;124m\"\u001b[39m\u001b[38;5;124mChatCompletionOutputLogprob\u001b[39m\u001b[38;5;124m\"\u001b[39m,\n\u001b[0;32m    552\u001b[0m     \u001b[38;5;124m\"\u001b[39m\u001b[38;5;124mChatCompletionOutputLogprobs\u001b[39m\u001b[38;5;124m\"\u001b[39m,\n\u001b[0;32m    553\u001b[0m     \u001b[38;5;124m\"\u001b[39m\u001b[38;5;124mChatCompletionOutputMessage\u001b[39m\u001b[38;5;124m\"\u001b[39m,\n\u001b[0;32m    554\u001b[0m     \u001b[38;5;124m\"\u001b[39m\u001b[38;5;124mChatCompletionOutputToolCall\u001b[39m\u001b[38;5;124m\"\u001b[39m,\n\u001b[0;32m    555\u001b[0m     \u001b[38;5;124m\"\u001b[39m\u001b[38;5;124mChatCompletionOutputTopLogprob\u001b[39m\u001b[38;5;124m\"\u001b[39m,\n\u001b[0;32m    556\u001b[0m     \u001b[38;5;124m\"\u001b[39m\u001b[38;5;124mChatCompletionOutputUsage\u001b[39m\u001b[38;5;124m\"\u001b[39m,\n\u001b[0;32m    557\u001b[0m     \u001b[38;5;124m\"\u001b[39m\u001b[38;5;124mChatCompletionStreamOutput\u001b[39m\u001b[38;5;124m\"\u001b[39m,\n\u001b[0;32m    558\u001b[0m     \u001b[38;5;124m\"\u001b[39m\u001b[38;5;124mChatCompletionStreamOutputChoice\u001b[39m\u001b[38;5;124m\"\u001b[39m,\n\u001b[0;32m    559\u001b[0m     \u001b[38;5;124m\"\u001b[39m\u001b[38;5;124mChatCompletionStreamOutputDelta\u001b[39m\u001b[38;5;124m\"\u001b[39m,\n\u001b[0;32m    560\u001b[0m     \u001b[38;5;124m\"\u001b[39m\u001b[38;5;124mChatCompletionStreamOutputDeltaToolCall\u001b[39m\u001b[38;5;124m\"\u001b[39m,\n\u001b[0;32m    561\u001b[0m     \u001b[38;5;124m\"\u001b[39m\u001b[38;5;124mChatCompletionStreamOutputFunction\u001b[39m\u001b[38;5;124m\"\u001b[39m,\n\u001b[0;32m    562\u001b[0m     \u001b[38;5;124m\"\u001b[39m\u001b[38;5;124mChatCompletionStreamOutputLogprob\u001b[39m\u001b[38;5;124m\"\u001b[39m,\n\u001b[0;32m    563\u001b[0m     \u001b[38;5;124m\"\u001b[39m\u001b[38;5;124mChatCompletionStreamOutputLogprobs\u001b[39m\u001b[38;5;124m\"\u001b[39m,\n\u001b[0;32m    564\u001b[0m     \u001b[38;5;124m\"\u001b[39m\u001b[38;5;124mChatCompletionStreamOutputTopLogprob\u001b[39m\u001b[38;5;124m\"\u001b[39m,\n\u001b[0;32m    565\u001b[0m     \u001b[38;5;124m\"\u001b[39m\u001b[38;5;124mChatCompletionStreamOutputUsage\u001b[39m\u001b[38;5;124m\"\u001b[39m,\n\u001b[0;32m    566\u001b[0m     \u001b[38;5;124m\"\u001b[39m\u001b[38;5;124mCollection\u001b[39m\u001b[38;5;124m\"\u001b[39m,\n\u001b[0;32m    567\u001b[0m     \u001b[38;5;124m\"\u001b[39m\u001b[38;5;124mCollectionItem\u001b[39m\u001b[38;5;124m\"\u001b[39m,\n\u001b[0;32m    568\u001b[0m     \u001b[38;5;124m\"\u001b[39m\u001b[38;5;124mCommitInfo\u001b[39m\u001b[38;5;124m\"\u001b[39m,\n\u001b[0;32m    569\u001b[0m     \u001b[38;5;124m\"\u001b[39m\u001b[38;5;124mCommitOperation\u001b[39m\u001b[38;5;124m\"\u001b[39m,\n\u001b[0;32m    570\u001b[0m     \u001b[38;5;124m\"\u001b[39m\u001b[38;5;124mCommitOperationAdd\u001b[39m\u001b[38;5;124m\"\u001b[39m,\n\u001b[0;32m    571\u001b[0m     \u001b[38;5;124m\"\u001b[39m\u001b[38;5;124mCommitOperationCopy\u001b[39m\u001b[38;5;124m\"\u001b[39m,\n\u001b[0;32m    572\u001b[0m     \u001b[38;5;124m\"\u001b[39m\u001b[38;5;124mCommitOperationDelete\u001b[39m\u001b[38;5;124m\"\u001b[39m,\n\u001b[0;32m    573\u001b[0m     \u001b[38;5;124m\"\u001b[39m\u001b[38;5;124mCommitScheduler\u001b[39m\u001b[38;5;124m\"\u001b[39m,\n\u001b[0;32m    574\u001b[0m     \u001b[38;5;124m\"\u001b[39m\u001b[38;5;124mCorruptedCacheException\u001b[39m\u001b[38;5;124m\"\u001b[39m,\n\u001b[0;32m    575\u001b[0m     \u001b[38;5;124m\"\u001b[39m\u001b[38;5;124mDDUFEntry\u001b[39m\u001b[38;5;124m\"\u001b[39m,\n\u001b[0;32m    576\u001b[0m     \u001b[38;5;124m\"\u001b[39m\u001b[38;5;124mDatasetCard\u001b[39m\u001b[38;5;124m\"\u001b[39m,\n\u001b[0;32m    577\u001b[0m     \u001b[38;5;124m\"\u001b[39m\u001b[38;5;124mDatasetCardData\u001b[39m\u001b[38;5;124m\"\u001b[39m,\n\u001b[0;32m    578\u001b[0m     \u001b[38;5;124m\"\u001b[39m\u001b[38;5;124mDatasetInfo\u001b[39m\u001b[38;5;124m\"\u001b[39m,\n\u001b[0;32m    579\u001b[0m     \u001b[38;5;124m\"\u001b[39m\u001b[38;5;124mDeleteCacheStrategy\u001b[39m\u001b[38;5;124m\"\u001b[39m,\n\u001b[0;32m    580\u001b[0m     \u001b[38;5;124m\"\u001b[39m\u001b[38;5;124mDepthEstimationInput\u001b[39m\u001b[38;5;124m\"\u001b[39m,\n\u001b[0;32m    581\u001b[0m     \u001b[38;5;124m\"\u001b[39m\u001b[38;5;124mDepthEstimationOutput\u001b[39m\u001b[38;5;124m\"\u001b[39m,\n\u001b[0;32m    582\u001b[0m     \u001b[38;5;124m\"\u001b[39m\u001b[38;5;124mDiscussion\u001b[39m\u001b[38;5;124m\"\u001b[39m,\n\u001b[0;32m    583\u001b[0m     \u001b[38;5;124m\"\u001b[39m\u001b[38;5;124mDiscussionComment\u001b[39m\u001b[38;5;124m\"\u001b[39m,\n\u001b[0;32m    584\u001b[0m     \u001b[38;5;124m\"\u001b[39m\u001b[38;5;124mDiscussionCommit\u001b[39m\u001b[38;5;124m\"\u001b[39m,\n\u001b[0;32m    585\u001b[0m     \u001b[38;5;124m\"\u001b[39m\u001b[38;5;124mDiscussionEvent\u001b[39m\u001b[38;5;124m\"\u001b[39m,\n\u001b[0;32m    586\u001b[0m     \u001b[38;5;124m\"\u001b[39m\u001b[38;5;124mDiscussionStatusChange\u001b[39m\u001b[38;5;124m\"\u001b[39m,\n\u001b[0;32m    587\u001b[0m     \u001b[38;5;124m\"\u001b[39m\u001b[38;5;124mDiscussionTitleChange\u001b[39m\u001b[38;5;124m\"\u001b[39m,\n\u001b[0;32m    588\u001b[0m     \u001b[38;5;124m\"\u001b[39m\u001b[38;5;124mDiscussionWithDetails\u001b[39m\u001b[38;5;124m\"\u001b[39m,\n\u001b[0;32m    589\u001b[0m     \u001b[38;5;124m\"\u001b[39m\u001b[38;5;124mDocumentQuestionAnsweringInput\u001b[39m\u001b[38;5;124m\"\u001b[39m,\n\u001b[0;32m    590\u001b[0m     \u001b[38;5;124m\"\u001b[39m\u001b[38;5;124mDocumentQuestionAnsweringInputData\u001b[39m\u001b[38;5;124m\"\u001b[39m,\n\u001b[0;32m    591\u001b[0m     \u001b[38;5;124m\"\u001b[39m\u001b[38;5;124mDocumentQuestionAnsweringOutputElement\u001b[39m\u001b[38;5;124m\"\u001b[39m,\n\u001b[0;32m    592\u001b[0m     \u001b[38;5;124m\"\u001b[39m\u001b[38;5;124mDocumentQuestionAnsweringParameters\u001b[39m\u001b[38;5;124m\"\u001b[39m,\n\u001b[0;32m    593\u001b[0m     \u001b[38;5;124m\"\u001b[39m\u001b[38;5;124mEvalResult\u001b[39m\u001b[38;5;124m\"\u001b[39m,\n\u001b[0;32m    594\u001b[0m     \u001b[38;5;124m\"\u001b[39m\u001b[38;5;124mFLAX_WEIGHTS_NAME\u001b[39m\u001b[38;5;124m\"\u001b[39m,\n\u001b[0;32m    595\u001b[0m     \u001b[38;5;124m\"\u001b[39m\u001b[38;5;124mFeatureExtractionInput\u001b[39m\u001b[38;5;124m\"\u001b[39m,\n\u001b[0;32m    596\u001b[0m     \u001b[38;5;124m\"\u001b[39m\u001b[38;5;124mFeatureExtractionInputTruncationDirection\u001b[39m\u001b[38;5;124m\"\u001b[39m,\n\u001b[0;32m    597\u001b[0m     \u001b[38;5;124m\"\u001b[39m\u001b[38;5;124mFillMaskInput\u001b[39m\u001b[38;5;124m\"\u001b[39m,\n\u001b[0;32m    598\u001b[0m     \u001b[38;5;124m\"\u001b[39m\u001b[38;5;124mFillMaskOutputElement\u001b[39m\u001b[38;5;124m\"\u001b[39m,\n\u001b[0;32m    599\u001b[0m     \u001b[38;5;124m\"\u001b[39m\u001b[38;5;124mFillMaskParameters\u001b[39m\u001b[38;5;124m\"\u001b[39m,\n\u001b[0;32m    600\u001b[0m     \u001b[38;5;124m\"\u001b[39m\u001b[38;5;124mGitCommitInfo\u001b[39m\u001b[38;5;124m\"\u001b[39m,\n\u001b[0;32m    601\u001b[0m     \u001b[38;5;124m\"\u001b[39m\u001b[38;5;124mGitRefInfo\u001b[39m\u001b[38;5;124m\"\u001b[39m,\n\u001b[0;32m    602\u001b[0m     \u001b[38;5;124m\"\u001b[39m\u001b[38;5;124mGitRefs\u001b[39m\u001b[38;5;124m\"\u001b[39m,\n\u001b[0;32m    603\u001b[0m     \u001b[38;5;124m\"\u001b[39m\u001b[38;5;124mHFCacheInfo\u001b[39m\u001b[38;5;124m\"\u001b[39m,\n\u001b[0;32m    604\u001b[0m     \u001b[38;5;124m\"\u001b[39m\u001b[38;5;124mHFSummaryWriter\u001b[39m\u001b[38;5;124m\"\u001b[39m,\n\u001b[0;32m    605\u001b[0m     \u001b[38;5;124m\"\u001b[39m\u001b[38;5;124mHUGGINGFACE_CO_URL_HOME\u001b[39m\u001b[38;5;124m\"\u001b[39m,\n\u001b[0;32m    606\u001b[0m     \u001b[38;5;124m\"\u001b[39m\u001b[38;5;124mHUGGINGFACE_CO_URL_TEMPLATE\u001b[39m\u001b[38;5;124m\"\u001b[39m,\n\u001b[0;32m    607\u001b[0m     \u001b[38;5;124m\"\u001b[39m\u001b[38;5;124mHfApi\u001b[39m\u001b[38;5;124m\"\u001b[39m,\n\u001b[0;32m    608\u001b[0m     \u001b[38;5;124m\"\u001b[39m\u001b[38;5;124mHfFileMetadata\u001b[39m\u001b[38;5;124m\"\u001b[39m,\n\u001b[0;32m    609\u001b[0m     \u001b[38;5;124m\"\u001b[39m\u001b[38;5;124mHfFileSystem\u001b[39m\u001b[38;5;124m\"\u001b[39m,\n\u001b[0;32m    610\u001b[0m     \u001b[38;5;124m\"\u001b[39m\u001b[38;5;124mHfFileSystemFile\u001b[39m\u001b[38;5;124m\"\u001b[39m,\n\u001b[0;32m    611\u001b[0m     \u001b[38;5;124m\"\u001b[39m\u001b[38;5;124mHfFileSystemResolvedPath\u001b[39m\u001b[38;5;124m\"\u001b[39m,\n\u001b[0;32m    612\u001b[0m     \u001b[38;5;124m\"\u001b[39m\u001b[38;5;124mHfFileSystemStreamFile\u001b[39m\u001b[38;5;124m\"\u001b[39m,\n\u001b[0;32m    613\u001b[0m     \u001b[38;5;124m\"\u001b[39m\u001b[38;5;124mHfFolder\u001b[39m\u001b[38;5;124m\"\u001b[39m,\n\u001b[0;32m    614\u001b[0m     \u001b[38;5;124m\"\u001b[39m\u001b[38;5;124mImageClassificationInput\u001b[39m\u001b[38;5;124m\"\u001b[39m,\n\u001b[0;32m    615\u001b[0m     \u001b[38;5;124m\"\u001b[39m\u001b[38;5;124mImageClassificationOutputElement\u001b[39m\u001b[38;5;124m\"\u001b[39m,\n\u001b[0;32m    616\u001b[0m     \u001b[38;5;124m\"\u001b[39m\u001b[38;5;124mImageClassificationOutputTransform\u001b[39m\u001b[38;5;124m\"\u001b[39m,\n\u001b[0;32m    617\u001b[0m     \u001b[38;5;124m\"\u001b[39m\u001b[38;5;124mImageClassificationParameters\u001b[39m\u001b[38;5;124m\"\u001b[39m,\n\u001b[0;32m    618\u001b[0m     \u001b[38;5;124m\"\u001b[39m\u001b[38;5;124mImageSegmentationInput\u001b[39m\u001b[38;5;124m\"\u001b[39m,\n\u001b[0;32m    619\u001b[0m     \u001b[38;5;124m\"\u001b[39m\u001b[38;5;124mImageSegmentationOutputElement\u001b[39m\u001b[38;5;124m\"\u001b[39m,\n\u001b[0;32m    620\u001b[0m     \u001b[38;5;124m\"\u001b[39m\u001b[38;5;124mImageSegmentationParameters\u001b[39m\u001b[38;5;124m\"\u001b[39m,\n\u001b[0;32m    621\u001b[0m     \u001b[38;5;124m\"\u001b[39m\u001b[38;5;124mImageSegmentationSubtask\u001b[39m\u001b[38;5;124m\"\u001b[39m,\n\u001b[0;32m    622\u001b[0m     \u001b[38;5;124m\"\u001b[39m\u001b[38;5;124mImageToImageInput\u001b[39m\u001b[38;5;124m\"\u001b[39m,\n\u001b[0;32m    623\u001b[0m     \u001b[38;5;124m\"\u001b[39m\u001b[38;5;124mImageToImageOutput\u001b[39m\u001b[38;5;124m\"\u001b[39m,\n\u001b[0;32m    624\u001b[0m     \u001b[38;5;124m\"\u001b[39m\u001b[38;5;124mImageToImageParameters\u001b[39m\u001b[38;5;124m\"\u001b[39m,\n\u001b[0;32m    625\u001b[0m     \u001b[38;5;124m\"\u001b[39m\u001b[38;5;124mImageToImageTargetSize\u001b[39m\u001b[38;5;124m\"\u001b[39m,\n\u001b[0;32m    626\u001b[0m     \u001b[38;5;124m\"\u001b[39m\u001b[38;5;124mImageToTextEarlyStoppingEnum\u001b[39m\u001b[38;5;124m\"\u001b[39m,\n\u001b[0;32m    627\u001b[0m     \u001b[38;5;124m\"\u001b[39m\u001b[38;5;124mImageToTextGenerationParameters\u001b[39m\u001b[38;5;124m\"\u001b[39m,\n\u001b[0;32m    628\u001b[0m     \u001b[38;5;124m\"\u001b[39m\u001b[38;5;124mImageToTextInput\u001b[39m\u001b[38;5;124m\"\u001b[39m,\n\u001b[0;32m    629\u001b[0m     \u001b[38;5;124m\"\u001b[39m\u001b[38;5;124mImageToTextOutput\u001b[39m\u001b[38;5;124m\"\u001b[39m,\n\u001b[0;32m    630\u001b[0m     \u001b[38;5;124m\"\u001b[39m\u001b[38;5;124mImageToTextParameters\u001b[39m\u001b[38;5;124m\"\u001b[39m,\n\u001b[0;32m    631\u001b[0m     \u001b[38;5;124m\"\u001b[39m\u001b[38;5;124mInferenceApi\u001b[39m\u001b[38;5;124m\"\u001b[39m,\n\u001b[0;32m    632\u001b[0m     \u001b[38;5;124m\"\u001b[39m\u001b[38;5;124mInferenceClient\u001b[39m\u001b[38;5;124m\"\u001b[39m,\n\u001b[0;32m    633\u001b[0m     \u001b[38;5;124m\"\u001b[39m\u001b[38;5;124mInferenceEndpoint\u001b[39m\u001b[38;5;124m\"\u001b[39m,\n\u001b[0;32m    634\u001b[0m     \u001b[38;5;124m\"\u001b[39m\u001b[38;5;124mInferenceEndpointError\u001b[39m\u001b[38;5;124m\"\u001b[39m,\n\u001b[0;32m    635\u001b[0m     \u001b[38;5;124m\"\u001b[39m\u001b[38;5;124mInferenceEndpointStatus\u001b[39m\u001b[38;5;124m\"\u001b[39m,\n\u001b[0;32m    636\u001b[0m     \u001b[38;5;124m\"\u001b[39m\u001b[38;5;124mInferenceEndpointTimeoutError\u001b[39m\u001b[38;5;124m\"\u001b[39m,\n\u001b[0;32m    637\u001b[0m     \u001b[38;5;124m\"\u001b[39m\u001b[38;5;124mInferenceEndpointType\u001b[39m\u001b[38;5;124m\"\u001b[39m,\n\u001b[0;32m    638\u001b[0m     \u001b[38;5;124m\"\u001b[39m\u001b[38;5;124mInferenceTimeoutError\u001b[39m\u001b[38;5;124m\"\u001b[39m,\n\u001b[0;32m    639\u001b[0m     \u001b[38;5;124m\"\u001b[39m\u001b[38;5;124mKerasModelHubMixin\u001b[39m\u001b[38;5;124m\"\u001b[39m,\n\u001b[0;32m    640\u001b[0m     \u001b[38;5;124m\"\u001b[39m\u001b[38;5;124mModelCard\u001b[39m\u001b[38;5;124m\"\u001b[39m,\n\u001b[0;32m    641\u001b[0m     \u001b[38;5;124m\"\u001b[39m\u001b[38;5;124mModelCardData\u001b[39m\u001b[38;5;124m\"\u001b[39m,\n\u001b[0;32m    642\u001b[0m     \u001b[38;5;124m\"\u001b[39m\u001b[38;5;124mModelHubMixin\u001b[39m\u001b[38;5;124m\"\u001b[39m,\n\u001b[0;32m    643\u001b[0m     \u001b[38;5;124m\"\u001b[39m\u001b[38;5;124mModelInfo\u001b[39m\u001b[38;5;124m\"\u001b[39m,\n\u001b[0;32m    644\u001b[0m     \u001b[38;5;124m\"\u001b[39m\u001b[38;5;124mObjectDetectionBoundingBox\u001b[39m\u001b[38;5;124m\"\u001b[39m,\n\u001b[0;32m    645\u001b[0m     \u001b[38;5;124m\"\u001b[39m\u001b[38;5;124mObjectDetectionInput\u001b[39m\u001b[38;5;124m\"\u001b[39m,\n\u001b[0;32m    646\u001b[0m     \u001b[38;5;124m\"\u001b[39m\u001b[38;5;124mObjectDetectionOutputElement\u001b[39m\u001b[38;5;124m\"\u001b[39m,\n\u001b[0;32m    647\u001b[0m     \u001b[38;5;124m\"\u001b[39m\u001b[38;5;124mObjectDetectionParameters\u001b[39m\u001b[38;5;124m\"\u001b[39m,\n\u001b[0;32m    648\u001b[0m     \u001b[38;5;124m\"\u001b[39m\u001b[38;5;124mPYTORCH_WEIGHTS_NAME\u001b[39m\u001b[38;5;124m\"\u001b[39m,\n\u001b[0;32m    649\u001b[0m     \u001b[38;5;124m\"\u001b[39m\u001b[38;5;124mPadding\u001b[39m\u001b[38;5;124m\"\u001b[39m,\n\u001b[0;32m    650\u001b[0m     \u001b[38;5;124m\"\u001b[39m\u001b[38;5;124mPyTorchModelHubMixin\u001b[39m\u001b[38;5;124m\"\u001b[39m,\n\u001b[0;32m    651\u001b[0m     \u001b[38;5;124m\"\u001b[39m\u001b[38;5;124mQuestionAnsweringInput\u001b[39m\u001b[38;5;124m\"\u001b[39m,\n\u001b[0;32m    652\u001b[0m     \u001b[38;5;124m\"\u001b[39m\u001b[38;5;124mQuestionAnsweringInputData\u001b[39m\u001b[38;5;124m\"\u001b[39m,\n\u001b[0;32m    653\u001b[0m     \u001b[38;5;124m\"\u001b[39m\u001b[38;5;124mQuestionAnsweringOutputElement\u001b[39m\u001b[38;5;124m\"\u001b[39m,\n\u001b[0;32m    654\u001b[0m     \u001b[38;5;124m\"\u001b[39m\u001b[38;5;124mQuestionAnsweringParameters\u001b[39m\u001b[38;5;124m\"\u001b[39m,\n\u001b[0;32m    655\u001b[0m     \u001b[38;5;124m\"\u001b[39m\u001b[38;5;124mREPO_TYPE_DATASET\u001b[39m\u001b[38;5;124m\"\u001b[39m,\n\u001b[0;32m    656\u001b[0m     \u001b[38;5;124m\"\u001b[39m\u001b[38;5;124mREPO_TYPE_MODEL\u001b[39m\u001b[38;5;124m\"\u001b[39m,\n\u001b[0;32m    657\u001b[0m     \u001b[38;5;124m\"\u001b[39m\u001b[38;5;124mREPO_TYPE_SPACE\u001b[39m\u001b[38;5;124m\"\u001b[39m,\n\u001b[0;32m    658\u001b[0m     \u001b[38;5;124m\"\u001b[39m\u001b[38;5;124mRepoCard\u001b[39m\u001b[38;5;124m\"\u001b[39m,\n\u001b[0;32m    659\u001b[0m     \u001b[38;5;124m\"\u001b[39m\u001b[38;5;124mRepoUrl\u001b[39m\u001b[38;5;124m\"\u001b[39m,\n\u001b[0;32m    660\u001b[0m     \u001b[38;5;124m\"\u001b[39m\u001b[38;5;124mRepository\u001b[39m\u001b[38;5;124m\"\u001b[39m,\n\u001b[0;32m    661\u001b[0m     \u001b[38;5;124m\"\u001b[39m\u001b[38;5;124mSentenceSimilarityInput\u001b[39m\u001b[38;5;124m\"\u001b[39m,\n\u001b[0;32m    662\u001b[0m     \u001b[38;5;124m\"\u001b[39m\u001b[38;5;124mSentenceSimilarityInputData\u001b[39m\u001b[38;5;124m\"\u001b[39m,\n\u001b[0;32m    663\u001b[0m     \u001b[38;5;124m\"\u001b[39m\u001b[38;5;124mSpaceCard\u001b[39m\u001b[38;5;124m\"\u001b[39m,\n\u001b[0;32m    664\u001b[0m     \u001b[38;5;124m\"\u001b[39m\u001b[38;5;124mSpaceCardData\u001b[39m\u001b[38;5;124m\"\u001b[39m,\n\u001b[0;32m    665\u001b[0m     \u001b[38;5;124m\"\u001b[39m\u001b[38;5;124mSpaceHardware\u001b[39m\u001b[38;5;124m\"\u001b[39m,\n\u001b[0;32m    666\u001b[0m     \u001b[38;5;124m\"\u001b[39m\u001b[38;5;124mSpaceInfo\u001b[39m\u001b[38;5;124m\"\u001b[39m,\n\u001b[0;32m    667\u001b[0m     \u001b[38;5;124m\"\u001b[39m\u001b[38;5;124mSpaceRuntime\u001b[39m\u001b[38;5;124m\"\u001b[39m,\n\u001b[0;32m    668\u001b[0m     \u001b[38;5;124m\"\u001b[39m\u001b[38;5;124mSpaceStage\u001b[39m\u001b[38;5;124m\"\u001b[39m,\n\u001b[0;32m    669\u001b[0m     \u001b[38;5;124m\"\u001b[39m\u001b[38;5;124mSpaceStorage\u001b[39m\u001b[38;5;124m\"\u001b[39m,\n\u001b[0;32m    670\u001b[0m     \u001b[38;5;124m\"\u001b[39m\u001b[38;5;124mSpaceVariable\u001b[39m\u001b[38;5;124m\"\u001b[39m,\n\u001b[0;32m    671\u001b[0m     \u001b[38;5;124m\"\u001b[39m\u001b[38;5;124mStateDictSplit\u001b[39m\u001b[38;5;124m\"\u001b[39m,\n\u001b[0;32m    672\u001b[0m     \u001b[38;5;124m\"\u001b[39m\u001b[38;5;124mSummarizationInput\u001b[39m\u001b[38;5;124m\"\u001b[39m,\n\u001b[0;32m    673\u001b[0m     \u001b[38;5;124m\"\u001b[39m\u001b[38;5;124mSummarizationOutput\u001b[39m\u001b[38;5;124m\"\u001b[39m,\n\u001b[0;32m    674\u001b[0m     \u001b[38;5;124m\"\u001b[39m\u001b[38;5;124mSummarizationParameters\u001b[39m\u001b[38;5;124m\"\u001b[39m,\n\u001b[0;32m    675\u001b[0m     \u001b[38;5;124m\"\u001b[39m\u001b[38;5;124mSummarizationTruncationStrategy\u001b[39m\u001b[38;5;124m\"\u001b[39m,\n\u001b[0;32m    676\u001b[0m     \u001b[38;5;124m\"\u001b[39m\u001b[38;5;124mTF2_WEIGHTS_NAME\u001b[39m\u001b[38;5;124m\"\u001b[39m,\n\u001b[0;32m    677\u001b[0m     \u001b[38;5;124m\"\u001b[39m\u001b[38;5;124mTF_WEIGHTS_NAME\u001b[39m\u001b[38;5;124m\"\u001b[39m,\n\u001b[0;32m    678\u001b[0m     \u001b[38;5;124m\"\u001b[39m\u001b[38;5;124mTableQuestionAnsweringInput\u001b[39m\u001b[38;5;124m\"\u001b[39m,\n\u001b[0;32m    679\u001b[0m     \u001b[38;5;124m\"\u001b[39m\u001b[38;5;124mTableQuestionAnsweringInputData\u001b[39m\u001b[38;5;124m\"\u001b[39m,\n\u001b[0;32m    680\u001b[0m     \u001b[38;5;124m\"\u001b[39m\u001b[38;5;124mTableQuestionAnsweringOutputElement\u001b[39m\u001b[38;5;124m\"\u001b[39m,\n\u001b[0;32m    681\u001b[0m     \u001b[38;5;124m\"\u001b[39m\u001b[38;5;124mTableQuestionAnsweringParameters\u001b[39m\u001b[38;5;124m\"\u001b[39m,\n\u001b[0;32m    682\u001b[0m     \u001b[38;5;124m\"\u001b[39m\u001b[38;5;124mText2TextGenerationInput\u001b[39m\u001b[38;5;124m\"\u001b[39m,\n\u001b[0;32m    683\u001b[0m     \u001b[38;5;124m\"\u001b[39m\u001b[38;5;124mText2TextGenerationOutput\u001b[39m\u001b[38;5;124m\"\u001b[39m,\n\u001b[0;32m    684\u001b[0m     \u001b[38;5;124m\"\u001b[39m\u001b[38;5;124mText2TextGenerationParameters\u001b[39m\u001b[38;5;124m\"\u001b[39m,\n\u001b[0;32m    685\u001b[0m     \u001b[38;5;124m\"\u001b[39m\u001b[38;5;124mText2TextGenerationTruncationStrategy\u001b[39m\u001b[38;5;124m\"\u001b[39m,\n\u001b[0;32m    686\u001b[0m     \u001b[38;5;124m\"\u001b[39m\u001b[38;5;124mTextClassificationInput\u001b[39m\u001b[38;5;124m\"\u001b[39m,\n\u001b[0;32m    687\u001b[0m     \u001b[38;5;124m\"\u001b[39m\u001b[38;5;124mTextClassificationOutputElement\u001b[39m\u001b[38;5;124m\"\u001b[39m,\n\u001b[0;32m    688\u001b[0m     \u001b[38;5;124m\"\u001b[39m\u001b[38;5;124mTextClassificationOutputTransform\u001b[39m\u001b[38;5;124m\"\u001b[39m,\n\u001b[0;32m    689\u001b[0m     \u001b[38;5;124m\"\u001b[39m\u001b[38;5;124mTextClassificationParameters\u001b[39m\u001b[38;5;124m\"\u001b[39m,\n\u001b[0;32m    690\u001b[0m     \u001b[38;5;124m\"\u001b[39m\u001b[38;5;124mTextGenerationInput\u001b[39m\u001b[38;5;124m\"\u001b[39m,\n\u001b[0;32m    691\u001b[0m     \u001b[38;5;124m\"\u001b[39m\u001b[38;5;124mTextGenerationInputGenerateParameters\u001b[39m\u001b[38;5;124m\"\u001b[39m,\n\u001b[0;32m    692\u001b[0m     \u001b[38;5;124m\"\u001b[39m\u001b[38;5;124mTextGenerationInputGrammarType\u001b[39m\u001b[38;5;124m\"\u001b[39m,\n\u001b[0;32m    693\u001b[0m     \u001b[38;5;124m\"\u001b[39m\u001b[38;5;124mTextGenerationOutput\u001b[39m\u001b[38;5;124m\"\u001b[39m,\n\u001b[0;32m    694\u001b[0m     \u001b[38;5;124m\"\u001b[39m\u001b[38;5;124mTextGenerationOutputBestOfSequence\u001b[39m\u001b[38;5;124m\"\u001b[39m,\n\u001b[0;32m    695\u001b[0m     \u001b[38;5;124m\"\u001b[39m\u001b[38;5;124mTextGenerationOutputDetails\u001b[39m\u001b[38;5;124m\"\u001b[39m,\n\u001b[0;32m    696\u001b[0m     \u001b[38;5;124m\"\u001b[39m\u001b[38;5;124mTextGenerationOutputFinishReason\u001b[39m\u001b[38;5;124m\"\u001b[39m,\n\u001b[0;32m    697\u001b[0m     \u001b[38;5;124m\"\u001b[39m\u001b[38;5;124mTextGenerationOutputPrefillToken\u001b[39m\u001b[38;5;124m\"\u001b[39m,\n\u001b[0;32m    698\u001b[0m     \u001b[38;5;124m\"\u001b[39m\u001b[38;5;124mTextGenerationOutputToken\u001b[39m\u001b[38;5;124m\"\u001b[39m,\n\u001b[0;32m    699\u001b[0m     \u001b[38;5;124m\"\u001b[39m\u001b[38;5;124mTextGenerationStreamOutput\u001b[39m\u001b[38;5;124m\"\u001b[39m,\n\u001b[0;32m    700\u001b[0m     \u001b[38;5;124m\"\u001b[39m\u001b[38;5;124mTextGenerationStreamOutputStreamDetails\u001b[39m\u001b[38;5;124m\"\u001b[39m,\n\u001b[0;32m    701\u001b[0m     \u001b[38;5;124m\"\u001b[39m\u001b[38;5;124mTextGenerationStreamOutputToken\u001b[39m\u001b[38;5;124m\"\u001b[39m,\n\u001b[0;32m    702\u001b[0m     \u001b[38;5;124m\"\u001b[39m\u001b[38;5;124mTextToAudioEarlyStoppingEnum\u001b[39m\u001b[38;5;124m\"\u001b[39m,\n\u001b[0;32m    703\u001b[0m     \u001b[38;5;124m\"\u001b[39m\u001b[38;5;124mTextToAudioGenerationParameters\u001b[39m\u001b[38;5;124m\"\u001b[39m,\n\u001b[0;32m    704\u001b[0m     \u001b[38;5;124m\"\u001b[39m\u001b[38;5;124mTextToAudioInput\u001b[39m\u001b[38;5;124m\"\u001b[39m,\n\u001b[0;32m    705\u001b[0m     \u001b[38;5;124m\"\u001b[39m\u001b[38;5;124mTextToAudioOutput\u001b[39m\u001b[38;5;124m\"\u001b[39m,\n\u001b[0;32m    706\u001b[0m     \u001b[38;5;124m\"\u001b[39m\u001b[38;5;124mTextToAudioParameters\u001b[39m\u001b[38;5;124m\"\u001b[39m,\n\u001b[0;32m    707\u001b[0m     \u001b[38;5;124m\"\u001b[39m\u001b[38;5;124mTextToImageInput\u001b[39m\u001b[38;5;124m\"\u001b[39m,\n\u001b[0;32m    708\u001b[0m     \u001b[38;5;124m\"\u001b[39m\u001b[38;5;124mTextToImageOutput\u001b[39m\u001b[38;5;124m\"\u001b[39m,\n\u001b[0;32m    709\u001b[0m     \u001b[38;5;124m\"\u001b[39m\u001b[38;5;124mTextToImageParameters\u001b[39m\u001b[38;5;124m\"\u001b[39m,\n\u001b[0;32m    710\u001b[0m     \u001b[38;5;124m\"\u001b[39m\u001b[38;5;124mTextToSpeechEarlyStoppingEnum\u001b[39m\u001b[38;5;124m\"\u001b[39m,\n\u001b[0;32m    711\u001b[0m     \u001b[38;5;124m\"\u001b[39m\u001b[38;5;124mTextToSpeechGenerationParameters\u001b[39m\u001b[38;5;124m\"\u001b[39m,\n\u001b[0;32m    712\u001b[0m     \u001b[38;5;124m\"\u001b[39m\u001b[38;5;124mTextToSpeechInput\u001b[39m\u001b[38;5;124m\"\u001b[39m,\n\u001b[0;32m    713\u001b[0m     \u001b[38;5;124m\"\u001b[39m\u001b[38;5;124mTextToSpeechOutput\u001b[39m\u001b[38;5;124m\"\u001b[39m,\n\u001b[0;32m    714\u001b[0m     \u001b[38;5;124m\"\u001b[39m\u001b[38;5;124mTextToSpeechParameters\u001b[39m\u001b[38;5;124m\"\u001b[39m,\n\u001b[0;32m    715\u001b[0m     \u001b[38;5;124m\"\u001b[39m\u001b[38;5;124mTextToVideoInput\u001b[39m\u001b[38;5;124m\"\u001b[39m,\n\u001b[0;32m    716\u001b[0m     \u001b[38;5;124m\"\u001b[39m\u001b[38;5;124mTextToVideoOutput\u001b[39m\u001b[38;5;124m\"\u001b[39m,\n\u001b[0;32m    717\u001b[0m     \u001b[38;5;124m\"\u001b[39m\u001b[38;5;124mTextToVideoParameters\u001b[39m\u001b[38;5;124m\"\u001b[39m,\n\u001b[0;32m    718\u001b[0m     \u001b[38;5;124m\"\u001b[39m\u001b[38;5;124mTokenClassificationAggregationStrategy\u001b[39m\u001b[38;5;124m\"\u001b[39m,\n\u001b[0;32m    719\u001b[0m     \u001b[38;5;124m\"\u001b[39m\u001b[38;5;124mTokenClassificationInput\u001b[39m\u001b[38;5;124m\"\u001b[39m,\n\u001b[0;32m    720\u001b[0m     \u001b[38;5;124m\"\u001b[39m\u001b[38;5;124mTokenClassificationOutputElement\u001b[39m\u001b[38;5;124m\"\u001b[39m,\n\u001b[0;32m    721\u001b[0m     \u001b[38;5;124m\"\u001b[39m\u001b[38;5;124mTokenClassificationParameters\u001b[39m\u001b[38;5;124m\"\u001b[39m,\n\u001b[0;32m    722\u001b[0m     \u001b[38;5;124m\"\u001b[39m\u001b[38;5;124mTranslationInput\u001b[39m\u001b[38;5;124m\"\u001b[39m,\n\u001b[0;32m    723\u001b[0m     \u001b[38;5;124m\"\u001b[39m\u001b[38;5;124mTranslationOutput\u001b[39m\u001b[38;5;124m\"\u001b[39m,\n\u001b[0;32m    724\u001b[0m     \u001b[38;5;124m\"\u001b[39m\u001b[38;5;124mTranslationParameters\u001b[39m\u001b[38;5;124m\"\u001b[39m,\n\u001b[0;32m    725\u001b[0m     \u001b[38;5;124m\"\u001b[39m\u001b[38;5;124mTranslationTruncationStrategy\u001b[39m\u001b[38;5;124m\"\u001b[39m,\n\u001b[0;32m    726\u001b[0m     \u001b[38;5;124m\"\u001b[39m\u001b[38;5;124mTypeEnum\u001b[39m\u001b[38;5;124m\"\u001b[39m,\n\u001b[0;32m    727\u001b[0m     \u001b[38;5;124m\"\u001b[39m\u001b[38;5;124mUser\u001b[39m\u001b[38;5;124m\"\u001b[39m,\n\u001b[0;32m    728\u001b[0m     \u001b[38;5;124m\"\u001b[39m\u001b[38;5;124mUserLikes\u001b[39m\u001b[38;5;124m\"\u001b[39m,\n\u001b[0;32m    729\u001b[0m     \u001b[38;5;124m\"\u001b[39m\u001b[38;5;124mVideoClassificationInput\u001b[39m\u001b[38;5;124m\"\u001b[39m,\n\u001b[0;32m    730\u001b[0m     \u001b[38;5;124m\"\u001b[39m\u001b[38;5;124mVideoClassificationOutputElement\u001b[39m\u001b[38;5;124m\"\u001b[39m,\n\u001b[0;32m    731\u001b[0m     \u001b[38;5;124m\"\u001b[39m\u001b[38;5;124mVideoClassificationOutputTransform\u001b[39m\u001b[38;5;124m\"\u001b[39m,\n\u001b[0;32m    732\u001b[0m     \u001b[38;5;124m\"\u001b[39m\u001b[38;5;124mVideoClassificationParameters\u001b[39m\u001b[38;5;124m\"\u001b[39m,\n\u001b[0;32m    733\u001b[0m     \u001b[38;5;124m\"\u001b[39m\u001b[38;5;124mVisualQuestionAnsweringInput\u001b[39m\u001b[38;5;124m\"\u001b[39m,\n\u001b[0;32m    734\u001b[0m     \u001b[38;5;124m\"\u001b[39m\u001b[38;5;124mVisualQuestionAnsweringInputData\u001b[39m\u001b[38;5;124m\"\u001b[39m,\n\u001b[0;32m    735\u001b[0m     \u001b[38;5;124m\"\u001b[39m\u001b[38;5;124mVisualQuestionAnsweringOutputElement\u001b[39m\u001b[38;5;124m\"\u001b[39m,\n\u001b[0;32m    736\u001b[0m     \u001b[38;5;124m\"\u001b[39m\u001b[38;5;124mVisualQuestionAnsweringParameters\u001b[39m\u001b[38;5;124m\"\u001b[39m,\n\u001b[0;32m    737\u001b[0m     \u001b[38;5;124m\"\u001b[39m\u001b[38;5;124mWebhookInfo\u001b[39m\u001b[38;5;124m\"\u001b[39m,\n\u001b[0;32m    738\u001b[0m     \u001b[38;5;124m\"\u001b[39m\u001b[38;5;124mWebhookPayload\u001b[39m\u001b[38;5;124m\"\u001b[39m,\n\u001b[0;32m    739\u001b[0m     \u001b[38;5;124m\"\u001b[39m\u001b[38;5;124mWebhookPayloadComment\u001b[39m\u001b[38;5;124m\"\u001b[39m,\n\u001b[0;32m    740\u001b[0m     \u001b[38;5;124m\"\u001b[39m\u001b[38;5;124mWebhookPayloadDiscussion\u001b[39m\u001b[38;5;124m\"\u001b[39m,\n\u001b[0;32m    741\u001b[0m     \u001b[38;5;124m\"\u001b[39m\u001b[38;5;124mWebhookPayloadDiscussionChanges\u001b[39m\u001b[38;5;124m\"\u001b[39m,\n\u001b[0;32m    742\u001b[0m     \u001b[38;5;124m\"\u001b[39m\u001b[38;5;124mWebhookPayloadEvent\u001b[39m\u001b[38;5;124m\"\u001b[39m,\n\u001b[0;32m    743\u001b[0m     \u001b[38;5;124m\"\u001b[39m\u001b[38;5;124mWebhookPayloadMovedTo\u001b[39m\u001b[38;5;124m\"\u001b[39m,\n\u001b[0;32m    744\u001b[0m     \u001b[38;5;124m\"\u001b[39m\u001b[38;5;124mWebhookPayloadRepo\u001b[39m\u001b[38;5;124m\"\u001b[39m,\n\u001b[0;32m    745\u001b[0m     \u001b[38;5;124m\"\u001b[39m\u001b[38;5;124mWebhookPayloadUrl\u001b[39m\u001b[38;5;124m\"\u001b[39m,\n\u001b[0;32m    746\u001b[0m     \u001b[38;5;124m\"\u001b[39m\u001b[38;5;124mWebhookPayloadWebhook\u001b[39m\u001b[38;5;124m\"\u001b[39m,\n\u001b[0;32m    747\u001b[0m     \u001b[38;5;124m\"\u001b[39m\u001b[38;5;124mWebhookWatchedItem\u001b[39m\u001b[38;5;124m\"\u001b[39m,\n\u001b[0;32m    748\u001b[0m     \u001b[38;5;124m\"\u001b[39m\u001b[38;5;124mWebhooksServer\u001b[39m\u001b[38;5;124m\"\u001b[39m,\n\u001b[0;32m    749\u001b[0m     \u001b[38;5;124m\"\u001b[39m\u001b[38;5;124mZeroShotClassificationInput\u001b[39m\u001b[38;5;124m\"\u001b[39m,\n\u001b[0;32m    750\u001b[0m     \u001b[38;5;124m\"\u001b[39m\u001b[38;5;124mZeroShotClassificationOutputElement\u001b[39m\u001b[38;5;124m\"\u001b[39m,\n\u001b[0;32m    751\u001b[0m     \u001b[38;5;124m\"\u001b[39m\u001b[38;5;124mZeroShotClassificationParameters\u001b[39m\u001b[38;5;124m\"\u001b[39m,\n\u001b[0;32m    752\u001b[0m     \u001b[38;5;124m\"\u001b[39m\u001b[38;5;124mZeroShotImageClassificationInput\u001b[39m\u001b[38;5;124m\"\u001b[39m,\n\u001b[0;32m    753\u001b[0m     \u001b[38;5;124m\"\u001b[39m\u001b[38;5;124mZeroShotImageClassificationOutputElement\u001b[39m\u001b[38;5;124m\"\u001b[39m,\n\u001b[0;32m    754\u001b[0m     \u001b[38;5;124m\"\u001b[39m\u001b[38;5;124mZeroShotImageClassificationParameters\u001b[39m\u001b[38;5;124m\"\u001b[39m,\n\u001b[0;32m    755\u001b[0m     \u001b[38;5;124m\"\u001b[39m\u001b[38;5;124mZeroShotObjectDetectionBoundingBox\u001b[39m\u001b[38;5;124m\"\u001b[39m,\n\u001b[0;32m    756\u001b[0m     \u001b[38;5;124m\"\u001b[39m\u001b[38;5;124mZeroShotObjectDetectionInput\u001b[39m\u001b[38;5;124m\"\u001b[39m,\n\u001b[0;32m    757\u001b[0m     \u001b[38;5;124m\"\u001b[39m\u001b[38;5;124mZeroShotObjectDetectionOutputElement\u001b[39m\u001b[38;5;124m\"\u001b[39m,\n\u001b[0;32m    758\u001b[0m     \u001b[38;5;124m\"\u001b[39m\u001b[38;5;124mZeroShotObjectDetectionParameters\u001b[39m\u001b[38;5;124m\"\u001b[39m,\n\u001b[0;32m    759\u001b[0m     \u001b[38;5;124m\"\u001b[39m\u001b[38;5;124m_CACHED_NO_EXIST\u001b[39m\u001b[38;5;124m\"\u001b[39m,\n\u001b[0;32m    760\u001b[0m     \u001b[38;5;124m\"\u001b[39m\u001b[38;5;124m_save_pretrained_fastai\u001b[39m\u001b[38;5;124m\"\u001b[39m,\n\u001b[0;32m    761\u001b[0m     \u001b[38;5;124m\"\u001b[39m\u001b[38;5;124maccept_access_request\u001b[39m\u001b[38;5;124m\"\u001b[39m,\n\u001b[0;32m    762\u001b[0m     \u001b[38;5;124m\"\u001b[39m\u001b[38;5;124madd_collection_item\u001b[39m\u001b[38;5;124m\"\u001b[39m,\n\u001b[0;32m    763\u001b[0m     \u001b[38;5;124m\"\u001b[39m\u001b[38;5;124madd_space_secret\u001b[39m\u001b[38;5;124m\"\u001b[39m,\n\u001b[0;32m    764\u001b[0m     \u001b[38;5;124m\"\u001b[39m\u001b[38;5;124madd_space_variable\u001b[39m\u001b[38;5;124m\"\u001b[39m,\n\u001b[0;32m    765\u001b[0m     \u001b[38;5;124m\"\u001b[39m\u001b[38;5;124mauth_check\u001b[39m\u001b[38;5;124m\"\u001b[39m,\n\u001b[0;32m    766\u001b[0m     \u001b[38;5;124m\"\u001b[39m\u001b[38;5;124mauth_list\u001b[39m\u001b[38;5;124m\"\u001b[39m,\n\u001b[0;32m    767\u001b[0m     \u001b[38;5;124m\"\u001b[39m\u001b[38;5;124mauth_switch\u001b[39m\u001b[38;5;124m\"\u001b[39m,\n\u001b[0;32m    768\u001b[0m     \u001b[38;5;124m\"\u001b[39m\u001b[38;5;124mcached_assets_path\u001b[39m\u001b[38;5;124m\"\u001b[39m,\n\u001b[0;32m    769\u001b[0m     \u001b[38;5;124m\"\u001b[39m\u001b[38;5;124mcancel_access_request\u001b[39m\u001b[38;5;124m\"\u001b[39m,\n\u001b[0;32m    770\u001b[0m     \u001b[38;5;124m\"\u001b[39m\u001b[38;5;124mchange_discussion_status\u001b[39m\u001b[38;5;124m\"\u001b[39m,\n\u001b[0;32m    771\u001b[0m     \u001b[38;5;124m\"\u001b[39m\u001b[38;5;124mcomment_discussion\u001b[39m\u001b[38;5;124m\"\u001b[39m,\n\u001b[0;32m    772\u001b[0m     \u001b[38;5;124m\"\u001b[39m\u001b[38;5;124mconfigure_http_backend\u001b[39m\u001b[38;5;124m\"\u001b[39m,\n\u001b[0;32m    773\u001b[0m     \u001b[38;5;124m\"\u001b[39m\u001b[38;5;124mcreate_branch\u001b[39m\u001b[38;5;124m\"\u001b[39m,\n\u001b[0;32m    774\u001b[0m     \u001b[38;5;124m\"\u001b[39m\u001b[38;5;124mcreate_collection\u001b[39m\u001b[38;5;124m\"\u001b[39m,\n\u001b[0;32m    775\u001b[0m     \u001b[38;5;124m\"\u001b[39m\u001b[38;5;124mcreate_commit\u001b[39m\u001b[38;5;124m\"\u001b[39m,\n\u001b[0;32m    776\u001b[0m     \u001b[38;5;124m\"\u001b[39m\u001b[38;5;124mcreate_discussion\u001b[39m\u001b[38;5;124m\"\u001b[39m,\n\u001b[0;32m    777\u001b[0m     \u001b[38;5;124m\"\u001b[39m\u001b[38;5;124mcreate_inference_endpoint\u001b[39m\u001b[38;5;124m\"\u001b[39m,\n\u001b[0;32m    778\u001b[0m     \u001b[38;5;124m\"\u001b[39m\u001b[38;5;124mcreate_inference_endpoint_from_catalog\u001b[39m\u001b[38;5;124m\"\u001b[39m,\n\u001b[0;32m    779\u001b[0m     \u001b[38;5;124m\"\u001b[39m\u001b[38;5;124mcreate_pull_request\u001b[39m\u001b[38;5;124m\"\u001b[39m,\n\u001b[0;32m    780\u001b[0m     \u001b[38;5;124m\"\u001b[39m\u001b[38;5;124mcreate_repo\u001b[39m\u001b[38;5;124m\"\u001b[39m,\n\u001b[0;32m    781\u001b[0m     \u001b[38;5;124m\"\u001b[39m\u001b[38;5;124mcreate_tag\u001b[39m\u001b[38;5;124m\"\u001b[39m,\n\u001b[0;32m    782\u001b[0m     \u001b[38;5;124m\"\u001b[39m\u001b[38;5;124mcreate_webhook\u001b[39m\u001b[38;5;124m\"\u001b[39m,\n\u001b[0;32m    783\u001b[0m     \u001b[38;5;124m\"\u001b[39m\u001b[38;5;124mdataset_info\u001b[39m\u001b[38;5;124m\"\u001b[39m,\n\u001b[0;32m    784\u001b[0m     \u001b[38;5;124m\"\u001b[39m\u001b[38;5;124mdelete_branch\u001b[39m\u001b[38;5;124m\"\u001b[39m,\n\u001b[0;32m    785\u001b[0m     \u001b[38;5;124m\"\u001b[39m\u001b[38;5;124mdelete_collection\u001b[39m\u001b[38;5;124m\"\u001b[39m,\n\u001b[0;32m    786\u001b[0m     \u001b[38;5;124m\"\u001b[39m\u001b[38;5;124mdelete_collection_item\u001b[39m\u001b[38;5;124m\"\u001b[39m,\n\u001b[0;32m    787\u001b[0m     \u001b[38;5;124m\"\u001b[39m\u001b[38;5;124mdelete_file\u001b[39m\u001b[38;5;124m\"\u001b[39m,\n\u001b[0;32m    788\u001b[0m     \u001b[38;5;124m\"\u001b[39m\u001b[38;5;124mdelete_folder\u001b[39m\u001b[38;5;124m\"\u001b[39m,\n\u001b[0;32m    789\u001b[0m     \u001b[38;5;124m\"\u001b[39m\u001b[38;5;124mdelete_inference_endpoint\u001b[39m\u001b[38;5;124m\"\u001b[39m,\n\u001b[0;32m    790\u001b[0m     \u001b[38;5;124m\"\u001b[39m\u001b[38;5;124mdelete_repo\u001b[39m\u001b[38;5;124m\"\u001b[39m,\n\u001b[0;32m    791\u001b[0m     \u001b[38;5;124m\"\u001b[39m\u001b[38;5;124mdelete_space_secret\u001b[39m\u001b[38;5;124m\"\u001b[39m,\n\u001b[0;32m    792\u001b[0m     \u001b[38;5;124m\"\u001b[39m\u001b[38;5;124mdelete_space_storage\u001b[39m\u001b[38;5;124m\"\u001b[39m,\n\u001b[0;32m    793\u001b[0m     \u001b[38;5;124m\"\u001b[39m\u001b[38;5;124mdelete_space_variable\u001b[39m\u001b[38;5;124m\"\u001b[39m,\n\u001b[0;32m    794\u001b[0m     \u001b[38;5;124m\"\u001b[39m\u001b[38;5;124mdelete_tag\u001b[39m\u001b[38;5;124m\"\u001b[39m,\n\u001b[0;32m    795\u001b[0m     \u001b[38;5;124m\"\u001b[39m\u001b[38;5;124mdelete_webhook\u001b[39m\u001b[38;5;124m\"\u001b[39m,\n\u001b[0;32m    796\u001b[0m     \u001b[38;5;124m\"\u001b[39m\u001b[38;5;124mdisable_webhook\u001b[39m\u001b[38;5;124m\"\u001b[39m,\n\u001b[0;32m    797\u001b[0m     \u001b[38;5;124m\"\u001b[39m\u001b[38;5;124mdump_environment_info\u001b[39m\u001b[38;5;124m\"\u001b[39m,\n\u001b[0;32m    798\u001b[0m     \u001b[38;5;124m\"\u001b[39m\u001b[38;5;124mduplicate_space\u001b[39m\u001b[38;5;124m\"\u001b[39m,\n\u001b[0;32m    799\u001b[0m     \u001b[38;5;124m\"\u001b[39m\u001b[38;5;124medit_discussion_comment\u001b[39m\u001b[38;5;124m\"\u001b[39m,\n\u001b[0;32m    800\u001b[0m     \u001b[38;5;124m\"\u001b[39m\u001b[38;5;124menable_webhook\u001b[39m\u001b[38;5;124m\"\u001b[39m,\n\u001b[0;32m    801\u001b[0m     \u001b[38;5;124m\"\u001b[39m\u001b[38;5;124mexport_entries_as_dduf\u001b[39m\u001b[38;5;124m\"\u001b[39m,\n\u001b[0;32m    802\u001b[0m     \u001b[38;5;124m\"\u001b[39m\u001b[38;5;124mexport_folder_as_dduf\u001b[39m\u001b[38;5;124m\"\u001b[39m,\n\u001b[0;32m    803\u001b[0m     \u001b[38;5;124m\"\u001b[39m\u001b[38;5;124mfile_exists\u001b[39m\u001b[38;5;124m\"\u001b[39m,\n\u001b[0;32m    804\u001b[0m     \u001b[38;5;124m\"\u001b[39m\u001b[38;5;124mfrom_pretrained_fastai\u001b[39m\u001b[38;5;124m\"\u001b[39m,\n\u001b[0;32m    805\u001b[0m     \u001b[38;5;124m\"\u001b[39m\u001b[38;5;124mfrom_pretrained_keras\u001b[39m\u001b[38;5;124m\"\u001b[39m,\n\u001b[0;32m    806\u001b[0m     \u001b[38;5;124m\"\u001b[39m\u001b[38;5;124mget_collection\u001b[39m\u001b[38;5;124m\"\u001b[39m,\n\u001b[0;32m    807\u001b[0m     \u001b[38;5;124m\"\u001b[39m\u001b[38;5;124mget_dataset_tags\u001b[39m\u001b[38;5;124m\"\u001b[39m,\n\u001b[0;32m    808\u001b[0m     \u001b[38;5;124m\"\u001b[39m\u001b[38;5;124mget_discussion_details\u001b[39m\u001b[38;5;124m\"\u001b[39m,\n\u001b[0;32m    809\u001b[0m     \u001b[38;5;124m\"\u001b[39m\u001b[38;5;124mget_full_repo_name\u001b[39m\u001b[38;5;124m\"\u001b[39m,\n\u001b[0;32m    810\u001b[0m     \u001b[38;5;124m\"\u001b[39m\u001b[38;5;124mget_hf_file_metadata\u001b[39m\u001b[38;5;124m\"\u001b[39m,\n\u001b[0;32m    811\u001b[0m     \u001b[38;5;124m\"\u001b[39m\u001b[38;5;124mget_inference_endpoint\u001b[39m\u001b[38;5;124m\"\u001b[39m,\n\u001b[0;32m    812\u001b[0m     \u001b[38;5;124m\"\u001b[39m\u001b[38;5;124mget_model_tags\u001b[39m\u001b[38;5;124m\"\u001b[39m,\n\u001b[0;32m    813\u001b[0m     \u001b[38;5;124m\"\u001b[39m\u001b[38;5;124mget_paths_info\u001b[39m\u001b[38;5;124m\"\u001b[39m,\n\u001b[0;32m    814\u001b[0m     \u001b[38;5;124m\"\u001b[39m\u001b[38;5;124mget_repo_discussions\u001b[39m\u001b[38;5;124m\"\u001b[39m,\n\u001b[0;32m    815\u001b[0m     \u001b[38;5;124m\"\u001b[39m\u001b[38;5;124mget_safetensors_metadata\u001b[39m\u001b[38;5;124m\"\u001b[39m,\n\u001b[0;32m    816\u001b[0m     \u001b[38;5;124m\"\u001b[39m\u001b[38;5;124mget_session\u001b[39m\u001b[38;5;124m\"\u001b[39m,\n\u001b[0;32m    817\u001b[0m     \u001b[38;5;124m\"\u001b[39m\u001b[38;5;124mget_space_runtime\u001b[39m\u001b[38;5;124m\"\u001b[39m,\n\u001b[0;32m    818\u001b[0m     \u001b[38;5;124m\"\u001b[39m\u001b[38;5;124mget_space_variables\u001b[39m\u001b[38;5;124m\"\u001b[39m,\n\u001b[0;32m    819\u001b[0m     \u001b[38;5;124m\"\u001b[39m\u001b[38;5;124mget_tf_storage_size\u001b[39m\u001b[38;5;124m\"\u001b[39m,\n\u001b[0;32m    820\u001b[0m     \u001b[38;5;124m\"\u001b[39m\u001b[38;5;124mget_token\u001b[39m\u001b[38;5;124m\"\u001b[39m,\n\u001b[0;32m    821\u001b[0m     \u001b[38;5;124m\"\u001b[39m\u001b[38;5;124mget_token_permission\u001b[39m\u001b[38;5;124m\"\u001b[39m,\n\u001b[0;32m    822\u001b[0m     \u001b[38;5;124m\"\u001b[39m\u001b[38;5;124mget_torch_storage_id\u001b[39m\u001b[38;5;124m\"\u001b[39m,\n\u001b[0;32m    823\u001b[0m     \u001b[38;5;124m\"\u001b[39m\u001b[38;5;124mget_torch_storage_size\u001b[39m\u001b[38;5;124m\"\u001b[39m,\n\u001b[0;32m    824\u001b[0m     \u001b[38;5;124m\"\u001b[39m\u001b[38;5;124mget_user_overview\u001b[39m\u001b[38;5;124m\"\u001b[39m,\n\u001b[0;32m    825\u001b[0m     \u001b[38;5;124m\"\u001b[39m\u001b[38;5;124mget_webhook\u001b[39m\u001b[38;5;124m\"\u001b[39m,\n\u001b[0;32m    826\u001b[0m     \u001b[38;5;124m\"\u001b[39m\u001b[38;5;124mgrant_access\u001b[39m\u001b[38;5;124m\"\u001b[39m,\n\u001b[0;32m    827\u001b[0m     \u001b[38;5;124m\"\u001b[39m\u001b[38;5;124mhf_hub_download\u001b[39m\u001b[38;5;124m\"\u001b[39m,\n\u001b[0;32m    828\u001b[0m     \u001b[38;5;124m\"\u001b[39m\u001b[38;5;124mhf_hub_url\u001b[39m\u001b[38;5;124m\"\u001b[39m,\n\u001b[0;32m    829\u001b[0m     \u001b[38;5;124m\"\u001b[39m\u001b[38;5;124minterpreter_login\u001b[39m\u001b[38;5;124m\"\u001b[39m,\n\u001b[0;32m    830\u001b[0m     \u001b[38;5;124m\"\u001b[39m\u001b[38;5;124mlist_accepted_access_requests\u001b[39m\u001b[38;5;124m\"\u001b[39m,\n\u001b[0;32m    831\u001b[0m     \u001b[38;5;124m\"\u001b[39m\u001b[38;5;124mlist_collections\u001b[39m\u001b[38;5;124m\"\u001b[39m,\n\u001b[0;32m    832\u001b[0m     \u001b[38;5;124m\"\u001b[39m\u001b[38;5;124mlist_datasets\u001b[39m\u001b[38;5;124m\"\u001b[39m,\n\u001b[0;32m    833\u001b[0m     \u001b[38;5;124m\"\u001b[39m\u001b[38;5;124mlist_inference_catalog\u001b[39m\u001b[38;5;124m\"\u001b[39m,\n\u001b[0;32m    834\u001b[0m     \u001b[38;5;124m\"\u001b[39m\u001b[38;5;124mlist_inference_endpoints\u001b[39m\u001b[38;5;124m\"\u001b[39m,\n\u001b[0;32m    835\u001b[0m     \u001b[38;5;124m\"\u001b[39m\u001b[38;5;124mlist_lfs_files\u001b[39m\u001b[38;5;124m\"\u001b[39m,\n\u001b[0;32m    836\u001b[0m     \u001b[38;5;124m\"\u001b[39m\u001b[38;5;124mlist_liked_repos\u001b[39m\u001b[38;5;124m\"\u001b[39m,\n\u001b[0;32m    837\u001b[0m     \u001b[38;5;124m\"\u001b[39m\u001b[38;5;124mlist_models\u001b[39m\u001b[38;5;124m\"\u001b[39m,\n\u001b[0;32m    838\u001b[0m     \u001b[38;5;124m\"\u001b[39m\u001b[38;5;124mlist_organization_members\u001b[39m\u001b[38;5;124m\"\u001b[39m,\n\u001b[0;32m    839\u001b[0m     \u001b[38;5;124m\"\u001b[39m\u001b[38;5;124mlist_papers\u001b[39m\u001b[38;5;124m\"\u001b[39m,\n\u001b[0;32m    840\u001b[0m     \u001b[38;5;124m\"\u001b[39m\u001b[38;5;124mlist_pending_access_requests\u001b[39m\u001b[38;5;124m\"\u001b[39m,\n\u001b[0;32m    841\u001b[0m     \u001b[38;5;124m\"\u001b[39m\u001b[38;5;124mlist_rejected_access_requests\u001b[39m\u001b[38;5;124m\"\u001b[39m,\n\u001b[0;32m    842\u001b[0m     \u001b[38;5;124m\"\u001b[39m\u001b[38;5;124mlist_repo_commits\u001b[39m\u001b[38;5;124m\"\u001b[39m,\n\u001b[0;32m    843\u001b[0m     \u001b[38;5;124m\"\u001b[39m\u001b[38;5;124mlist_repo_files\u001b[39m\u001b[38;5;124m\"\u001b[39m,\n\u001b[0;32m    844\u001b[0m     \u001b[38;5;124m\"\u001b[39m\u001b[38;5;124mlist_repo_likers\u001b[39m\u001b[38;5;124m\"\u001b[39m,\n\u001b[0;32m    845\u001b[0m     \u001b[38;5;124m\"\u001b[39m\u001b[38;5;124mlist_repo_refs\u001b[39m\u001b[38;5;124m\"\u001b[39m,\n\u001b[0;32m    846\u001b[0m     \u001b[38;5;124m\"\u001b[39m\u001b[38;5;124mlist_repo_tree\u001b[39m\u001b[38;5;124m\"\u001b[39m,\n\u001b[0;32m    847\u001b[0m     \u001b[38;5;124m\"\u001b[39m\u001b[38;5;124mlist_spaces\u001b[39m\u001b[38;5;124m\"\u001b[39m,\n\u001b[0;32m    848\u001b[0m     \u001b[38;5;124m\"\u001b[39m\u001b[38;5;124mlist_user_followers\u001b[39m\u001b[38;5;124m\"\u001b[39m,\n\u001b[0;32m    849\u001b[0m     \u001b[38;5;124m\"\u001b[39m\u001b[38;5;124mlist_user_following\u001b[39m\u001b[38;5;124m\"\u001b[39m,\n\u001b[0;32m    850\u001b[0m     \u001b[38;5;124m\"\u001b[39m\u001b[38;5;124mlist_webhooks\u001b[39m\u001b[38;5;124m\"\u001b[39m,\n\u001b[0;32m    851\u001b[0m     \u001b[38;5;124m\"\u001b[39m\u001b[38;5;124mload_state_dict_from_file\u001b[39m\u001b[38;5;124m\"\u001b[39m,\n\u001b[0;32m    852\u001b[0m     \u001b[38;5;124m\"\u001b[39m\u001b[38;5;124mload_torch_model\u001b[39m\u001b[38;5;124m\"\u001b[39m,\n\u001b[0;32m    853\u001b[0m     \u001b[38;5;124m\"\u001b[39m\u001b[38;5;124mlogging\u001b[39m\u001b[38;5;124m\"\u001b[39m,\n\u001b[0;32m    854\u001b[0m     \u001b[38;5;124m\"\u001b[39m\u001b[38;5;124mlogin\u001b[39m\u001b[38;5;124m\"\u001b[39m,\n\u001b[0;32m    855\u001b[0m     \u001b[38;5;124m\"\u001b[39m\u001b[38;5;124mlogout\u001b[39m\u001b[38;5;124m\"\u001b[39m,\n\u001b[0;32m    856\u001b[0m     \u001b[38;5;124m\"\u001b[39m\u001b[38;5;124mmerge_pull_request\u001b[39m\u001b[38;5;124m\"\u001b[39m,\n\u001b[0;32m    857\u001b[0m     \u001b[38;5;124m\"\u001b[39m\u001b[38;5;124mmetadata_eval_result\u001b[39m\u001b[38;5;124m\"\u001b[39m,\n\u001b[0;32m    858\u001b[0m     \u001b[38;5;124m\"\u001b[39m\u001b[38;5;124mmetadata_load\u001b[39m\u001b[38;5;124m\"\u001b[39m,\n\u001b[0;32m    859\u001b[0m     \u001b[38;5;124m\"\u001b[39m\u001b[38;5;124mmetadata_save\u001b[39m\u001b[38;5;124m\"\u001b[39m,\n\u001b[0;32m    860\u001b[0m     \u001b[38;5;124m\"\u001b[39m\u001b[38;5;124mmetadata_update\u001b[39m\u001b[38;5;124m\"\u001b[39m,\n\u001b[0;32m    861\u001b[0m     \u001b[38;5;124m\"\u001b[39m\u001b[38;5;124mmodel_info\u001b[39m\u001b[38;5;124m\"\u001b[39m,\n\u001b[0;32m    862\u001b[0m     \u001b[38;5;124m\"\u001b[39m\u001b[38;5;124mmove_repo\u001b[39m\u001b[38;5;124m\"\u001b[39m,\n\u001b[0;32m    863\u001b[0m     \u001b[38;5;124m\"\u001b[39m\u001b[38;5;124mnotebook_login\u001b[39m\u001b[38;5;124m\"\u001b[39m,\n\u001b[0;32m    864\u001b[0m     \u001b[38;5;124m\"\u001b[39m\u001b[38;5;124mpaper_info\u001b[39m\u001b[38;5;124m\"\u001b[39m,\n\u001b[0;32m    865\u001b[0m     \u001b[38;5;124m\"\u001b[39m\u001b[38;5;124mparse_safetensors_file_metadata\u001b[39m\u001b[38;5;124m\"\u001b[39m,\n\u001b[0;32m    866\u001b[0m     \u001b[38;5;124m\"\u001b[39m\u001b[38;5;124mpause_inference_endpoint\u001b[39m\u001b[38;5;124m\"\u001b[39m,\n\u001b[0;32m    867\u001b[0m     \u001b[38;5;124m\"\u001b[39m\u001b[38;5;124mpause_space\u001b[39m\u001b[38;5;124m\"\u001b[39m,\n\u001b[0;32m    868\u001b[0m     \u001b[38;5;124m\"\u001b[39m\u001b[38;5;124mpermanently_delete_lfs_files\u001b[39m\u001b[38;5;124m\"\u001b[39m,\n\u001b[0;32m    869\u001b[0m     \u001b[38;5;124m\"\u001b[39m\u001b[38;5;124mpreupload_lfs_files\u001b[39m\u001b[38;5;124m\"\u001b[39m,\n\u001b[0;32m    870\u001b[0m     \u001b[38;5;124m\"\u001b[39m\u001b[38;5;124mpush_to_hub_fastai\u001b[39m\u001b[38;5;124m\"\u001b[39m,\n\u001b[0;32m    871\u001b[0m     \u001b[38;5;124m\"\u001b[39m\u001b[38;5;124mpush_to_hub_keras\u001b[39m\u001b[38;5;124m\"\u001b[39m,\n\u001b[0;32m    872\u001b[0m     \u001b[38;5;124m\"\u001b[39m\u001b[38;5;124mread_dduf_file\u001b[39m\u001b[38;5;124m\"\u001b[39m,\n\u001b[0;32m    873\u001b[0m     \u001b[38;5;124m\"\u001b[39m\u001b[38;5;124mreject_access_request\u001b[39m\u001b[38;5;124m\"\u001b[39m,\n\u001b[0;32m    874\u001b[0m     \u001b[38;5;124m\"\u001b[39m\u001b[38;5;124mrename_discussion\u001b[39m\u001b[38;5;124m\"\u001b[39m,\n\u001b[0;32m    875\u001b[0m     \u001b[38;5;124m\"\u001b[39m\u001b[38;5;124mrepo_exists\u001b[39m\u001b[38;5;124m\"\u001b[39m,\n\u001b[0;32m    876\u001b[0m     \u001b[38;5;124m\"\u001b[39m\u001b[38;5;124mrepo_info\u001b[39m\u001b[38;5;124m\"\u001b[39m,\n\u001b[0;32m    877\u001b[0m     \u001b[38;5;124m\"\u001b[39m\u001b[38;5;124mrepo_type_and_id_from_hf_id\u001b[39m\u001b[38;5;124m\"\u001b[39m,\n\u001b[0;32m    878\u001b[0m     \u001b[38;5;124m\"\u001b[39m\u001b[38;5;124mrequest_space_hardware\u001b[39m\u001b[38;5;124m\"\u001b[39m,\n\u001b[0;32m    879\u001b[0m     \u001b[38;5;124m\"\u001b[39m\u001b[38;5;124mrequest_space_storage\u001b[39m\u001b[38;5;124m\"\u001b[39m,\n\u001b[0;32m    880\u001b[0m     \u001b[38;5;124m\"\u001b[39m\u001b[38;5;124mrestart_space\u001b[39m\u001b[38;5;124m\"\u001b[39m,\n\u001b[0;32m    881\u001b[0m     \u001b[38;5;124m\"\u001b[39m\u001b[38;5;124mresume_inference_endpoint\u001b[39m\u001b[38;5;124m\"\u001b[39m,\n\u001b[0;32m    882\u001b[0m     \u001b[38;5;124m\"\u001b[39m\u001b[38;5;124mrevision_exists\u001b[39m\u001b[38;5;124m\"\u001b[39m,\n\u001b[0;32m    883\u001b[0m     \u001b[38;5;124m\"\u001b[39m\u001b[38;5;124mrun_as_future\u001b[39m\u001b[38;5;124m\"\u001b[39m,\n\u001b[0;32m    884\u001b[0m     \u001b[38;5;124m\"\u001b[39m\u001b[38;5;124msave_pretrained_keras\u001b[39m\u001b[38;5;124m\"\u001b[39m,\n\u001b[0;32m    885\u001b[0m     \u001b[38;5;124m\"\u001b[39m\u001b[38;5;124msave_torch_model\u001b[39m\u001b[38;5;124m\"\u001b[39m,\n\u001b[0;32m    886\u001b[0m     \u001b[38;5;124m\"\u001b[39m\u001b[38;5;124msave_torch_state_dict\u001b[39m\u001b[38;5;124m\"\u001b[39m,\n\u001b[0;32m    887\u001b[0m     \u001b[38;5;124m\"\u001b[39m\u001b[38;5;124mscale_to_zero_inference_endpoint\u001b[39m\u001b[38;5;124m\"\u001b[39m,\n\u001b[0;32m    888\u001b[0m     \u001b[38;5;124m\"\u001b[39m\u001b[38;5;124mscan_cache_dir\u001b[39m\u001b[38;5;124m\"\u001b[39m,\n\u001b[0;32m    889\u001b[0m     \u001b[38;5;124m\"\u001b[39m\u001b[38;5;124mset_space_sleep_time\u001b[39m\u001b[38;5;124m\"\u001b[39m,\n\u001b[0;32m    890\u001b[0m     \u001b[38;5;124m\"\u001b[39m\u001b[38;5;124msnapshot_download\u001b[39m\u001b[38;5;124m\"\u001b[39m,\n\u001b[0;32m    891\u001b[0m     \u001b[38;5;124m\"\u001b[39m\u001b[38;5;124mspace_info\u001b[39m\u001b[38;5;124m\"\u001b[39m,\n\u001b[0;32m    892\u001b[0m     \u001b[38;5;124m\"\u001b[39m\u001b[38;5;124msplit_state_dict_into_shards_factory\u001b[39m\u001b[38;5;124m\"\u001b[39m,\n\u001b[0;32m    893\u001b[0m     \u001b[38;5;124m\"\u001b[39m\u001b[38;5;124msplit_tf_state_dict_into_shards\u001b[39m\u001b[38;5;124m\"\u001b[39m,\n\u001b[0;32m    894\u001b[0m     \u001b[38;5;124m\"\u001b[39m\u001b[38;5;124msplit_torch_state_dict_into_shards\u001b[39m\u001b[38;5;124m\"\u001b[39m,\n\u001b[0;32m    895\u001b[0m     \u001b[38;5;124m\"\u001b[39m\u001b[38;5;124msuper_squash_history\u001b[39m\u001b[38;5;124m\"\u001b[39m,\n\u001b[0;32m    896\u001b[0m     \u001b[38;5;124m\"\u001b[39m\u001b[38;5;124mtry_to_load_from_cache\u001b[39m\u001b[38;5;124m\"\u001b[39m,\n\u001b[0;32m    897\u001b[0m     \u001b[38;5;124m\"\u001b[39m\u001b[38;5;124munlike\u001b[39m\u001b[38;5;124m\"\u001b[39m,\n\u001b[0;32m    898\u001b[0m     \u001b[38;5;124m\"\u001b[39m\u001b[38;5;124mupdate_collection_item\u001b[39m\u001b[38;5;124m\"\u001b[39m,\n\u001b[0;32m    899\u001b[0m     \u001b[38;5;124m\"\u001b[39m\u001b[38;5;124mupdate_collection_metadata\u001b[39m\u001b[38;5;124m\"\u001b[39m,\n\u001b[0;32m    900\u001b[0m     \u001b[38;5;124m\"\u001b[39m\u001b[38;5;124mupdate_inference_endpoint\u001b[39m\u001b[38;5;124m\"\u001b[39m,\n\u001b[0;32m    901\u001b[0m     \u001b[38;5;124m\"\u001b[39m\u001b[38;5;124mupdate_repo_settings\u001b[39m\u001b[38;5;124m\"\u001b[39m,\n\u001b[0;32m    902\u001b[0m     \u001b[38;5;124m\"\u001b[39m\u001b[38;5;124mupdate_repo_visibility\u001b[39m\u001b[38;5;124m\"\u001b[39m,\n\u001b[0;32m    903\u001b[0m     \u001b[38;5;124m\"\u001b[39m\u001b[38;5;124mupdate_webhook\u001b[39m\u001b[38;5;124m\"\u001b[39m,\n\u001b[0;32m    904\u001b[0m     \u001b[38;5;124m\"\u001b[39m\u001b[38;5;124mupload_file\u001b[39m\u001b[38;5;124m\"\u001b[39m,\n\u001b[0;32m    905\u001b[0m     \u001b[38;5;124m\"\u001b[39m\u001b[38;5;124mupload_folder\u001b[39m\u001b[38;5;124m\"\u001b[39m,\n\u001b[0;32m    906\u001b[0m     \u001b[38;5;124m\"\u001b[39m\u001b[38;5;124mupload_large_folder\u001b[39m\u001b[38;5;124m\"\u001b[39m,\n\u001b[0;32m    907\u001b[0m     \u001b[38;5;124m\"\u001b[39m\u001b[38;5;124mwebhook_endpoint\u001b[39m\u001b[38;5;124m\"\u001b[39m,\n\u001b[0;32m    908\u001b[0m     \u001b[38;5;124m\"\u001b[39m\u001b[38;5;124mwhoami\u001b[39m\u001b[38;5;124m\"\u001b[39m,\n\u001b[0;32m    909\u001b[0m ]\n\u001b[0;32m    912\u001b[0m \u001b[38;5;28;01mdef\u001b[39;00m \u001b[38;5;21m_attach\u001b[39m(package_name, submodules\u001b[38;5;241m=\u001b[39m\u001b[38;5;28;01mNone\u001b[39;00m, submod_attrs\u001b[38;5;241m=\u001b[39m\u001b[38;5;28;01mNone\u001b[39;00m):\n\u001b[0;32m    913\u001b[0m \u001b[38;5;250m    \u001b[39m\u001b[38;5;124;03m\"\"\"Attach lazily loaded submodules, functions, or other attributes.\u001b[39;00m\n\u001b[0;32m    914\u001b[0m \n\u001b[0;32m    915\u001b[0m \u001b[38;5;124;03m    Typically, modules import submodules and attributes as follows:\u001b[39;00m\n\u001b[1;32m   (...)\u001b[0m\n\u001b[0;32m    950\u001b[0m \n\u001b[0;32m    951\u001b[0m \u001b[38;5;124;03m    \"\"\"\u001b[39;00m\n",
      "File \u001b[1;32mc:\\Users\\kyanj\\anaconda3\\envs\\fyp_env\\Lib\\importlib\\__init__.py:126\u001b[0m, in \u001b[0;36mimport_module\u001b[1;34m(name, package)\u001b[0m\n\u001b[0;32m    124\u001b[0m             \u001b[38;5;28;01mbreak\u001b[39;00m\n\u001b[0;32m    125\u001b[0m         level \u001b[38;5;241m+\u001b[39m\u001b[38;5;241m=\u001b[39m \u001b[38;5;241m1\u001b[39m\n\u001b[1;32m--> 126\u001b[0m \u001b[38;5;28;01mreturn\u001b[39;00m \u001b[43m_bootstrap\u001b[49m\u001b[38;5;241;43m.\u001b[39;49m\u001b[43m_gcd_import\u001b[49m\u001b[43m(\u001b[49m\u001b[43mname\u001b[49m\u001b[43m[\u001b[49m\u001b[43mlevel\u001b[49m\u001b[43m:\u001b[49m\u001b[43m]\u001b[49m\u001b[43m,\u001b[49m\u001b[43m \u001b[49m\u001b[43mpackage\u001b[49m\u001b[43m,\u001b[49m\u001b[43m \u001b[49m\u001b[43mlevel\u001b[49m\u001b[43m)\u001b[49m\n",
      "File \u001b[1;32mc:\\Users\\kyanj\\anaconda3\\envs\\fyp_env\\Lib\\site-packages\\huggingface_hub\\_snapshot_download.py:10\u001b[0m\n\u001b[0;32m      7\u001b[0m \u001b[38;5;28;01mfrom\u001b[39;00m \u001b[38;5;21;01mtqdm\u001b[39;00m\u001b[38;5;21;01m.\u001b[39;00m\u001b[38;5;21;01mcontrib\u001b[39;00m\u001b[38;5;21;01m.\u001b[39;00m\u001b[38;5;21;01mconcurrent\u001b[39;00m \u001b[38;5;28;01mimport\u001b[39;00m thread_map\n\u001b[0;32m      9\u001b[0m \u001b[38;5;28;01mfrom\u001b[39;00m \u001b[38;5;21;01m.\u001b[39;00m \u001b[38;5;28;01mimport\u001b[39;00m constants\n\u001b[1;32m---> 10\u001b[0m \u001b[38;5;28;01mfrom\u001b[39;00m \u001b[38;5;21;01m.\u001b[39;00m\u001b[38;5;21;01merrors\u001b[39;00m \u001b[38;5;28;01mimport\u001b[39;00m GatedRepoError, LocalEntryNotFoundError, RepositoryNotFoundError, RevisionNotFoundError\n\u001b[0;32m     11\u001b[0m \u001b[38;5;28;01mfrom\u001b[39;00m \u001b[38;5;21;01m.\u001b[39;00m\u001b[38;5;21;01mfile_download\u001b[39;00m \u001b[38;5;28;01mimport\u001b[39;00m REGEX_COMMIT_HASH, hf_hub_download, repo_folder_name\n\u001b[0;32m     12\u001b[0m \u001b[38;5;28;01mfrom\u001b[39;00m \u001b[38;5;21;01m.\u001b[39;00m\u001b[38;5;21;01mhf_api\u001b[39;00m \u001b[38;5;28;01mimport\u001b[39;00m DatasetInfo, HfApi, ModelInfo, SpaceInfo\n",
      "\u001b[1;31mImportError\u001b[0m: cannot import name 'GatedRepoError' from 'huggingface_hub.errors' (c:\\Users\\kyanj\\anaconda3\\envs\\fyp_env\\Lib\\site-packages\\huggingface_hub\\errors.py)"
     ]
    }
   ],
   "source": [
    "from datasets import load_dataset\n",
    "from src.paper_to_equation.Generation.Equation_BaseDataset import BaseDataset\n",
    "from transformers import AutoTokenizer, AutoModelForSeq2SeqLM, DataCollatorForSeq2Seq, Seq2SeqTrainingArguments, Seq2SeqTrainer, T5Tokenizer, T5TokenizerFast, T5ForConditionalGeneration\n",
    "import torch\n",
    "import evaluate\n",
    "import os\n",
    "import numpy as np\n",
    "import csv\n",
    "from peft import get_peft_model, LoraConfig, TaskType"
   ]
  },
  {
   "cell_type": "code",
   "execution_count": 5,
   "metadata": {},
   "outputs": [
    {
     "name": "stderr",
     "output_type": "stream",
     "text": [
      "Generating dataset: 0it [00:00, ?it/s]"
     ]
    },
    {
     "name": "stderr",
     "output_type": "stream",
     "text": [
      "Generating dataset: 100%|██████████| 1000/1000 [00:10<00:00, 91.22it/s]\n",
      "Generating dataset: 100%|██████████| 200/200 [00:02<00:00, 97.56it/s] \n",
      "Generating dataset: 100%|██████████| 200/200 [00:02<00:00, 96.52it/s] \n"
     ]
    }
   ],
   "source": [
    "class T5Dataset(BaseDataset):\n",
    "    def __init__(self, num):\n",
    "        super().__init__(num)\n",
    "\n",
    "    def get_columns(self):\n",
    "        return [\"MathML\", \"Python\"]\n",
    "\n",
    "t5_data = T5Dataset(1000)\n",
    "t5_data.create(\"Data/t5_train_2.csv\")\n",
    "t5_data = T5Dataset(200)\n",
    "t5_data.create(\"Data/t5_validation_2.csv\")\n",
    "t5_data = T5Dataset(200)\n",
    "t5_data.create(\"Data/t5_test_2.csv\")"
   ]
  },
  {
   "cell_type": "code",
   "execution_count": 18,
   "metadata": {},
   "outputs": [
    {
     "data": {
      "text/plain": [
       "DatasetDict({\n",
       "    train: Dataset({\n",
       "        features: ['MathML', 'Python'],\n",
       "        num_rows: 1000\n",
       "    })\n",
       "    validation: Dataset({\n",
       "        features: ['MathML', 'Python'],\n",
       "        num_rows: 200\n",
       "    })\n",
       "    test: Dataset({\n",
       "        features: ['MathML', 'Python'],\n",
       "        num_rows: 200\n",
       "    })\n",
       "})"
      ]
     },
     "execution_count": 18,
     "metadata": {},
     "output_type": "execute_result"
    }
   ],
   "source": [
    "data_files = {\n",
    "    \"train\": \"Data/t5_train_2.csv\",\n",
    "    \"validation\": \"Data/t5_validation_2.csv\",\n",
    "    \"test\": \"Data/t5_test_2.csv\"\n",
    "    }\n",
    "mml_py_dataset = load_dataset(\"csv\", data_files=data_files)\n",
    "\n",
    "def remove_carriage_return(examples):\n",
    "    return {\n",
    "        \"MathML\": examples[\"MathML\"].replace(\"\\r\\n\", \"\\n\").replace(\"\\r\", \"\"),\n",
    "        \"Python\": examples[\"Python\"].replace(\"\\r\\n\", \"\\n\").replace(\"\\r\", \"\")\n",
    "    }\n",
    "\n",
    "mml_py_dataset.map(remove_carriage_return)"
   ]
  },
  {
   "cell_type": "code",
   "execution_count": 21,
   "metadata": {},
   "outputs": [
    {
     "name": "stderr",
     "output_type": "stream",
     "text": [
      "c:\\Users\\kyanj\\anaconda3\\envs\\fyp_env\\Lib\\site-packages\\huggingface_hub\\file_download.py:159: UserWarning: `huggingface_hub` cache-system uses symlinks by default to efficiently store duplicated files but your machine does not support them in C:\\Users\\kyanj\\.cache\\huggingface\\hub\\models--kj821--mathml-py-tokenizer-sentencepiece-v1. Caching files will still work but in a degraded version that might require more space on your disk. This warning can be disabled by setting the `HF_HUB_DISABLE_SYMLINKS_WARNING` environment variable. For more details, see https://huggingface.co/docs/huggingface_hub/how-to-cache#limitations.\n",
      "To support symlinks on Windows, you either need to activate Developer Mode or to run Python as an administrator. In order to see activate developer mode, see this article: https://docs.microsoft.com/en-us/windows/apps/get-started/enable-your-device-for-development\n",
      "  warnings.warn(message)\n"
     ]
    }
   ],
   "source": [
    "model_checkpoint = \"t5-small\"\n",
    "tokenizer = T5Tokenizer.from_pretrained(\"kj821/mathml-py-tokenizer-sentencepiece-v1\")"
   ]
  },
  {
   "cell_type": "code",
   "execution_count": 24,
   "metadata": {},
   "outputs": [
    {
     "name": "stdout",
     "output_type": "stream",
     "text": [
      "{'input_ids': [46, 5, 40, 39, 24, 167, 27, 40, 39, 24, 130, 27, 40, 39, 9, 40, 39, 16, 47, 11, 40, 39, 25, 40, 39, 19, 40, 39, 16, 161, 11, 40, 39, 25, 40, 39, 24, 62, 27, 40, 39, 16, 47, 11, 40, 39, 6, 163, 14, 40, 39, 18, 40, 39, 5, 40, 39, 24, 134, 27, 40, 39, 25, 40, 39, 24, 170, 27, 40, 39, 24, 147, 27, 40, 39, 24, 141, 27, 40, 39, 18, 40, 39, 9, 40, 39, 21, 40, 39, 17, 40, 39, 25, 40, 39, 7, 40, 39, 7, 40, 39, 26, 30, 10, 40, 39, 24, 137, 27, 40, 39, 12, 40, 39, 5, 40, 39, 24, 78, 27, 40, 39, 25, 40, 39, 24, 64, 27, 40, 39, 24, 100, 27, 40, 39, 18, 40, 39, 9, 40, 39, 12, 40, 39, 16, 54, 11, 40, 39, 25, 40, 39, 24, 33, 27, 40, 39, 17, 40, 39, 5, 40, 39, 24, 126, 27, 40, 39, 25, 40, 39, 24, 129, 27, 40, 39, 24, 82, 27, 40, 39, 18, 40, 39, 9, 40, 39, 4, 40, 39, 18, 40, 39, 18, 40, 39, 4, 40, 39, 18, 2], 'attention_mask': [1, 1, 1, 1, 1, 1, 1, 1, 1, 1, 1, 1, 1, 1, 1, 1, 1, 1, 1, 1, 1, 1, 1, 1, 1, 1, 1, 1, 1, 1, 1, 1, 1, 1, 1, 1, 1, 1, 1, 1, 1, 1, 1, 1, 1, 1, 1, 1, 1, 1, 1, 1, 1, 1, 1, 1, 1, 1, 1, 1, 1, 1, 1, 1, 1, 1, 1, 1, 1, 1, 1, 1, 1, 1, 1, 1, 1, 1, 1, 1, 1, 1, 1, 1, 1, 1, 1, 1, 1, 1, 1, 1, 1, 1, 1, 1, 1, 1, 1, 1, 1, 1, 1, 1, 1, 1, 1, 1, 1, 1, 1, 1, 1, 1, 1, 1, 1, 1, 1, 1, 1, 1, 1, 1, 1, 1, 1, 1, 1, 1, 1, 1, 1, 1, 1, 1, 1, 1, 1, 1, 1, 1, 1, 1, 1, 1, 1, 1, 1, 1, 1, 1, 1, 1, 1, 1, 1, 1, 1, 1, 1, 1, 1, 1, 1, 1, 1, 1, 1, 1, 1, 1, 1, 1, 1, 1, 1, 1, 1, 1, 1, 1, 1, 1, 1, 1, 1, 1, 1, 1, 1, 1, 1, 1, 1, 1, 1, 1, 1, 1, 1], 'labels': [46, 167, 49, 130, 46, 47, 46, 28, 52, 167, 49, 130, 50, 48, 40, 39, 62, 46, 47, 46, 28, 52, 62, 50, 48, 40, 39, 134, 49, 170, 147, 141, 46, 47, 46, 28, 52, 134, 49, 170, 147, 141, 50, 48, 40, 39, 78, 49, 64, 100, 46, 47, 46, 28, 52, 78, 49, 64, 100, 50, 48, 40, 39, 137, 46, 47, 46, 28, 52, 137, 50, 48, 40, 39, 126, 49, 129, 82, 46, 47, 46, 28, 52, 126, 49, 129, 82, 50, 48, 40, 39, 55, 46, 47, 46, 29, 51, 167, 49, 130, 53, 46, 36, 51, 30, 51, 137, 173, 78, 49, 64, 100, 46, 54, 46, 33, 51, 126, 49, 129, 82, 48, 53, 46, 51, 62, 53, 46, 163, 53, 46, 134, 49, 170, 147, 141, 165, 2]}\n",
      "<mml:msub>\n",
      "<mml:mi>N</mml:mi>\n",
      "<mml:mi>P</mml:mi>\n",
      "</mml:msub>\n",
      "<mml:mo>=</mml:mo>\n",
      "<mml:mrow>\n",
      "<mml:munderover>\n",
      "<mml:mo>∑</mml:mo>\n",
      "<mml:mrow>\n",
      "<mml:mi>t</mml:mi>\n",
      "<mml:mo>=</mml:mo>\n",
      "<mml:mn>7</mml:mn>\n",
      "</mml:mrow>\n",
      "<mml:msub>\n",
      "<mml:mi>Ο</mml:mi>\n",
      "<mml:mrow>\n",
      "<mml:mi>O</mml:mi>\n",
      "<mml:mi>ι</mml:mi>\n",
      "<mml:mi>χ</mml:mi>\n",
      "</mml:mrow>\n",
      "</mml:msub>\n",
      "</mml:munderover>\n",
      "<mml:mfenced>\n",
      "<mml:mrow>\n",
      "<mml:msup>\n",
      "<mml:msup>\n",
      "<mml:mtext>exp</mml:mtext>\n",
      "<mml:mi>φ</mml:mi>\n",
      "</mml:msup>\n",
      "<mml:msub>\n",
      "<mml:mi>Μ</mml:mi>\n",
      "<mml:mrow>\n",
      "<mml:mi>ω</mml:mi>\n",
      "<mml:mi>L</mml:mi>\n",
      "</mml:mrow>\n",
      "</mml:msub>\n",
      "</mml:msup>\n",
      "<mml:mo>+</mml:mo>\n",
      "<mml:mrow>\n",
      "<mml:mi>tan</mml:mi>\n",
      "<mml:mfenced>\n",
      "<mml:msub>\n",
      "<mml:mi>η</mml:mi>\n",
      "<mml:mrow>\n",
      "<mml:mi>y</mml:mi>\n",
      "<mml:mi>λ</mml:mi>\n",
      "</mml:mrow>\n",
      "</mml:msub>\n",
      "</mml:mfenced>\n",
      "</mml:mrow>\n",
      "</mml:mrow>\n",
      "</mml:mfenced>\n",
      "</mml:mrow>\n"
     ]
    }
   ],
   "source": [
    "mml_sentence = mml_py_dataset[\"train\"][\"MathML\"][0]\n",
    "py_sentence = mml_py_dataset[\"train\"][\"Python\"][0]\n",
    "\n",
    "inputs = tokenizer(mml_sentence, text_target=py_sentence)\n",
    "print(inputs)\n",
    "print(tokenizer.decode(inputs[\"input_ids\"], skip_special_tokens=True))\n",
    "# print(tokenizer.encode(mml_sentence))\n",
    "# print(tokenizer.decode(inputs[\"labels\"], skip_special_tokens=True))"
   ]
  },
  {
   "cell_type": "code",
   "execution_count": 25,
   "metadata": {},
   "outputs": [
    {
     "name": "stderr",
     "output_type": "stream",
     "text": [
      "Map: 100%|██████████| 1000/1000 [00:00<00:00, 1863.38 examples/s]\n",
      "Map: 100%|██████████| 200/200 [00:00<00:00, 345.16 examples/s]\n",
      "Map: 100%|██████████| 200/200 [00:00<00:00, 1783.57 examples/s]\n"
     ]
    }
   ],
   "source": [
    "\n",
    "max_length = 512\n",
    "def preprocess_function(examples):\n",
    "    prefix = \"translate MathML to Python: \"\n",
    "    inputs = [prefix + mml for mml in examples[\"MathML\"]]\n",
    "    model_inputs = tokenizer(inputs, max_length=max_length, truncation=True)\n",
    "\n",
    "    # Setup the tokenizer for targets\n",
    "    labels = tokenizer(text_target=examples[\"Python\"], max_length=max_length, truncation=True)\n",
    "    model_inputs[\"labels\"] = labels[\"input_ids\"]\n",
    "    return model_inputs\n",
    "\n",
    "tokenized_dataset = mml_py_dataset.map(preprocess_function, batched=True, remove_columns=[\"MathML\", \"Python\"])"
   ]
  },
  {
   "cell_type": "code",
   "execution_count": 30,
   "metadata": {},
   "outputs": [
    {
     "name": "stdout",
     "output_type": "stream",
     "text": [
      "[46, 167, 49, 130, 46, 47, 46, 28, 52, 167, 49, 130, 50, 48, 40, 39, 62, 46, 47, 46, 28, 52, 62, 50, 48, 40, 39, 134, 49, 170, 147, 141, 46, 47, 46, 28, 52, 134, 49, 170, 147, 141, 50, 48, 40, 39, 78, 49, 64, 100, 46, 47, 46, 28, 52, 78, 49, 64, 100, 50, 48, 40, 39, 137, 46, 47, 46, 28, 52, 137, 50, 48, 40, 39, 126, 49, 129, 82, 46, 47, 46, 28, 52, 126, 49, 129, 82, 50, 48, 40, 39, 55, 46, 47, 46, 29, 51, 167, 49, 130, 53, 46, 36, 51, 30, 51, 137, 173, 78, 49, 64, 100, 46, 54, 46, 33, 51, 126, 49, 129, 82, 48, 53, 46, 51, 62, 53, 46, 163, 53, 46, 134, 49, 170, 147, 141, 165, 2]\n",
      "N_P = Symbol('N_P')\n",
      "t = Symbol('t')\n",
      "Ο_Oιχ = Symbol('Ο_Oιχ')\n",
      "Μ_ωL = Symbol('Μ_ωL')\n",
      "φ = Symbol('φ')\n",
      "η_yλ = Symbol('η_yλ')\n",
      "e = Eq(N_P, Sum(exp(φ)**Μ_ωL + tan(η_yλ), (t, 7, Ο_Oιχ)))\n"
     ]
    }
   ],
   "source": [
    "ids = tokenized_dataset[\"train\"][0][\"labels\"]\n",
    "print(ids)\n",
    "print(tokenizer.decode(ids, skip_special_tokens=True))"
   ]
  },
  {
   "cell_type": "code",
   "execution_count": 33,
   "metadata": {},
   "outputs": [],
   "source": [
    "model = AutoModelForSeq2SeqLM.from_pretrained(model_checkpoint)"
   ]
  },
  {
   "cell_type": "code",
   "execution_count": 34,
   "metadata": {},
   "outputs": [
    {
     "name": "stdout",
     "output_type": "stream",
     "text": [
      "tensor([[  46,   67,   46,   47,   46,   28,   52,   67,   50,   48,   40,   39,\n",
      "           92,   46,   47,   46,   28,   52,   92,   50,   48,   40,   39,  130,\n",
      "           49,  148,  139,  102,   46,   47,   46,   28,   52,  130,   49,  148,\n",
      "          139,  102,   50,   48,   40,   39,   55,   46,   47,   46,   29,   51,\n",
      "           67,   53,   46,   37,  175,   35,   51,   92,   48,   46,   54,   46,\n",
      "           31,   51,  130,   49,  148,  139,  102,   48,   53,   46,  130,   49,\n",
      "          148,  139,  102,   58,    2, -100, -100, -100, -100],\n",
      "        [  46,   94,   46,   47,   46,   28,   52,   94,   50,   48,   40,   39,\n",
      "           75,   46,   47,   46,   28,   52,   75,   50,   48,   40,   39,  153,\n",
      "          186,   57,   66,   46,   47,   46,   28,   52,  153,  186,   57,   66,\n",
      "           50,   48,   40,   39,   55,   46,   47,   46,   29,   51,   94,   53,\n",
      "           46,   37,   51,   35,   51,   75,  172,  153,  186,   57,   66,   53,\n",
      "           46,  153,  186,   57,   66,   58,    2, -100, -100, -100, -100, -100,\n",
      "         -100, -100, -100, -100, -100, -100, -100, -100, -100],\n",
      "        [  46,  150,   49,   66,  134,   46,   47,   46,   28,   52,  150,   49,\n",
      "           66,  134,   50,   48,   40,   39,  102,   46,   47,   46,   28,   52,\n",
      "          102,   50,   48,   40,   39,   98,   46,   47,   46,   28,   52,   98,\n",
      "           50,   48,   40,   39,  115,   46,   47,   46,   28,   52,  115,   50,\n",
      "           48,   40,   39,   55,   46,   47,   46,   29,   51,  150,   49,   66,\n",
      "          134,   53,   46,   36,  239,   31,   51,  115,   48,   53,   46,   51,\n",
      "          102,   53,   46,  158,   53,   46,   98,  165,    2]])\n"
     ]
    }
   ],
   "source": [
    "data_collator = DataCollatorForSeq2Seq(tokenizer, model=model)\n",
    "\n",
    "batch = data_collator([tokenized_dataset[\"train\"][i] for i in range(1,4)])\n",
    "print(batch[\"labels\"])"
   ]
  },
  {
   "cell_type": "code",
   "execution_count": 35,
   "metadata": {},
   "outputs": [
    {
     "data": {
      "text/plain": [
       "{'score': 88.64759993490114,\n",
       " 'counts': [61, 59, 56, 53],\n",
       " 'totals': [66, 65, 64, 63],\n",
       " 'precisions': [92.42424242424242, 90.76923076923077, 87.5, 84.12698412698413],\n",
       " 'bp': 1.0,\n",
       " 'sys_len': 66,\n",
       " 'ref_len': 61}"
      ]
     },
     "execution_count": 35,
     "metadata": {},
     "output_type": "execute_result"
    }
   ],
   "source": [
    "metric = evaluate.load(\"sacrebleu\")\n",
    "\n",
    "predictions = [\"η = Symbol('η')\\nη_0 = Symbol('η_0')\\nQ_η = Symbol('Q_η')\\nR = Symbol('R')\\nT = Symbol('T')\\ne = Eq(η, η_0*exp(((Q_η*T)/(R*T)))\"]\n",
    "references = [[\"η = Symbol('η')\\nη_0 = Symbol('η_0')\\nQ_η = Symbol('Q_η')\\nR = Symbol('R')\\nT = Symbol('T')\\ne = Eq(η, η_0*exp(Q_η/(R*T)))\"]]\n",
    "\n",
    "metric.compute(predictions=predictions, references=references)"
   ]
  },
  {
   "cell_type": "code",
   "execution_count": 36,
   "metadata": {},
   "outputs": [],
   "source": [
    "def compute_metrics(eval_preds):\n",
    "    preds, labels = eval_preds\n",
    "    if isinstance(preds, tuple):\n",
    "        preds = preds[0]\n",
    "\n",
    "    decoded_preds = tokenizer.batch_decode(preds, skip_special_tokens=True)\n",
    "\n",
    "    # Replace -100 in the labels as we can't decode them\n",
    "    labels = np.where(labels != -100, labels, tokenizer.pad_token_id)\n",
    "    decoded_labels = tokenizer.batch_decode(labels, skip_special_tokens=True)\n",
    "\n",
    "    # Some simple post-processing\n",
    "    decoded_preds = [pred.strip() for pred in decoded_preds]\n",
    "    decoded_labels = [label.strip() for label in decoded_labels]\n",
    "\n",
    "    # SacreBLEU\n",
    "    BLEUresult = metric.compute(predictions=decoded_preds, references=decoded_labels)\n",
    "\n",
    "    # Equation evaluation\n",
    "    \n",
    "\n",
    "    return {\"bleu\": BLEUresult[\"score\"]}   "
   ]
  },
  {
   "cell_type": "code",
   "execution_count": 37,
   "metadata": {},
   "outputs": [
    {
     "name": "stdout",
     "output_type": "stream",
     "text": [
      "The token has not been saved to the git credentials helper. Pass `add_to_git_credential=True` in this function directly or `--add-to-git-credential` if using via `huggingface-cli` if you want to set the git credential as well.\n",
      "Token is valid (permission: write).\n",
      "Your token has been saved to C:\\Users\\kyanj\\.cache\\huggingface\\token\n",
      "Login successful\n"
     ]
    }
   ],
   "source": [
    "from huggingface_hub import login\n",
    "\n",
    "hf_login_key = os.environ.get(\"HF_LOGIN_KEY\")\n",
    "login(token=hf_login_key)"
   ]
  },
  {
   "cell_type": "code",
   "execution_count": null,
   "metadata": {},
   "outputs": [],
   "source": []
  },
  {
   "cell_type": "code",
   "execution_count": null,
   "metadata": {},
   "outputs": [
    {
     "name": "stderr",
     "output_type": "stream",
     "text": [
      "c:\\Users\\kyanj\\anaconda3\\envs\\fyp_env\\Lib\\site-packages\\transformers\\training_args.py:1545: FutureWarning: `evaluation_strategy` is deprecated and will be removed in version 4.46 of 🤗 Transformers. Use `eval_strategy` instead\n",
      "  warnings.warn(\n"
     ]
    }
   ],
   "source": [
    "args = Seq2SeqTrainingArguments(\n",
    "    output_dir = f\"Model_Files/t5-small-mathml-python-v1\",\n",
    "    evaluation_strategy=\"epoch\",\n",
    "    save_strategy=\"epoch\",\n",
    "    logging_strategy=\"steps\",\n",
    "    logging_steps=50,\n",
    "    learning_rate=1e-4,\n",
    "    per_device_train_batch_size=32,\n",
    "    per_device_eval_batch_size=64,\n",
    "    weight_decay=0.01,\n",
    "    save_total_limit=3,\n",
    "    num_train_epochs=3,\n",
    "    predict_with_generate=True,\n",
    "    fp16=True,\n",
    "    push_to_hub=True,\n",
    "    metric_for_best_model=\"bleu\",\n",
    "    load_best_model_at_end=True,\n",
    "    report_to=[\"wandb\"]\n",
    "    run_name=\"t5-small-mathml-python-v1\",\n",
    ")\n",
    "\n",
    "trainer = Seq2SeqTrainer(\n",
    "    model, \n",
    "    args, \n",
    "    train_dataset=tokenized_dataset[\"train\"],\n",
    "    eval_dataset=tokenized_dataset[\"validation\"],\n",
    "    data_collator=data_collator,\n",
    "    tokenizer=tokenizer,\n",
    "    compute_metrics=compute_metrics\n",
    ")\n",
    "\n",
    "# trainer.evaluate(max_length=max_length)"
   ]
  },
  {
   "cell_type": "code",
   "execution_count": 10,
   "metadata": {},
   "outputs": [
    {
     "data": {
      "application/vnd.jupyter.widget-view+json": {
       "model_id": "ac12913ebd48442ebd509fa705191b19",
       "version_major": 2,
       "version_minor": 0
      },
      "text/plain": [
       "  0%|          | 0/48 [00:00<?, ?it/s]"
      ]
     },
     "metadata": {},
     "output_type": "display_data"
    },
    {
     "name": "stdout",
     "output_type": "stream",
     "text": [
      "{'train_runtime': 17669.976, 'train_samples_per_second': 0.085, 'train_steps_per_second': 0.003, 'train_loss': 2.329975128173828, 'epoch': 3.0}\n"
     ]
    },
    {
     "data": {
      "text/plain": [
       "TrainOutput(global_step=48, training_loss=2.329975128173828, metrics={'train_runtime': 17669.976, 'train_samples_per_second': 0.085, 'train_steps_per_second': 0.003, 'total_flos': 1311167215595520.0, 'train_loss': 2.329975128173828, 'epoch': 3.0})"
      ]
     },
     "execution_count": 10,
     "metadata": {},
     "output_type": "execute_result"
    }
   ],
   "source": [
    "trainer.train()"
   ]
  },
  {
   "cell_type": "code",
   "execution_count": 8,
   "metadata": {},
   "outputs": [
    {
     "data": {
      "application/vnd.jupyter.widget-view+json": {
       "model_id": "2b6c475023654f4f96b1ab6af28ed392",
       "version_major": 2,
       "version_minor": 0
      },
      "text/plain": [
       "  0%|          | 0/2 [00:00<?, ?it/s]"
      ]
     },
     "metadata": {},
     "output_type": "display_data"
    },
    {
     "ename": "OverflowError",
     "evalue": "can't convert negative int to unsigned",
     "output_type": "error",
     "traceback": [
      "\u001b[1;31m---------------------------------------------------------------------------\u001b[0m",
      "\u001b[1;31mOverflowError\u001b[0m                             Traceback (most recent call last)",
      "Cell \u001b[1;32mIn[8], line 17\u001b[0m\n\u001b[0;32m      5\u001b[0m model \u001b[38;5;241m=\u001b[39m AutoModelForSeq2SeqLM\u001b[38;5;241m.\u001b[39mfrom_pretrained(\u001b[38;5;124m\"\u001b[39m\u001b[38;5;124mt5-base-mathml-to-python\u001b[39m\u001b[38;5;124m\"\u001b[39m)\n\u001b[0;32m      7\u001b[0m trainer \u001b[38;5;241m=\u001b[39m Seq2SeqTrainer(\n\u001b[0;32m      8\u001b[0m     model, \n\u001b[0;32m      9\u001b[0m     args, \n\u001b[1;32m   (...)\u001b[0m\n\u001b[0;32m     14\u001b[0m     compute_metrics\u001b[38;5;241m=\u001b[39mcompute_metrics\n\u001b[0;32m     15\u001b[0m )\n\u001b[1;32m---> 17\u001b[0m trainer\u001b[38;5;241m.\u001b[39mevaluate(max_length\u001b[38;5;241m=\u001b[39mmax_length)\n",
      "File \u001b[1;32mc:\\Users\\kyanj\\anaconda3\\envs\\fyp_env\\Lib\\site-packages\\transformers\\trainer_seq2seq.py:180\u001b[0m, in \u001b[0;36mSeq2SeqTrainer.evaluate\u001b[1;34m(self, eval_dataset, ignore_keys, metric_key_prefix, **gen_kwargs)\u001b[0m\n\u001b[0;32m    178\u001b[0m \u001b[38;5;28mself\u001b[39m\u001b[38;5;241m.\u001b[39mgather_function \u001b[38;5;241m=\u001b[39m \u001b[38;5;28mself\u001b[39m\u001b[38;5;241m.\u001b[39maccelerator\u001b[38;5;241m.\u001b[39mgather\n\u001b[0;32m    179\u001b[0m \u001b[38;5;28mself\u001b[39m\u001b[38;5;241m.\u001b[39m_gen_kwargs \u001b[38;5;241m=\u001b[39m gen_kwargs\n\u001b[1;32m--> 180\u001b[0m \u001b[38;5;28;01mreturn\u001b[39;00m \u001b[38;5;28msuper\u001b[39m()\u001b[38;5;241m.\u001b[39mevaluate(eval_dataset, ignore_keys\u001b[38;5;241m=\u001b[39mignore_keys, metric_key_prefix\u001b[38;5;241m=\u001b[39mmetric_key_prefix)\n",
      "File \u001b[1;32mc:\\Users\\kyanj\\anaconda3\\envs\\fyp_env\\Lib\\site-packages\\transformers\\trainer.py:3868\u001b[0m, in \u001b[0;36mTrainer.evaluate\u001b[1;34m(self, eval_dataset, ignore_keys, metric_key_prefix)\u001b[0m\n\u001b[0;32m   3865\u001b[0m start_time \u001b[38;5;241m=\u001b[39m time\u001b[38;5;241m.\u001b[39mtime()\n\u001b[0;32m   3867\u001b[0m eval_loop \u001b[38;5;241m=\u001b[39m \u001b[38;5;28mself\u001b[39m\u001b[38;5;241m.\u001b[39mprediction_loop \u001b[38;5;28;01mif\u001b[39;00m \u001b[38;5;28mself\u001b[39m\u001b[38;5;241m.\u001b[39margs\u001b[38;5;241m.\u001b[39muse_legacy_prediction_loop \u001b[38;5;28;01melse\u001b[39;00m \u001b[38;5;28mself\u001b[39m\u001b[38;5;241m.\u001b[39mevaluation_loop\n\u001b[1;32m-> 3868\u001b[0m output \u001b[38;5;241m=\u001b[39m eval_loop(\n\u001b[0;32m   3869\u001b[0m     eval_dataloader,\n\u001b[0;32m   3870\u001b[0m     description\u001b[38;5;241m=\u001b[39m\u001b[38;5;124m\"\u001b[39m\u001b[38;5;124mEvaluation\u001b[39m\u001b[38;5;124m\"\u001b[39m,\n\u001b[0;32m   3871\u001b[0m     \u001b[38;5;66;03m# No point gathering the predictions if there are no metrics, otherwise we defer to\u001b[39;00m\n\u001b[0;32m   3872\u001b[0m     \u001b[38;5;66;03m# self.args.prediction_loss_only\u001b[39;00m\n\u001b[0;32m   3873\u001b[0m     prediction_loss_only\u001b[38;5;241m=\u001b[39m\u001b[38;5;28;01mTrue\u001b[39;00m \u001b[38;5;28;01mif\u001b[39;00m \u001b[38;5;28mself\u001b[39m\u001b[38;5;241m.\u001b[39mcompute_metrics \u001b[38;5;129;01mis\u001b[39;00m \u001b[38;5;28;01mNone\u001b[39;00m \u001b[38;5;28;01melse\u001b[39;00m \u001b[38;5;28;01mNone\u001b[39;00m,\n\u001b[0;32m   3874\u001b[0m     ignore_keys\u001b[38;5;241m=\u001b[39mignore_keys,\n\u001b[0;32m   3875\u001b[0m     metric_key_prefix\u001b[38;5;241m=\u001b[39mmetric_key_prefix,\n\u001b[0;32m   3876\u001b[0m )\n\u001b[0;32m   3878\u001b[0m total_batch_size \u001b[38;5;241m=\u001b[39m \u001b[38;5;28mself\u001b[39m\u001b[38;5;241m.\u001b[39margs\u001b[38;5;241m.\u001b[39meval_batch_size \u001b[38;5;241m*\u001b[39m \u001b[38;5;28mself\u001b[39m\u001b[38;5;241m.\u001b[39margs\u001b[38;5;241m.\u001b[39mworld_size\n\u001b[0;32m   3879\u001b[0m \u001b[38;5;28;01mif\u001b[39;00m \u001b[38;5;124mf\u001b[39m\u001b[38;5;124m\"\u001b[39m\u001b[38;5;132;01m{\u001b[39;00mmetric_key_prefix\u001b[38;5;132;01m}\u001b[39;00m\u001b[38;5;124m_jit_compilation_time\u001b[39m\u001b[38;5;124m\"\u001b[39m \u001b[38;5;129;01min\u001b[39;00m output\u001b[38;5;241m.\u001b[39mmetrics:\n",
      "File \u001b[1;32mc:\\Users\\kyanj\\anaconda3\\envs\\fyp_env\\Lib\\site-packages\\transformers\\trainer.py:4160\u001b[0m, in \u001b[0;36mTrainer.evaluation_loop\u001b[1;34m(self, dataloader, description, prediction_loss_only, ignore_keys, metric_key_prefix)\u001b[0m\n\u001b[0;32m   4156\u001b[0m         metrics \u001b[38;5;241m=\u001b[39m \u001b[38;5;28mself\u001b[39m\u001b[38;5;241m.\u001b[39mcompute_metrics(\n\u001b[0;32m   4157\u001b[0m             EvalPrediction(predictions\u001b[38;5;241m=\u001b[39mall_preds, label_ids\u001b[38;5;241m=\u001b[39mall_labels, inputs\u001b[38;5;241m=\u001b[39mall_inputs)\n\u001b[0;32m   4158\u001b[0m         )\n\u001b[0;32m   4159\u001b[0m     \u001b[38;5;28;01melse\u001b[39;00m:\n\u001b[1;32m-> 4160\u001b[0m         metrics \u001b[38;5;241m=\u001b[39m \u001b[38;5;28mself\u001b[39m\u001b[38;5;241m.\u001b[39mcompute_metrics(EvalPrediction(predictions\u001b[38;5;241m=\u001b[39mall_preds, label_ids\u001b[38;5;241m=\u001b[39mall_labels))\n\u001b[0;32m   4161\u001b[0m \u001b[38;5;28;01melif\u001b[39;00m metrics \u001b[38;5;129;01mis\u001b[39;00m \u001b[38;5;28;01mNone\u001b[39;00m:\n\u001b[0;32m   4162\u001b[0m     metrics \u001b[38;5;241m=\u001b[39m {}\n",
      "Cell \u001b[1;32mIn[7], line 6\u001b[0m, in \u001b[0;36mcompute_metrics\u001b[1;34m(eval_preds)\u001b[0m\n\u001b[0;32m      3\u001b[0m \u001b[38;5;28;01mif\u001b[39;00m \u001b[38;5;28misinstance\u001b[39m(preds, \u001b[38;5;28mtuple\u001b[39m):\n\u001b[0;32m      4\u001b[0m     preds \u001b[38;5;241m=\u001b[39m preds[\u001b[38;5;241m0\u001b[39m]\n\u001b[1;32m----> 6\u001b[0m decoded_preds \u001b[38;5;241m=\u001b[39m tokenizer\u001b[38;5;241m.\u001b[39mbatch_decode(preds, skip_special_tokens\u001b[38;5;241m=\u001b[39m\u001b[38;5;28;01mTrue\u001b[39;00m)\n\u001b[0;32m      8\u001b[0m \u001b[38;5;66;03m# Replace -100 in the labels as we can't decode them\u001b[39;00m\n\u001b[0;32m      9\u001b[0m labels \u001b[38;5;241m=\u001b[39m np\u001b[38;5;241m.\u001b[39mwhere(labels \u001b[38;5;241m!=\u001b[39m \u001b[38;5;241m-\u001b[39m\u001b[38;5;241m100\u001b[39m, labels, tokenizer\u001b[38;5;241m.\u001b[39mpad_token_id)\n",
      "File \u001b[1;32mc:\\Users\\kyanj\\anaconda3\\envs\\fyp_env\\Lib\\site-packages\\transformers\\tokenization_utils_base.py:3959\u001b[0m, in \u001b[0;36mPreTrainedTokenizerBase.batch_decode\u001b[1;34m(self, sequences, skip_special_tokens, clean_up_tokenization_spaces, **kwargs)\u001b[0m\n\u001b[0;32m   3935\u001b[0m \u001b[38;5;28;01mdef\u001b[39;00m \u001b[38;5;21mbatch_decode\u001b[39m(\n\u001b[0;32m   3936\u001b[0m     \u001b[38;5;28mself\u001b[39m,\n\u001b[0;32m   3937\u001b[0m     sequences: Union[List[\u001b[38;5;28mint\u001b[39m], List[List[\u001b[38;5;28mint\u001b[39m]], \u001b[38;5;124m\"\u001b[39m\u001b[38;5;124mnp.ndarray\u001b[39m\u001b[38;5;124m\"\u001b[39m, \u001b[38;5;124m\"\u001b[39m\u001b[38;5;124mtorch.Tensor\u001b[39m\u001b[38;5;124m\"\u001b[39m, \u001b[38;5;124m\"\u001b[39m\u001b[38;5;124mtf.Tensor\u001b[39m\u001b[38;5;124m\"\u001b[39m],\n\u001b[1;32m   (...)\u001b[0m\n\u001b[0;32m   3940\u001b[0m     \u001b[38;5;241m*\u001b[39m\u001b[38;5;241m*\u001b[39mkwargs,\n\u001b[0;32m   3941\u001b[0m ) \u001b[38;5;241m-\u001b[39m\u001b[38;5;241m>\u001b[39m List[\u001b[38;5;28mstr\u001b[39m]:\n\u001b[0;32m   3942\u001b[0m \u001b[38;5;250m    \u001b[39m\u001b[38;5;124;03m\"\"\"\u001b[39;00m\n\u001b[0;32m   3943\u001b[0m \u001b[38;5;124;03m    Convert a list of lists of token ids into a list of strings by calling decode.\u001b[39;00m\n\u001b[0;32m   3944\u001b[0m \n\u001b[1;32m   (...)\u001b[0m\n\u001b[0;32m   3957\u001b[0m \u001b[38;5;124;03m        `List[str]`: The list of decoded sentences.\u001b[39;00m\n\u001b[0;32m   3958\u001b[0m \u001b[38;5;124;03m    \"\"\"\u001b[39;00m\n\u001b[1;32m-> 3959\u001b[0m     \u001b[38;5;28;01mreturn\u001b[39;00m [\n\u001b[0;32m   3960\u001b[0m         \u001b[38;5;28mself\u001b[39m\u001b[38;5;241m.\u001b[39mdecode(\n\u001b[0;32m   3961\u001b[0m             seq,\n\u001b[0;32m   3962\u001b[0m             skip_special_tokens\u001b[38;5;241m=\u001b[39mskip_special_tokens,\n\u001b[0;32m   3963\u001b[0m             clean_up_tokenization_spaces\u001b[38;5;241m=\u001b[39mclean_up_tokenization_spaces,\n\u001b[0;32m   3964\u001b[0m             \u001b[38;5;241m*\u001b[39m\u001b[38;5;241m*\u001b[39mkwargs,\n\u001b[0;32m   3965\u001b[0m         )\n\u001b[0;32m   3966\u001b[0m         \u001b[38;5;28;01mfor\u001b[39;00m seq \u001b[38;5;129;01min\u001b[39;00m sequences\n\u001b[0;32m   3967\u001b[0m     ]\n",
      "File \u001b[1;32mc:\\Users\\kyanj\\anaconda3\\envs\\fyp_env\\Lib\\site-packages\\transformers\\tokenization_utils_base.py:3960\u001b[0m, in \u001b[0;36m<listcomp>\u001b[1;34m(.0)\u001b[0m\n\u001b[0;32m   3935\u001b[0m \u001b[38;5;28;01mdef\u001b[39;00m \u001b[38;5;21mbatch_decode\u001b[39m(\n\u001b[0;32m   3936\u001b[0m     \u001b[38;5;28mself\u001b[39m,\n\u001b[0;32m   3937\u001b[0m     sequences: Union[List[\u001b[38;5;28mint\u001b[39m], List[List[\u001b[38;5;28mint\u001b[39m]], \u001b[38;5;124m\"\u001b[39m\u001b[38;5;124mnp.ndarray\u001b[39m\u001b[38;5;124m\"\u001b[39m, \u001b[38;5;124m\"\u001b[39m\u001b[38;5;124mtorch.Tensor\u001b[39m\u001b[38;5;124m\"\u001b[39m, \u001b[38;5;124m\"\u001b[39m\u001b[38;5;124mtf.Tensor\u001b[39m\u001b[38;5;124m\"\u001b[39m],\n\u001b[1;32m   (...)\u001b[0m\n\u001b[0;32m   3940\u001b[0m     \u001b[38;5;241m*\u001b[39m\u001b[38;5;241m*\u001b[39mkwargs,\n\u001b[0;32m   3941\u001b[0m ) \u001b[38;5;241m-\u001b[39m\u001b[38;5;241m>\u001b[39m List[\u001b[38;5;28mstr\u001b[39m]:\n\u001b[0;32m   3942\u001b[0m \u001b[38;5;250m    \u001b[39m\u001b[38;5;124;03m\"\"\"\u001b[39;00m\n\u001b[0;32m   3943\u001b[0m \u001b[38;5;124;03m    Convert a list of lists of token ids into a list of strings by calling decode.\u001b[39;00m\n\u001b[0;32m   3944\u001b[0m \n\u001b[1;32m   (...)\u001b[0m\n\u001b[0;32m   3957\u001b[0m \u001b[38;5;124;03m        `List[str]`: The list of decoded sentences.\u001b[39;00m\n\u001b[0;32m   3958\u001b[0m \u001b[38;5;124;03m    \"\"\"\u001b[39;00m\n\u001b[0;32m   3959\u001b[0m     \u001b[38;5;28;01mreturn\u001b[39;00m [\n\u001b[1;32m-> 3960\u001b[0m         \u001b[38;5;28mself\u001b[39m\u001b[38;5;241m.\u001b[39mdecode(\n\u001b[0;32m   3961\u001b[0m             seq,\n\u001b[0;32m   3962\u001b[0m             skip_special_tokens\u001b[38;5;241m=\u001b[39mskip_special_tokens,\n\u001b[0;32m   3963\u001b[0m             clean_up_tokenization_spaces\u001b[38;5;241m=\u001b[39mclean_up_tokenization_spaces,\n\u001b[0;32m   3964\u001b[0m             \u001b[38;5;241m*\u001b[39m\u001b[38;5;241m*\u001b[39mkwargs,\n\u001b[0;32m   3965\u001b[0m         )\n\u001b[0;32m   3966\u001b[0m         \u001b[38;5;28;01mfor\u001b[39;00m seq \u001b[38;5;129;01min\u001b[39;00m sequences\n\u001b[0;32m   3967\u001b[0m     ]\n",
      "File \u001b[1;32mc:\\Users\\kyanj\\anaconda3\\envs\\fyp_env\\Lib\\site-packages\\transformers\\tokenization_utils_base.py:3999\u001b[0m, in \u001b[0;36mPreTrainedTokenizerBase.decode\u001b[1;34m(self, token_ids, skip_special_tokens, clean_up_tokenization_spaces, **kwargs)\u001b[0m\n\u001b[0;32m   3996\u001b[0m \u001b[38;5;66;03m# Convert inputs to python lists\u001b[39;00m\n\u001b[0;32m   3997\u001b[0m token_ids \u001b[38;5;241m=\u001b[39m to_py_obj(token_ids)\n\u001b[1;32m-> 3999\u001b[0m \u001b[38;5;28;01mreturn\u001b[39;00m \u001b[38;5;28mself\u001b[39m\u001b[38;5;241m.\u001b[39m_decode(\n\u001b[0;32m   4000\u001b[0m     token_ids\u001b[38;5;241m=\u001b[39mtoken_ids,\n\u001b[0;32m   4001\u001b[0m     skip_special_tokens\u001b[38;5;241m=\u001b[39mskip_special_tokens,\n\u001b[0;32m   4002\u001b[0m     clean_up_tokenization_spaces\u001b[38;5;241m=\u001b[39mclean_up_tokenization_spaces,\n\u001b[0;32m   4003\u001b[0m     \u001b[38;5;241m*\u001b[39m\u001b[38;5;241m*\u001b[39mkwargs,\n\u001b[0;32m   4004\u001b[0m )\n",
      "File \u001b[1;32mc:\\Users\\kyanj\\anaconda3\\envs\\fyp_env\\Lib\\site-packages\\transformers\\tokenization_utils_fast.py:654\u001b[0m, in \u001b[0;36mPreTrainedTokenizerFast._decode\u001b[1;34m(self, token_ids, skip_special_tokens, clean_up_tokenization_spaces, **kwargs)\u001b[0m\n\u001b[0;32m    652\u001b[0m \u001b[38;5;28;01mif\u001b[39;00m \u001b[38;5;28misinstance\u001b[39m(token_ids, \u001b[38;5;28mint\u001b[39m):\n\u001b[0;32m    653\u001b[0m     token_ids \u001b[38;5;241m=\u001b[39m [token_ids]\n\u001b[1;32m--> 654\u001b[0m text \u001b[38;5;241m=\u001b[39m \u001b[38;5;28mself\u001b[39m\u001b[38;5;241m.\u001b[39m_tokenizer\u001b[38;5;241m.\u001b[39mdecode(token_ids, skip_special_tokens\u001b[38;5;241m=\u001b[39mskip_special_tokens)\n\u001b[0;32m    656\u001b[0m clean_up_tokenization_spaces \u001b[38;5;241m=\u001b[39m (\n\u001b[0;32m    657\u001b[0m     clean_up_tokenization_spaces\n\u001b[0;32m    658\u001b[0m     \u001b[38;5;28;01mif\u001b[39;00m clean_up_tokenization_spaces \u001b[38;5;129;01mis\u001b[39;00m \u001b[38;5;129;01mnot\u001b[39;00m \u001b[38;5;28;01mNone\u001b[39;00m\n\u001b[0;32m    659\u001b[0m     \u001b[38;5;28;01melse\u001b[39;00m \u001b[38;5;28mself\u001b[39m\u001b[38;5;241m.\u001b[39mclean_up_tokenization_spaces\n\u001b[0;32m    660\u001b[0m )\n\u001b[0;32m    661\u001b[0m \u001b[38;5;28;01mif\u001b[39;00m clean_up_tokenization_spaces:\n",
      "\u001b[1;31mOverflowError\u001b[0m: can't convert negative int to unsigned"
     ]
    }
   ],
   "source": [
    "\n",
    "# Load tokenizer\n",
    "tokenizer = AutoTokenizer.from_pretrained(\"t5-base\")\n",
    "\n",
    "# Load trained model\n",
    "model = AutoModelForSeq2SeqLM.from_pretrained(\"t5-base-mathml-to-python\")\n",
    "\n",
    "trainer = Seq2SeqTrainer(\n",
    "    model, \n",
    "    args, \n",
    "    train_dataset=tokenized_dataset[\"train\"],\n",
    "    eval_dataset=tokenized_dataset[\"validation\"],\n",
    "    data_collator=data_collator,\n",
    "    tokenizer=tokenizer,\n",
    "    compute_metrics=compute_metrics\n",
    ")\n",
    "\n",
    "trainer.evaluate(max_length=max_length)"
   ]
  },
  {
   "cell_type": "code",
   "execution_count": 19,
   "metadata": {},
   "outputs": [
    {
     "name": "stdout",
     "output_type": "stream",
     "text": [
      "[{'generated_text': '         '}]\n"
     ]
    }
   ],
   "source": [
    "from transformers import pipeline\n",
    "model_checkpoint = \"t5-base-mathml-to-python\"\n",
    "translator = pipeline(\"text2text-generation\", model=model_checkpoint)\n",
    "result = translator(\"translate: MathML to Python: \\n<mml:mi>x</mml:mi>\\n<mml:mo>=</mml:mo>\\n<mml:mn>5</mml:mn>\")\n",
    "print(result)\n",
    "                    \n"
   ]
  },
  {
   "cell_type": "code",
   "execution_count": 10,
   "metadata": {},
   "outputs": [
    {
     "name": "stdout",
     "output_type": "stream",
     "text": [
      "'<mml:mi>η</mml:mi>\\n<mml:mo>=</mml:mo>\\n<mml:mrow>\\n<mml:msub>\\n    <mml:mi>η</mml:mi>\\n    <mml:mi>0</mml:mi>\\n</mml:msub>\\n<mml:msup>\\n    <mml:mtext>exp</mml:mtext>\\n    <mml:mrow>\\n    <mml:mfrac>\\n        <mml:msub>\\n        <mml:mi>Q</mml:mi>\\n        <mml:mi>η</mml:mi>\\n        </mml:msub>\\n        <mml:mrow>\\n        <mml:mi>R</mml:mi>\\n        <mml:mi>T</mml:mi>\\n        </mml:mrow>\\n    </mml:mfrac>\\n    </mml:mrow>\\n</mml:msup>\\n</mml:mrow>'\n"
     ]
    }
   ],
   "source": [
    "string = \"\"\"<mml:mi>η</mml:mi>\n",
    "<mml:mo>=</mml:mo>\n",
    "<mml:mrow>\n",
    "<mml:msub>\n",
    "    <mml:mi>η</mml:mi>\n",
    "    <mml:mi>0</mml:mi>\n",
    "</mml:msub>\n",
    "<mml:msup>\n",
    "    <mml:mtext>exp</mml:mtext>\n",
    "    <mml:mrow>\n",
    "    <mml:mfrac>\n",
    "        <mml:msub>\n",
    "        <mml:mi>Q</mml:mi>\n",
    "        <mml:mi>η</mml:mi>\n",
    "        </mml:msub>\n",
    "        <mml:mrow>\n",
    "        <mml:mi>R</mml:mi>\n",
    "        <mml:mi>T</mml:mi>\n",
    "        </mml:mrow>\n",
    "    </mml:mfrac>\n",
    "    </mml:mrow>\n",
    "</mml:msup>\n",
    "</mml:mrow>\"\"\"\n",
    "\n",
    "print(repr(string))"
   ]
  },
  {
   "cell_type": "code",
   "execution_count": 23,
   "metadata": {},
   "outputs": [
    {
     "name": "stdout",
     "output_type": "stream",
     "text": [
      "['t', 'ra', 'n', 's', 'l', 'a', 'te', ':', ' ', 'M', 'a', 't', 'h', 'M', 'L', ' ', 't', 'o', ' ', 'P', 'y', 't', 'h', 'o', 'n', ':', ' ', '\\n', '<mml:mi>', 'h', '</mml:mi>', '\\n', '<mml:mo>', '=', '</mml:mo>', '\\n', '<mml:mrow>', '\\n', '<mml:msub>', '\\n', '<mml:mi>', 'h', '</mml:mi>', '\\n', '<mml:mi>', 'c', '</mml:mi>', '\\n', '</mml:msub>', '\\n', '<mml:mo>', '+', '</mml:mo>', '\\n', '<mml:msub>', '\\n', '<mml:mi>', 'h', '</mml:mi>', '\\n', '<mml:mi>', 'g', '</mml:mi>', '\\n', '</mml:msub>', '\\n', '</mml:mrow>', '\\n']\n"
     ]
    },
    {
     "name": "stderr",
     "output_type": "stream",
     "text": [
      "c:\\Users\\kyanj\\anaconda3\\envs\\fyp_env\\Lib\\site-packages\\transformers\\generation\\utils.py:1220: UserWarning: Using the model-agnostic default `max_length` (=20) to control the generation length. We recommend setting `max_new_tokens` to control the maximum length of the generation.\n",
      "  warnings.warn(\n"
     ]
    },
    {
     "name": "stdout",
     "output_type": "stream",
     "text": [
      "<pad>: : : \n",
      "<mml:mi>: \n",
      "<mml:mi>: \n",
      "<mml:mi>: \n",
      "\n"
     ]
    }
   ],
   "source": [
    "model_name = \"t5-small\"\n",
    "# tokenizer = T5Tokenizer.from_pretrained(model_name)\n",
    "tokenizer = AutoTokenizer.from_pretrained(\"kj821/mathml-py-tokenizer-unigram-T5wrapped\")\n",
    "\n",
    "# model = T5ForConditionalGeneration.from_pretrained(model_name)\n",
    "model = AutoModelForSeq2SeqLM.from_pretrained(\"kj821/t5-base-mathml-to-python\")\n",
    "\n",
    "text = \"\\n<mml:mi>h</mml:mi>\\n<mml:mo>=</mml:mo>\\n<mml:mrow>\\n<mml:msub>\\n<mml:mi>h</mml:mi>\\n<mml:mi>c</mml:mi>\\n</mml:msub>\\n<mml:mo>+</mml:mo>\\n<mml:msub>\\n<mml:mi>h</mml:mi>\\n<mml:mi>g</mml:mi>\\n</mml:msub>\\n</mml:mrow>\\n\"\n",
    "# text = \"I love going to the park on the weekend\"\n",
    "prefix = \"translate: MathML to Python: \"\n",
    "input_ids = tokenizer.encode(prefix + text, return_tensors=\"pt\")\n",
    "print(tokenizer.tokenize(prefix + text))\n",
    "check = tokenizer.decode(input_ids[0], skip_special_tokens=False)\n",
    "\n",
    "output_ids = model.generate(input_ids)\n",
    "output = tokenizer.decode(output_ids[0], skip_special_tokens=False, max_new_tokens=100)\n",
    "print(output)"
   ]
  }
 ],
 "metadata": {
  "kernelspec": {
   "display_name": "fyp_env",
   "language": "python",
   "name": "python3"
  },
  "language_info": {
   "codemirror_mode": {
    "name": "ipython",
    "version": 3
   },
   "file_extension": ".py",
   "mimetype": "text/x-python",
   "name": "python",
   "nbconvert_exporter": "python",
   "pygments_lexer": "ipython3",
   "version": "3.11.10"
  }
 },
 "nbformat": 4,
 "nbformat_minor": 2
}
