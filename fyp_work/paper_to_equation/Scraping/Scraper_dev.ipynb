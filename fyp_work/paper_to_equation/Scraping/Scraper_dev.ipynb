{
 "cells": [
  {
   "cell_type": "code",
   "execution_count": 1,
   "metadata": {},
   "outputs": [
    {
     "name": "stdout",
     "output_type": "stream",
     "text": [
      "Request successful \n",
      "\n"
     ]
    },
    {
     "ename": "KeyError",
     "evalue": "11",
     "output_type": "error",
     "traceback": [
      "\u001b[1;31m---------------------------------------------------------------------------\u001b[0m",
      "\u001b[1;31mKeyError\u001b[0m                                  Traceback (most recent call last)",
      "Cell \u001b[1;32mIn[1], line 76\u001b[0m\n\u001b[0;32m     73\u001b[0m     \u001b[38;5;28mprint\u001b[39m(scraper\u001b[38;5;241m.\u001b[39mmathml_dict[\u001b[38;5;241m11\u001b[39m])\n\u001b[0;32m     75\u001b[0m \u001b[38;5;28;01mif\u001b[39;00m \u001b[38;5;18m__name__\u001b[39m \u001b[38;5;241m==\u001b[39m \u001b[38;5;124m\"\u001b[39m\u001b[38;5;124m__main__\u001b[39m\u001b[38;5;124m\"\u001b[39m:\n\u001b[1;32m---> 76\u001b[0m     \u001b[43mmain\u001b[49m\u001b[43m(\u001b[49m\u001b[43m)\u001b[49m\n",
      "Cell \u001b[1;32mIn[1], line 73\u001b[0m, in \u001b[0;36mmain\u001b[1;34m()\u001b[0m\n\u001b[0;32m     71\u001b[0m scraper\u001b[38;5;241m.\u001b[39mscrape()\n\u001b[0;32m     72\u001b[0m \u001b[38;5;66;03m# scraper.create_mathml_txt(\"test\")\u001b[39;00m\n\u001b[1;32m---> 73\u001b[0m \u001b[38;5;28mprint\u001b[39m(\u001b[43mscraper\u001b[49m\u001b[38;5;241;43m.\u001b[39;49m\u001b[43mmathml_dict\u001b[49m\u001b[43m[\u001b[49m\u001b[38;5;241;43m11\u001b[39;49m\u001b[43m]\u001b[49m)\n",
      "\u001b[1;31mKeyError\u001b[0m: 11"
     ]
    }
   ],
   "source": [
    "import requests\n",
    "import bs4\n",
    "import os\n",
    "\n",
    "class Scraper:\n",
    "    def __init__(self, doi, api_key):\n",
    "        self.doi = doi\n",
    "        self.api_key = api_key\n",
    "        self.dataset = []\n",
    "\n",
    "    def make_request(self):\n",
    "        response = requests.get(f\"https://api.elsevier.com/content/article/doi/{self.doi}?APIKey={self.api_key}\") # Make request to Elsevier API\n",
    "        if response.status_code == 200:\n",
    "            print(\"Request successful \\n\")\n",
    "            self.full_text = response.text \n",
    "        else:\n",
    "            raise Exception(f\"Request failed with status code: {response.status_code} \\n\")\n",
    "\n",
    "    def make_soup(self):\n",
    "        self.soup = bs4.BeautifulSoup(self.full_text, \"lxml\") # Parse response text and create a BS4 object for easy parsing\n",
    "\n",
    "    def find_equations(self):\n",
    "        self.equation = self.soup.find_all(\"ce:formula\")\n",
    "\n",
    "        self.mathml_dict = {}\n",
    "        for eq in self.equation:\n",
    "            label = eq.find(\"ce:label\") # Find equation number in the format (n)\n",
    "            index = int(label.text[1:-1]) # Remove parentheses and convert to int\n",
    "            mathml = eq.find(\"mml:math\") \n",
    "            mathml = mathml.contents[1] # Remove \\n from beginning and end along with outer tags\n",
    "            self.mathml_dict[index] = mathml \n",
    "    \n",
    "    def create_mathml_txt(self, filename):\n",
    "        mmld = self.mathml_dict\n",
    "        with open(f\"{filename}.txt\", \"w\") as f:\n",
    "            for i in range(1, len(mmld) + 1):\n",
    "                mathml = str(mmld[i]) # Get string representation of MathML\n",
    "                self.dataset.append(mathml)\n",
    "                f.write(repr(mathml) + \"\\n\") # Write repr to file to preserve formatting\n",
    "            print(f\"Equations saved to {filename}.txt\")\n",
    "    \n",
    "    def scrape(self): # Main function to scrape equations from a DOI\n",
    "        self.make_request()\n",
    "        self.make_soup()\n",
    "        self.find_equations()\n",
    "\n",
    "\n",
    "def test():     \n",
    "    doi = \"10.1016/j.triboint.2021.106934\"\n",
    "    api_key = os.getenv(\"ELSEVIER_API_KEY\")\n",
    "    scraper = Scraper(doi, api_key)\n",
    "    scraper.make_request()\n",
    "    scraper.make_soup()\n",
    "    scraper.find_equations()\n",
    "    for eq in range(1, len(scraper.mathml_dict)+1):\n",
    "        mathml = scraper.mathml_dict[eq]\n",
    "        python = scraper.mathml_to_python(mathml)\n",
    "        scraper.append_dataset(str(mathml), python.text.split('```')[1].strip())\n",
    "    print(scraper.dataset)\n",
    "    save_path = \"equations.txt\"\n",
    "    with open(save_path, \"w\") as f:\n",
    "        for item in scraper.dataset:\n",
    "            f.write(f\"MathML: {item['mathml_input']}\\nPython: {item['python_output']}\\n\\n\")\n",
    "        \n",
    "\n",
    "\n",
    "def main():\n",
    "    doi = \"10.1016/j.jmatprotec.2017.04.005\"\n",
    "    api_key = os.getenv(\"ELSEVIER_API_KEY\")\n",
    "    scraper = Scraper(doi, api_key)\n",
    "    scraper.scrape()\n",
    "    # scraper.create_mathml_txt(\"test\")\n",
    "    print(scraper.mathml_dict[11])\n",
    "\n",
    "if __name__ == \"__main__\":\n",
    "    main()"
   ]
  }
 ],
 "metadata": {
  "kernelspec": {
   "display_name": "fyp_env",
   "language": "python",
   "name": "python3"
  },
  "language_info": {
   "codemirror_mode": {
    "name": "ipython",
    "version": 3
   },
   "file_extension": ".py",
   "mimetype": "text/x-python",
   "name": "python",
   "nbconvert_exporter": "python",
   "pygments_lexer": "ipython3",
   "version": "3.11.10"
  }
 },
 "nbformat": 4,
 "nbformat_minor": 2
}
