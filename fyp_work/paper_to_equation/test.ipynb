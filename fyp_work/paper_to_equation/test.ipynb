{
 "cells": [
  {
   "cell_type": "code",
   "execution_count": 1,
   "metadata": {},
   "outputs": [],
   "source": [
    "from Gemini.GeminiPredict import GeminiPredict\n",
    "from Generation.Equation_BaseDataset import Equation, BaseDataset\n",
    "# from Postprocessing.\n",
    "from Scraping.Scraper import Scraper\n",
    "\n",
    "import os\n",
    "import google.generativeai as genai"
   ]
  },
  {
   "cell_type": "markdown",
   "metadata": {},
   "source": [
    "### Gemini"
   ]
  },
  {
   "cell_type": "code",
   "execution_count": 2,
   "metadata": {},
   "outputs": [
    {
     "name": "stdout",
     "output_type": "stream",
     "text": [
      "API key loaded successfully!\n"
     ]
    },
    {
     "name": "stderr",
     "output_type": "stream",
     "text": [
      "Generating Predictions: 100%|██████████| 13/13 [00:19<00:00,  1.46s/row]\n"
     ]
    }
   ],
   "source": [
    "api_key = os.getenv(\"GEMINI_API_KEY\")\n",
    "gp = GeminiPredict(api_key, \"Data/HTC_equations.txt\", \"tunedModels/mmltopython4-f3fuppiemnq9\")\n",
    "gp.predict_from_txt()\n",
    "gp.save_predictions(\"Data/HTC_gemini_predictions.txt\")"
   ]
  },
  {
   "cell_type": "code",
   "execution_count": 3,
   "metadata": {},
   "outputs": [],
   "source": [
    "gp.save_predictions()\n",
    "# for model in genai.list_tuned_models():\n",
    "#     print(model.name)"
   ]
  },
  {
   "cell_type": "markdown",
   "metadata": {},
   "source": [
    "### Generation"
   ]
  },
  {
   "cell_type": "code",
   "execution_count": null,
   "metadata": {},
   "outputs": [],
   "source": [
    "eq = Equation()\n"
   ]
  },
  {
   "cell_type": "code",
   "execution_count": 4,
   "metadata": {},
   "outputs": [
    {
     "name": "stderr",
     "output_type": "stream",
     "text": [
      "Generating dataset: 100%|██████████| 50/50 [00:00<00:00, 66.17it/s]\n"
     ]
    }
   ],
   "source": [
    "class GeminiDataset(BaseDataset):\n",
    "    def __init__(self, num, filepath):\n",
    "        super().__init__(num, filepath)\n",
    "\n",
    "    def get_columns(self):\n",
    "        return [\"text_input\", \"output\"]\n",
    "    \n",
    "gd = GeminiDataset(50, \"Data/gemini_test_4.csv\")\n",
    "gd.create()"
   ]
  },
  {
   "cell_type": "markdown",
   "metadata": {},
   "source": [
    "### Postprocessing"
   ]
  },
  {
   "cell_type": "code",
   "execution_count": null,
   "metadata": {},
   "outputs": [],
   "source": []
  },
  {
   "cell_type": "markdown",
   "metadata": {},
   "source": [
    "### Scraping"
   ]
  },
  {
   "cell_type": "code",
   "execution_count": null,
   "metadata": {},
   "outputs": [],
   "source": [
    "sc = Scraper()"
   ]
  },
  {
   "cell_type": "markdown",
   "metadata": {},
   "source": [
    "### Pseudo Main\n",
    "\n",
    "- choose DOI to scrape from\n",
    "- use Scraper class to get MathML equations from paper and save to a txt file\n",
    "- (also scrape tables for constants and save)\n",
    "- LLMPredict class takes in MathML and constant files\n",
    "- predicts python\n",
    "\n"
   ]
  }
 ],
 "metadata": {
  "kernelspec": {
   "display_name": "fyp_env",
   "language": "python",
   "name": "python3"
  },
  "language_info": {
   "codemirror_mode": {
    "name": "ipython",
    "version": 3
   },
   "file_extension": ".py",
   "mimetype": "text/x-python",
   "name": "python",
   "nbconvert_exporter": "python",
   "pygments_lexer": "ipython3",
   "version": "3.11.10"
  }
 },
 "nbformat": 4,
 "nbformat_minor": 2
}
