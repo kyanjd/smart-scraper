{
 "cells": [
  {
   "cell_type": "code",
   "execution_count": 1,
   "metadata": {},
   "outputs": [
    {
     "name": "stderr",
     "output_type": "stream",
     "text": [
      "c:\\Users\\kyanj\\anaconda3\\envs\\fyp_env\\Lib\\site-packages\\tqdm\\auto.py:21: TqdmWarning: IProgress not found. Please update jupyter and ipywidgets. See https://ipywidgets.readthedocs.io/en/stable/user_install.html\n",
      "  from .autonotebook import tqdm as notebook_tqdm\n"
     ]
    }
   ],
   "source": [
    "import google.generativeai as ai\n",
    "import os"
   ]
  },
  {
   "cell_type": "code",
   "execution_count": 2,
   "metadata": {},
   "outputs": [
    {
     "name": "stdout",
     "output_type": "stream",
     "text": [
      "API key loaded successfully!\n"
     ]
    }
   ],
   "source": [
    "api_key = os.getenv(\"API_KEY\")  # Returns None if the variable is not set\n",
    "# Check if the API key is loaded correctly\n",
    "if api_key:\n",
    "    print(\"API key loaded successfully!\")\n",
    "else:\n",
    "    print(\"API key not found. Please ensure it is set as an environment variable.\")\n",
    "\n",
    "ai.configure(api_key=api_key)\n",
    "model = ai.GenerativeModel(\"gemini-1.5-flash\")"
   ]
  },
  {
   "cell_type": "code",
   "execution_count": 8,
   "metadata": {},
   "outputs": [
    {
     "name": "stdout",
     "output_type": "stream",
     "text": [
      "Done.\n",
      "\n",
      "Based on the provided document, here are some recommendations to improve the Ultraman system's accuracy:\n",
      "\n",
      "**1. Address Frame Vibration:** The report highlights significant frame vibration affecting force readings.  Solutions include:\n",
      "\n",
      "*   **Improved Frame Design:**  Reinforce the frame structure with additional extrusions or use a more rigid material to dampen vibrations.  Finite Element Analysis (FEA) could be used to optimize the frame design for stiffness.\n",
      "*   **Active Vibration Damping:** Incorporate active vibration damping systems to counteract vibrations caused by the robot arm and other moving parts.\n",
      "*   **Sensor Fusion:** Integrate multiple sensors (accelerometers, etc.) to measure vibrations and use sensor fusion techniques to compensate for their effects on force readings.\n",
      "\n",
      "**2. Enhance Force Control:** The robot's force control had inconsistencies.  Suggestions include:\n",
      "\n",
      "*   **Advanced Control Algorithms:** Implement more sophisticated control algorithms (e.g., adaptive control, model predictive control) to improve force regulation accuracy.\n",
      "*   **Calibration and Tuning:**  Thorough calibration of the force sensor and control system parameters is essential for precise force control.\n",
      "*   **Real-time Feedback:** Utilize real-time force feedback to adjust the robot's movements dynamically, maintaining the target force despite unexpected disturbances.\n",
      "\n",
      "\n",
      "**3. Improve Feeding Mechanism:**  The pneumatic strip feeder had some limitations:\n",
      "\n",
      "*   **Precision Adjustment:**  Implement finer adjustments for the strip feeder's spacing to ensure precise placement of the sample.  Consider a more precise linear actuator instead of the pneumatic system.\n",
      "*   **Blank Handling:**  Address the issues with the feeder's handling of rolled workpieces.  Explore alternative mechanisms or modifications that accommodate rolled workpieces more reliably.\n",
      "*   **Surface Finish:** The report notes surface damage to samples at higher pressures.  Reduce this by: (a) lowering pressure, or (b) using a softer material for the rollers and modifying the clamping force.\n",
      "\n",
      "\n",
      "**4. Optimize Lubrication System:**  Inconsistent lubricant application affected the results.  Recommendations:\n",
      "\n",
      "*   **Improved Dispensing:**  Refine the lubrication dispensing system to ensure consistent and precise delivery of lubricant. Explore more reliable dispensing mechanisms like precise pumps or pressurized systems.\n",
      "*   **Real-time Monitoring:** Add sensors to monitor lubricant levels and application rate for real-time feedback and control.\n",
      "\n",
      "\n",
      "**5. Software Enhancements:**\n",
      "\n",
      "*   **Advanced Data Acquisition:**  Employ a higher sampling rate data acquisition system to capture more detailed data, especially for dynamic processes.\n",
      "*   **Robust Error Handling:** Develop better software error handling and recovery mechanisms to increase system reliability.\n",
      "*   **User Interface Improvements:** Make the system easier to operate and maintain with a user-friendly interface providing clear feedback and diagnostics.\n",
      "\n",
      "\n",
      "**6. Material Selection:** Consider using higher stiffness materials (e.g., carbon fiber reinforced polymer) for critical structural components to reduce vibrations.\n",
      "\n",
      "By implementing these improvements, the Ultraman system's accuracy and reliability should be significantly enhanced.  It's crucial to conduct thorough testing and analysis after each modification to validate its effectiveness.\n",
      "\n"
     ]
    }
   ],
   "source": [
    "ultramanb = ai.upload_file(\"Testing_Report__Version_1374_.pdf\")\n",
    "response = model.generate_content([\"Use the pdf as context and confirm that it has been read by returning the word 'Done'. Then, recommend some improvements to the ultraman system to increase accuracy\", ultramanb])\n",
    "print(response.text)"
   ]
  },
  {
   "cell_type": "code",
   "execution_count": 7,
   "metadata": {},
   "outputs": [
    {
     "name": "stdout",
     "output_type": "stream",
     "text": [
      "## Purpose and Explanation:\n",
      "\n",
      "This equation is used to **determine the interfacial heat transfer coefficient (h)** during a hot aluminum stamping process. The heat transfer coefficient quantifies the rate at which heat is transferred across the interface between the hot aluminum workpiece and the stamping tool. This is a crucial factor in determining the efficiency and quality of the stamping process. \n",
      "\n",
      "**Here's a breakdown of the equation:**\n",
      "\n",
      "* **h:** Interfacial heat transfer coefficient (W/m²K).\n",
      "* **k:** Thermal conductivity of the aluminum (W/mK).\n",
      "* **θ:** Angle of the stamping die.\n",
      "* **σ:** Surface roughness of the die.\n",
      "* **p:** Contact pressure between the die and the workpiece (Pa).\n",
      "* **H:** Hardness of the aluminum workpiece (Pa).\n",
      "\n",
      "**Readable form of the equation:**\n",
      "\n",
      "h = 1.45 * k * (tan(θ) / σ) * (p / H)^0.985\n",
      "\n",
      "**In simple terms:**\n",
      "\n",
      "The heat transfer coefficient (h) is directly proportional to the thermal conductivity of aluminum (k) and the tangent of the die angle (tan(θ)). It is inversely proportional to the surface roughness (σ) of the die. The contact pressure (p) and hardness (H) of the aluminum also play a role, with the coefficient increasing with higher pressure and decreasing with higher hardness. \n",
      "\n",
      "**This equation is crucial in hot stamping processes as it allows engineers to predict the heat transfer between the die and the workpiece, enabling them to optimize process parameters for better control and improved stamping quality.** \n",
      "\n"
     ]
    }
   ],
   "source": [
    "query = \"\"\"Given the following MathML representation of an equation, please identify its purpose and provide a brief explanation of what the equation represents in mathematical terms. The domain is tribology, and the paper title is \"Title: Determination of the interfacial heat transfer coefficient for a hot aluminium stamping process\n",
    "\".\n",
    "\n",
    "<math xmlns=\"http://www.w3.org/1998/Math/MathML\"><mrow is=\"true\"><mi is=\"true\">h</mi><mo is=\"true\">=</mo><mn is=\"true\">1.45</mn><mi is=\"true\">k</mi><mfrac is=\"true\"><mrow is=\"true\"><mi is=\"true\">tan</mi><mi is=\"true\">θ</mi></mrow><mi is=\"true\">σ</mi></mfrac><msup is=\"true\"><mrow is=\"true\"><mo stretchy=\"false\" is=\"true\">(</mo><mfrac is=\"true\"><mi is=\"true\">p</mi><mi is=\"true\">H</mi></mfrac><mo stretchy=\"false\" is=\"true\">)</mo></mrow><mrow is=\"true\"><mn is=\"true\">0.985</mn></mrow></msup></mrow></math>\n",
    "\n",
    "\n",
    "Explain the purpose of the equation and write it out in readable form.\"\"\"\n",
    "\n",
    "response = model.generate_content(query)\n",
    "print(response.text)"
   ]
  }
 ],
 "metadata": {
  "kernelspec": {
   "display_name": "fyp_env",
   "language": "python",
   "name": "python3"
  },
  "language_info": {
   "codemirror_mode": {
    "name": "ipython",
    "version": 3
   },
   "file_extension": ".py",
   "mimetype": "text/x-python",
   "name": "python",
   "nbconvert_exporter": "python",
   "pygments_lexer": "ipython3",
   "version": "3.11.10"
  }
 },
 "nbformat": 4,
 "nbformat_minor": 2
}
