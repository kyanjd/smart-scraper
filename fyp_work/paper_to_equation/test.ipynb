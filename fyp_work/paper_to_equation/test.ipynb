{
 "cells": [
  {
   "cell_type": "code",
   "execution_count": 1,
   "metadata": {},
   "outputs": [],
   "source": [
    "from Gemini.GeminiPredict import GeminiPredict\n",
    "from Generation.Equation_BaseDataset import Equation, BaseDataset\n",
    "from Postprocessing.SOE_EquationGraph import SystemOfEquations, EquationGraph\n",
    "from Scraping.Scraper import Scraper\n",
    "\n",
    "import os\n",
    "import google.generativeai as genai\n",
    "from sympy import *"
   ]
  },
  {
   "cell_type": "markdown",
   "metadata": {},
   "source": [
    "### Gemini"
   ]
  },
  {
   "cell_type": "code",
   "execution_count": 2,
   "metadata": {},
   "outputs": [
    {
     "name": "stdout",
     "output_type": "stream",
     "text": [
      "API key loaded successfully!\n"
     ]
    },
    {
     "name": "stderr",
     "output_type": "stream",
     "text": [
      "Generating Predictions: 100%|██████████| 13/13 [00:19<00:00,  1.46s/row]\n"
     ]
    }
   ],
   "source": [
    "api_key = os.getenv(\"GEMINI_API_KEY\")\n",
    "gp = GeminiPredict(api_key, \"Data/HTC_equations.txt\", \"tunedModels/mmltopython4-f3fuppiemnq9\")\n",
    "gp.predict_from_txt()\n",
    "gp.save_predictions(\"Data/HTC_gemini_predictions.txt\")"
   ]
  },
  {
   "cell_type": "code",
   "execution_count": 3,
   "metadata": {},
   "outputs": [],
   "source": [
    "gp.save_predictions()\n",
    "# for model in genai.list_tuned_models():\n",
    "#     print(model.name)"
   ]
  },
  {
   "cell_type": "markdown",
   "metadata": {},
   "source": [
    "### Generation"
   ]
  },
  {
   "cell_type": "code",
   "execution_count": 4,
   "metadata": {},
   "outputs": [
    {
     "name": "stdout",
     "output_type": "stream",
     "text": [
      "\"I = Symbol('I')\\nx = Symbol('x')\\ny_τ = Symbol('y_τ')\\nΣ = Symbol('Σ')\\nB = Symbol('B')\\ne = Eq(I, -exp(Σ/4)**(sqrt(y_τ**x)) + tan(B))\"\n"
     ]
    }
   ],
   "source": [
    "eq = Equation()\n",
    "py, mml = eq.generate()\n",
    "print(repr(py))\n"
   ]
  },
  {
   "cell_type": "code",
   "execution_count": 3,
   "metadata": {},
   "outputs": [
    {
     "name": "stderr",
     "output_type": "stream",
     "text": [
      "Generating dataset: 100%|██████████| 5/5 [00:00<00:00, 84.53it/s]"
     ]
    },
    {
     "name": "stdout",
     "output_type": "stream",
     "text": [
      "Τ = Symbol('Τ')\n",
      "ζ = Symbol('ζ')\n",
      "l_Π = Symbol('l_Π')\n",
      "δ_a = Symbol('δ_a')\n",
      "e = Eq(Τ, sqrt(ζ) + cos(l_Π - δ_a))\n",
      "Ψ = Symbol('Ψ')\n",
      "α = Symbol('α')\n",
      "Ψ_xqχ = Symbol('Ψ_xqχ')\n",
      "e = Eq(Ψ, sqrt(α) - cos(Ψ_xqχ) + 7)\n",
      "Μ = Symbol('Μ')\n",
      "H = Symbol('H')\n",
      "m_Ψ = Symbol('m_Ψ')\n",
      "Z = Symbol('Z')\n",
      "b = Symbol('b')\n",
      "e = Eq(Μ, sqrt(-H + m_Ψ)*exp(b)**Z)\n",
      "Ξ_c = Symbol('Ξ_c')\n",
      "Υ = Symbol('Υ')\n",
      "Σ_ο = Symbol('Σ_ο')\n",
      "e = Eq(Ξ_c, -exp(Υ) + cos(Σ_ο))\n",
      "A_σm = Symbol('A_σm')\n",
      "Θ = Symbol('Θ')\n",
      "χ_Χμ = Symbol('χ_Χμ')\n",
      "G_μ = Symbol('G_μ')\n",
      "φ = Symbol('φ')\n",
      "e = Eq(A_σm, G_μ**(sin(Θ + χ_Χμ)/2)/log(φ))\n"
     ]
    },
    {
     "name": "stderr",
     "output_type": "stream",
     "text": [
      "\n"
     ]
    }
   ],
   "source": [
    "import csv\n",
    "class GeminiDataset(BaseDataset):\n",
    "    def __init__(self, num, filepath):\n",
    "        super().__init__(num, filepath)\n",
    "\n",
    "    def get_columns(self):\n",
    "        return [\"text_input\", \"output\"]\n",
    "    \n",
    "gd = GeminiDataset(5, \"Data/gemini_test_6.csv\")\n",
    "gd.create()\n"
   ]
  },
  {
   "cell_type": "markdown",
   "metadata": {},
   "source": [
    "### Postprocessing"
   ]
  },
  {
   "cell_type": "code",
   "execution_count": 2,
   "metadata": {},
   "outputs": [
    {
     "name": "stdout",
     "output_type": "stream",
     "text": [
      "[Eq(h, h_c + h_g), Eq(h, 1.45*k*(p/H)**0.985*tan(θ)/σ), Eq(h, 8000*λ*(K*p/(C*σ_U))**0.86), Eq(h, A*(1 - exp(-B*P))), Eq(h, 2*k_f*k_t*k_w*(1 - A)/(h_f*(-k_f*k_t - k_f*k_w + 2*k_t*k_w))), Eq(h, h_a + h_c + h_l), Eq(h_c, K_st*N_P*α/R), Eq(K_st, 2/(1/k_t + 1/k_s)), Eq(R, sqrt(Rs**2 + Rt**2)), Eq(N_P, 1 - exp(-P*λ/σ_U)), Eq(h_l, K_stl*N_L*β/R), Eq(K_stl, 3/(1/k_t + 1/k_s + 1/k_l)), Eq(N_L, 1 - exp(-γ*δ))]\n"
     ]
    },
    {
     "ename": "KeyError",
     "evalue": "P",
     "output_type": "error",
     "traceback": [
      "\u001b[1;31m---------------------------------------------------------------------------\u001b[0m",
      "\u001b[1;31mKeyError\u001b[0m                                  Traceback (most recent call last)",
      "Cell \u001b[1;32mIn[2], line 5\u001b[0m\n\u001b[0;32m      3\u001b[0m     soe\u001b[38;5;241m.\u001b[39mparse_equation(eq)\n\u001b[0;32m      4\u001b[0m \u001b[38;5;28mprint\u001b[39m(soe\u001b[38;5;241m.\u001b[39meq)\n\u001b[1;32m----> 5\u001b[0m equations \u001b[38;5;241m=\u001b[39m soe\u001b[38;5;241m.\u001b[39mreduce_system(\u001b[38;5;241m1\u001b[39m)\n\u001b[0;32m      6\u001b[0m \u001b[38;5;28mprint\u001b[39m(equations)\n",
      "File \u001b[1;32mc:\\Users\\kyanj\\Documents\\Repos\\smart-scraper\\fyp_work\\paper_to_equation\\Postprocessing\\SOE_EquationGraph.py:80\u001b[0m, in \u001b[0;36mSystemOfEquations.reduce_system\u001b[1;34m(self, equation_n)\u001b[0m\n\u001b[0;32m     70\u001b[0m \u001b[38;5;250m\u001b[39m\u001b[38;5;124;03m\"\"\"\u001b[39;00m\n\u001b[0;32m     71\u001b[0m \u001b[38;5;124;03mReduce the system of equations to those necessary to solve the target equation\u001b[39;00m\n\u001b[0;32m     72\u001b[0m \n\u001b[1;32m   (...)\u001b[0m\n\u001b[0;32m     77\u001b[0m \u001b[38;5;124;03m    A list of SymPy equations that are necessary to solve the target equation\u001b[39;00m\n\u001b[0;32m     78\u001b[0m \u001b[38;5;124;03m\"\"\"\u001b[39;00m\n\u001b[0;32m     79\u001b[0m graph \u001b[38;5;241m=\u001b[39m EquationGraph(\u001b[38;5;28mself\u001b[39m\u001b[38;5;241m.\u001b[39meq, equation_n)\n\u001b[1;32m---> 80\u001b[0m \u001b[38;5;28;01mreturn\u001b[39;00m graph\u001b[38;5;241m.\u001b[39mget_system_of_equations()\n",
      "File \u001b[1;32mc:\\Users\\kyanj\\Documents\\Repos\\smart-scraper\\fyp_work\\paper_to_equation\\Postprocessing\\SOE_EquationGraph.py:151\u001b[0m, in \u001b[0;36mEquationGraph.get_system_of_equations\u001b[1;34m(self)\u001b[0m\n\u001b[0;32m    149\u001b[0m \u001b[38;5;28;01mdef\u001b[39;00m \u001b[38;5;21mget_system_of_equations\u001b[39m(\u001b[38;5;28mself\u001b[39m):\n\u001b[0;32m    150\u001b[0m     dependencies \u001b[38;5;241m=\u001b[39m \u001b[38;5;28mself\u001b[39m\u001b[38;5;241m.\u001b[39mBFS_for_vars() \u001b[38;5;66;03m# Get all variables the target variable depends on\u001b[39;00m\n\u001b[1;32m--> 151\u001b[0m     \u001b[38;5;28;01mreturn\u001b[39;00m [\u001b[38;5;28mself\u001b[39m\u001b[38;5;241m.\u001b[39mvar_equation_map[var] \u001b[38;5;28;01mfor\u001b[39;00m var \u001b[38;5;129;01min\u001b[39;00m dependencies]\n",
      "File \u001b[1;32mc:\\Users\\kyanj\\Documents\\Repos\\smart-scraper\\fyp_work\\paper_to_equation\\Postprocessing\\SOE_EquationGraph.py:151\u001b[0m, in \u001b[0;36m<listcomp>\u001b[1;34m(.0)\u001b[0m\n\u001b[0;32m    149\u001b[0m \u001b[38;5;28;01mdef\u001b[39;00m \u001b[38;5;21mget_system_of_equations\u001b[39m(\u001b[38;5;28mself\u001b[39m):\n\u001b[0;32m    150\u001b[0m     dependencies \u001b[38;5;241m=\u001b[39m \u001b[38;5;28mself\u001b[39m\u001b[38;5;241m.\u001b[39mBFS_for_vars() \u001b[38;5;66;03m# Get all variables the target variable depends on\u001b[39;00m\n\u001b[1;32m--> 151\u001b[0m     \u001b[38;5;28;01mreturn\u001b[39;00m [\u001b[38;5;28mself\u001b[39m\u001b[38;5;241m.\u001b[39mvar_equation_map[var] \u001b[38;5;28;01mfor\u001b[39;00m var \u001b[38;5;129;01min\u001b[39;00m dependencies]\n",
      "\u001b[1;31mKeyError\u001b[0m: P"
     ]
    }
   ],
   "source": [
    "soe = SystemOfEquations(\"Data/HTC_gemini5_predictions.txt\")\n",
    "for eq in soe.str_equations:\n",
    "    soe.parse_equation(eq)\n",
    "print(soe.eq)\n",
    "equations = soe.reduce_system(1)\n",
    "print(equations)"
   ]
  },
  {
   "cell_type": "code",
   "execution_count": 3,
   "metadata": {},
   "outputs": [
    {
     "name": "stdout",
     "output_type": "stream",
     "text": [
      "{K_st: 0.0514285714285714, K_stl: 0.0372413793103448, N_L: 0.950212931632136, N_P: 0.943918673394894, R: 1.01843016451792e-6, h: 14.2029991170233, h_c: 9.58084561156584, h_l: 3.82215350545746}\n",
      "{K_st: 0.0514285714285714, K_stl: 0.0372413793103448, N_L: 0.950212931632136, N_P: 0.943918673394894, R: 1.01843016451792e-6, a: b + 1.0, h: 14.2029991170233, h_c: 9.58084561156584, h_l: 3.82215350545746}\n"
     ]
    }
   ],
   "source": [
    "# Constants\n",
    "k_s = 0.14\n",
    "k_t = 0.0315\n",
    "k_l = 0.024\n",
    "Rs = 3.4e-07\n",
    "Rt = 9.6e-07\n",
    "h_a = 0.8\n",
    "σ_U = 21.0\n",
    "α = 0.000201\n",
    "λ = 6.05\n",
    "β = 0.00011\n",
    "γ = 200000.0\n",
    "δ = 1.5e-5\n",
    "P = 10\n",
    "\n",
    "k = 1\n",
    "p = 1\n",
    "H = 1\n",
    "θ = 1\n",
    "σ = 1\n",
    "K = 1\n",
    "C = 1\n",
    "A = 1\n",
    "B = 1\n",
    "k_f = 1\n",
    "k_w = 1\n",
    "h_f = 1\n",
    "h_g = 1\n",
    "\n",
    "# Variables\n",
    "h = Symbol(\"h\")\n",
    "h_c = Symbol(\"h_c\")\n",
    "K_st = Symbol(\"K_st\")\n",
    "R = Symbol(\"R\")\n",
    "N_P = Symbol(\"N_P\")\n",
    "h_l = Symbol(\"h_l\")\n",
    "K_stl = Symbol(\"K_stl\")\n",
    "N_L = Symbol(\"N_L\")\n",
    "a = Symbol(\"a\")\n",
    "b = Symbol(\"b\")\n",
    "\n",
    "exprs = [Eq(h, h_c + h_g), \n",
    "            Eq(h, 1.45*k*(p/H)**0.985*tan(θ)/σ), \n",
    "            Eq(h, 8000*λ*(K*p/(C*σ_U))**0.86), \n",
    "            Eq(h, A*(1 - exp(-B*P))), \n",
    "            Eq(h, 2*k_f*k_t*k_w*(1 - A)/(h_f*(-k_f*k_t - k_f*k_w + 2*k_t*k_w))), \n",
    "            Eq(h, h_a + h_c + h_l), \n",
    "            Eq(h_c, K_st*N_P*α/R), \n",
    "            Eq(K_st, 2/(1/k_t + 1/k_s)), \n",
    "            Eq(R, sqrt(Rs**2 + Rt**2)), \n",
    "            Eq(N_P, 1 - exp(-P*λ/σ_U)), \n",
    "            Eq(h_l, K_stl*N_L*β/R), \n",
    "            Eq(K_stl, 3/(1/k_t + 1/k_s + 1/k_l)), \n",
    "            Eq(N_L, 1 - exp(-γ*δ))]\n",
    "\n",
    "\n",
    "eg = EquationGraph(exprs, 6)\n",
    "reduced = eg.get_system_of_equations()\n",
    "sol1 = solve(reduced)[0]\n",
    "sol2 = solve(eg.equations)[0]\n",
    "sol3 = solve(exprs)\n",
    "print(sol1)\n",
    "print(sol2)"
   ]
  },
  {
   "cell_type": "markdown",
   "metadata": {},
   "source": [
    "### Scraping"
   ]
  },
  {
   "cell_type": "code",
   "execution_count": null,
   "metadata": {},
   "outputs": [],
   "source": [
    "sc = Scraper()"
   ]
  }
 ],
 "metadata": {
  "kernelspec": {
   "display_name": "fyp_env",
   "language": "python",
   "name": "python3"
  },
  "language_info": {
   "codemirror_mode": {
    "name": "ipython",
    "version": 3
   },
   "file_extension": ".py",
   "mimetype": "text/x-python",
   "name": "python",
   "nbconvert_exporter": "python",
   "pygments_lexer": "ipython3",
   "version": "3.11.10"
  }
 },
 "nbformat": 4,
 "nbformat_minor": 2
}
