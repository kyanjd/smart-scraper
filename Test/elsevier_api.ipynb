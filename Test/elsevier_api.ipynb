{
 "cells": [
  {
   "cell_type": "code",
   "execution_count": null,
   "metadata": {},
   "outputs": [
    {
     "name": "stdout",
     "output_type": "stream",
     "text": [
      "Request successful \n",
      "\n",
      "<mml:math altimg=\"si4.gif\" overflow=\"scroll\">\n",
      "<mml:mrow>\n",
      "<mml:mi>h</mml:mi>\n",
      "<mml:mo>=</mml:mo>\n",
      "<mml:msub>\n",
      "<mml:mi>h</mml:mi>\n",
      "<mml:mi>g</mml:mi>\n",
      "</mml:msub>\n",
      "<mml:mo>+</mml:mo>\n",
      "<mml:msub>\n",
      "<mml:mi>h</mml:mi>\n",
      "<mml:mi>c</mml:mi>\n",
      "</mml:msub>\n",
      "</mml:mrow>\n",
      "</mml:math>\n"
     ]
    }
   ],
   "source": [
    "import requests\n",
    "import bs4\n",
    "import os\n",
    "import sympy\n",
    "\n",
    "class EquationScraper():\n",
    "    def __init__(self, doi, api_key):\n",
    "        self.doi = doi\n",
    "        self.api_key = api_key\n",
    "\n",
    "    def make_request(self):\n",
    "        response = requests.get(f\"https://api.elsevier.com/content/article/doi/{self.doi}?APIKey={self.api_key}\")\n",
    "        if response.status_code == 200:\n",
    "            print(\"Request successful \\n\")\n",
    "            self.full_text = response.text \n",
    "        else:\n",
    "            raise Exception(f\"Request failed with status code: {response.status_code} \\n\")\n",
    "\n",
    "    def make_soup(self):\n",
    "        self.soup = bs4.BeautifulSoup(self.full_text, \"lxml\")\n",
    "\n",
    "    def find_equations(self):\n",
    "        self.equation = self.soup.find_all(\"ce:formula\")\n",
    "        equation_dict = {}\n",
    "        for eq in self.equation:\n",
    "            label = eq.find(\"ce:label\")\n",
    "            cleaned_label = int(label.text[1:-1])\n",
    "            equation_dict[cleaned_label] = eq.find(\"mml:math\")\n",
    "        self.mathml_dict = equation_dict\n",
    "    \n",
    "    def mathml_to_python(self, mathml):\n",
    "        pass\n",
    "        \n",
    "        \n",
    "\n",
    "        \n",
    "doi = \"10.1016/j.jmatprotec.2017.04.005\"\n",
    "api_key = os.getenv(\"ELSEVIER_API_KEY\")\n",
    "scraper = EquationScraper(doi, api_key)\n",
    "scraper.make_request()\n",
    "scraper.make_soup()\n",
    "scraper.find_equations()\n",
    "print(scraper.mathml_dict[1])"
   ]
  },
  {
   "cell_type": "code",
   "execution_count": null,
   "metadata": {},
   "outputs": [],
   "source": [
    "\"\"\"<ce:formula id=\"eq0010\">\n",
    "<ce:label>(1)</ce:label>\n",
    "<mml:math altimg=\"si4.gif\" overflow=\"scroll\">\n",
    "<mml:mrow>\n",
    "<mml:mi>h</mml:mi>\n",
    "<mml:mo>=</mml:mo>\n",
    "<mml:msub>\n",
    "<mml:mi>h</mml:mi>\n",
    "<mml:mi>g</mml:mi>\n",
    "</mml:msub>\n",
    "<mml:mo>+</mml:mo>\n",
    "<mml:msub>\n",
    "<mml:mi>h</mml:mi>\n",
    "<mml:mi>c</mml:mi>\n",
    "</mml:msub>\n",
    "</mml:mrow>\n",
    "</mml:math>\n",
    "</ce:formula>\"\"\""
   ]
  }
 ],
 "metadata": {
  "kernelspec": {
   "display_name": "fyp_env",
   "language": "python",
   "name": "python3"
  },
  "language_info": {
   "codemirror_mode": {
    "name": "ipython",
    "version": 3
   },
   "file_extension": ".py",
   "mimetype": "text/x-python",
   "name": "python",
   "nbconvert_exporter": "python",
   "pygments_lexer": "ipython3",
   "version": "3.11.10"
  }
 },
 "nbformat": 4,
 "nbformat_minor": 2
}
