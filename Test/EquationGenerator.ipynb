{
 "cells": [
  {
   "cell_type": "code",
   "execution_count": 175,
   "metadata": {},
   "outputs": [],
   "source": [
    "import pandas as pd\n",
    "import numpy as np\n",
    "import sympy as sp\n",
    "from sympy import *\n",
    "from sympy.abc import a, b, c, d, e, f, g, h, i, j, k, l, m, n, o, p, q, r, s, t, u, v, w, x, y, z, alpha, beta, gamma, delta, epsilon, eta, theta, iota, kappa, mu, nu, xi, omicron, pi, rho, sigma, tau, upsilon, phi, chi, psi, omega\n",
    "import matplotlib.pyplot as plt\n",
    "import random\n",
    "from IPython.display import Markdown"
   ]
  },
  {
   "cell_type": "code",
   "execution_count": 237,
   "metadata": {},
   "outputs": [
    {
     "name": "stdout",
     "output_type": "stream",
     "text": [
      "Help on _PrintFunction in module sympy.printing.mathml:\n",
      "\n",
      "mathml = <sympy.printing.printer._PrintFunction object>\n",
      "    Returns the MathML representation of expr. If printer is presentation\n",
      "    then prints Presentation MathML else prints content MathML.\n",
      "\n",
      "<mrow><mrow><mrow><mn>2</mn><mo>&InvisibleTimes;</mo><mi>x</mi><mo>&InvisibleTimes;</mo><mi>y</mi></mrow><mo>+</mo><mn>3</mn></mrow><mo>=</mo><mrow><mrow><mn>4</mn><mo>&InvisibleTimes;</mo><mi>x</mi></mrow><mo>+</mo><mn>5</mn></mrow></mrow>\n"
     ]
    },
    {
     "data": {
      "text/markdown": [
       "$$ 2 x y + 3 = 4 x + 5 $$"
      ],
      "text/plain": [
       "<IPython.core.display.Markdown object>"
      ]
     },
     "metadata": {},
     "output_type": "display_data"
    }
   ],
   "source": [
    "class EquationGenerator:\n",
    "    def __init__(self):\n",
    "        self.latin = symbols('a b c d e f g h i j k l m n o p q r s t u v w x y z')\n",
    "        self.greek = symbols('alpha beta gamma delta epsilon zeta eta theta iota kappa mu nu xi omicron pi rho sigma tau upsilon phi chi psi omega')\n",
    "        self.vars = self.latin + self.greek \n",
    "        self.operators = ('+', '-', '*', '/', '**')\n",
    "        self.functions = (sin, cos, tan, exp, log, sqrt)\n",
    "        self.nums = tuple(range(1, 10))\n",
    "\n",
    "    def generate_expression(self):\n",
    "        # complexity1 = random.randint(1, 3)\n",
    "        self.vars += (\"λ\",)\n",
    "        complexity1 = 1\n",
    "        expression = random.choice(self.functions)(random.choice(self.vars))  # Start with a function of a variable\n",
    "        for _ in range(complexity1 ** 2):\n",
    "            operator = random.choice(self.operators)\n",
    "            complexity2 = random.randint(1, 3)\n",
    "            if complexity2 == 1:\n",
    "                term = random.choice((random.choice(self.vars), random.choice(self.nums)))\n",
    "            elif complexity2 == 2:\n",
    "                term = random.choice(self.functions)(random.choice(self.vars))\n",
    "            elif complexity2 == 3:\n",
    "                func = random.choice(self.functions)\n",
    "                inner1 = random.choice(self.vars)\n",
    "                inner2 = random.choice((random.choice(self.nums), random.choice(self.vars)))\n",
    "                operator = random.choice(self.operators)\n",
    "                term = f\"{func.__name__}({inner1} {operator} {inner2})\"    \n",
    "            expression = f\"({expression}) {operator} ({term})\" \n",
    "        print(expression)\n",
    "        return sympify(expression)\n",
    "    \n",
    "    def combined_vars(self):\n",
    "        part1 = random.choice(self.vars)\n",
    "        part2 = random.choice(self.vars + self.nums)\n",
    "        var = f\"{part1}_{part2}\"\n",
    "        return symbols(var)\n",
    "    \n",
    "    def generate_equation(self):\n",
    "        lhs = self.generate_expression()\n",
    "        rhs = self.generate_expression()\n",
    "        return Eq(lhs, rhs)\n",
    "    \n",
    "    def to_mathml(self, expr):\n",
    "        mml = sp.printing.mathml(expr, printer='presentation')\n",
    "        # mml = mml.replace(\"<mo>&InvisibleTimes;</mo>\", \"\")\n",
    "        # mml = mml.replace(\">\", \">\\n\")\n",
    "        return mml\n",
    "    \n",
    "\n",
    "\n",
    "\n",
    "        \n",
    "    \n",
    "    \n",
    "\n",
    "\n",
    "\n",
    "def main():\n",
    "    help(sp.printing.mathml)\n",
    "    eg = EquationGenerator()\n",
    "    # eq = eg.generate_equation()\n",
    "    eq = Eq(2*x*y + 3, 4*x + 5)\n",
    "    latex_eq = latex(eq)\n",
    "    mathml = eg.to_mathml(eq)\n",
    "    print(mathml)\n",
    "    display(Markdown(f\"$$ {latex_eq} $$\"))\n",
    "\n",
    "if __name__ == \"__main__\":\n",
    "    main()\n",
    "\n"
   ]
  },
  {
   "cell_type": "markdown",
   "metadata": {},
   "source": [
    "$$\n",
    "\\phi + \\tan{\\left(m \\right)} = \\cos^{5}{\\left(g \\right)}\n",
    "$$"
   ]
  }
 ],
 "metadata": {
  "kernelspec": {
   "display_name": "fyp_env",
   "language": "python",
   "name": "python3"
  },
  "language_info": {
   "codemirror_mode": {
    "name": "ipython",
    "version": 3
   },
   "file_extension": ".py",
   "mimetype": "text/x-python",
   "name": "python",
   "nbconvert_exporter": "python",
   "pygments_lexer": "ipython3",
   "version": "3.11.10"
  }
 },
 "nbformat": 4,
 "nbformat_minor": 2
}
