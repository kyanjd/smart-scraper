{
 "cells": [
  {
   "cell_type": "code",
   "execution_count": 1,
   "metadata": {},
   "outputs": [
    {
     "name": "stderr",
     "output_type": "stream",
     "text": [
      "c:\\Users\\kyanj\\anaconda3\\envs\\fyp_env\\Lib\\site-packages\\tqdm\\auto.py:21: TqdmWarning: IProgress not found. Please update jupyter and ipywidgets. See https://ipywidgets.readthedocs.io/en/stable/user_install.html\n",
      "  from .autonotebook import tqdm as notebook_tqdm\n"
     ]
    },
    {
     "ename": "ModuleNotFoundError",
     "evalue": "No module named 'src'",
     "output_type": "error",
     "traceback": [
      "\u001b[1;31m---------------------------------------------------------------------------\u001b[0m",
      "\u001b[1;31mModuleNotFoundError\u001b[0m                       Traceback (most recent call last)",
      "Cell \u001b[1;32mIn[1], line 9\u001b[0m\n\u001b[0;32m      7\u001b[0m \u001b[38;5;28;01mimport\u001b[39;00m \u001b[38;5;21;01mmatplotlib\u001b[39;00m\u001b[38;5;21;01m.\u001b[39;00m\u001b[38;5;21;01mpyplot\u001b[39;00m \u001b[38;5;28;01mas\u001b[39;00m \u001b[38;5;21;01mplt\u001b[39;00m\n\u001b[0;32m      8\u001b[0m \u001b[38;5;28;01mimport\u001b[39;00m \u001b[38;5;21;01msacrebleu\u001b[39;00m\n\u001b[1;32m----> 9\u001b[0m \u001b[38;5;28;01mfrom\u001b[39;00m \u001b[38;5;21;01msrc\u001b[39;00m\u001b[38;5;21;01m.\u001b[39;00m\u001b[38;5;21;01mpaper_to_equation\u001b[39;00m\u001b[38;5;21;01m.\u001b[39;00m\u001b[38;5;21;01mGeneration\u001b[39;00m\u001b[38;5;21;01m.\u001b[39;00m\u001b[38;5;21;01mEquation_BaseDataset\u001b[39;00m \u001b[38;5;28;01mimport\u001b[39;00m BaseDataset\n",
      "\u001b[1;31mModuleNotFoundError\u001b[0m: No module named 'src'"
     ]
    }
   ],
   "source": [
    "import google.generativeai as genai\n",
    "from google.generativeai.types import GenerationConfig\n",
    "import os\n",
    "import time\n",
    "import csv\n",
    "import pandas as pd\n",
    "import matplotlib.pyplot as plt\n",
    "import sacrebleu\n",
    "from src.paper_to_equation.Generation.Equation_BaseDataset import BaseDataset"
   ]
  },
  {
   "cell_type": "code",
   "execution_count": 9,
   "metadata": {},
   "outputs": [
    {
     "name": "stdout",
     "output_type": "stream",
     "text": [
      "API key loaded successfully!\n"
     ]
    }
   ],
   "source": [
    "api_key = os.getenv(\"GEMINI_API_KEY\")  # Returns None if the variable is not set\n",
    "# Check if the API key is loaded correctly\n",
    "if api_key:\n",
    "    print(\"API key loaded successfully!\")\n",
    "else:\n",
    "    print(\"API key not found. Please ensure it is set as an environment variable.\")\n",
    "\n",
    "genai.configure(api_key=api_key)"
   ]
  },
  {
   "cell_type": "code",
   "execution_count": 6,
   "metadata": {},
   "outputs": [],
   "source": [
    "class GeminiDataset(BaseDataset):\n",
    "    def __init__(self, num, filepath):\n",
    "        super().__init__(num, filepath)\n",
    "\n",
    "    def get_columns(self):\n",
    "        return [\"text_input\", \"output\"]"
   ]
  },
  {
   "cell_type": "code",
   "execution_count": 12,
   "metadata": {},
   "outputs": [
    {
     "name": "stderr",
     "output_type": "stream",
     "text": [
      "Generating dataset: 100%|██████████| 100/100 [00:01<00:00, 94.95it/s]\n"
     ]
    }
   ],
   "source": [
    "# Path to CSV file\n",
    "csv_file_path = \"Data/gemini_test_6.csv\"\n",
    "\n",
    "data = GeminiDataset(100, csv_file_path)\n",
    "data.create()"
   ]
  },
  {
   "cell_type": "code",
   "execution_count": 9,
   "metadata": {},
   "outputs": [
    {
     "name": "stdout",
     "output_type": "stream",
     "text": [
      "{'text_input': '<mml:mi>l</mml:mi>\\n<mml:mo>=</mml:mo>\\n<mml:mrow>\\n<mml:mn>3</mml:mn>\\n<mml:mrow>\\n<mml:mi>sin</mml:mi>\\n<mml:mfenced>\\n<mml:msub>\\n<mml:mi>w</mml:mi>\\n<mml:mrow>\\n<mml:mi>υ</mml:mi>\\n<mml:mi>z</mml:mi>\\n</mml:mrow>\\n</mml:msub>\\n</mml:mfenced>\\n</mml:mrow>\\n</mml:mrow>', 'output': \"l = Symbol('l')\\nw_υz = Symbol('w_υz')\\ne = Eq(l, 3*sin(w_υz))\"}\n"
     ]
    }
   ],
   "source": [
    "dataset = data.dataset\n",
    "print(dataset[0])"
   ]
  },
  {
   "cell_type": "code",
   "execution_count": 6,
   "metadata": {},
   "outputs": [
    {
     "name": "stdout",
     "output_type": "stream",
     "text": [
      "tunedModels/mmltopython1-si6b5lpywfhi\n",
      "tunedModels/mmltopython2-rq77o9de7x0p\n",
      "tunedModels/mmltopython4-f3fuppiemnq9\n",
      "tunedModels/mmltopython5-t7qh9rtx0wwt\n",
      "tunedModels/mmltopython6-i1nlb0w0glxy\n"
     ]
    }
   ],
   "source": [
    "for model in genai.list_tuned_models():\n",
    "    print(model.name)    \n",
    "\n",
    "# for model in genai.list_models():\n",
    "#     print(model.name)   "
   ]
  },
  {
   "cell_type": "code",
   "execution_count": 11,
   "metadata": {},
   "outputs": [
    {
     "data": {
      "application/vnd.jupyter.widget-view+json": {
       "model_id": "3a10e5cc01c444fc91b88f6f6e554875",
       "version_major": 2,
       "version_minor": 0
      },
      "text/plain": [
       "  0%|          | 0/125 [00:00<?, ?it/s]"
      ]
     },
     "metadata": {},
     "output_type": "display_data"
    },
    {
     "name": "stdout",
     "output_type": "stream",
     "text": [
      "TunedModel(name='tunedModels/mmltopython6-i1nlb0w0glxy',\n",
      "           source_model='models/gemini-1.5-flash-001-tuning',\n",
      "           base_model='models/gemini-1.5-flash-001-tuning',\n",
      "           display_name='mml_to_python_6',\n",
      "           description='',\n",
      "           temperature=1.0,\n",
      "           top_p=0.95,\n",
      "           top_k=64,\n",
      "           state=<State.ACTIVE: 2>,\n",
      "           create_time=datetime.datetime(2025, 1, 22, 17, 14, 42, 339186, tzinfo=datetime.timezone.utc),\n",
      "           update_time=datetime.datetime(2025, 1, 22, 17, 25, 53, 750228, tzinfo=datetime.timezone.utc),\n",
      "           tuning_task=TuningTask(start_time=datetime.datetime(2025, 1, 22, 17, 14, 44, 85153, tzinfo=datetime.timezone.utc),\n",
      "                                  complete_time=datetime.datetime(2025, 1, 22, 17, 25, 53, 750228, tzinfo=datetime.timezone.utc),\n",
      "                                  snapshots=[...],\n",
      "                                  hyperparameters=Hyperparameters(epoch_count=4,\n",
      "                                                                  batch_size=16,\n",
      "                                                                  learning_rate=0.002)),\n",
      "           reader_project_numbers=None)\n"
     ]
    },
    {
     "data": {
      "text/plain": [
       "[<matplotlib.lines.Line2D at 0x131992fc490>]"
      ]
     },
     "execution_count": 11,
     "metadata": {},
     "output_type": "execute_result"
    },
    {
     "data": {
      "image/png": "[encoded data removed]",
      "text/plain": [
       "<Figure size 640x480 with 1 Axes>"
      ]
     },
     "metadata": {},
     "output_type": "display_data"
    }
   ],
   "source": [
    "base_model = \"models/gemini-1.5-flash-001-tuning\"\n",
    "\n",
    "operation = genai.create_tuned_model(\n",
    "    display_name=\"mml_to_python_6\",\n",
    "    source_model=base_model,\n",
    "    epoch_count=4,\n",
    "    batch_size=16,\n",
    "    learning_rate=0.002,\n",
    "    training_data=dataset,\n",
    ")\n",
    "\n",
    "for status in operation.wait_bar():\n",
    "    time.sleep(10)\n",
    "\n",
    "result = operation.result()\n",
    "print(result)\n",
    "\n",
    "snapshots = pd.DataFrame(result.tuning_task.snapshots)\n",
    "plt.plot(snapshots['epoch'], snapshots['mean_loss'])"
   ]
  },
  {
   "cell_type": "code",
   "execution_count": 8,
   "metadata": {},
   "outputs": [
    {
     "name": "stdout",
     "output_type": "stream",
     "text": [
      "h = Symbol('h')\n",
      "h_c = Symbol('h_c')\n",
      "h_g = Symbol('h_g')\n",
      "e = Eq(h, h_c + h_g)\n"
     ]
    }
   ],
   "source": [
    "tuned_model = 'tunedModels/mmltopython1-si6b5lpywfhi'\n",
    "model = genai.GenerativeModel(model_name=tuned_model)\n",
    "generation_config = GenerationConfig(temperature=0.1)\n",
    "\n",
    "# mml = \"\\n<mml:mrow>\\n<mml:mrow>\\n<mml:mo>-</mml:mo>\\n<mml:msqrt>\\n<mml:mi>y</mml:mi>\\n</mml:msqrt>\\n</mml:mrow>\\n<mml:mo>+</mml:mo>\\n<mml:mrow>\\n<mml:mi>cos</mml:mi>\\n<mml:mfenced>\\n<mml:msub>\\n<mml:mi>Υ</mml:mi>\\n<mml:mi>ξ</mml:mi>\\n</mml:msub>\\n</mml:mfenced>\\n</mml:mrow>\\n</mml:mrow>\\n<mml:mo>=</mml:mo>\\n<mml:mrow>\\n<mml:mrow>\\n<mml:msub>\\n<mml:mi>Ψ</mml:mi>\\n<mml:mi>G</mml:mi>\\n</mml:msub>\\n<mml:mrow>\\n<mml:mi>log</mml:mi>\\n<mml:mfenced>\\n<mml:mi>M</mml:mi>\\n</mml:mfenced>\\n</mml:mrow>\\n</mml:mrow>\\n<mml:mo>-</mml:mo>\\n<mml:mrow>\\n<mml:mi>sin</mml:mi>\\n<mml:mfenced>\\n<mml:mrow>\\n<mml:mn>2</mml:mn>\\n<mml:mi>k</mml:mi>\\n</mml:mrow>\\n</mml:mfenced>\\n</mml:mrow>\\n</mml:mrow>\\n\"\n",
    "\n",
    "prompt = f\"\"\"\n",
    "<mml:mi>h</mml:mi>\n",
    "  <mml:mo>=</mml:mo>\n",
    "  <mml:mrow>\n",
    "    <mml:msub>\n",
    "      <mml:mi>h</mml:mi>\n",
    "      <mml:mi>c</mml:mi>\n",
    "    </mml:msub>\n",
    "    <mml:mo>+</mml:mo>\n",
    "    <mml:msub>\n",
    "      <mml:mi>h</mml:mi>\n",
    "      <mml:mi>g</mml:mi>\n",
    "    </mml:msub>\n",
    "  </mml:mrow>\n",
    "\"\"\"\n",
    "\n",
    "response = model.generate_content(prompt, generation_config=generation_config)\n",
    "\n",
    "print(response.text)\n"
   ]
  },
  {
   "cell_type": "code",
   "execution_count": 1,
   "metadata": {},
   "outputs": [
    {
     "name": "stdout",
     "output_type": "stream",
     "text": [
      "<mml:mi>m</mml:mi>\n",
      "<mml:mo>=</mml:mo>\n",
      "<mml:mrow>\n",
      "<mml:mrow>\n",
      "<mml:mi>cos</mml:mi>\n",
      "<mml:mfenced>\n",
      "<mml:mi>y</mml:mi>\n",
      "</mml:mfenced>\n",
      "</mml:mrow>\n",
      "<mml:mo>+</mml:mo>\n",
      "<mml:mn>3</mml:mn>\n",
      "</mml:mrow>\n"
     ]
    },
    {
     "ename": "NameError",
     "evalue": "name 'genai' is not defined",
     "output_type": "error",
     "traceback": [
      "\u001b[1;31m---------------------------------------------------------------------------\u001b[0m",
      "\u001b[1;31mNameError\u001b[0m                                 Traceback (most recent call last)",
      "Cell \u001b[1;32mIn[1], line 50\u001b[0m\n\u001b[0;32m     47\u001b[0m     \u001b[38;5;28mprint\u001b[39m(\u001b[38;5;124mf\u001b[39m\u001b[38;5;124m\"\u001b[39m\u001b[38;5;124mSacreBLEU Score: \u001b[39m\u001b[38;5;132;01m{\u001b[39;00mbleu\u001b[38;5;241m.\u001b[39mscore\u001b[38;5;132;01m}\u001b[39;00m\u001b[38;5;124m\"\u001b[39m)\n\u001b[0;32m     49\u001b[0m \u001b[38;5;66;03m# evaluate_bleu(\"gemini_test_1\", 'tunedModels/mmltopython1-si6b5lpywfhi')\u001b[39;00m\n\u001b[1;32m---> 50\u001b[0m \u001b[43mevaluate_bleu\u001b[49m\u001b[43m(\u001b[49m\u001b[38;5;124;43m\"\u001b[39;49m\u001b[38;5;124;43mData/gemini_test_6\u001b[39;49m\u001b[38;5;124;43m\"\u001b[39;49m\u001b[43m,\u001b[49m\u001b[43m \u001b[49m\u001b[38;5;124;43m\"\u001b[39;49m\u001b[38;5;124;43mtunedModels/mmltopython6-i1nlb0w0glxy\u001b[39;49m\u001b[38;5;124;43m\"\u001b[39;49m\u001b[43m)\u001b[49m\n",
      "Cell \u001b[1;32mIn[1], line 36\u001b[0m, in \u001b[0;36mevaluate_bleu\u001b[1;34m(filename, model_name)\u001b[0m\n\u001b[0;32m     35\u001b[0m \u001b[38;5;28;01mdef\u001b[39;00m \u001b[38;5;21mevaluate_bleu\u001b[39m(filename, model_name):\n\u001b[1;32m---> 36\u001b[0m     \u001b[43mgemini_translate\u001b[49m\u001b[43m(\u001b[49m\u001b[43mfilename\u001b[49m\u001b[43m,\u001b[49m\u001b[43m \u001b[49m\u001b[43mmodel_name\u001b[49m\u001b[43m)\u001b[49m\n\u001b[0;32m     38\u001b[0m     \u001b[38;5;28;01mwith\u001b[39;00m \u001b[38;5;28mopen\u001b[39m(\u001b[38;5;124mf\u001b[39m\u001b[38;5;124m\"\u001b[39m\u001b[38;5;132;01m{\u001b[39;00mfilename\u001b[38;5;132;01m}\u001b[39;00m\u001b[38;5;124m.csv\u001b[39m\u001b[38;5;124m\"\u001b[39m, \u001b[38;5;124m\"\u001b[39m\u001b[38;5;124mr\u001b[39m\u001b[38;5;124m\"\u001b[39m) \u001b[38;5;28;01mas\u001b[39;00m file:\n\u001b[0;32m     39\u001b[0m         reader \u001b[38;5;241m=\u001b[39m csv\u001b[38;5;241m.\u001b[39mreader(file)\n",
      "Cell \u001b[1;32mIn[1], line 23\u001b[0m, in \u001b[0;36mgemini_translate\u001b[1;34m(filename, model_name)\u001b[0m\n\u001b[0;32m     10\u001b[0m \u001b[38;5;28mprint\u001b[39m(mml)\n\u001b[0;32m     11\u001b[0m prompt \u001b[38;5;241m=\u001b[39m \u001b[38;5;124mf\u001b[39m\u001b[38;5;124m\"\"\"\u001b[39m\n\u001b[0;32m     12\u001b[0m \u001b[38;5;124mYou are an expert at translating MathML to Python code using the SymPy library. Translate the following MathML expression into a valid Python SymPy expression. \u001b[39m\n\u001b[0;32m     13\u001b[0m \u001b[38;5;124mEnsure that all variables are treated as symbolic variables and each is defined separately on a new line. \u001b[39m\n\u001b[1;32m   (...)\u001b[0m\n\u001b[0;32m     21\u001b[0m \u001b[38;5;124mSymPy Python code:\u001b[39m\n\u001b[0;32m     22\u001b[0m \u001b[38;5;124m\u001b[39m\u001b[38;5;124m\"\"\"\u001b[39m\n\u001b[1;32m---> 23\u001b[0m model \u001b[38;5;241m=\u001b[39m \u001b[43mgenai\u001b[49m\u001b[38;5;241m.\u001b[39mGenerativeModel(model_name\u001b[38;5;241m=\u001b[39mmodel_name)\n\u001b[0;32m     24\u001b[0m generation_config \u001b[38;5;241m=\u001b[39m GenerationConfig(temperature\u001b[38;5;241m=\u001b[39m\u001b[38;5;241m0.1\u001b[39m)\n\u001b[0;32m     25\u001b[0m response \u001b[38;5;241m=\u001b[39m model\u001b[38;5;241m.\u001b[39mgenerate_content(prompt, generation_config\u001b[38;5;241m=\u001b[39mgeneration_config)\n",
      "\u001b[1;31mNameError\u001b[0m: name 'genai' is not defined"
     ]
    }
   ],
   "source": [
    "import csv\n",
    "def gemini_translate(filename, model_name):   \n",
    "    predictions = []  \n",
    "    i = 0\n",
    "    with open(f\"{filename}.csv\", \"r\") as file:\n",
    "        reader = csv.reader(file)\n",
    "        next(reader)\n",
    "        for row in reader:\n",
    "            mml = row[0]\n",
    "            print(mml)\n",
    "            prompt = f\"\"\"\n",
    "            You are an expert at translating MathML to Python code using the SymPy library. Translate the following MathML expression into a valid Python SymPy expression. \n",
    "            Ensure that all variables are treated as symbolic variables and each is defined separately on a new line. \n",
    "            Assume that SymPy has been imported as `from sympy import *` so DO NOT include any import statements in your output.\n",
    "            Example: \n",
    "            MathML: '<mml:mi>p</mml:mi>\\n<mml:mo>=</mml:mo>\\n<mml:mrow>\\n<mml:msub>\\n<mml:mi>p</mml:mi>\\n<mml:mi>a</mml:mi>\\n</mml:msub>\\n<mml:mo>-</mml:mo>\\n<mml:msub>\\n<mml:mi>y</mml:mi>\\n<mml:mrow>\\n<mml:mi>r</mml:mi>\\n<mml:mi>e</mml:mi>\\n<mml:mi>2</mml:mi>\\n</mml:mrow>\\n</mml:msub>\\n</mml:mrow>'\n",
    "            SymPy Python code: 'p = Symbols('p')\\np_a = Symbols('p_a')\\ny_re2 = Symbols('y_re2')\\ne = Eq(p, p_a - y_re2)'\n",
    "            \n",
    "            Now, translate the following MathML expression into Python code using SymPy.\n",
    "            MathML: {mml}\n",
    "            SymPy Python code:\n",
    "            \"\"\"\n",
    "            model = genai.GenerativeModel(model_name=model_name)\n",
    "            generation_config = GenerationConfig(temperature=0.1)\n",
    "            response = model.generate_content(prompt, generation_config=generation_config)\n",
    "            text = response.text\n",
    "            predictions.append(text)\n",
    "            i += 1\n",
    "            print(f\"Generated {i} predictions\")\n",
    "    with open(f\"{filename}_predictions.csv\", \"w\", newline=\"\") as file:\n",
    "        writer = csv.writer(file)\n",
    "        for pred in predictions:\n",
    "            writer.writerow([pred])\n",
    "\n",
    "def evaluate_bleu(filename, model_name):\n",
    "    gemini_translate(filename, model_name)\n",
    "\n",
    "    with open(f\"{filename}.csv\", \"r\") as file:\n",
    "        reader = csv.reader(file)\n",
    "        next(reader)\n",
    "        refs = [row[1] for row in reader]\n",
    "    with open(f\"{filename}_predictions.csv\", \"r\") as file:\n",
    "        reader = csv.reader(file)\n",
    "        preds = [row[0] for row in reader]\n",
    "\n",
    "    bleu = sacrebleu.corpus_bleu(preds, [refs])\n",
    "    print(f\"SacreBLEU Score: {bleu.score}\")\n",
    "\n",
    "# evaluate_bleu(\"gemini_test_1\", 'tunedModels/mmltopython1-si6b5lpywfhi')\n",
    "evaluate_bleu(\"Data/gemini_test_6\", \"tunedModels/mmltopython6-i1nlb0w0glxy\")"
   ]
  }
 ],
 "metadata": {
  "kernelspec": {
   "display_name": "fyp_env",
   "language": "python",
   "name": "python3"
  },
  "language_info": {
   "codemirror_mode": {
    "name": "ipython",
    "version": 3
   },
   "file_extension": ".py",
   "mimetype": "text/x-python",
   "name": "python",
   "nbconvert_exporter": "python",
   "pygments_lexer": "ipython3",
   "version": "3.11.10"
  }
 },
 "nbformat": 4,
 "nbformat_minor": 2
}
