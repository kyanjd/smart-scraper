{
 "cells": [
  {
   "cell_type": "code",
   "execution_count": 1,
   "metadata": {},
   "outputs": [
    {
     "name": "stderr",
     "output_type": "stream",
     "text": [
      "c:\\Users\\kyanj\\anaconda3\\envs\\fyp_env\\Lib\\site-packages\\tqdm\\auto.py:21: TqdmWarning: IProgress not found. Please update jupyter and ipywidgets. See https://ipywidgets.readthedocs.io/en/stable/user_install.html\n",
      "  from .autonotebook import tqdm as notebook_tqdm\n"
     ]
    }
   ],
   "source": [
    "from Gemini.GeminiPredict import GeminiPredict\n",
    "from Generation.Equation_BaseDataset import Equation, BaseDataset\n",
    "from Postprocessing.SOE_EquationGraph import SystemOfEquations, EquationGraph\n",
    "from Scraping.Scraper import Scraper\n",
    "\n",
    "import os\n",
    "import google.generativeai as genai\n",
    "from sympy import *\n",
    "import pandas as pd"
   ]
  },
  {
   "cell_type": "markdown",
   "metadata": {},
   "source": [
    "# Main"
   ]
  },
  {
   "cell_type": "code",
   "execution_count": 3,
   "metadata": {},
   "outputs": [
    {
     "name": "stdout",
     "output_type": "stream",
     "text": [
      "Request successful \n",
      "\n",
      "{1: <mml:mrow>\n",
      "<mml:mi>h</mml:mi>\n",
      "<mml:mo>=</mml:mo>\n",
      "<mml:msub>\n",
      "<mml:mi>h</mml:mi>\n",
      "<mml:mi>g</mml:mi>\n",
      "</mml:msub>\n",
      "<mml:mo>+</mml:mo>\n",
      "<mml:msub>\n",
      "<mml:mi>h</mml:mi>\n",
      "<mml:mi>c</mml:mi>\n",
      "</mml:msub>\n",
      "</mml:mrow>, 2: <mml:mrow>\n",
      "<mml:mi>h</mml:mi>\n",
      "<mml:mo>=</mml:mo>\n",
      "<mml:mn>1.45</mml:mn>\n",
      "<mml:mi>k</mml:mi>\n",
      "<mml:mfrac>\n",
      "<mml:mrow>\n",
      "<mml:mi>tan</mml:mi>\n",
      "<mml:mi>θ</mml:mi>\n",
      "</mml:mrow>\n",
      "<mml:mi>σ</mml:mi>\n",
      "</mml:mfrac>\n",
      "<mml:msup>\n",
      "<mml:mrow>\n",
      "<mml:mo stretchy=\"false\">(</mml:mo>\n",
      "<mml:mfrac>\n",
      "<mml:mi>p</mml:mi>\n",
      "<mml:mi>H</mml:mi>\n",
      "</mml:mfrac>\n",
      "<mml:mo stretchy=\"false\">)</mml:mo>\n",
      "</mml:mrow>\n",
      "<mml:mrow>\n",
      "<mml:mn>0.985</mml:mn>\n",
      "</mml:mrow>\n",
      "</mml:msup>\n",
      "</mml:mrow>, 3: <mml:mrow>\n",
      "<mml:mi>h</mml:mi>\n",
      "<mml:mo>=</mml:mo>\n",
      "<mml:mn>8000</mml:mn>\n",
      "<mml:mstyle displaystyle=\"true\">\n",
      "<mml:mover accent=\"true\">\n",
      "<mml:mi>λ</mml:mi>\n",
      "<mml:mo stretchy=\"true\">¯</mml:mo>\n",
      "</mml:mover>\n",
      "</mml:mstyle>\n",
      "<mml:msup>\n",
      "<mml:mrow>\n",
      "<mml:mo stretchy=\"false\">(</mml:mo>\n",
      "<mml:mfrac>\n",
      "<mml:mi>p</mml:mi>\n",
      "<mml:mrow>\n",
      "<mml:mi>C</mml:mi>\n",
      "<mml:msub>\n",
      "<mml:mi>σ</mml:mi>\n",
      "<mml:mi>U</mml:mi>\n",
      "</mml:msub>\n",
      "</mml:mrow>\n",
      "</mml:mfrac>\n",
      "<mml:mi>K</mml:mi>\n",
      "<mml:mo stretchy=\"false\">)</mml:mo>\n",
      "</mml:mrow>\n",
      "<mml:mrow>\n",
      "<mml:mn>0.86</mml:mn>\n",
      "</mml:mrow>\n",
      "</mml:msup>\n",
      "</mml:mrow>, 4: <mml:mrow>\n",
      "<mml:mi>h</mml:mi>\n",
      "<mml:mo>=</mml:mo>\n",
      "<mml:mi>A</mml:mi>\n",
      "<mml:mo stretchy=\"false\">(</mml:mo>\n",
      "<mml:mn>1</mml:mn>\n",
      "<mml:mo>−</mml:mo>\n",
      "<mml:mi>exp</mml:mi>\n",
      "<mml:mo stretchy=\"false\">(</mml:mo>\n",
      "<mml:mo>−</mml:mo>\n",
      "<mml:mi>B</mml:mi>\n",
      "<mml:mi>P</mml:mi>\n",
      "<mml:mo stretchy=\"false\">)</mml:mo>\n",
      "<mml:mo stretchy=\"false\">)</mml:mo>\n",
      "</mml:mrow>, 5: <mml:mrow>\n",
      "<mml:mi>h</mml:mi>\n",
      "<mml:mo>=</mml:mo>\n",
      "<mml:mfrac>\n",
      "<mml:mrow>\n",
      "<mml:mn>1</mml:mn>\n",
      "<mml:mo>−</mml:mo>\n",
      "<mml:mi>A</mml:mi>\n",
      "</mml:mrow>\n",
      "<mml:mrow>\n",
      "<mml:msub>\n",
      "<mml:mi>h</mml:mi>\n",
      "<mml:mi>f</mml:mi>\n",
      "</mml:msub>\n",
      "</mml:mrow>\n",
      "</mml:mfrac>\n",
      "<mml:mfrac>\n",
      "<mml:mrow>\n",
      "<mml:mn>2</mml:mn>\n",
      "<mml:msub>\n",
      "<mml:mi>k</mml:mi>\n",
      "<mml:mi>f</mml:mi>\n",
      "</mml:msub>\n",
      "<mml:msub>\n",
      "<mml:mi>k</mml:mi>\n",
      "<mml:mi>t</mml:mi>\n",
      "</mml:msub>\n",
      "<mml:msub>\n",
      "<mml:mi>k</mml:mi>\n",
      "<mml:mi>w</mml:mi>\n",
      "</mml:msub>\n",
      "</mml:mrow>\n",
      "<mml:mrow>\n",
      "<mml:mn>2</mml:mn>\n",
      "<mml:msub>\n",
      "<mml:mi>k</mml:mi>\n",
      "<mml:mi>t</mml:mi>\n",
      "</mml:msub>\n",
      "<mml:msub>\n",
      "<mml:mi>k</mml:mi>\n",
      "<mml:mi>w</mml:mi>\n",
      "</mml:msub>\n",
      "<mml:mo>−</mml:mo>\n",
      "<mml:msub>\n",
      "<mml:mi>k</mml:mi>\n",
      "<mml:mi>w</mml:mi>\n",
      "</mml:msub>\n",
      "<mml:msub>\n",
      "<mml:mi>k</mml:mi>\n",
      "<mml:mi>f</mml:mi>\n",
      "</mml:msub>\n",
      "<mml:mo>−</mml:mo>\n",
      "<mml:msub>\n",
      "<mml:mi>k</mml:mi>\n",
      "<mml:mi>f</mml:mi>\n",
      "</mml:msub>\n",
      "<mml:msub>\n",
      "<mml:mi>k</mml:mi>\n",
      "<mml:mi>t</mml:mi>\n",
      "</mml:msub>\n",
      "</mml:mrow>\n",
      "</mml:mfrac>\n",
      "</mml:mrow>, 6: <mml:mrow>\n",
      "<mml:mi>h</mml:mi>\n",
      "<mml:mo>=</mml:mo>\n",
      "<mml:msub>\n",
      "<mml:mi>h</mml:mi>\n",
      "<mml:mi>a</mml:mi>\n",
      "</mml:msub>\n",
      "<mml:mo>+</mml:mo>\n",
      "<mml:msub>\n",
      "<mml:mi>h</mml:mi>\n",
      "<mml:mi>c</mml:mi>\n",
      "</mml:msub>\n",
      "<mml:mo>+</mml:mo>\n",
      "<mml:msub>\n",
      "<mml:mi>h</mml:mi>\n",
      "<mml:mi>l</mml:mi>\n",
      "</mml:msub>\n",
      "</mml:mrow>, 7: <mml:mrow>\n",
      "<mml:msub>\n",
      "<mml:mi>h</mml:mi>\n",
      "<mml:mi>c</mml:mi>\n",
      "</mml:msub>\n",
      "<mml:mo>=</mml:mo>\n",
      "<mml:mi>α</mml:mi>\n",
      "<mml:mfrac>\n",
      "<mml:mrow>\n",
      "<mml:msub>\n",
      "<mml:mi>K</mml:mi>\n",
      "<mml:mrow>\n",
      "<mml:mi>s</mml:mi>\n",
      "<mml:mi>t</mml:mi>\n",
      "</mml:mrow>\n",
      "</mml:msub>\n",
      "<mml:msub>\n",
      "<mml:mi>N</mml:mi>\n",
      "<mml:mi>P</mml:mi>\n",
      "</mml:msub>\n",
      "</mml:mrow>\n",
      "<mml:mi>R</mml:mi>\n",
      "</mml:mfrac>\n",
      "</mml:mrow>, 8: <mml:mrow>\n",
      "<mml:msub>\n",
      "<mml:mi>K</mml:mi>\n",
      "<mml:mrow>\n",
      "<mml:mi>s</mml:mi>\n",
      "<mml:mi>t</mml:mi>\n",
      "</mml:mrow>\n",
      "</mml:msub>\n",
      "<mml:mo>=</mml:mo>\n",
      "<mml:mfrac>\n",
      "<mml:mn>2</mml:mn>\n",
      "<mml:mrow>\n",
      "<mml:msup>\n",
      "<mml:mrow>\n",
      "<mml:msub>\n",
      "<mml:mi>k</mml:mi>\n",
      "<mml:mi>s</mml:mi>\n",
      "</mml:msub>\n",
      "</mml:mrow>\n",
      "<mml:mrow>\n",
      "<mml:mo>−</mml:mo>\n",
      "<mml:mn>1</mml:mn>\n",
      "</mml:mrow>\n",
      "</mml:msup>\n",
      "<mml:mo>+</mml:mo>\n",
      "<mml:msup>\n",
      "<mml:mrow>\n",
      "<mml:msub>\n",
      "<mml:mi>k</mml:mi>\n",
      "<mml:mi>t</mml:mi>\n",
      "</mml:msub>\n",
      "</mml:mrow>\n",
      "<mml:mrow>\n",
      "<mml:mo>−</mml:mo>\n",
      "<mml:mn>1</mml:mn>\n",
      "</mml:mrow>\n",
      "</mml:msup>\n",
      "</mml:mrow>\n",
      "</mml:mfrac>\n",
      "</mml:mrow>, 9: <mml:mrow>\n",
      "<mml:mi>R</mml:mi>\n",
      "<mml:mo>=</mml:mo>\n",
      "<mml:msqrt>\n",
      "<mml:mrow>\n",
      "<mml:msup>\n",
      "<mml:mrow>\n",
      "<mml:msub>\n",
      "<mml:mi>R</mml:mi>\n",
      "<mml:mi>s</mml:mi>\n",
      "</mml:msub>\n",
      "</mml:mrow>\n",
      "<mml:mn>2</mml:mn>\n",
      "</mml:msup>\n",
      "<mml:mo>+</mml:mo>\n",
      "<mml:msup>\n",
      "<mml:mrow>\n",
      "<mml:msub>\n",
      "<mml:mi>R</mml:mi>\n",
      "<mml:mi>t</mml:mi>\n",
      "</mml:msub>\n",
      "</mml:mrow>\n",
      "<mml:mn>2</mml:mn>\n",
      "</mml:msup>\n",
      "</mml:mrow>\n",
      "</mml:msqrt>\n",
      "</mml:mrow>, 10: <mml:mrow>\n",
      "<mml:msub>\n",
      "<mml:mi>N</mml:mi>\n",
      "<mml:mi>P</mml:mi>\n",
      "</mml:msub>\n",
      "<mml:mo>=</mml:mo>\n",
      "<mml:mn>1</mml:mn>\n",
      "<mml:mo>−</mml:mo>\n",
      "<mml:mi>exp</mml:mi>\n",
      "<mml:mo stretchy=\"false\">(</mml:mo>\n",
      "<mml:mo>−</mml:mo>\n",
      "<mml:mi>λ</mml:mi>\n",
      "<mml:mfrac>\n",
      "<mml:mi>P</mml:mi>\n",
      "<mml:mrow>\n",
      "<mml:msub>\n",
      "<mml:mi>σ</mml:mi>\n",
      "<mml:mi>U</mml:mi>\n",
      "</mml:msub>\n",
      "</mml:mrow>\n",
      "</mml:mfrac>\n",
      "<mml:mo stretchy=\"false\">)</mml:mo>\n",
      "</mml:mrow>, 11: <mml:mrow>\n",
      "<mml:msub>\n",
      "<mml:mi>h</mml:mi>\n",
      "<mml:mi>l</mml:mi>\n",
      "</mml:msub>\n",
      "<mml:mo>=</mml:mo>\n",
      "<mml:mi>β</mml:mi>\n",
      "<mml:mfrac>\n",
      "<mml:mrow>\n",
      "<mml:msub>\n",
      "<mml:mi>K</mml:mi>\n",
      "<mml:mrow>\n",
      "<mml:mi>s</mml:mi>\n",
      "<mml:mi>t</mml:mi>\n",
      "<mml:mi>l</mml:mi>\n",
      "</mml:mrow>\n",
      "</mml:msub>\n",
      "<mml:msub>\n",
      "<mml:mi>N</mml:mi>\n",
      "<mml:mi>L</mml:mi>\n",
      "</mml:msub>\n",
      "</mml:mrow>\n",
      "<mml:mi>R</mml:mi>\n",
      "</mml:mfrac>\n",
      "</mml:mrow>, 12: <mml:mrow>\n",
      "<mml:msub>\n",
      "<mml:mi>K</mml:mi>\n",
      "<mml:mrow>\n",
      "<mml:mi>s</mml:mi>\n",
      "<mml:mi>t</mml:mi>\n",
      "<mml:mi>l</mml:mi>\n",
      "</mml:mrow>\n",
      "</mml:msub>\n",
      "<mml:mo>=</mml:mo>\n",
      "<mml:mfrac>\n",
      "<mml:mn>3</mml:mn>\n",
      "<mml:mrow>\n",
      "<mml:msup>\n",
      "<mml:mrow>\n",
      "<mml:msub>\n",
      "<mml:mi>k</mml:mi>\n",
      "<mml:mi>s</mml:mi>\n",
      "</mml:msub>\n",
      "</mml:mrow>\n",
      "<mml:mrow>\n",
      "<mml:mo>−</mml:mo>\n",
      "<mml:mn>1</mml:mn>\n",
      "</mml:mrow>\n",
      "</mml:msup>\n",
      "<mml:mo>+</mml:mo>\n",
      "<mml:msup>\n",
      "<mml:mrow>\n",
      "<mml:msub>\n",
      "<mml:mi>k</mml:mi>\n",
      "<mml:mi>t</mml:mi>\n",
      "</mml:msub>\n",
      "</mml:mrow>\n",
      "<mml:mrow>\n",
      "<mml:mo>−</mml:mo>\n",
      "<mml:mn>1</mml:mn>\n",
      "</mml:mrow>\n",
      "</mml:msup>\n",
      "<mml:mo>+</mml:mo>\n",
      "<mml:msup>\n",
      "<mml:mrow>\n",
      "<mml:msub>\n",
      "<mml:mi>k</mml:mi>\n",
      "<mml:mi>l</mml:mi>\n",
      "</mml:msub>\n",
      "</mml:mrow>\n",
      "<mml:mrow>\n",
      "<mml:mo>−</mml:mo>\n",
      "<mml:mn>1</mml:mn>\n",
      "</mml:mrow>\n",
      "</mml:msup>\n",
      "</mml:mrow>\n",
      "</mml:mfrac>\n",
      "</mml:mrow>, 13: <mml:mrow>\n",
      "<mml:msub>\n",
      "<mml:mi>N</mml:mi>\n",
      "<mml:mi>L</mml:mi>\n",
      "</mml:msub>\n",
      "<mml:mo>=</mml:mo>\n",
      "<mml:mn>1</mml:mn>\n",
      "<mml:mo>−</mml:mo>\n",
      "<mml:mi>exp</mml:mi>\n",
      "<mml:mo stretchy=\"false\">(</mml:mo>\n",
      "<mml:mo>−</mml:mo>\n",
      "<mml:mi>γ</mml:mi>\n",
      "<mml:mi>δ</mml:mi>\n",
      "<mml:mo stretchy=\"false\">)</mml:mo>\n",
      "</mml:mrow>} {'k_s (kW/mK)': 0.14, 'k_t (H13)': 0.0244, 'k_t (Cast iron)': 0.044, 'k_t (P20)': 0.0315, 'k_l (Lubricant)': 0.024, 'R_s (m)': 3.4e-07, 'R_t (H13)': 9.8e-07, 'R_t (Cast iron)': 8.1e-07, 'R_t (P20)': 9.6e-07, 'h_a (kW/m2K)': 0.8, 'σ_U (MPa)': 21.0, 'α (−)': 0.000201, 'λ (−)': 6.05, 'β (−)': 0.00011, 'γ (m−1)': 200000.0}\n",
      "API key loaded successfully!\n"
     ]
    },
    {
     "name": "stderr",
     "output_type": "stream",
     "text": [
      "Generating Predictions: 100%|██████████| 13/13 [00:12<00:00,  1.06row/s]"
     ]
    },
    {
     "name": "stdout",
     "output_type": "stream",
     "text": [
      "[\"h = Symbol('h')\\nh_g = Symbol('h_g')\\nh_c = Symbol('h_c')\\ne = Eq(h, h_g + h_c)\", \"h = Symbol('h')\\nk = Symbol('k')\\nθ = Symbol('θ')\\nσ = Symbol('σ')\\np = Symbol('p')\\nH = Symbol('H')\\ne = Eq(h, 1.45*k*tan(θ)/σ*(p/H)**0.985)\", \"h = Symbol('h')\\nλ = Symbol('λ')\\np = Symbol('p')\\nC = Symbol('C')\\nσ_U = Symbol('σ_U')\\nK = Symbol('K')\\ne = Eq(h, 8000*λ*(p/(C*σ_U)*K)**0.86)\", \"h = Symbol('h')\\nA = Symbol('A')\\nB = Symbol('B')\\nP = Symbol('P')\\ne = Eq(h, A*(1 - exp(-B*P)))\", \"h = Symbol('h')\\nA = Symbol('A')\\nh_f = Symbol('h_f')\\nk_f = Symbol('k_f')\\nk_t = Symbol('k_t')\\nk_w = Symbol('k_w')\\ne = Eq(h, (1 - A)/h_f*2*k_f*k_t*k_w/(2*k_t*k_w - k_w*k_f - k_f*k_t))\", \"h = Symbol('h')\\nh_a = Symbol('h_a')\\nh_c = Symbol('h_c')\\nh_l = Symbol('h_l')\\ne = Eq(h, h_a + h_c + h_l)\", \"h_c = Symbol('h_c')\\nα = Symbol('α')\\nK_st = Symbol('K_st')\\nN_P = Symbol('N_P')\\nR = Symbol('R')\\ne = Eq(h_c, α*K_st*N_P/R)\", \"K_st = Symbol('K_st')\\nk_s = Symbol('k_s')\\nk_t = Symbol('k_t')\\ne = Eq(K_st, 2/(k_s**(-1) + k_t**(-1)))\", \"R = Symbol('R')\\nR_s = Symbol('R_s')\\nR_t = Symbol('R_t')\\ne = Eq(R, sqrt(R_s**2 + R_t**2))\", \"N_P = Symbol('N_P')\\nλ = Symbol('λ')\\nP = Symbol('P')\\nσ_U = Symbol('σ_U')\\ne = Eq(N_P, 1 - exp(-λ*P/σ_U))\", \"h_l = Symbol('h_l')\\nβ = Symbol('β')\\nK_stl = Symbol('K_stl')\\nN_L = Symbol('N_L')\\nR = Symbol('R')\\ne = Eq(h_l, β*K_stl*N_L/R)\", \"K_stl = Symbol('K_stl')\\nk_s = Symbol('k_s')\\nk_t = Symbol('k_t')\\nk_l = Symbol('k_l')\\ne = Eq(K_stl, 3/(k_s**(-1) + k_t**(-1) + k_l**(-1)))\", \"N_L = Symbol('N_L')\\nγ = Symbol('γ')\\nδ = Symbol('δ')\\ne = Eq(N_L, 1 - exp(-γ*δ))\"]\n"
     ]
    },
    {
     "name": "stderr",
     "output_type": "stream",
     "text": [
      "\n"
     ]
    }
   ],
   "source": [
    "def main():\n",
    "    # 1. Scraping journal data\n",
    "    doi = \"10.1016/j.jmatprotec.2017.04.005\"\n",
    "    elsevier_api_key = os.getenv(\"ELSEVIER_API_KEY\")\n",
    "    scraper = Scraper(doi, elsevier_api_key)\n",
    "    mathml_dict, const_dict = scraper.scrape()\n",
    "\n",
    "    print(mathml_dict, const_dict)\n",
    "\n",
    "    # 2. Equation translation\n",
    "    gemini_api_key = os.getenv(\"GEMINI_API_KEY\")\n",
    "    model_name = \"tunedModels/mmltopython4-f3fuppiemnq9\"\n",
    "    gp = GeminiPredict(gemini_api_key, model_name)\n",
    "    mathml_equations = list(mathml_dict.values())\n",
    "    equations = gp.generate_predictions(mml_list=mathml_equations)\n",
    "\n",
    "    print(equations)\n",
    "\n",
    "    # 3. Solving system of equations\n",
    "    # p20_df = pd.read_csv(\"Data/p20.csv\")\n",
    "    # P_list = pd.to_numeric(p20_df['P']).tolist()\n",
    "    # h_list_ref = pd.to_numeric(p20_df['h']).tolist()\n",
    "    # soe = SystemOfEquations(equations)\n",
    "    # for equation in soe.str_equations: # Improve this\n",
    "    #     soe.parse_equation(equation)\n",
    "    # symbs = soe.reduce_symbols(const_dict)\n",
    "    # print(symbs)\n",
    "    \n",
    "    \n",
    "\n",
    "\n",
    "main()"
   ]
  },
  {
   "cell_type": "markdown",
   "metadata": {},
   "source": [
    "### Scraping"
   ]
  },
  {
   "cell_type": "code",
   "execution_count": 3,
   "metadata": {},
   "outputs": [
    {
     "name": "stdout",
     "output_type": "stream",
     "text": [
      "Request successful \n",
      "\n"
     ]
    }
   ],
   "source": [
    "doi = \"10.1016/j.jmatprotec.2017.04.005\"\n",
    "elsevier_api_key = os.getenv(\"ELSEVIER_API_KEY\")\n",
    "scraper = Scraper(doi, elsevier_api_key)\n",
    "mathml_dict, const_dict = scraper.scrape()"
   ]
  },
  {
   "cell_type": "markdown",
   "metadata": {},
   "source": [
    "### Gemini"
   ]
  },
  {
   "cell_type": "code",
   "execution_count": 2,
   "metadata": {},
   "outputs": [
    {
     "name": "stdout",
     "output_type": "stream",
     "text": [
      "API key loaded successfully!\n"
     ]
    },
    {
     "name": "stderr",
     "output_type": "stream",
     "text": [
      "Generating Predictions: 100%|██████████| 13/13 [00:19<00:00,  1.46s/row]\n"
     ]
    }
   ],
   "source": [
    "api_key = os.getenv(\"GEMINI_API_KEY\")\n",
    "gp = GeminiPredict(api_key, \"Data/HTC_equations.txt\", \"tunedModels/mmltopython4-f3fuppiemnq9\")\n",
    "gp.predict_from_txt()\n",
    "gp.save_predictions(\"Data/HTC_gemini_predictions.txt\")"
   ]
  },
  {
   "cell_type": "code",
   "execution_count": 3,
   "metadata": {},
   "outputs": [],
   "source": [
    "gp.save_predictions()\n",
    "# for model in genai.list_tuned_models():\n",
    "#     print(model.name)"
   ]
  },
  {
   "cell_type": "markdown",
   "metadata": {},
   "source": [
    "### Generation"
   ]
  },
  {
   "cell_type": "code",
   "execution_count": 4,
   "metadata": {},
   "outputs": [
    {
     "name": "stdout",
     "output_type": "stream",
     "text": [
      "\"I = Symbol('I')\\nx = Symbol('x')\\ny_τ = Symbol('y_τ')\\nΣ = Symbol('Σ')\\nB = Symbol('B')\\ne = Eq(I, -exp(Σ/4)**(sqrt(y_τ**x)) + tan(B))\"\n"
     ]
    }
   ],
   "source": [
    "eq = Equation()\n",
    "py, mml = eq.generate()\n",
    "print(repr(py))\n"
   ]
  },
  {
   "cell_type": "code",
   "execution_count": 3,
   "metadata": {},
   "outputs": [
    {
     "name": "stderr",
     "output_type": "stream",
     "text": [
      "Generating dataset: 100%|██████████| 5/5 [00:00<00:00, 84.53it/s]"
     ]
    },
    {
     "name": "stdout",
     "output_type": "stream",
     "text": [
      "Τ = Symbol('Τ')\n",
      "ζ = Symbol('ζ')\n",
      "l_Π = Symbol('l_Π')\n",
      "δ_a = Symbol('δ_a')\n",
      "e = Eq(Τ, sqrt(ζ) + cos(l_Π - δ_a))\n",
      "Ψ = Symbol('Ψ')\n",
      "α = Symbol('α')\n",
      "Ψ_xqχ = Symbol('Ψ_xqχ')\n",
      "e = Eq(Ψ, sqrt(α) - cos(Ψ_xqχ) + 7)\n",
      "Μ = Symbol('Μ')\n",
      "H = Symbol('H')\n",
      "m_Ψ = Symbol('m_Ψ')\n",
      "Z = Symbol('Z')\n",
      "b = Symbol('b')\n",
      "e = Eq(Μ, sqrt(-H + m_Ψ)*exp(b)**Z)\n",
      "Ξ_c = Symbol('Ξ_c')\n",
      "Υ = Symbol('Υ')\n",
      "Σ_ο = Symbol('Σ_ο')\n",
      "e = Eq(Ξ_c, -exp(Υ) + cos(Σ_ο))\n",
      "A_σm = Symbol('A_σm')\n",
      "Θ = Symbol('Θ')\n",
      "χ_Χμ = Symbol('χ_Χμ')\n",
      "G_μ = Symbol('G_μ')\n",
      "φ = Symbol('φ')\n",
      "e = Eq(A_σm, G_μ**(sin(Θ + χ_Χμ)/2)/log(φ))\n"
     ]
    },
    {
     "name": "stderr",
     "output_type": "stream",
     "text": [
      "\n"
     ]
    }
   ],
   "source": [
    "import csv\n",
    "class GeminiDataset(BaseDataset):\n",
    "    def __init__(self, num, filepath):\n",
    "        super().__init__(num, filepath)\n",
    "\n",
    "    def get_columns(self):\n",
    "        return [\"text_input\", \"output\"]\n",
    "    \n",
    "gd = GeminiDataset(5, \"Data/gemini_test_6.csv\")\n",
    "gd.create()\n"
   ]
  },
  {
   "cell_type": "markdown",
   "metadata": {},
   "source": [
    "### Postprocessing"
   ]
  },
  {
   "cell_type": "code",
   "execution_count": 6,
   "metadata": {},
   "outputs": [
    {
     "name": "stdout",
     "output_type": "stream",
     "text": [
      "{'h', 'h_l', 'k_w', 'k_s', 'σ', 'Rs', 'h_a', 'γ', 'k_t', 'h_g', 'h_f', 'θ', 'α', 'β', 'p', 'N_L', 'K', 'P', 'R', 'K_stl', 'K_st', 'Rt', 'C', 'k_l', 'h_c', 'k', 'σ_U', 'δ', 'A', 'B', 'H', 'N_P', 'k_f', 'λ'}\n",
      "['h_a', 'R_t', 'α', 'k_l', 'β', 'k_t', 'k_t', 'k_s', 'k_t', 'R_s', 'R_t', 'γ', 'σ_U', 'λ', 'R_t']\n"
     ]
    }
   ],
   "source": [
    "soe = SystemOfEquations(filepath=\"Data/HTC_gemini5_predictions.txt\")\n",
    "for eq in soe.str_equations:\n",
    "    soe.parse_equation(eq)\n",
    "symbs = soe.reduce_symbols(const_dict)\n",
    "print(soe.symbols)\n",
    "print(symbs)"
   ]
  },
  {
   "cell_type": "code",
   "execution_count": 2,
   "metadata": {},
   "outputs": [
    {
     "name": "stderr",
     "output_type": "stream",
     "text": [
      "Generating Curve: 100%|██████████| 101/101 [00:18<00:00,  5.34it/s]\n"
     ]
    },
    {
     "data": {
      "image/png": "[encoded data removed]",
      "text/plain": [
       "<Figure size 640x480 with 1 Axes>"
      ]
     },
     "metadata": {},
     "output_type": "display_data"
    },
    {
     "data": {
      "image/png": "[encoded data removed]",
      "text/plain": [
       "<Figure size 640x480 with 1 Axes>"
      ]
     },
     "metadata": {},
     "output_type": "display_data"
    },
    {
     "data": {
      "image/png": "[encoded data removed]",
      "text/plain": [
       "<Figure size 1000x800 with 1 Axes>"
      ]
     },
     "metadata": {},
     "output_type": "display_data"
    }
   ],
   "source": [
    "# Constants\n",
    "k_s = 0.14\n",
    "k_t = 0.0315\n",
    "k_l = 0.024\n",
    "Rs = 3.4e-07\n",
    "Rt = 9.6e-07\n",
    "h_a = 0.8\n",
    "σ_U = 21.0\n",
    "α = 0.000201\n",
    "λ = 6.05\n",
    "β = 0.00011\n",
    "γ = 200000.0\n",
    "δ = 1.5e-5\n",
    "P = 1\n",
    "\n",
    "k = 1\n",
    "p = 1\n",
    "H = 1\n",
    "θ = 1\n",
    "σ = 1\n",
    "K = 1\n",
    "C = 1\n",
    "A = 1\n",
    "B = 1\n",
    "k_f = 1\n",
    "k_w = 1\n",
    "h_f = 1\n",
    "h_g = 1\n",
    "\n",
    "# Variables\n",
    "h = Symbol(\"h\")\n",
    "h_c = Symbol(\"h_c\")\n",
    "K_st = Symbol(\"K_st\")\n",
    "R = Symbol(\"R\")\n",
    "N_P = Symbol(\"N_P\")\n",
    "h_l = Symbol(\"h_l\")\n",
    "K_stl = Symbol(\"K_stl\")\n",
    "N_L = Symbol(\"N_L\")\n",
    "\n",
    "exprs = [Eq(h, h_c + h_g), \n",
    "            Eq(h, 1.45*k*(p/H)**0.985*tan(θ)/σ), \n",
    "            Eq(h, 8000*λ*(K*p/(C*σ_U))**0.86), \n",
    "            Eq(h, A*(1 - exp(-B*P))), \n",
    "            Eq(h, 2*k_f*k_t*k_w*(1 - A)/(h_f*(-k_f*k_t - k_f*k_w + 2*k_t*k_w))), \n",
    "            Eq(h, h_a + h_c + h_l), \n",
    "            Eq(h_c, K_st*N_P*α/R), \n",
    "            Eq(K_st, 2/(1/k_t + 1/k_s)), \n",
    "            Eq(R, sqrt(Rs**2 + Rt**2)), \n",
    "            Eq(N_P, 1 - exp(-P*λ/σ_U)), \n",
    "            Eq(h_l, K_stl*N_L*β/R), \n",
    "            Eq(K_stl, 3/(1/k_t + 1/k_s + 1/k_l)), \n",
    "            Eq(N_L, 1 - exp(-γ*δ))]\n",
    "\n",
    "column_name = [\"P\", \"h\"]\n",
    "p20_df = pd.read_csv(\"Data/p20.csv\", header=None, names=column_name)\n",
    "P_list = pd.to_numeric(p20_df[\"P\"]).tolist()\n",
    "h_list_ref = pd.to_numeric(p20_df[\"h\"]).tolist()\n",
    "soe = SystemOfEquations(filepath=\"Data/HTC_gemini5_predictions.txt\")\n",
    "# for eq in soe.str_equations:\n",
    "#     soe.parse_equation(eq)\n",
    "# system = soe.reduce_system(6)\n",
    "# print(system)\n",
    "eg = EquationGraph(exprs, 6)\n",
    "system = eg.get_system_of_equations()\n",
    "solutions = soe.solve_system(system, P_list, h)\n",
    "soe.plot_graph(P_list, solutions, h_list_ref)\n",
    "soe.plot_error_graph(P_list, solutions, h_list_ref)\n",
    "eg.plot_graph()"
   ]
  }
 ],
 "metadata": {
  "kernelspec": {
   "display_name": "fyp_env",
   "language": "python",
   "name": "python3"
  },
  "language_info": {
   "codemirror_mode": {
    "name": "ipython",
    "version": 3
   },
   "file_extension": ".py",
   "mimetype": "text/x-python",
   "name": "python",
   "nbconvert_exporter": "python",
   "pygments_lexer": "ipython3",
   "version": "3.11.10"
  }
 },
 "nbformat": 4,
 "nbformat_minor": 2
}
