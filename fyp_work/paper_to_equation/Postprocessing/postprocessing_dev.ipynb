{
 "cells": [
  {
   "cell_type": "code",
   "execution_count": 9,
   "metadata": {},
   "outputs": [],
   "source": [
    "from fyp_work.paper_to_equation.Gemini.GeminiPredict import GeminiPredict\n",
    "import sympy\n",
    "from sympy import *"
   ]
  },
  {
   "cell_type": "code",
   "execution_count": 23,
   "metadata": {},
   "outputs": [
    {
     "name": "stdout",
     "output_type": "stream",
     "text": [
      "API key loaded successfully!\n"
     ]
    },
    {
     "name": "stderr",
     "output_type": "stream",
     "text": [
      "Generating Predictions: 100%|██████████| 13/13 [00:18<00:00,  1.45s/row]\n"
     ]
    }
   ],
   "source": [
    "api_key = \"GEMINI_API_KEY\"\n",
    "filename = \"HTC_gemini2\"\n",
    "model = \"tunedModels/mmltopython2-rq77o9de7x0p\"\n",
    "\n",
    "gp = GeminiPredict(api_key, filename, model)\n",
    "gp.predict_from_file(filename=\"test\") \n",
    "gp.save_predictions()"
   ]
  },
  {
   "cell_type": "code",
   "execution_count": 26,
   "metadata": {},
   "outputs": [
    {
     "name": "stdout",
     "output_type": "stream",
     "text": [
      "\"h = Symbol('h')\\nh_g = Symbol('h_g')\\nh_c = Symbol('h_c')\\ne = Eq(h, h_g + h_c)\"\n",
      "\n",
      "\"h = Symbol('h')\\nk = Symbol('k')\\nθ = Symbol('θ')\\nσ = Symbol('σ')\\np = Symbol('p')\\nH = Symbol('H')\\ne = Eq(h, 1.45*k*tan(θ)/σ*(p/H)**0.985)\"\n",
      "\n",
      "\"h = Symbol('h')\\nλ_ = Symbol('λ_')\\np = Symbol('p')\\nC = Symbol('C')\\nσ_U = Symbol('σ_U')\\ne = Eq(h, 8000*λ_*((p/(C*σ_U))*K)**0.86)\"\n",
      "\n",
      "\"h = Symbol('h')\\nA = Symbol('A')\\nB = Symbol('B')\\nP = Symbol('P')\\ne = Eq(h, A*(1 - exp(-B*P)))\"\n",
      "\n",
      "\"h = Symbol('h')\\nA = Symbol('A')\\nh_f = Symbol('h_f')\\nk_f = Symbol('k_f')\\nk_t = Symbol('k_t')\\nk_w = Symbol('k_w')\\ne = Eq(h, (1 - A)/h_f*k_f*k_t*k_w/(2*k_t*k_w - k_w*k_f - k_f*k_t))\"\n",
      "\n",
      "\"h = symbols('h')\\nh_a = symbols('h_a')\\nh_c = symbols('h_c')\\nh_l = symbols('h_l')\\ne = Eq(h, h_a + h_c + h_l)\"\n",
      "\n",
      "\"h_c = Symbol('h_c')\\nα = Symbol('α')\\nK_s_t = Symbol('K_s_t')\\nN_P = Symbol('N_P')\\nR = Symbol('R')\\ne = Eq(h_c, α*K_s_t*N_P/R)\"\n",
      "\n",
      "\"K_st = Symbol('K_st')\\nk_s = Symbol('k_s')\\nk_t = Symbol('k_t')\\ne = Eq(K_st, 2/(k_s**(-1) + k_t**(-1)))\"\n",
      "\n",
      "\"R = Symbol('R')\\nR_s = Symbol('R_s')\\nR_t = Symbol('R_t')\\ne = Eq(R, sqrt(R_s**2 + R_t**2))\"\n",
      "\n",
      "\"N_P = Symbol('N_P')\\nλ = Symbol('λ')\\nP = Symbol('P')\\nσ_U = Symbol('σ_U')\\ne = Eq(N_P, 1 - exp(-λ*P/σ_U))\"\n",
      "\n",
      "\"h_l = Symbol('h_l')\\nβ = Symbol('β')\\nK_s_t_l = Symbol('K_s_t_l')\\nN_L = Symbol('N_L')\\nR = Symbol('R')\\ne = Eq(h_l, β*K_s_t_l*N_L/R)\"\n",
      "\n",
      "\"K_s*t*l = Symbol('K_s*t*l')\\nk_s = Symbol('k_s')\\nk_t = Symbol('k_t')\\nk_l = Symbol('k_l')\\ne = Eq(K_s*t*l, 3/(k_s**(-1) + k_t**(-1) + k_l**(-1)))\"\n",
      "\n",
      "\"N_L = Symbol('N_L')\\nγ = Symbol('γ')\\nδ = Symbol('δ')\\ne = Eq(N_L, 1 - exp(-γ*δ))\"\n",
      "\n",
      "K_st \n",
      "R_t \n",
      "P \n",
      "k_w \n",
      "λ_ \n",
      "k_t \n",
      "k_s \n",
      "N_P \n",
      "β \n",
      "K_s*t*l \n",
      "R_s \n",
      "α \n",
      "N_L \n",
      "k_l \n",
      "k_f \n",
      "h_g \n",
      "K_s_t_l \n",
      "λ \n",
      "R \n",
      "δ \n",
      "γ \n",
      "A \n",
      "h_f \n",
      "k \n",
      "K_s_t \n",
      "θ \n",
      "H \n",
      "h_c \n",
      "σ \n",
      "p \n",
      "B \n",
      "h_l \n",
      "σ_U \n",
      "C \n",
      "h \n"
     ]
    }
   ],
   "source": [
    "class SystemOfEquations():\n",
    "    def __init__(self, filename):\n",
    "        self.equations = []\n",
    "        self.symbol_lines = set()\n",
    "        self.symbols = set()\n",
    "\n",
    "    def extract_equations(self):\n",
    "        with open (f\"{filename}_predictions.txt\", \"r\") as file:\n",
    "            for line in file:\n",
    "                self.equations.append(line)\n",
    "\n",
    "    def get_equations(self):\n",
    "        return self.equations\n",
    "\n",
    "    def parse_equation(self, equation):\n",
    "        for line in equation.split(\"\\\\n\"):\n",
    "            if \"Symbol\" in line:\n",
    "                line = line.replace('\"', \"\")\n",
    "                self.symbol_lines.add(line)\n",
    "                self.symbols.add(line.split(\"= \")[0])\n",
    "        \n",
    "\n",
    "\n",
    "\n",
    "\n",
    "\n",
    "def main():\n",
    "    soe = SystemOfEquations(\"HTC_gemini2\")\n",
    "    soe.extract_equations()\n",
    "    # eq = soe.equations[0]\n",
    "    # soe.parse_equation(eq)\n",
    "    for eq in soe.equations:\n",
    "        print(eq)\n",
    "        soe.parse_equation(eq)\n",
    "    for symbol in soe.symbols:\n",
    "        print(symbol)\n",
    "\n",
    "\n",
    "main()"
   ]
  }
 ],
 "metadata": {
  "kernelspec": {
   "display_name": "fyp_env",
   "language": "python",
   "name": "python3"
  },
  "language_info": {
   "codemirror_mode": {
    "name": "ipython",
    "version": 3
   },
   "file_extension": ".py",
   "mimetype": "text/x-python",
   "name": "python",
   "nbconvert_exporter": "python",
   "pygments_lexer": "ipython3",
   "version": "3.11.10"
  }
 },
 "nbformat": 4,
 "nbformat_minor": 2
}
