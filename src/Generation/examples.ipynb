{
 "cells": [
  {
   "cell_type": "code",
   "execution_count": 1,
   "metadata": {},
   "outputs": [],
   "source": [
    "from sympy import *"
   ]
  },
  {
   "cell_type": "markdown",
   "metadata": {},
   "source": [
    "Tribology Paper Equation (9)"
   ]
  },
  {
   "cell_type": "code",
   "execution_count": null,
   "metadata": {},
   "outputs": [],
   "source": [
    "\"\"\"\n",
    "<mml:mi>η</mml:mi>\n",
    "<mml:mo>=</mml:mo>\n",
    "<mml:mrow>\n",
    "<mml:msub>\n",
    "    <mml:mi>η</mml:mi>\n",
    "    <mml:mi>0</mml:mi>\n",
    "</mml:msub>\n",
    "<mml:msup>\n",
    "    <mml:mtext>exp</mml:mtext>\n",
    "    <mml:mrow>\n",
    "    <mml:mfrac>\n",
    "        <mml:msub>\n",
    "        <mml:mi>Q</mml:mi>\n",
    "        <mml:mi>η</mml:mi>\n",
    "        </mml:msub>\n",
    "        <mml:mrow>\n",
    "        <mml:mi>R</mml:mi>\n",
    "        <mml:mi>T</mml:mi>\n",
    "        </mml:mrow>\n",
    "    </mml:mfrac>\n",
    "    </mml:mrow>\n",
    "</mml:msup>\n",
    "</mml:mrow>\n",
    "\"\"\""
   ]
  },
  {
   "cell_type": "code",
   "execution_count": 5,
   "metadata": {},
   "outputs": [],
   "source": [
    "η, η_0, Q_η, R, T = symbols('η η_0 Q_η R T')\n",
    "eq = Eq(η, η_0 * exp(Q_η / (R * T)))"
   ]
  },
  {
   "cell_type": "markdown",
   "metadata": {},
   "source": [
    "HTC Paper Equation (1)"
   ]
  },
  {
   "cell_type": "code",
   "execution_count": null,
   "metadata": {},
   "outputs": [],
   "source": [
    "\"\"\"\n",
    "<mml:mi>h</mml:mi>\n",
    "  <mml:mo>=</mml:mo>\n",
    "  <mml:mrow>\n",
    "    <mml:msub>\n",
    "      <mml:mi>h</mml:mi>\n",
    "      <mml:mi>c</mml:mi>\n",
    "    </mml:msub>\n",
    "    <mml:mo>+</mml:mo>\n",
    "    <mml:msub>\n",
    "      <mml:mi>h</mml:mi>\n",
    "      <mml:mi>g</mml:mi>\n",
    "    </mml:msub>\n",
    "  </mml:mrow>\n",
    "  \"\"\"\n",
    "\n",
    "\"\\n<mml:mi>h</mml:mi>\\n<mml:mo>=</mml:mo>\\n<mml:mrow>\\n<mml:msub>\\n<mml:mi>h</mml:mi>\\n<mml:mi>c</mml:mi>\\n</mml:msub>\\n<mml:mo>+</mml:mo>\\n<mml:msub>\\n<mml:mi>h</mml:mi>\\n<mml:mi>g</mml:mi>\\n</mml:msub>\\n</mml:mrow>\\n\""
   ]
  },
  {
   "cell_type": "code",
   "execution_count": 3,
   "metadata": {},
   "outputs": [
    {
     "name": "stdout",
     "output_type": "stream",
     "text": [
      "'\\n<mml:mi>h</mml:mi>\\n<mml:mo>=</mml:mo>\\n<mml:mrow>\\n<mml:msub>\\n<mml:mi>h</mml:mi>\\n<mml:mi>c</mml:mi>\\n</mml:msub>\\n<mml:mo>+</mml:mo>\\n<mml:msub>\\n<mml:mi>h</mml:mi>\\n<mml:mi>g</mml:mi>\\n</mml:msub>\\n</mml:mrow>\\n  '\n"
     ]
    }
   ],
   "source": [
    "print(repr(\"\"\"\n",
    "<mml:mi>h</mml:mi>\n",
    "<mml:mo>=</mml:mo>\n",
    "<mml:mrow>\n",
    "<mml:msub>\n",
    "<mml:mi>h</mml:mi>\n",
    "<mml:mi>c</mml:mi>\n",
    "</mml:msub>\n",
    "<mml:mo>+</mml:mo>\n",
    "<mml:msub>\n",
    "<mml:mi>h</mml:mi>\n",
    "<mml:mi>g</mml:mi>\n",
    "</mml:msub>\n",
    "</mml:mrow>\n",
    "  \"\"\"))"
   ]
  },
  {
   "cell_type": "code",
   "execution_count": null,
   "metadata": {},
   "outputs": [],
   "source": [
    "h = Symbol('h')\n",
    "h_g = Symbol('h_g')\n",
    "h_c = Symbol('h_c')\n",
    "e = Eq(h, h_g + h_c)"
   ]
  },
  {
   "cell_type": "code",
   "execution_count": 8,
   "metadata": {},
   "outputs": [
    {
     "name": "stdout",
     "output_type": "stream",
     "text": [
      "<class 'sympy.core.symbol.Symbol'>\n"
     ]
    }
   ],
   "source": [
    "mu_l = Symbol('mu_l')\n",
    "mu_l0 = Symbol('mu_l0')\n",
    "Q_l = Symbol('Q_l')\n",
    "R = Symbol('R')\n",
    "T = Symbol('T')\n",
    "e = Eq(mu_l, mu_l0 * exp(-Q_l / (R * T))) # E2\n",
    "\n",
    "mu_d = Symbol('mu_t')\n",
    "mu_d0 = Symbol('mu_t0')\n",
    "Q_d = Symbol('Q_t')\n",
    "e = Eq(mu_d, mu_d0 * exp(-Q_d / (R * T))) # E3\n",
    "\n",
    "mu = Symbol('mu')\n",
    "beta = Symbol('beta')\n",
    "e = Eq(mu, (1 - beta) * mu_l + beta * mu_d) # E1\n",
    "\n",
    "l1 = Symbol('l1')\n",
    "l2 = Symbol('l2')\n",
    "h = Symbol('h')\n",
    "e = Eq(beta, exp(-l1 * (h ** l2))) # E4\n",
    "\n",
    "c = Symbol('c')\n",
    "P = Symbol('P')\n",
    "k_p = Symbol('k_p')\n",
    "v = Symbol('v')\n",
    "k_v = Symbol('k_v')\n",
    "n = Symbol('n')\n",
    "k_n = Symbol('k_n')\n",
    "t = Symbol('t')\n",
    "e = Eq(diff(h, t), (-h *c * (P ** k_p) * (v ** k_v)) / (n ** k_n)) # E8\n",
    "\n",
    "sympy_equations = []\n",
    "e = Eq(mu_l, mu_l0 * exp(-Q_l / (R * T))) # E2\n",
    "sympy_equations.append(e)\n",
    "e = Eq(mu_d, mu_d0 * exp(-Q_d / (R * T))) # E3\n",
    "sympy_equations.append(e)\n",
    "e = Eq(mu, (1 - beta) * mu_l + beta * mu_d) # E1\n",
    "sympy_equations.append(e)\n",
    "e = Eq(beta, exp(-l1 * (h ** l2))) # E4\n",
    "sympy_equations.append(e)\n",
    "e = Eq(Derivative(h, t), (-h *c * (P ** k_p) * (v ** k_v)) / (n ** k_n)) # E8\n",
    "sympy_equations.append(e)\n",
    "\n",
    "ode_expr = next(eq for eq in sympy_equations if eq.has(Derivative)) # Get the ODE equation\n",
    "exprs = [eq for eq in sympy_equations if eq != ode_expr] # Get the other equations\n",
    "\n",
    "d_symbol = ode_expr.lhs.free_symbols.pop()\n",
    "print(type(d_symbol))"
   ]
  },
  {
   "cell_type": "code",
   "execution_count": null,
   "metadata": {},
   "outputs": [],
   "source": [
    "# Define variables\n",
    "t, A, b, P, v, η, h, k1, k2, k3 = symbols('t A b P v η h k1 k2 k3')\n",
    "\n",
    "# Define h as a symbolic function of t\n",
    "h = Function('h')\n",
    "\n",
    "# Perform the integral\n",
    "ΔV = integrate(A * b * (P**k3 * v**k1) / (η**k2) * h(t), (t, 0, t))\n",
    "print(ΔV)"
   ]
  },
  {
   "cell_type": "code",
   "execution_count": null,
   "metadata": {},
   "outputs": [],
   "source": [
    "equation = \"\"\"\n",
    "h = symbols('h')\n",
    "h_g = symbols('h_g')\n",
    "h_c = symbols('h_c')\n",
    "e = Eq(h, h_g + h_c)\"\"\"\n",
    "\n",
    "# equation = \"h = Symbol('h')\\nh_g = Symbol('h_g')\\nh_c = Symbol('h_c')\\ne = Eq(h, h_g + h_c)\"\n",
    "# exec(equation)\n",
    "exec(\"h = Symbol('h')\\nh_g = Symbol('h_g')\\nh_c = Symbol('h_c')\\ne = Eq(h, h_g + h_c)\")\n",
    "\n",
    "result = e.subs({h_g: 2, h_c: 4})\n",
    "print(result.rhs)"
   ]
  },
  {
   "cell_type": "code",
   "execution_count": null,
   "metadata": {},
   "outputs": [],
   "source": [
    "equation = \"Ρ = symbols('Ρ')\\nλ_u = symbols('λ_u')\\ni = symbols('i')\\ne = Eq(tan(Ρ), -λ_u + log(i))\"\n",
    "\n",
    "exec(equation)\n",
    "\n",
    "result = e.subs({P: 2, λ_u: 4, i: 20})\n",
    "print(result.rhs)"
   ]
  }
 ],
 "metadata": {
  "kernelspec": {
   "display_name": "fyp_env",
   "language": "python",
   "name": "python3"
  },
  "language_info": {
   "codemirror_mode": {
    "name": "ipython",
    "version": 3
   },
   "file_extension": ".py",
   "mimetype": "text/x-python",
   "name": "python",
   "nbconvert_exporter": "python",
   "pygments_lexer": "ipython3",
   "version": "3.11.10"
  }
 },
 "nbformat": 4,
 "nbformat_minor": 2
}
