{
 "cells": [
  {
   "cell_type": "code",
   "execution_count": 1,
   "metadata": {},
   "outputs": [],
   "source": [
    "from Gemini.GeminiPredict import GeminiPredict\n",
    "from Generation.Equation_BaseDataset import Equation, BaseDataset\n",
    "import Postprocessing.SOE_EquationGraph \n",
    "from Scraping.Scraper import Scraper\n",
    "\n",
    "import os\n",
    "import google.generativeai as genai\n",
    "from sympy import *\n",
    "import pandas as pd\n",
    "import importlib"
   ]
  },
  {
   "cell_type": "markdown",
   "metadata": {},
   "source": [
    "# Main"
   ]
  },
  {
   "cell_type": "code",
   "execution_count": null,
   "metadata": {},
   "outputs": [],
   "source": [
    "# 1. Scraping journal data\n",
    "doi = \"10.1016/j.jmatprotec.2017.04.005\"\n",
    "elsevier_api_key = os.getenv(\"ELSEVIER_API_KEY\")\n",
    "scraper = Scraper(doi, elsevier_api_key)\n",
    "mathml_dict, const_dict = scraper.scrape()\n",
    "\n",
    "# print(mathml_dict, const_dict)\n",
    "print(const_dict)\n",
    "\n",
    "# 2. Equation translation\n",
    "gemini_api_key = os.getenv(\"GEMINI_API_KEY\")   \n",
    "model_name = \"tunedModels/mmltopython4-f3fuppiemnq9\"\n",
    "predictor = GeminiPredict(gemini_api_key, model_name)\n",
    "mathml_equations = list(mathml_dict.values())\n",
    "print(type(mathml_equations[2]))\n",
    "full_equations = predictor.generate_predictions(mml_list=mathml_equations)\n",
    "\n",
    "print(full_equations)\n",
    "\n",
    "# # 3. Solving system of equations\n",
    "# column_names = [\"P\", \"h\"]\n",
    "# p20_df = pd.read_csv(\"Data/p20.csv\", header=None, names=column_names)\n",
    "# P_list = pd.to_numeric(p20_df[\"P\"]).tolist()\n",
    "# h_list_ref = pd.to_numeric(p20_df[\"h\"]).tolist()\n",
    "# solver = SystemOfEquations(equations=full_equations)\n",
    "# sympy_equations = solver.get_sympy_equations()\n",
    "# print(solver.eq)\n",
    "# # symbs = soe.reduce_symbols(const_dict)\n",
    "# # print(symbs)"
   ]
  },
  {
   "cell_type": "markdown",
   "metadata": {},
   "source": [
    "### Scraping"
   ]
  },
  {
   "cell_type": "code",
   "execution_count": null,
   "metadata": {},
   "outputs": [],
   "source": [
    "doi = \"10.1016/j.jmatprotec.2017.04.005\"\n",
    "elsevier_api_key = os.getenv(\"ELSEVIER_API_KEY\")\n",
    "scraper = Scraper(doi, elsevier_api_key)\n",
    "mathml_dict, const_dict = scraper.scrape()\n",
    "print(mathml_dict)\n",
    "print(scraper.soup)"
   ]
  },
  {
   "cell_type": "markdown",
   "metadata": {},
   "source": [
    "### Gemini"
   ]
  },
  {
   "cell_type": "code",
   "execution_count": null,
   "metadata": {},
   "outputs": [],
   "source": [
    "gemini_api_key = os.getenv(\"GEMINI_API_KEY\")\n",
    "# model_name = \"models/gemini-1.5-flash\"\n",
    "model_name = \"tunedModels/mmltopython4-f3fuppiemnq9\"\n",
    "predictor = GeminiPredict(gemini_api_key, model_name)\n",
    "mathml_equations = list(mathml_dict.values())\n",
    "i = 2\n",
    "eq = str(mathml_equations[i])\n",
    "print(type(eq))\n",
    "# text = predictor.predict('<mml:mrow>\\n<mml:mi>h</mml:mi>\\n<mml:mo>=</mml:mo>\\n<mml:mfrac>\\n<mml:mrow>\\n<mml:mn>1</mml:mn>\\n<mml:mo>−</mml:mo>\\n<mml:mi>A</mml:mi>\\n</mml:mrow>\\n<mml:mrow>\\n<mml:msub>\\n<mml:mi>h</mml:mi>\\n<mml:mi>f</mml:mi>\\n</mml:msub>\\n</mml:mrow>\\n</mml:mfrac>\\n<mml:mfrac>\\n<mml:mrow>\\n<mml:mn>2</mml:mn>\\n<mml:msub>\\n<mml:mi>k</mml:mi>\\n<mml:mi>f</mml:mi>\\n</mml:msub>\\n<mml:msub>\\n<mml:mi>k</mml:mi>\\n<mml:mi>t</mml:mi>\\n</mml:msub>\\n<mml:msub>\\n<mml:mi>k</mml:mi>\\n<mml:mi>w</mml:mi>\\n</mml:msub>\\n</mml:mrow>\\n<mml:mrow>\\n<mml:mn>2</mml:mn>\\n<mml:msub>\\n<mml:mi>k</mml:mi>\\n<mml:mi>t</mml:mi>\\n</mml:msub>\\n<mml:msub>\\n<mml:mi>k</mml:mi>\\n<mml:mi>w</mml:mi>\\n</mml:msub>\\n<mml:mo>−</mml:mo>\\n<mml:msub>\\n<mml:mi>k</mml:mi>\\n<mml:mi>w</mml:mi>\\n</mml:msub>\\n<mml:msub>\\n<mml:mi>k</mml:mi>\\n<mml:mi>f</mml:mi>\\n</mml:msub>\\n<mml:mo>−</mml:mo>\\n<mml:msub>\\n<mml:mi>k</mml:mi>\\n<mml:mi>f</mml:mi>\\n</mml:msub>\\n<mml:msub>\\n<mml:mi>k</mml:mi>\\n<mml:mi>t</mml:mi>\\n</mml:msub>\\n</mml:mrow>\\n</mml:mfrac>\\n</mml:mrow>')\n",
    "text = predictor.predict(eq)\n",
    "print(text)"
   ]
  },
  {
   "cell_type": "code",
   "execution_count": 3,
   "metadata": {},
   "outputs": [],
   "source": [
    "full_equations = [\"h = Symbol('h')\\nh_g = Symbol('h_g')\\nh_c = Symbol('h_c')\\ne = Eq(h, h_g + h_c)\", \"h = Symbol('h')\\nk = Symbol('k')\\nθ = Symbol('θ')\\nσ = Symbol('σ')\\np = Symbol('p')\\nH = Symbol('H')\\ne = Eq(h, 1.45*k*tan(θ)/σ*(p/H)**0.985)\", \"h = Symbol('h')\\nλ = Symbol('λ')\\np = Symbol('p')\\nC = Symbol('C')\\nσ_U = Symbol('σ_U')\\nK = Symbol('K')\\ne = Eq(h, 8000*λ*(p/(C*σ_U)*K)**0.86)\", \"h = Symbol('h')\\nA = Symbol('A')\\nB = Symbol('B')\\nP = Symbol('P')\\ne = Eq(h, A*(1 - exp(-B*P)))\", \"h = Symbol('h')\\nA = Symbol('A')\\nh_f = Symbol('h_f')\\nk_f = Symbol('k_f')\\nk_t = Symbol('k_t')\\nk_w = Symbol('k_w')\\ne = Eq(h, (1 - A)/h_f*2*k_f*k_t*k_w/(2*k_t*k_w - k_w*k_f - k_f*k_t))\", \"h = Symbol('h')\\nh_a = Symbol('h_a')\\nh_c = Symbol('h_c')\\nh_l = Symbol('h_l')\\ne = Eq(h, h_a + h_c + h_l)\", \"h_c = Symbol('h_c')\\nα = Symbol('α')\\nK_st = Symbol('K_st')\\nN_P = Symbol('N_P')\\nR = Symbol('R')\\ne = Eq(h_c, α*K_st*N_P/R)\", \"K_st = Symbol('K_st')\\nk_s = Symbol('k_s')\\nk_t = Symbol('k_t')\\ne = Eq(K_st, 2/(k_s**(-1) + k_t**(-1)))\", \"R = Symbol('R')\\nR_s = Symbol('R_s')\\nR_t = Symbol('R_t')\\ne = Eq(R, sqrt(R_s**2 + R_t**2))\", \"N_P = Symbol('N_P')\\nλ = Symbol('λ')\\nP = Symbol('P')\\nσ_U = Symbol('σ_U')\\ne = Eq(N_P, 1 - exp(-λ*P/σ_U))\", \"h_l = Symbol('h_l')\\nβ = Symbol('β')\\nK_stl = Symbol('K_stl')\\nN_L = Symbol('N_L')\\nR = Symbol('R')\\ne = Eq(h_l, β*K_stl*N_L/R)\", \"K_stl = Symbol('K_stl')\\nk_s = Symbol('k_s')\\nk_t = Symbol('k_t')\\nk_l = Symbol('k_l')\\ne = Eq(K_stl, 3/(k_s**(-1) + k_t**(-1) + k_l**(-1)))\", \"N_L = Symbol('N_L')\\nγ = Symbol('γ')\\nδ = Symbol('δ')\\ne = Eq(N_L, 1 - exp(-γ*δ))\"]"
   ]
  },
  {
   "cell_type": "markdown",
   "metadata": {},
   "source": [
    "### Generation"
   ]
  },
  {
   "cell_type": "code",
   "execution_count": null,
   "metadata": {},
   "outputs": [],
   "source": [
    "eq = Equation()\n",
    "py, mml = eq.generate()\n",
    "print(repr(py))\n"
   ]
  },
  {
   "cell_type": "code",
   "execution_count": null,
   "metadata": {},
   "outputs": [],
   "source": [
    "import csv\n",
    "class GeminiDataset(BaseDataset):\n",
    "    def __init__(self, num, filepath):\n",
    "        super().__init__(num, filepath)\n",
    "\n",
    "    def get_columns(self):\n",
    "        return [\"text_input\", \"output\"]\n",
    "    \n",
    "gd = GeminiDataset(5, \"Data/gemini_test_6.csv\")\n",
    "gd.create()\n"
   ]
  },
  {
   "cell_type": "markdown",
   "metadata": {},
   "source": [
    "### Postprocessing"
   ]
  },
  {
   "cell_type": "code",
   "execution_count": 7,
   "metadata": {},
   "outputs": [],
   "source": [
    "importlib.reload(Postprocessing.SOE_EquationGraph)\n",
    "from Postprocessing.SOE_EquationGraph import SystemOfEquations, EquationGraph"
   ]
  },
  {
   "cell_type": "code",
   "execution_count": 8,
   "metadata": {},
   "outputs": [
    {
     "name": "stdout",
     "output_type": "stream",
     "text": [
      "[Eq(h, h_a + h_c + h_l), Eq(h_c, K_st*N_P*α/R), Eq(K_st, 2/(1/k_t + 1/k_s)), Eq(R, sqrt(R_s**2 + R_t**2)), Eq(N_P, 1 - exp(-P*λ/σ_U)), Eq(h_l, K_stl*N_L*β/R), Eq(K_stl, 3/(1/k_t + 1/k_s + 1/k_l)), Eq(N_L, 1 - exp(-γ*δ))]\n",
      "[Eq(K_st, 0.0514285714285714), Eq(h_l, 0.00011*K_stl*N_L/R), Eq(K_stl, 0.0372413793103448), Eq(h, h_c + h_l + 0.8), Eq(N_L, 0.950212931632136), Eq(R, 1.01843016451792e-6), Eq(h_c, 0.000201*K_st*N_P/R), Eq(N_P, 0.250309810226715)]\n"
     ]
    }
   ],
   "source": [
    "full_equations = [\"h = Symbol('h')\\nh_g = Symbol('h_g')\\nh_c = Symbol('h_c')\\ne = Eq(h, h_g + h_c)\", \"h = Symbol('h')\\nk = Symbol('k')\\nθ = Symbol('θ')\\nσ = Symbol('σ')\\np = Symbol('p')\\nH = Symbol('H')\\ne = Eq(h, 1.45*k*tan(θ)/σ*(p/H)**0.985)\", \"h = Symbol('h')\\nλ = Symbol('λ')\\np = Symbol('p')\\nC = Symbol('C')\\nσ_U = Symbol('σ_U')\\nK = Symbol('K')\\ne = Eq(h, 8000*λ*(p/(C*σ_U)*K)**0.86)\", \"h = Symbol('h')\\nA = Symbol('A')\\nB = Symbol('B')\\nP = Symbol('P')\\ne = Eq(h, A*(1 - exp(-B*P)))\", \"h = Symbol('h')\\nA = Symbol('A')\\nh_f = Symbol('h_f')\\nk_f = Symbol('k_f')\\nk_t = Symbol('k_t')\\nk_w = Symbol('k_w')\\ne = Eq(h, (1 - A)/h_f*2*k_f*k_t*k_w/(2*k_t*k_w - k_w*k_f - k_f*k_t))\", \"h = Symbol('h')\\nh_a = Symbol('h_a')\\nh_c = Symbol('h_c')\\nh_l = Symbol('h_l')\\ne = Eq(h, h_a + h_c + h_l)\", \"h_c = Symbol('h_c')\\nα = Symbol('α')\\nK_st = Symbol('K_st')\\nN_P = Symbol('N_P')\\nR = Symbol('R')\\ne = Eq(h_c, α*K_st*N_P/R)\", \"K_st = Symbol('K_st')\\nk_s = Symbol('k_s')\\nk_t = Symbol('k_t')\\ne = Eq(K_st, 2/(k_s**(-1) + k_t**(-1)))\", \"R = Symbol('R')\\nR_s = Symbol('R_s')\\nR_t = Symbol('R_t')\\ne = Eq(R, sqrt(R_s**2 + R_t**2))\", \"N_P = Symbol('N_P')\\nλ = Symbol('λ')\\nP = Symbol('P')\\nσ_U = Symbol('σ_U')\\ne = Eq(N_P, 1 - exp(-λ*P/σ_U))\", \"h_l = Symbol('h_l')\\nβ = Symbol('β')\\nK_stl = Symbol('K_stl')\\nN_L = Symbol('N_L')\\nR = Symbol('R')\\ne = Eq(h_l, β*K_stl*N_L/R)\", \"K_stl = Symbol('K_stl')\\nk_s = Symbol('k_s')\\nk_t = Symbol('k_t')\\nk_l = Symbol('k_l')\\ne = Eq(K_stl, 3/(k_s**(-1) + k_t**(-1) + k_l**(-1)))\", \"N_L = Symbol('N_L')\\nγ = Symbol('γ')\\nδ = Symbol('δ')\\ne = Eq(N_L, 1 - exp(-γ*δ))\"]\n",
    "const_dict = {'k_s (kW/mK)': 0.14, 'k_t (H13)': 0.0244, 'k_t (Cast iron)': 0.044, 'k_t (P20)': 0.0315, 'k_l (Lubricant)': 0.024, 'R_s (m)': 3.4e-07, 'R_t (H13)': 9.8e-07, 'R_t (Cast iron)': 8.1e-07, 'R_t (P20)': 9.6e-07, 'h_a (kW/m2K)': 0.8, 'σ_U (MPa)': 21.0, 'α (−)': 0.000201, 'λ (−)': 6.05, 'β (−)': 0.00011, 'γ (m−1)': 200000.0}\n",
    "solver = SystemOfEquations(equations=full_equations)\n",
    "red_sympy_equations = solver.reduce_system(6, const_dict)\n",
    "print(red_sympy_equations)\n",
    "\n",
    "\n",
    "\n",
    "\n",
    "\n",
    "\n",
    "\n",
    "\n",
    "\n",
    "\n",
    "# [Eq(h, h_c + h_l + 0.8), Eq(h_c, 0.000201*K_st*N_P/R), Eq(K_st, 0.0514285714285714), Eq(R, 1.01843016451792e-6), Eq(N_P, 1 - exp(-0.288095238095238*P)), Eq(h_l, 0.00011*K_stl*N_L/R), Eq(K_stl, 0.0372413793103448), Eq(N_L, 0.950212931632136)]\n",
    "\n"
   ]
  },
  {
   "cell_type": "code",
   "execution_count": 4,
   "metadata": {},
   "outputs": [
    {
     "ename": "NameError",
     "evalue": "name 'h_a' is not defined",
     "output_type": "error",
     "traceback": [
      "\u001b[1;31m---------------------------------------------------------------------------\u001b[0m",
      "\u001b[1;31mNameError\u001b[0m                                 Traceback (most recent call last)",
      "Cell \u001b[1;32mIn[4], line 49\u001b[0m\n\u001b[0;32m     41\u001b[0m N_L \u001b[38;5;241m=\u001b[39m Symbol(\u001b[38;5;124m\"\u001b[39m\u001b[38;5;124mN_L\u001b[39m\u001b[38;5;124m\"\u001b[39m)\n\u001b[0;32m     43\u001b[0m \u001b[38;5;66;03m# exprs = [Eq(h, h_c + h_g), \u001b[39;00m\n\u001b[0;32m     44\u001b[0m \u001b[38;5;66;03m#             Eq(h, 1.45*k*(p/H)**0.985*tan(θ)/σ), \u001b[39;00m\n\u001b[0;32m     45\u001b[0m \u001b[38;5;66;03m#             Eq(h, 8000*λ*(K*p/(C*σ_U))**0.86), \u001b[39;00m\n\u001b[0;32m     46\u001b[0m \u001b[38;5;66;03m#             Eq(h, A*(1 - exp(-B*P))), \u001b[39;00m\n\u001b[0;32m     47\u001b[0m \u001b[38;5;66;03m#             Eq(h, 2*k_f*k_t*k_w*(1 - A)/(h_f*(-k_f*k_t - k_f*k_w + 2*k_t*k_w))), \u001b[39;00m\n\u001b[1;32m---> 49\u001b[0m exprs \u001b[38;5;241m=\u001b[39m [Eq(h, h_a \u001b[38;5;241m+\u001b[39m h_c \u001b[38;5;241m+\u001b[39m h_l), \n\u001b[0;32m     50\u001b[0m             Eq(h_c, K_st\u001b[38;5;241m*\u001b[39mN_P\u001b[38;5;241m*\u001b[39mα\u001b[38;5;241m/\u001b[39mR), \n\u001b[0;32m     51\u001b[0m             Eq(K_st, \u001b[38;5;241m2\u001b[39m\u001b[38;5;241m/\u001b[39m(\u001b[38;5;241m1\u001b[39m\u001b[38;5;241m/\u001b[39mk_t \u001b[38;5;241m+\u001b[39m \u001b[38;5;241m1\u001b[39m\u001b[38;5;241m/\u001b[39mk_s)), \n\u001b[0;32m     52\u001b[0m             Eq(R, sqrt(Rs\u001b[38;5;241m*\u001b[39m\u001b[38;5;241m*\u001b[39m\u001b[38;5;241m2\u001b[39m \u001b[38;5;241m+\u001b[39m Rt\u001b[38;5;241m*\u001b[39m\u001b[38;5;241m*\u001b[39m\u001b[38;5;241m2\u001b[39m)), \n\u001b[0;32m     53\u001b[0m             Eq(N_P, \u001b[38;5;241m1\u001b[39m \u001b[38;5;241m-\u001b[39m exp(\u001b[38;5;241m-\u001b[39mP\u001b[38;5;241m*\u001b[39mλ\u001b[38;5;241m/\u001b[39mσ_U)), \n\u001b[0;32m     54\u001b[0m             Eq(h_l, K_stl\u001b[38;5;241m*\u001b[39mN_L\u001b[38;5;241m*\u001b[39mβ\u001b[38;5;241m/\u001b[39mR), \n\u001b[0;32m     55\u001b[0m             Eq(K_stl, \u001b[38;5;241m3\u001b[39m\u001b[38;5;241m/\u001b[39m(\u001b[38;5;241m1\u001b[39m\u001b[38;5;241m/\u001b[39mk_t \u001b[38;5;241m+\u001b[39m \u001b[38;5;241m1\u001b[39m\u001b[38;5;241m/\u001b[39mk_s \u001b[38;5;241m+\u001b[39m \u001b[38;5;241m1\u001b[39m\u001b[38;5;241m/\u001b[39mk_l)), \n\u001b[0;32m     56\u001b[0m             Eq(N_L, \u001b[38;5;241m1\u001b[39m \u001b[38;5;241m-\u001b[39m exp(\u001b[38;5;241m-\u001b[39mγ\u001b[38;5;241m*\u001b[39mδ))]\n\u001b[0;32m     57\u001b[0m \u001b[38;5;28mprint\u001b[39m(exprs)\n\u001b[0;32m     60\u001b[0m sol \u001b[38;5;241m=\u001b[39m solve(exprs)\n",
      "\u001b[1;31mNameError\u001b[0m: name 'h_a' is not defined"
     ]
    }
   ],
   "source": [
    "# Constants\n",
    "consts = {\n",
    "    \"k_s\": 0.14,\n",
    "    \"k_t\": 0.0315,\n",
    "    \"k_l\": 0.024,\n",
    "    \"Rs\": 3.4e-07,\n",
    "    \"Rt\": 9.6e-07,\n",
    "    \"h_a\": 0.8,\n",
    "    \"σ_U\": 21.0,\n",
    "    \"α\": 0.000201,\n",
    "    \"λ\": 6.05,\n",
    "    \"β\": 0.00011,\n",
    "    \"γ\": 200000.0,\n",
    "    \"δ\": 1.5e-5,\n",
    "    \"P\": 1,\n",
    "    \n",
    "    \"k\": 1,\n",
    "    \"p\": 1,\n",
    "    \"H\": 1,\n",
    "    \"θ\": 1,\n",
    "    \"σ\": 1,\n",
    "    \"K\": 1,\n",
    "    \"C\": 1,\n",
    "    \"A\": 1,\n",
    "    \"B\": 1,\n",
    "    \"k_f\": 1,\n",
    "    \"k_w\": 1,\n",
    "    \"h_f\": 1,\n",
    "    \"h_g\": 1\n",
    "}\n",
    "\n",
    "\n",
    "# Variables\n",
    "h = Symbol(\"h\")\n",
    "h_c = Symbol(\"h_c\")\n",
    "K_st = Symbol(\"K_st\")\n",
    "R = Symbol(\"R\")\n",
    "N_P = Symbol(\"N_P\")\n",
    "h_l = Symbol(\"h_l\")\n",
    "K_stl = Symbol(\"K_stl\")\n",
    "N_L = Symbol(\"N_L\")\n",
    "\n",
    "# exprs = [Eq(h, h_c + h_g), \n",
    "#             Eq(h, 1.45*k*(p/H)**0.985*tan(θ)/σ), \n",
    "#             Eq(h, 8000*λ*(K*p/(C*σ_U))**0.86), \n",
    "#             Eq(h, A*(1 - exp(-B*P))), \n",
    "#             Eq(h, 2*k_f*k_t*k_w*(1 - A)/(h_f*(-k_f*k_t - k_f*k_w + 2*k_t*k_w))), \n",
    "\n",
    "exprs = [Eq(h, h_a + h_c + h_l), \n",
    "            Eq(h_c, K_st*N_P*α/R), \n",
    "            Eq(K_st, 2/(1/k_t + 1/k_s)), \n",
    "            Eq(R, sqrt(Rs**2 + Rt**2)), \n",
    "            Eq(N_P, 1 - exp(-P*λ/σ_U)), \n",
    "            Eq(h_l, K_stl*N_L*β/R), \n",
    "            Eq(K_stl, 3/(1/k_t + 1/k_s + 1/k_l)), \n",
    "            Eq(N_L, 1 - exp(-γ*δ))]\n",
    "print(exprs)\n",
    "\n",
    "\n",
    "sol = solve(exprs)\n",
    "print(sol[0][h])\n",
    "# full_equations = [\"h = Symbol('h')\\nh_g = Symbol('h_g')\\nh_c = Symbol('h_c')\\ne = Eq(h, h_g + h_c)\", \"h = Symbol('h')\\nk = Symbol('k')\\nθ = Symbol('θ')\\nσ = Symbol('σ')\\np = Symbol('p')\\nH = Symbol('H')\\ne = Eq(h, 1.45*k*tan(θ)/σ*(p/H)**0.985)\", \"h = Symbol('h')\\nλ = Symbol('λ')\\np = Symbol('p')\\nC = Symbol('C')\\nσ_U = Symbol('σ_U')\\nK = Symbol('K')\\ne = Eq(h, 8000*λ*(p/(C*σ_U)*K)**0.86)\", \"h = Symbol('h')\\nA = Symbol('A')\\nB = Symbol('B')\\nP = Symbol('P')\\ne = Eq(h, A*(1 - exp(-B*P)))\", \"h = Symbol('h')\\nA = Symbol('A')\\nh_f = Symbol('h_f')\\nk_f = Symbol('k_f')\\nk_t = Symbol('k_t')\\nk_w = Symbol('k_w')\\ne = Eq(h, (1 - A)/h_f*2*k_f*k_t*k_w/(2*k_t*k_w - k_w*k_f - k_f*k_t))\", \"h = Symbol('h')\\nh_a = Symbol('h_a')\\nh_c = Symbol('h_c')\\nh_l = Symbol('h_l')\\ne = Eq(h, h_a + h_c + h_l)\", \"h_c = Symbol('h_c')\\nα = Symbol('α')\\nK_st = Symbol('K_st')\\nN_P = Symbol('N_P')\\nR = Symbol('R')\\ne = Eq(h_c, α*K_st*N_P/R)\", \"K_st = Symbol('K_st')\\nk_s = Symbol('k_s')\\nk_t = Symbol('k_t')\\ne = Eq(K_st, 2/(k_s**(-1) + k_t**(-1)))\", \"R = Symbol('R')\\nR_s = Symbol('R_s')\\nR_t = Symbol('R_t')\\ne = Eq(R, sqrt(R_s**2 + R_t**2))\", \"N_P = Symbol('N_P')\\nλ = Symbol('λ')\\nP = Symbol('P')\\nσ_U = Symbol('σ_U')\\ne = Eq(N_P, 1 - exp(-λ*P/σ_U))\", \"h_l = Symbol('h_l')\\nβ = Symbol('β')\\nK_stl = Symbol('K_stl')\\nN_L = Symbol('N_L')\\nR = Symbol('R')\\ne = Eq(h_l, β*K_stl*N_L/R)\", \"K_stl = Symbol('K_stl')\\nk_s = Symbol('k_s')\\nk_t = Symbol('k_t')\\nk_l = Symbol('k_l')\\ne = Eq(K_stl, 3/(k_s**(-1) + k_t**(-1) + k_l**(-1)))\", \"N_L = Symbol('N_L')\\nγ = Symbol('γ')\\nδ = Symbol('δ')\\ne = Eq(N_L, 1 - exp(-γ*δ))\"]\n",
    "# exprs = [sympify(eq) for eq in full_equations]\n",
    "eg = EquationGraph(exprs)\n",
    "system = eg.get_system_of_equations()\n",
    "eg.plot_graph()"
   ]
  },
  {
   "cell_type": "code",
   "execution_count": null,
   "metadata": {},
   "outputs": [],
   "source": [
    "h=Symbol(\"h\")\n",
    "exprs = [1]\n",
    "column_name = [\"P\", \"h\"]\n",
    "p20_df = pd.read_csv(\"Data/p20.csv\", header=None, names=column_name)\n",
    "P_list = pd.to_numeric(p20_df[\"P\"]).tolist()\n",
    "h_list_ref = pd.to_numeric(p20_df[\"h\"]).tolist()\n",
    "soe = SystemOfEquations(filepath=\"Data/HTC_gemini5_predictions.txt\")\n",
    "\n",
    "solutions = soe.solve_system(exprs, P_list, h)\n",
    "soe.plot_graph(P_list, solutions, h_list_ref)\n",
    "soe.plot_error_graph(P_list, solutions, h_list_ref)"
   ]
  }
 ],
 "metadata": {
  "kernelspec": {
   "display_name": "fyp_env",
   "language": "python",
   "name": "python3"
  },
  "language_info": {
   "codemirror_mode": {
    "name": "ipython",
    "version": 3
   },
   "file_extension": ".py",
   "mimetype": "text/x-python",
   "name": "python",
   "nbconvert_exporter": "python",
   "pygments_lexer": "ipython3",
   "version": "3.11.10"
  }
 },
 "nbformat": 4,
 "nbformat_minor": 2
}
