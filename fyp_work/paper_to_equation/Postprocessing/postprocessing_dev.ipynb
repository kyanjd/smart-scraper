{
 "cells": [
  {
   "cell_type": "code",
   "execution_count": 1,
   "metadata": {},
   "outputs": [],
   "source": [
    "from fyp_work.paper_to_equation.Gemini.GeminiPredict import GeminiPredict\n",
    "from sympy import *\n",
    "import numpy as np"
   ]
  },
  {
   "cell_type": "code",
   "execution_count": 2,
   "metadata": {},
   "outputs": [
    {
     "name": "stdout",
     "output_type": "stream",
     "text": [
      "API key loaded successfully!\n"
     ]
    },
    {
     "name": "stderr",
     "output_type": "stream",
     "text": [
      "Generating Predictions:   0%|          | 0/13 [00:00<?, ?row/s]"
     ]
    },
    {
     "name": "stderr",
     "output_type": "stream",
     "text": [
      "Generating Predictions: 100%|██████████| 13/13 [00:19<00:00,  1.53s/row]\n"
     ]
    }
   ],
   "source": [
    "api_key = \"GEMINI_API_KEY\"\n",
    "filename = \"Data/HTC_gemini4\"\n",
    "model = \"tunedModels/mmltopython4-f3fuppiemnq9\"\n",
    "\n",
    "gp = GeminiPredict(api_key, filename, model)\n",
    "gp.predict_from_file(filename=\"Data/HTC_mml\") \n",
    "gp.save_predictions()"
   ]
  },
  {
   "cell_type": "code",
   "execution_count": null,
   "metadata": {},
   "outputs": [
    {
     "name": "stdout",
     "output_type": "stream",
     "text": [
      "[Eq(h, h_c + h_g), Eq(h, 1.45*k*(p/H)**0.985*tan(θ)/σ), Eq(h, 8000*λ*(K*p/(C*σ_U))**0.86), Eq(h, A*(1 - exp(-B*P))), Eq(h, 2*k_f*k_t*k_w*(1 - A)/(h_f*(-k_f*k_t - k_f*k_w + 2*k_t*k_w))), Eq(h, h_a + h_c + h_l), Eq(h_c, K_st*N_P*α/R), Eq(K_st, 2/(1/k_t + 1/k_s)), Eq(R, sqrt(Rs**2 + Rt**2)), Eq(N_P, 1 - exp(-P*λ/σ_U)), Eq(h_l, K_stl*N_L*β/R), Eq(K_stl, 3/(1/k_t + 1/k_s + 1/k_l)), Eq(N_L, 1 - exp(-γ*δ))]\n"
     ]
    }
   ],
   "source": [
    "class SystemOfEquations():\n",
    "    def __init__(self, filepath):\n",
    "        self.str_equations = []\n",
    "        self.eq = []\n",
    "        self.filepath = filepath\n",
    "        self.symbol_lines = set() # Only keep one instance of each symbol line\n",
    "        self.symbols = set() # Same for symbols\n",
    "\n",
    "    def extract_equations(self):\n",
    "        \"\"\"\n",
    "        Store the equations in a list of strings\n",
    "        \"\"\"\n",
    "        with open (f\"{self.filepath}\", \"r\") as file: \n",
    "            for line in file:\n",
    "                self.str_equations.append(line)\n",
    "\n",
    "    def get_equations(self):\n",
    "        \"\"\"\n",
    "        Getter for the equation list\n",
    "        \"\"\"\n",
    "        if not self.str_equations:\n",
    "            self.extract_equations()\n",
    "\n",
    "        return self.str_equations\n",
    "\n",
    "    def validation_check(self, equation):\n",
    "        \"\"\"\n",
    "        Check if the equation string is valid SymPy/Python code\n",
    "\n",
    "        Args:\n",
    "            equation (str): The equation string to validate\n",
    "\n",
    "        Returns:\n",
    "            True if the equation is valid\n",
    "            False if the equation is invalid\n",
    "        \"\"\"\n",
    "        try:\n",
    "            eval(equation) # Execute the equation string as code\n",
    "            return True\n",
    "        except Exception as e:\n",
    "            print(e)\n",
    "            return False\n",
    "\n",
    "    def parse_equation(self, equation):\n",
    "        \"\"\"\n",
    "        Parse the equation string and store the symbols and equations\n",
    "\n",
    "        Args:\n",
    "            equation (str): The equation string to parse\n",
    "        \"\"\"\n",
    "        for line in equation.split(\"\\\\n\"): # Split equation string into lines (e.g. Symbol, Symbol, Eq)\n",
    "            if \"Symbol\" in line:\n",
    "                line = line.replace('\"', \"\")\n",
    "                self.symbol_lines.add(line) # Store line for file creation\n",
    "                self.symbols.add(line.split(\" = \")[0]) # Store symbol as a variable\n",
    "            elif \"Eq\" in line:\n",
    "                eq = line.split(\" = \")[1]\n",
    "                eq = eq.replace('\"\\n', \"\")\n",
    "                self.eq.append(sympify(eq)) # Store the equation as a sympy equation\n",
    "    \n",
    "    def \n",
    "\n",
    "\n",
    "\n",
    "\n",
    "\n",
    "\n",
    "\n",
    "    def solve(self, target):\n",
    "        pass\n",
    "    \n",
    "    def solve_test(self, target):\n",
    "        symbol_list = {\"a\", \"b\", \"c\"}\n",
    "        const = {\"c\"}\n",
    "\n",
    "        # Define symbols dynamically\n",
    "        sd = {name: Symbol(name) for name in symbol_list if name not in const}\n",
    "\n",
    "        # Substitute c = 4 directly in the equations\n",
    "        c = 4\n",
    "        # og_eq = [Eq(a, b + 5), Eq(b, c + 1)]\n",
    "        equations = [Eq(sd[\"a\"], sd[\"b\"] + 5), Eq(sd[\"b\"], c + 1)]\n",
    "        # equations = [eq.subs({a: sd[\"a\"], b: sd[\"b\"]}) for eq in og_eq]\n",
    "\n",
    "        # Solve for a\n",
    "        result = solve(equations)\n",
    "        print(result[sd[target]])\n",
    "    \n",
    "    def solve_test2(self, target):\n",
    "        pass\n",
    "\n",
    "\n",
    "\n",
    "\n",
    "\n",
    "\n",
    "def main():\n",
    "    soe = SystemOfEquations(\"Data/HTC_gemini5_predictions.txt\")\n",
    "    soe.extract_equations()\n",
    "    for eq in soe.str_equations:\n",
    "        soe.parse_equation(eq)\n",
    "    print(soe.eq)\n",
    "    \n",
    "\n",
    "\n",
    "main()"
   ]
  }
 ],
 "metadata": {
  "kernelspec": {
   "display_name": "fyp_env",
   "language": "python",
   "name": "python3"
  },
  "language_info": {
   "codemirror_mode": {
    "name": "ipython",
    "version": 3
   },
   "file_extension": ".py",
   "mimetype": "text/x-python",
   "name": "python",
   "nbconvert_exporter": "python",
   "pygments_lexer": "ipython3",
   "version": "3.11.10"
  }
 },
 "nbformat": 4,
 "nbformat_minor": 2
}
