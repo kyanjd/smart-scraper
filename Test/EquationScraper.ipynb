{
 "cells": [
  {
   "cell_type": "code",
   "execution_count": 3,
   "metadata": {},
   "outputs": [
    {
     "name": "stdout",
     "output_type": "stream",
     "text": [
      "Request successful \n",
      "\n",
      "[{'mathml_input': '<mml:math altimg=\"si2.svg\" alttext=\"Equation 1.\">\\n<mml:mrow>\\n<mml:mi>μ</mml:mi>\\n<mml:mrow>\\n<mml:mo stretchy=\"false\">(</mml:mo>\\n<mml:mi>t</mml:mi>\\n<mml:mo stretchy=\"false\">)</mml:mo>\\n</mml:mrow>\\n<mml:mo linebreak=\"badbreak\">=</mml:mo>\\n<mml:mrow>\\n<mml:mo stretchy=\"false\">(</mml:mo>\\n<mml:mn>1</mml:mn>\\n<mml:mo linebreak=\"badbreak\">−</mml:mo>\\n<mml:mi>β</mml:mi>\\n<mml:mo stretchy=\"false\">)</mml:mo>\\n</mml:mrow>\\n<mml:msub>\\n<mml:mi>μ</mml:mi>\\n<mml:mi>l</mml:mi>\\n</mml:msub>\\n<mml:mrow>\\n<mml:mo stretchy=\"false\">(</mml:mo>\\n<mml:mi>t</mml:mi>\\n<mml:mo stretchy=\"false\">)</mml:mo>\\n</mml:mrow>\\n<mml:mo linebreak=\"goodbreak\">+</mml:mo>\\n<mml:mi>β</mml:mi>\\n<mml:msub>\\n<mml:mi>μ</mml:mi>\\n<mml:mi>d</mml:mi>\\n</mml:msub>\\n<mml:mrow>\\n<mml:mo stretchy=\"false\">(</mml:mo>\\n<mml:mi>t</mml:mi>\\n<mml:mo stretchy=\"false\">)</mml:mo>\\n</mml:mrow>\\n</mml:mrow>\\n</mml:math>', 'python_output': 'μ(t) = (1 - β) * μl(t) + β * μd(t)'}, {'mathml_input': '<mml:math altimg=\"si5.svg\" alttext=\"Equation 2.\">\\n<mml:mrow>\\n<mml:msub>\\n<mml:mi>μ</mml:mi>\\n<mml:mi>l</mml:mi>\\n</mml:msub>\\n<mml:mrow>\\n<mml:mo stretchy=\"false\">(</mml:mo>\\n<mml:mi>t</mml:mi>\\n<mml:mo stretchy=\"false\">)</mml:mo>\\n</mml:mrow>\\n<mml:mo linebreak=\"badbreak\">=</mml:mo>\\n<mml:msub>\\n<mml:mi>μ</mml:mi>\\n<mml:mrow>\\n<mml:mi>l</mml:mi>\\n<mml:mn>0</mml:mn>\\n</mml:mrow>\\n</mml:msub>\\n<mml:mtext>exp</mml:mtext>\\n<mml:mrow>\\n<mml:mo stretchy=\"false\">(</mml:mo>\\n<mml:mo linebreak=\"badbreak\">−</mml:mo>\\n<mml:mfrac>\\n<mml:msub>\\n<mml:mi>Q</mml:mi>\\n<mml:mi>l</mml:mi>\\n</mml:msub>\\n<mml:mrow>\\n<mml:mi>R</mml:mi>\\n<mml:mi>T</mml:mi>\\n<mml:mrow>\\n<mml:mo stretchy=\"false\">(</mml:mo>\\n<mml:mi>t</mml:mi>\\n<mml:mo stretchy=\"false\">)</mml:mo>\\n</mml:mrow>\\n</mml:mrow>\\n</mml:mfrac>\\n<mml:mo stretchy=\"false\">)</mml:mo>\\n</mml:mrow>\\n</mml:mrow>\\n</mml:math>', 'python_output': \"import sympy\\n\\nt, R, T, mu_l0, Q_l = sympy.symbols('t R T \\\\mu_{l0} Q_l')\\n\\nmu_l = mu_l0 * sympy.exp(-Q_l/(R*T*(t)))\"}, {'mathml_input': '<mml:math altimg=\"si6.svg\" alttext=\"Equation 3.\">\\n<mml:mrow>\\n<mml:msub>\\n<mml:mi>μ</mml:mi>\\n<mml:mi>d</mml:mi>\\n</mml:msub>\\n<mml:mrow>\\n<mml:mo stretchy=\"false\">(</mml:mo>\\n<mml:mi>t</mml:mi>\\n<mml:mo stretchy=\"false\">)</mml:mo>\\n</mml:mrow>\\n<mml:mo linebreak=\"badbreak\">=</mml:mo>\\n<mml:msub>\\n<mml:mi>μ</mml:mi>\\n<mml:mrow>\\n<mml:mi>d</mml:mi>\\n<mml:mn>0</mml:mn>\\n</mml:mrow>\\n</mml:msub>\\n<mml:mtext>exp</mml:mtext>\\n<mml:mrow>\\n<mml:mo stretchy=\"false\">(</mml:mo>\\n<mml:mo linebreak=\"badbreak\">−</mml:mo>\\n<mml:mfrac>\\n<mml:msub>\\n<mml:mi>Q</mml:mi>\\n<mml:mi>d</mml:mi>\\n</mml:msub>\\n<mml:mrow>\\n<mml:mi>R</mml:mi>\\n<mml:mi>T</mml:mi>\\n<mml:mrow>\\n<mml:mo stretchy=\"false\">(</mml:mo>\\n<mml:mi>t</mml:mi>\\n<mml:mo stretchy=\"false\">)</mml:mo>\\n</mml:mrow>\\n</mml:mrow>\\n</mml:mfrac>\\n<mml:mo stretchy=\"false\">)</mml:mo>\\n</mml:mrow>\\n</mml:mrow>\\n</mml:math>', 'python_output': \"import sympy\\n\\nmu_d = sympy.symbols('mu_d')\\nt, mu_d0, Q_d, R, T = sympy.symbols('t mu_d0 Q_d R T')\\n\\nequation = mu_d(t) - mu_d0*sympy.exp(-Q_d/(R*T(t)))\"}, {'mathml_input': '<mml:math altimg=\"si16.svg\" alttext=\"Equation 4.\">\\n<mml:mrow>\\n<mml:msup>\\n<mml:mrow>\\n<mml:mi>β</mml:mi>\\n<mml:mo stretchy=\"false\">(</mml:mo>\\n<mml:mi>t</mml:mi>\\n<mml:mo stretchy=\"false\">)</mml:mo>\\n<mml:mo linebreak=\"badbreak\">=</mml:mo>\\n<mml:mtext>exp</mml:mtext>\\n<mml:mo stretchy=\"false\">[</mml:mo>\\n<mml:mo linebreak=\"badbreak\">−</mml:mo>\\n<mml:mo stretchy=\"false\">(</mml:mo>\\n<mml:msub>\\n<mml:mi>λ</mml:mi>\\n<mml:mn>1</mml:mn>\\n</mml:msub>\\n<mml:mi>h</mml:mi>\\n<mml:mo stretchy=\"false\">(</mml:mo>\\n<mml:mi>t</mml:mi>\\n<mml:mo stretchy=\"false\">)</mml:mo>\\n<mml:mo stretchy=\"false\">)</mml:mo>\\n</mml:mrow>\\n<mml:msub>\\n<mml:mi>λ</mml:mi>\\n<mml:mn>2</mml:mn>\\n</mml:msub>\\n</mml:msup>\\n<mml:mo stretchy=\"false\">]</mml:mo>\\n</mml:mrow>\\n</mml:math>', 'python_output': \"import sympy\\n\\nt, λ1, λ2, h = sympy.symbols('t λ1 λ2 h')\\n\\nβ = sympy.exp(-(λ1 * h(t))**λ2)\"}, {'mathml_input': '<mml:math altimg=\"si17.svg\" alttext=\"Equation 5.\">\\n<mml:mrow>\\n<mml:mi>V</mml:mi>\\n<mml:mrow>\\n<mml:mo stretchy=\"false\">(</mml:mo>\\n<mml:mn>0</mml:mn>\\n<mml:mo stretchy=\"false\">)</mml:mo>\\n</mml:mrow>\\n<mml:mo linebreak=\"badbreak\">=</mml:mo>\\n<mml:mi>V</mml:mi>\\n<mml:mrow>\\n<mml:mo stretchy=\"false\">(</mml:mo>\\n<mml:mi>t</mml:mi>\\n<mml:mo stretchy=\"false\">)</mml:mo>\\n</mml:mrow>\\n<mml:mo linebreak=\"goodbreak\">+</mml:mo>\\n<mml:mi>Δ</mml:mi>\\n<mml:mi>V</mml:mi>\\n<mml:mrow>\\n<mml:mo stretchy=\"false\">(</mml:mo>\\n<mml:mi>t</mml:mi>\\n<mml:mo stretchy=\"false\">)</mml:mo>\\n</mml:mrow>\\n<mml:mo linebreak=\"goodbreak\">=</mml:mo>\\n<mml:mi>V</mml:mi>\\n<mml:mrow>\\n<mml:mo stretchy=\"false\">(</mml:mo>\\n<mml:mi>t</mml:mi>\\n<mml:mo stretchy=\"false\">)</mml:mo>\\n</mml:mrow>\\n<mml:mo linebreak=\"goodbreak\">+</mml:mo>\\n<mml:munderover>\\n<mml:mrow>\\n<mml:mo>∫</mml:mo>\\n</mml:mrow>\\n<mml:mn>0</mml:mn>\\n<mml:mi>t</mml:mi>\\n</mml:munderover>\\n<mml:mi>d</mml:mi>\\n<mml:mi>V</mml:mi>\\n</mml:mrow>\\n</mml:math>', 'python_output': 'V(0) = V(t) + ΔV(t) = V(t) + Integrate(dV, (t, 0, t))'}, {'mathml_input': '<mml:math altimg=\"si22.svg\" alttext=\"Equation 6.\">\\n<mml:mrow>\\n<mml:mi>d</mml:mi>\\n<mml:mi>V</mml:mi>\\n<mml:mo linebreak=\"badbreak\">=</mml:mo>\\n<mml:mi>a</mml:mi>\\n<mml:mi>h</mml:mi>\\n<mml:mrow>\\n<mml:mo stretchy=\"false\">(</mml:mo>\\n<mml:mi>t</mml:mi>\\n<mml:mo stretchy=\"false\">)</mml:mo>\\n</mml:mrow>\\n<mml:mo linebreak=\"goodbreak\">⋅</mml:mo>\\n<mml:mi>w</mml:mi>\\n<mml:mo linebreak=\"goodbreak\">⋅</mml:mo>\\n<mml:msup>\\n<mml:mi>v</mml:mi>\\n<mml:msub>\\n<mml:mi>k</mml:mi>\\n<mml:mn>1</mml:mn>\\n</mml:msub>\\n</mml:msup>\\n<mml:mi>d</mml:mi>\\n<mml:mi>t</mml:mi>\\n</mml:mrow>\\n</mml:math>', 'python_output': 'dV = a * h(t) * w * v**k1 * dt'}, {'mathml_input': '<mml:math altimg=\"si34.svg\" alttext=\"Equation 7.\">\\n<mml:mrow>\\n<mml:mi>Δ</mml:mi>\\n<mml:mi>V</mml:mi>\\n<mml:mo linebreak=\"badbreak\">=</mml:mo>\\n<mml:munderover>\\n<mml:mrow>\\n<mml:mo>∫</mml:mo>\\n</mml:mrow>\\n<mml:mn>0</mml:mn>\\n<mml:mi>t</mml:mi>\\n</mml:munderover>\\n<mml:mi>A</mml:mi>\\n<mml:mo linebreak=\"goodbreak\">⋅</mml:mo>\\n<mml:mi>b</mml:mi>\\n<mml:mfrac>\\n<mml:mrow>\\n<mml:msup>\\n<mml:mi>P</mml:mi>\\n<mml:msub>\\n<mml:mi>k</mml:mi>\\n<mml:mn>3</mml:mn>\\n</mml:msub>\\n</mml:msup>\\n<mml:msup>\\n<mml:mi>v</mml:mi>\\n<mml:msub>\\n<mml:mi>k</mml:mi>\\n<mml:mn>1</mml:mn>\\n</mml:msub>\\n</mml:msup>\\n</mml:mrow>\\n<mml:msup>\\n<mml:mi>η</mml:mi>\\n<mml:msub>\\n<mml:mi>k</mml:mi>\\n<mml:mn>2</mml:mn>\\n</mml:msub>\\n</mml:msup>\\n</mml:mfrac>\\n<mml:mo linebreak=\"goodbreak\">⋅</mml:mo>\\n<mml:mi>h</mml:mi>\\n<mml:mrow>\\n<mml:mo stretchy=\"false\">(</mml:mo>\\n<mml:mi>t</mml:mi>\\n<mml:mo stretchy=\"false\">)</mml:mo>\\n</mml:mrow>\\n<mml:mi>d</mml:mi>\\n<mml:mi>t</mml:mi>\\n</mml:mrow>\\n</mml:math>', 'python_output': 'from sympy import integrate\\nfrom sympy.abc import t, A, b, P, v, η, h, k1, k2, k3\\n\\nΔV = integrate(A * b * (P**k3 * v**k1) / (η**k2) * h(t), (t, 0, t))'}, {'mathml_input': '<mml:math altimg=\"si35.svg\" alttext=\"Equation 8.\">\\n<mml:mrow>\\n<mml:mover accent=\"true\">\\n<mml:mi>h</mml:mi>\\n<mml:mo>˙</mml:mo>\\n</mml:mover>\\n<mml:mrow>\\n<mml:mo stretchy=\"false\">(</mml:mo>\\n<mml:mi>t</mml:mi>\\n<mml:mo stretchy=\"false\">)</mml:mo>\\n</mml:mrow>\\n<mml:mo linebreak=\"badbreak\">=</mml:mo>\\n<mml:mfrac>\\n<mml:mrow>\\n<mml:mover accent=\"true\">\\n<mml:mi>V</mml:mi>\\n<mml:mo>˙</mml:mo>\\n</mml:mover>\\n<mml:mrow>\\n<mml:mo stretchy=\"false\">(</mml:mo>\\n<mml:mi>t</mml:mi>\\n<mml:mo stretchy=\"false\">)</mml:mo>\\n</mml:mrow>\\n</mml:mrow>\\n<mml:mi>A</mml:mi>\\n</mml:mfrac>\\n<mml:mo linebreak=\"goodbreak\">=</mml:mo>\\n<mml:mo linebreak=\"goodbreak\">−</mml:mo>\\n<mml:mi>h</mml:mi>\\n<mml:mrow>\\n<mml:mo stretchy=\"false\">(</mml:mo>\\n<mml:mi>t</mml:mi>\\n<mml:mo stretchy=\"false\">)</mml:mo>\\n</mml:mrow>\\n<mml:mrow>\\n<mml:mo stretchy=\"false\">(</mml:mo>\\n<mml:mi>c</mml:mi>\\n<mml:msup>\\n<mml:mi>P</mml:mi>\\n<mml:msub>\\n<mml:mi>k</mml:mi>\\n<mml:mi>p</mml:mi>\\n</mml:msub>\\n</mml:msup>\\n<mml:msup>\\n<mml:mi>v</mml:mi>\\n<mml:msub>\\n<mml:mi>k</mml:mi>\\n<mml:mi>v</mml:mi>\\n</mml:msub>\\n</mml:msup>\\n<mml:mo linebreak=\"badbreak\">/</mml:mo>\\n<mml:msup>\\n<mml:mi>η</mml:mi>\\n<mml:msub>\\n<mml:mi>k</mml:mi>\\n<mml:mi>η</mml:mi>\\n</mml:msub>\\n</mml:msup>\\n<mml:mo stretchy=\"false\">)</mml:mo>\\n</mml:mrow>\\n</mml:mrow>\\n</mml:math>', 'python_output': 'h_dot = V_dot(t) / A = -h(t) * (c * P**k_p * v**k_v / η**k_η)'}, {'mathml_input': '<mml:math altimg=\"si45.svg\" alttext=\"Equation 9.\">\\n<mml:mrow>\\n<mml:mi>η</mml:mi>\\n<mml:mo linebreak=\"badbreak\">=</mml:mo>\\n<mml:msub>\\n<mml:mi>η</mml:mi>\\n<mml:mn>0</mml:mn>\\n</mml:msub>\\n<mml:mtext>exp</mml:mtext>\\n<mml:mrow>\\n<mml:mo stretchy=\"false\">(</mml:mo>\\n<mml:mfrac>\\n<mml:msub>\\n<mml:mi>Q</mml:mi>\\n<mml:mi>η</mml:mi>\\n</mml:msub>\\n<mml:mrow>\\n<mml:mi>R</mml:mi>\\n<mml:mi>T</mml:mi>\\n</mml:mrow>\\n</mml:mfrac>\\n<mml:mo stretchy=\"false\">)</mml:mo>\\n</mml:mrow>\\n</mml:mrow>\\n</mml:math>', 'python_output': \"import sympy\\n\\nη = sympy.symbols('η')\\nη_0 = sympy.symbols('η_0')\\nQ_η = sympy.symbols('Q_η')\\nR = sympy.symbols('R')\\nT = sympy.symbols('T')\\n\\nη = η_0 * sympy.exp(Q_η / (R * T))\"}, {'mathml_input': '<mml:math altimg=\"si46.svg\" alttext=\"Equation 10.\">\\n<mml:mrow>\\n<mml:mi>f</mml:mi>\\n<mml:mrow>\\n<mml:mo stretchy=\"false\">(</mml:mo>\\n<mml:mi>x</mml:mi>\\n<mml:mo stretchy=\"false\">)</mml:mo>\\n</mml:mrow>\\n<mml:mo linebreak=\"badbreak\">=</mml:mo>\\n<mml:munderover>\\n<mml:mrow>\\n<mml:mo>∑</mml:mo>\\n</mml:mrow>\\n<mml:mrow>\\n<mml:mi>i</mml:mi>\\n<mml:mo linebreak=\"badbreak\">=</mml:mo>\\n<mml:mn>1</mml:mn>\\n</mml:mrow>\\n<mml:mi>m</mml:mi>\\n</mml:munderover>\\n<mml:msub>\\n<mml:mi>w</mml:mi>\\n<mml:mi>i</mml:mi>\\n</mml:msub>\\n<mml:msup>\\n<mml:mrow>\\n<mml:mo stretchy=\"false\">(</mml:mo>\\n<mml:msubsup>\\n<mml:mi>μ</mml:mi>\\n<mml:mi>i</mml:mi>\\n<mml:mi>p</mml:mi>\\n</mml:msubsup>\\n<mml:mo linebreak=\"badbreak\">−</mml:mo>\\n<mml:msubsup>\\n<mml:mi>μ</mml:mi>\\n<mml:mi>i</mml:mi>\\n<mml:mi>e</mml:mi>\\n</mml:msubsup>\\n<mml:mo stretchy=\"false\">)</mml:mo>\\n</mml:mrow>\\n<mml:mn>2</mml:mn>\\n</mml:msup>\\n</mml:mrow>\\n</mml:math>', 'python_output': 'import sympy\\n\\ndef f(x, m, w, μ_p, μ_e):\\n    result = 0\\n    for i in range(1, m + 1):\\n        result += w[i-1] * ((μ_p[i-1]**p - μ_e[i-1]**e)**2)\\n    return result'}]\n"
     ]
    }
   ],
   "source": [
    "import requests\n",
    "import bs4\n",
    "import os\n",
    "import sympy\n",
    "from sympy import symbols, integrate\n",
    "import google.generativeai as ai\n",
    "\n",
    "class EquationScraper():\n",
    "    def __init__(self, doi, api_key):\n",
    "        self.doi = doi\n",
    "        self.api_key = api_key\n",
    "        self.dataset = []\n",
    "\n",
    "    def make_request(self):\n",
    "        response = requests.get(f\"https://api.elsevier.com/content/article/doi/{self.doi}?APIKey={self.api_key}\")\n",
    "        if response.status_code == 200:\n",
    "            print(\"Request successful \\n\")\n",
    "            self.full_text = response.text \n",
    "        else:\n",
    "            raise Exception(f\"Request failed with status code: {response.status_code} \\n\")\n",
    "\n",
    "    def make_soup(self):\n",
    "        self.soup = bs4.BeautifulSoup(self.full_text, \"lxml\")\n",
    "\n",
    "    def find_equations(self):\n",
    "        self.equation = self.soup.find_all(\"ce:formula\")\n",
    "        equation_dict = {}\n",
    "        for eq in self.equation:\n",
    "            label = eq.find(\"ce:label\")\n",
    "            cleaned_label = int(label.text[1:-1])\n",
    "            equation_dict[cleaned_label] = eq.find(\"mml:math\")\n",
    "        self.mathml_dict = equation_dict\n",
    "    \n",
    "    def mathml_to_python(self, mathml):\n",
    "        ai.configure(api_key=os.getenv(\"API_KEY\"))\n",
    "        model = ai.GenerativeModel(\"gemini-1.5-flash\")\n",
    "        query = f\"\"\"You are a programming expert and have been tasked with converting an equation from MathML to Python.\n",
    "        Return the equation in well formatted Python code, using the sympy library if necessary for complex equations. Do not return\n",
    "        anything other than the equation and do not include the word Python.\n",
    "        The equation you need to convert is: {mathml}\"\"\"\n",
    "        response = model.generate_content(query)\n",
    "        return response\n",
    "    \n",
    "    def append_dataset(self, mathml, python):\n",
    "        self.dataset.append({\"mathml_input\": mathml, \"python_output\": python})\n",
    "\n",
    "\n",
    "def main():     \n",
    "    doi = \"10.1016/j.triboint.2021.106934\"\n",
    "    api_key = os.getenv(\"ELSEVIER_API_KEY\")\n",
    "    scraper = EquationScraper(doi, api_key)\n",
    "    scraper.make_request()\n",
    "    scraper.make_soup()\n",
    "    scraper.find_equations()\n",
    "    for eq in range(1, len(scraper.mathml_dict)+1):\n",
    "        mathml = scraper.mathml_dict[eq]\n",
    "        python = scraper.mathml_to_python(mathml)\n",
    "        scraper.append_dataset(str(mathml), python.text.split('```')[1].strip())\n",
    "    print(scraper.dataset)\n",
    "    save_path = \"equations.txt\"\n",
    "    with open(save_path, \"w\") as f:\n",
    "        for item in scraper.dataset:\n",
    "            f.write(f\"MathML: {item['mathml_input']}\\nPython: {item['python_output']}\\n\\n\")\n",
    "\n",
    "if __name__ == \"__main__\":\n",
    "    main()"
   ]
  },
  {
   "cell_type": "code",
   "execution_count": null,
   "metadata": {},
   "outputs": [],
   "source": [
    "\"\"\"<ce:formula id=\"eq0010\">\n",
    "<ce:label>(1)</ce:label>\n",
    "<mml:math altimg=\"si4.gif\" overflow=\"scroll\">\n",
    "<mml:mrow>\n",
    "<mml:mi>h</mml:mi>\n",
    "<mml:mo>=</mml:mo>\n",
    "<mml:msub>\n",
    "<mml:mi>h</mml:mi>\n",
    "<mml:mi>g</mml:mi>\n",
    "</mml:msub>\n",
    "<mml:mo>+</mml:mo>\n",
    "<mml:msub>\n",
    "<mml:mi>h</mml:mi>\n",
    "<mml:mi>c</mml:mi>\n",
    "</mml:msub>\n",
    "</mml:mrow>\n",
    "</mml:math>\n",
    "</ce:formula>\"\"\""
   ]
  }
 ],
 "metadata": {
  "kernelspec": {
   "display_name": "fyp_env",
   "language": "python",
   "name": "python3"
  },
  "language_info": {
   "codemirror_mode": {
    "name": "ipython",
    "version": 3
   },
   "file_extension": ".py",
   "mimetype": "text/x-python",
   "name": "python",
   "nbconvert_exporter": "python",
   "pygments_lexer": "ipython3",
   "version": "3.11.10"
  }
 },
 "nbformat": 4,
 "nbformat_minor": 2
}
