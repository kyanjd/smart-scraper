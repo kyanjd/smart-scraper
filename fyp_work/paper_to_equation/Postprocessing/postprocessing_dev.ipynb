{
 "cells": [
  {
   "cell_type": "code",
   "execution_count": 1,
   "metadata": {},
   "outputs": [
    {
     "name": "stderr",
     "output_type": "stream",
     "text": [
      "c:\\Users\\kyanj\\anaconda3\\envs\\fyp_env\\Lib\\site-packages\\tqdm\\auto.py:21: TqdmWarning: IProgress not found. Please update jupyter and ipywidgets. See https://ipywidgets.readthedocs.io/en/stable/user_install.html\n",
      "  from .autonotebook import tqdm as notebook_tqdm\n"
     ]
    }
   ],
   "source": [
    "from fyp_work.paper_to_equation.Gemini.GeminiPredict import GeminiPredict\n",
    "from sympy import *"
   ]
  },
  {
   "cell_type": "code",
   "execution_count": 2,
   "metadata": {},
   "outputs": [
    {
     "name": "stdout",
     "output_type": "stream",
     "text": [
      "API key loaded successfully!\n"
     ]
    },
    {
     "name": "stderr",
     "output_type": "stream",
     "text": [
      "Generating Predictions:   0%|          | 0/13 [00:00<?, ?row/s]"
     ]
    },
    {
     "name": "stderr",
     "output_type": "stream",
     "text": [
      "Generating Predictions: 100%|██████████| 13/13 [00:19<00:00,  1.53s/row]\n"
     ]
    }
   ],
   "source": [
    "api_key = \"GEMINI_API_KEY\"\n",
    "filename = \"Data/HTC_gemini4\"\n",
    "model = \"tunedModels/mmltopython4-f3fuppiemnq9\"\n",
    "\n",
    "gp = GeminiPredict(api_key, filename, model)\n",
    "gp.predict_from_file(filename=\"Data/HTC_mml\") \n",
    "gp.save_predictions()"
   ]
  },
  {
   "cell_type": "code",
   "execution_count": 3,
   "metadata": {},
   "outputs": [
    {
     "name": "stdout",
     "output_type": "stream",
     "text": [
      "\"h = Symbol('h')\\nh_g = Symbol('h_g')\\nh_c = Symbol('h_c')\\ne = Eq(h, h_g + h_c)\"\n",
      "\n",
      "\"h = Symbol('h')\\nk = Symbol('k')\\nθ = Symbol('θ')\\nσ = Symbol('σ')\\np = Symbol('p')\\nH = Symbol('H')\\ne = Eq(h, 1.45*k*tan(θ)/σ*(p/H)**0.985)\"\n",
      "\n",
      "\"h = Symbol('h')\\nλ_ = Symbol('λ_')\\np = Symbol('p')\\nC = Symbol('C')\\nσ_U = Symbol('σ_U')\\nK = Symbol('K')\\ne = Eq(h, 8000*λ_*(p/(C*σ_U)*K)**0.86)\"\n",
      "\n",
      "\"h = Symbol('h')\\nA = Symbol('A')\\nB = Symbol('B')\\nP = Symbol('P')\\ne = Eq(h, A*(1 - exp(-B*P)))\"\n",
      "\n",
      "\"h = Symbol('h')\\nA = Symbol('A')\\nh_f = Symbol('h_f')\\nk_f = Symbol('k_f')\\nk_t = Symbol('k_t')\\nk_w = Symbol('k_w')\\ne = Eq(h, (1 - A)/h_f * 2*k_f*k_t*k_w/(2*k_t*k_w - k_w*k_f - k_f*k_t))\"\n",
      "\n",
      "\"h = Symbol('h')\\nh_a = Symbol('h_a')\\nh_c = Symbol('h_c')\\nh_l = Symbol('h_l')\\ne = Eq(h, h_a + h_c + h_l)\"\n",
      "\n",
      "\"h = Symbol('h')\\nh_gat = Symbol('h_gat')\\nh_c = Symbol('h_c')\\ne = Eq(h, h_gat + h_c)\\nα = Symbol('α')\\nK_st = Symbol('K_st')\\nN_P = Symbol('N_P')\\nR = Symbol('R')\\ne = Eq(h_c, α*K_st*N_P/R)\"\n",
      "\n",
      "\"K_st = Symbol('K_st')\\nk_s = Symbol('k_s')\\nk_t = Symbol('k_t')\\ne = Eq(K_st, 2/((k_s)**(-1) + (k_t)**(-1)))\"\n",
      "\n",
      "\"R = Symbol('R')\\nRs = Symbol('Rs')\\nRt = Symbol('Rt')\\ne = Eq(R, sqrt(Rs**2 + Rt**2))\"\n",
      "\n",
      "\"N_P = Symbol('N_P')\\nλ = Symbol('λ')\\nP = Symbol('P')\\nσ_U = Symbol('σ_U')\\ne = Eq(N_P, 1 - exp(-λ*P/σ_U))\"\n",
      "\n",
      "\"h = Symbol('h')\\nh_gat = Symbol('h_gat')\\nh_c = Symbol('h_c')\\ne = Eq(h, h_gat + h_c)\\nn_hl = Symbol('n_hl')\\nβ = Symbol('β')\\nK_stl = Symbol('K_stl')\\nN_L = Symbol('N_L')\\nR = Symbol('R')\\ne = Eq(n_hl, β*K_stl*N_L/R)\"\n",
      "\n",
      "\"K_stl = Symbol('K_stl')\\nk_s = Symbol('k_s')\\nk_t = Symbol('k_t')\\nk_l = Symbol('k_l')\\ne = Eq(K_stl, 3/(k_s**-1 + k_t**-1 + k_l**-1))\"\n",
      "\n",
      "\"N_L = Symbol('N_L')\\nγ = Symbol('γ')\\nδ = Symbol('δ')\\ne = Eq(N_L, 1 - exp(-γ*δ))\"\n",
      "\n",
      "Rt\n",
      "γ\n",
      "P\n",
      "β\n",
      "K_st\n",
      "λ\n",
      "h_c\n",
      "σ_U\n",
      "K_stl\n",
      "H\n",
      "k_f\n",
      "Rs\n",
      "k_s\n",
      "N_P\n",
      "h_a\n",
      "h_gat\n",
      "λ_\n",
      "σ\n",
      "θ\n",
      "K\n",
      "n_hl\n",
      "C\n",
      "h_l\n",
      "k_w\n",
      "h_f\n",
      "δ\n",
      "α\n",
      "h\n",
      "h_g\n",
      "B\n",
      "k_t\n",
      "k\n",
      "R\n",
      "p\n",
      "k_l\n",
      "N_L\n",
      "A\n"
     ]
    }
   ],
   "source": [
    "class SystemOfEquations():\n",
    "    def __init__(self, filename):\n",
    "        self.equations = []\n",
    "        self.symbol_lines = set()\n",
    "        self.symbols = set()\n",
    "\n",
    "    def extract_equations(self):\n",
    "        with open (f\"{filename}_predictions.txt\", \"r\") as file:\n",
    "            for line in file:\n",
    "                self.equations.append(line)\n",
    "\n",
    "    def get_equations(self):\n",
    "        return self.equations\n",
    "\n",
    "    def parse_equation(self, equation):\n",
    "        for line in equation.split(\"\\\\n\"):\n",
    "            if \"Symbol\" in line:\n",
    "                line = line.replace('\"', \"\")\n",
    "                self.symbol_lines.add(line)\n",
    "                self.symbols.add(line.split(\" = \")[0])\n",
    "        \n",
    "\n",
    "\n",
    "\n",
    "\n",
    "\n",
    "def main():\n",
    "    soe = SystemOfEquations(\"Data/HTC_gemini4\")\n",
    "    soe.extract_equations()\n",
    "    # eq = soe.equations[0]\n",
    "    # soe.parse_equation(eq)\n",
    "    for eq in soe.equations:\n",
    "        print(eq)\n",
    "        soe.parse_equation(eq)\n",
    "    for symbol in soe.symbols:\n",
    "        print(symbol)\n",
    "\n",
    "\n",
    "main()"
   ]
  }
 ],
 "metadata": {
  "kernelspec": {
   "display_name": "fyp_env",
   "language": "python",
   "name": "python3"
  },
  "language_info": {
   "codemirror_mode": {
    "name": "ipython",
    "version": 3
   },
   "file_extension": ".py",
   "mimetype": "text/x-python",
   "name": "python",
   "nbconvert_exporter": "python",
   "pygments_lexer": "ipython3",
   "version": "3.11.10"
  }
 },
 "nbformat": 4,
 "nbformat_minor": 2
}
