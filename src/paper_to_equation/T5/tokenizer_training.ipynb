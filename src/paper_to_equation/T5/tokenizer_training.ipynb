{
 "cells": [
  {
   "cell_type": "code",
   "execution_count": 67,
   "metadata": {},
   "outputs": [],
   "source": [
    "import json\n",
    "import os\n",
    "import importlib\n",
    "import time\n",
    "import csv\n",
    "import pandas as pd\n",
    "import sentencepiece as spm\n",
    "\n",
    "from transformers import T5Tokenizer, T5TokenizerFast, PreTrainedTokenizerFast, AutoTokenizer\n",
    "from tokenizers import decoders, models, normalizers, pre_tokenizers, processors, trainers, Tokenizer, Regex\n",
    "from tokenizers.normalizers import NFKC, Sequence\n",
    "from tokenizers.pre_tokenizers import Metaspace, Split, WhitespaceSplit\n",
    "from tokenizers.processors import TemplateProcessing\n",
    "from huggingface_hub import login\n",
    "from datasets import load_dataset\n",
    "\n",
    "import re\n",
    "import src.paper_to_equation.Generation.Equation_BaseDataset \n"
   ]
  },
  {
   "cell_type": "code",
   "execution_count": 2,
   "metadata": {},
   "outputs": [],
   "source": [
    "importlib.reload(src.paper_to_equation.Generation.Equation_BaseDataset)\n",
    "from src.paper_to_equation.Generation.Equation_BaseDataset import BaseDataset"
   ]
  },
  {
   "cell_type": "markdown",
   "metadata": {},
   "source": [
    "Confirming the default tokenizer is unsuitable"
   ]
  },
  {
   "cell_type": "code",
   "execution_count": 20,
   "metadata": {},
   "outputs": [
    {
     "name": "stdout",
     "output_type": "stream",
     "text": [
      "Hello World</s>\n"
     ]
    }
   ],
   "source": [
    "tokenizer = T5Tokenizer.from_pretrained(\"t5-base\")\n",
    "\n",
    "mml = \"\"\"\n",
    "<mml:mi>h</mml:mi>\n",
    "<mml:mo>=</mml:mo>\n",
    "<mml:mrow>\n",
    "<mml:msub>\n",
    "<mml:mi>h</mml:mi>\n",
    "<mml:mi>c</mml:mi>\n",
    "</mml:msub>\n",
    "<mml:mo>+</mml:mo>\n",
    "<mml:msub>\n",
    "<mml:mi>h</mml:mi>\n",
    "<mml:mi>g</mml:mi>\n",
    "</mml:msub>\n",
    "</mml:mrow>\n",
    "  \"\"\"\n",
    "\n",
    "py = \"\"\"\n",
    "h = Symbol('h')\n",
    "h_g = Symbol('h_g')\n",
    "h_c = Symbol('h_c')\n",
    "e = Eq(h, h_g + h_c)\"\"\"\n",
    "\n",
    "test = \"Hello\\nWorld\"\n",
    "\n",
    "tokens = tokenizer.encode(test)\n",
    "print(tokenizer.decode(tokens))\n"
   ]
  },
  {
   "cell_type": "markdown",
   "metadata": {},
   "source": [
    "Dataset class"
   ]
  },
  {
   "cell_type": "code",
   "execution_count": 3,
   "metadata": {},
   "outputs": [],
   "source": [
    "class TokenizerDataset(BaseDataset):\n",
    "    def __init__(self, num):\n",
    "        super().__init__(num)\n",
    "\n",
    "    def get_columns(self):\n",
    "        return [\"mathml\", \"python\"]\n",
    "\n",
    "    def map_atomic_tokens(self, dataset):\n",
    "\n",
    "        tag_map = {\"<mml:mo>\": \"<MO>\", \"</mml:mo>\": \"</MO>\",\n",
    "                   \"<mml:mi>\": \"<MI>\", \"</mml:mi>\": \"</MI>\",\n",
    "                   \"<mml:msub>\": \"<MSUB>\", \"</mml:msub>\": \"</MSUB>\",\n",
    "                   \"<mml:msup>\": \"<MSUP>\", \"</mml:msup>\": \"</MSUP>\",\n",
    "                   \"<mml:mrow>\": \"<MROW>\", \"</mml:mrow>\": \"</MROW>\", \n",
    "                   \"<mml:mfrac>\": \"<MFRAC>\", \"</mml:mfrac>\": \"</MFRAC>\"}\n",
    "        \n",
    "        for entry in dataset:\n",
    "            mathml = entry[\"mathml\"]\n",
    "            for tag, token in tag_map.items():\n",
    "                mathml = mathml.replace(tag, token)\n",
    "            entry[\"mathml\"] = mathml\n",
    "        \n",
    "        return dataset\n",
    "    \n",
    "    def get_tag_list(self):\n",
    "        return [\"<mml:mo>\", \"</mml:mo>\",\n",
    "                \"<mml:mi>\", \"</mml:mi>\",\n",
    "                \"<mml:msub>\", \"</mml:msub>\",\n",
    "                \"<mml:msup>\", \"</mml:msup>\",\n",
    "                \"<mml:mrow>\", \"</mml:mrow>\",\n",
    "                \"<mml:mfrac>\", \"</mml:mfrac>\",\n",
    "                \"<mml:mtext>\", \"</mml:mtext>\"]\n",
    "    \n",
    "    def extract_tags(self, data):\n",
    "        tags = set()\n",
    "        for entry in data:\n",
    "            mathml = entry[\"mathml\"]\n",
    "            found_tags = re.findall(r\"<\\s*[/]?[a-zA-Z0-9]+[^>]*>\", mathml)  # Extract full tags\n",
    "            tags.update(found_tags)  # Append to set\n",
    "\n",
    "        return list(tags)\n",
    "        \n",
    "    def data_iterator(self, batch_size):\n",
    "        columns = self.get_columns()\n",
    "        for i in range(0, len(self.dataset), batch_size):\n",
    "            yield [f\"{data[columns[0]]} {data[columns[1]]} \"for data in self.dataset[i:i+batch_size]]  "
   ]
  },
  {
   "cell_type": "markdown",
   "metadata": {},
   "source": [
    "Class method (unsuccessful)"
   ]
  },
  {
   "cell_type": "code",
   "execution_count": 3,
   "metadata": {},
   "outputs": [
    {
     "ename": "TypeError",
     "evalue": "No constructor defined",
     "output_type": "error",
     "traceback": [
      "\u001b[1;31m---------------------------------------------------------------------------\u001b[0m",
      "\u001b[1;31mTypeError\u001b[0m                                 Traceback (most recent call last)",
      "Cell \u001b[1;32mIn[3], line 49\u001b[0m\n\u001b[0;32m     45\u001b[0m                 splits\u001b[38;5;241m.\u001b[39mappend((text[last_end:], last_end \u001b[38;5;241m+\u001b[39m offset))\n\u001b[0;32m     47\u001b[0m         \u001b[38;5;28;01mreturn\u001b[39;00m splits\n\u001b[1;32m---> 49\u001b[0m x \u001b[38;5;241m=\u001b[39m MathMLPyTokenizer()\n\u001b[0;32m     51\u001b[0m tokens \u001b[38;5;241m=\u001b[39m tokenizer\u001b[38;5;241m.\u001b[39mtokenize(mml)\n\u001b[0;32m     52\u001b[0m \u001b[38;5;28mprint\u001b[39m(tokens)\n",
      "\u001b[1;31mTypeError\u001b[0m: No constructor defined"
     ]
    }
   ],
   "source": [
    "tokenizer = Tokenizer(models.BPE())                  \n",
    "\n",
    "class MathMLPyTokenizer(pre_tokenizers.PreTokenizer):\n",
    "    def __init__(self):\n",
    "        pass\n",
    "    \n",
    "    def pre_tokenize(self, data):\n",
    "        \n",
    "        patterns = [\n",
    "            # HTML/XML tags\n",
    "            r'<[^>]+>',\n",
    "            # Python string literals\n",
    "            r'\"\"\"[^\"]*\"\"\"', r\"'''[^']*'''\", r'\"[^\"]*\"', r\"'[^']*'\",\n",
    "            # Python keywords and operators\n",
    "            r'\\bdef\\b', r'\\bclass\\b', r'\\bfor\\b', r'\\bwhile\\b', r'\\bif\\b', r'\\belif\\b', r'\\belse\\b',\n",
    "            r'\\breturn\\b', r'\\bimport\\b', r'\\bfrom\\b', r'\\bas\\b', r'\\bwith\\b', r'\\btry\\b', r'\\bexcept\\b',\n",
    "            # Common Python syntax elements\n",
    "            r'==', r'!=', r'<=', r'>=', r'\\+=', r'-=', r'\\*=', r'/=', \n",
    "            r'=>', r'->',  # Function type hints and lambdas\n",
    "            r'\\bSymbol\\b', r'\\bEq\\b', r'\\bexp\\b', r'\\bsin\\b', r'\\bcos\\b', r'\\btan\\b', r'\\bdiff\\b',\n",
    "            \n",
    "            # Indentation (important for Python)\n",
    "            r'^\\s+'\n",
    "        ]\n",
    "\n",
    "        combined_pattern = '|'.join(f'({p})' for p in patterns)\n",
    "        regex = re.compile(combined_pattern, re.MULTILINE)\n",
    "        \n",
    "        splits = []\n",
    "        for text, offset in data:\n",
    "            last_end = 0\n",
    "            for match in regex.finditer(text):\n",
    "                start, end = match.span()\n",
    "                \n",
    "                if start > last_end:\n",
    "                    # Add text before the special token\n",
    "                    splits.append((text[last_end:start], last_end + offset))\n",
    "                \n",
    "                # Add the special token as a whole\n",
    "                splits.append((text[start:end], start + offset))\n",
    "                last_end = end\n",
    "            \n",
    "            if last_end < len(text):\n",
    "                # Add remaining text\n",
    "                splits.append((text[last_end:], last_end + offset))\n",
    "                \n",
    "        return splits\n",
    "\n",
    "x = MathMLPyTokenizer()\n",
    "\n",
    "tokens = tokenizer.tokenize(mml)\n",
    "print(tokens)\n"
   ]
  },
  {
   "cell_type": "markdown",
   "metadata": {},
   "source": [
    "Dataset creation timing"
   ]
  },
  {
   "cell_type": "code",
   "execution_count": 17,
   "metadata": {},
   "outputs": [
    {
     "name": "stderr",
     "output_type": "stream",
     "text": [
      "Generating dataset: 100%|██████████| 10000/10000 [01:39<00:00, 100.33it/s]\n",
      "Generating dataset:  92%|█████████▏| 9223/10000 [01:28<00:07, 104.64it/s] "
     ]
    },
    {
     "name": "stdout",
     "output_type": "stream",
     "text": [
      "Time 1:  99.67798781394958\n",
      "Time 2:  90.23344993591309\n"
     ]
    },
    {
     "name": "stderr",
     "output_type": "stream",
     "text": [
      "\n"
     ]
    }
   ],
   "source": [
    "if __name__ == \"__main__\":\n",
    "    start1 = time.time()\n",
    "    td1 = TokenizerDataset(10000)\n",
    "    td1.create_dataset()\n",
    "    end1 = time.time()\n",
    "\n",
    "    start2 = time.time()\n",
    "    td2 = TokenizerDataset(10000)\n",
    "    td2.create_dataset_mthread()\n",
    "    end2 = time.time()\n",
    "\n",
    "    print(\"Time 1: \", end1 - start1)\n",
    "    print(\"Time 2: \", end2 - start2)"
   ]
  },
  {
   "cell_type": "code",
   "execution_count": 57,
   "metadata": {},
   "outputs": [
    {
     "name": "stderr",
     "output_type": "stream",
     "text": [
      "Generating dataset: 100%|██████████| 10000/10000 [03:39<00:00, 45.54it/s]\n"
     ]
    },
    {
     "name": "stdout",
     "output_type": "stream",
     "text": [
      "10000\n"
     ]
    }
   ],
   "source": [
    "td = TokenizerDataset(10000)\n",
    "td.create(filepath=\"Tokenizer_Files/TokenizerDataset.csv\")\n",
    "print(len(td.dataset))\n",
    "data_iterator = td.data_iterator(1000)"
   ]
  },
  {
   "cell_type": "code",
   "execution_count": 48,
   "metadata": {},
   "outputs": [
    {
     "name": "stdout",
     "output_type": "stream",
     "text": [
      "10000\n"
     ]
    }
   ],
   "source": [
    "td = TokenizerDataset(10000)\n",
    "td.load_csv(\"Tokenizer_Files/TokenizerDataset.csv\")\n",
    "data_iterator = td.data_iterator(1000)\n",
    "print(len(td.dataset))"
   ]
  },
  {
   "cell_type": "markdown",
   "metadata": {},
   "source": [
    "Training"
   ]
  },
  {
   "cell_type": "code",
   "execution_count": 49,
   "metadata": {},
   "outputs": [],
   "source": [
    "# tokenizer = Tokenizer(models.BPE(unk_token=\"[UNK]\")) # BPE tokenizer\n",
    "tokenizer = Tokenizer(models.Unigram()) # Unigram tokenizer\n",
    "\n",
    "text_patterns = [ # Patterns to split on, ensuring that the tags are kept intact\n",
    "            r'<[^>]+>', # MathML tags\n",
    "            r'\"\"\"[^\"]*\"\"\"', r\"'''[^']*'''\", r'\"[^\"]*\"', r\"'[^']*'\", # Python string literals    \n",
    "            r'\\bdef\\b', r'\\bclass\\b', r'\\bfor\\b', r'\\bwhile\\b', r'\\bif\\b', r'\\belif\\b', r'\\belse\\b', # Python keywords and operators\n",
    "            r'\\breturn\\b', r'\\bimport\\b', r'\\bfrom\\b', r'\\bas\\b', r'\\bwith\\b', r'\\btry\\b', r'\\bexcept\\b',\n",
    "            r'==', r'!=', r'<=', r'>=', r'\\+=', r'-=', r'\\*=', r'/=', # Common Python syntax elements \n",
    "            r'=>', r'->', # Function type hints and lambdas\n",
    "            r'\\bSymbol\\b', r'\\bEq\\b', r'\\bexp\\b', r'\\bsin\\b', r'\\bcos\\b', r'\\btan\\b', r'\\bdiff\\b', # MathML \n",
    "            r'^\\s+', # Indentation (important for Python)\n",
    "            r'\\s+' # Whitespace\n",
    "        ]\n",
    "\n",
    "pattern = '|'.join(text_patterns) # Set up the pre-tokenizer using Split with pattern\n",
    "split_pre_tokenizer = Split(pattern=Regex(pattern), behavior=\"isolated\")\n",
    "tokenizer.pre_tokenizer = split_pre_tokenizer\n",
    "\n",
    "tokenizer.normalizer = Sequence([NFKC()]) # Normalises unicode characters like greek letters\n",
    "# tokenizer.decoder = decoders.ByteLevel()\n",
    "\n",
    "tag_list = td.extract_tags(td.dataset)\n",
    "sympy_tags = [\"Symbol\", \"Eq\", \"exp\", \"sin\", \"cos\", \"tan\", \"diff\", \"log\", \"Sum\", \"Derivative\", \"Integral\", \"\\n\", \"\\r\"]\n",
    "prefix = [\"translate\", \"MathML\", \"to\", \"Python\", \":\"]\n",
    "# special_tokens = [\"[PAD]\", \"[BOS]\", \"[EOS]\", \"[UNK]\"] + tag_list\n",
    "custom_tokens = tag_list + sympy_tags + prefix\n",
    "special_tokens = [\"<pad>\", \"<s>\", \"</s>\", \"<unk>\"]\n",
    "\n",
    "# trainer = trainers.BpeTrainer(vocab_size=10000, special_tokens=special_tokens) # BPE Trainer\n",
    "# print(custom_tokens)\n",
    "tokenizer.add_tokens(custom_tokens)\n",
    "trainer = trainers.UnigramTrainer(vocab_size=30000, special_tokens=special_tokens) # Unigram Trainer\n",
    "tokenizer.train_from_iterator(iterator=data_iterator, trainer=trainer)\n",
    "\n",
    "tokenizer.post_processor = TemplateProcessing(\n",
    "    single=\"<s> $A </s>\", # Single sentence template\n",
    "    pair=\"<s> $A </s> $B </s>\", # Pair template\n",
    "    special_tokens=[(\"<s>\", tokenizer.token_to_id(\"<s>\")), (\"</s>\", tokenizer.token_to_id(\"</s>\"))] # Special tokens for the templates\n",
    ")"
   ]
  },
  {
   "cell_type": "code",
   "execution_count": 50,
   "metadata": {},
   "outputs": [
    {
     "name": "stdout",
     "output_type": "stream",
     "text": [
      "The token has not been saved to the git credentials helper. Pass `add_to_git_credential=True` in this function directly or `--add-to-git-credential` if using via `huggingface-cli` if you want to set the git credential as well.\n",
      "Token is valid (permission: write).\n",
      "Your token has been saved to C:\\Users\\kyanj\\.cache\\huggingface\\token\n",
      "Login successful\n"
     ]
    }
   ],
   "source": [
    "hf_login_key = os.environ.get(\"HF_LOGIN_KEY\")\n",
    "login(token=hf_login_key)"
   ]
  },
  {
   "cell_type": "code",
   "execution_count": 51,
   "metadata": {},
   "outputs": [],
   "source": [
    "tokenizer.save(\"Tokenizer_Files/mathml-py-tokenizer-unigram-v3.json\")"
   ]
  },
  {
   "cell_type": "code",
   "execution_count": 52,
   "metadata": {},
   "outputs": [
    {
     "data": {
      "text/plain": [
       "('Tokenizer_Files/mathml-py-tokenizer-unigram-T5wrapped-v3\\\\tokenizer_config.json',\n",
       " 'Tokenizer_Files/mathml-py-tokenizer-unigram-T5wrapped-v3\\\\special_tokens_map.json',\n",
       " 'Tokenizer_Files/mathml-py-tokenizer-unigram-T5wrapped-v3\\\\tokenizer.json')"
      ]
     },
     "execution_count": 52,
     "metadata": {},
     "output_type": "execute_result"
    }
   ],
   "source": [
    "tokenizer = T5TokenizerFast(\n",
    "    tokenizer_file=\"Tokenizer_Files/mathml-py-tokenizer-unigram-v3.json\",\n",
    "    unk_token=\"<unk>\",\n",
    "    bos_token=\"<s>\",\n",
    "    eos_token=\"</s>\",\n",
    "    pad_token=\"<pad>\",\n",
    ")\n",
    "\n",
    "tokenizer.save_pretrained(\"Tokenizer_Files/mathml-py-tokenizer-unigram-T5wrapped-v3\")"
   ]
  },
  {
   "cell_type": "code",
   "execution_count": 53,
   "metadata": {},
   "outputs": [
    {
     "data": {
      "text/plain": [
       "CommitInfo(commit_url='https://huggingface.co/kj821/mathml-py-tokenizer-unigram-T5wrapped-v3/commit/891645f88fc52f76ec2a415e3c09c5bf821e49d3', commit_message='Upload tokenizer', commit_description='', oid='891645f88fc52f76ec2a415e3c09c5bf821e49d3', pr_url=None, pr_revision=None, pr_num=None)"
      ]
     },
     "execution_count": 53,
     "metadata": {},
     "output_type": "execute_result"
    }
   ],
   "source": [
    "tokenizer.push_to_hub(\"mathml-py-tokenizer-unigram-T5wrapped-v3\")"
   ]
  },
  {
   "cell_type": "markdown",
   "metadata": {},
   "source": [
    "Testing"
   ]
  },
  {
   "cell_type": "code",
   "execution_count": 12,
   "metadata": {},
   "outputs": [
    {
     "ename": "AttributeError",
     "evalue": "'T5TokenizerFast' object has no attribute 'pre_tokenizer'",
     "output_type": "error",
     "traceback": [
      "\u001b[1;31m---------------------------------------------------------------------------\u001b[0m",
      "\u001b[1;31mAttributeError\u001b[0m                            Traceback (most recent call last)",
      "Cell \u001b[1;32mIn[12], line 9\u001b[0m\n\u001b[0;32m      1\u001b[0m test_text \u001b[38;5;241m=\u001b[39m \u001b[38;5;124m\"\"\"\u001b[39m\n\u001b[0;32m      2\u001b[0m \u001b[38;5;124mdef my_function(x, y): return x + y\u001b[39m\n\u001b[0;32m      3\u001b[0m \u001b[38;5;124mclass MyClass:\u001b[39m\n\u001b[1;32m   (...)\u001b[0m\n\u001b[0;32m      6\u001b[0m \u001b[38;5;124m<math><msup><mi>x</mi><mn>2</mn></msup></math>\u001b[39m\n\u001b[0;32m      7\u001b[0m \u001b[38;5;124m\"\"\"\u001b[39m\n\u001b[1;32m----> 9\u001b[0m check \u001b[38;5;241m=\u001b[39m \u001b[43mtokenizer\u001b[49m\u001b[38;5;241;43m.\u001b[39;49m\u001b[43mpre_tokenizer\u001b[49m\u001b[38;5;241m.\u001b[39mpre_tokenize_str(td\u001b[38;5;241m.\u001b[39mdataset[\u001b[38;5;241m0\u001b[39m][\u001b[38;5;124m\"\u001b[39m\u001b[38;5;124mpython\u001b[39m\u001b[38;5;124m\"\u001b[39m])\n\u001b[0;32m     10\u001b[0m \u001b[38;5;28mprint\u001b[39m(check)\n\u001b[0;32m     11\u001b[0m output \u001b[38;5;241m=\u001b[39m tokenizer\u001b[38;5;241m.\u001b[39mencode(test_text)\n",
      "\u001b[1;31mAttributeError\u001b[0m: 'T5TokenizerFast' object has no attribute 'pre_tokenizer'"
     ]
    }
   ],
   "source": [
    "test_text = \"\"\"\n",
    "def my_function(x, y): return x + y\n",
    "class MyClass:\n",
    "    def method(self): pass\n",
    "import numpy as np\n",
    "<math><msup><mi>x</mi><mn>2</mn></msup></math>\n",
    "\"\"\"\n",
    "\n",
    "check = tokenizer.pre_tokenizer.pre_tokenize_str(td.dataset[0][\"python\"])\n",
    "print(check)\n",
    "output = tokenizer.encode(test_text)\n",
    "print(tokenizer.decode(output.ids))"
   ]
  },
  {
   "cell_type": "code",
   "execution_count": null,
   "metadata": {},
   "outputs": [
    {
     "name": "stdout",
     "output_type": "stream",
     "text": [
      "  e l l o \n",
      " W o r l d\n"
     ]
    }
   ],
   "source": [
    "tokenizer = AutoTokenizer.from_pretrained(\"Tokenizer_Files/mathml-py-tokenizer-unigram-T5wrapped-v3\")\n",
    "\n",
    "data_files = {\"train\": \"Data/t5_train_2.csv\", \"validation\": \"Data/t5_validation_2.csv\", \"test\": \"Data/t5_test_2.csv\"}\n",
    "mml_py_dataset = load_dataset(\"csv\", data_files=data_files)\n",
    "\n",
    "# output_mathml = tokenizer.encode(td.dataset[0][\"mathml\"])\n",
    "# output_py = tokenizer.encode(td.dataset[0][\"python\"])\n",
    "# print(output_py.tokens)\n",
    "# print(output_py.tokens)\n",
    "# print(output_py.ids)\n",
    "# print(tokenizer.decode(output_py.ids))\n",
    "# output_test = tokenizer.encode(td)\n",
    "# print(tokenizer.tokenize(td.dataset[0][\"mathml\"]))\n",
    "\n",
    "# print(tokenizer.tokenize(check))\n",
    "data = mml_py_dataset[\"train\"][0][\"MathML\"]\n",
    "# print(check)\n",
    "\n",
    "\n",
    "\n",
    "# print(repr(data))\n",
    "# print(repr(check))\n",
    "# print(tokenizer.encode(data).tokens)\n",
    "ids = tokenizer.encode(\"Hello\\r\\nWorld\")\n",
    "print(tokenizer.decode(ids))\n"
   ]
  },
  {
   "cell_type": "code",
   "execution_count": 80,
   "metadata": {},
   "outputs": [
    {
     "name": "stdout",
     "output_type": "stream",
     "text": [
      "<mml:msub><mml:mi>N</mml:mi>\n",
      "[5, 24, 46, 167, 27, 2]\n",
      "<mml:msub><mml:mi> N</mml:mi></s>\n"
     ]
    }
   ],
   "source": [
    "# tokenizer = AutoTokenizer.from_pretrained(\"Tokenizer_Files/mathml-py-tokenizer-unigram-T5wrapped-v3\")\n",
    "tokenizer = T5TokenizerFast.from_pretrained(\"kj821/mathml-py-tokenizer-sentencepiece-v1\")\n",
    "\n",
    "data_files = {\"train\": \"Data/t5_train_2.csv\", \"validation\": \"Data/t5_validation_2.csv\", \"test\": \"Data/t5_test_2.csv\"}\n",
    "mml_py_dataset = load_dataset(\"csv\", data_files=data_files)\n",
    "data = mml_py_dataset[\"train\"][0][\"MathML\"]\n",
    "data = \"<mml:msub><mml:mi>N</mml:mi>\"\n",
    "# data = \"<mml:mi>h</mml:mi>\"\n",
    "print(data)\n",
    "\n",
    "# Tokenize it\n",
    "encodings = tokenizer.encode(data)\n",
    "print(encodings)\n",
    "\n",
    "# Print token IDs\n",
    "\n",
    "\n",
    "# Decode without skipping special tokens\n",
    "decoded = tokenizer.decode(encodings, skip_special_tokens=False)\n",
    "print(decoded)\n",
    "\n",
    "# # Decode with skipping special tokens (normal inference behavior)\n",
    "# decoded_skipped = tokenizer.decode(encodings, skip_special_tokens=True)\n",
    "# print(\"Decoded (skip special tokens):\", decoded_skipped)\n"
   ]
  },
  {
   "cell_type": "markdown",
   "metadata": {},
   "source": [
    "### SentencePiece Tokenizer"
   ]
  },
  {
   "cell_type": "code",
   "execution_count": 69,
   "metadata": {},
   "outputs": [],
   "source": [
    "# Load CSV\n",
    "df = pd.read_csv(\"Tokenizer_Files/TokenizerDataset.csv\")\n",
    "\n",
    "# Flatten MathML and Python\n",
    "def flatten(text):\n",
    "    return str(text).replace(\"\\n\", \" \").replace(\"\\r\", \" \").strip()\n",
    "\n",
    "mathml_texts = [flatten(item) for item in df[\"mathml\"]]\n",
    "python_texts = [flatten(item) for item in df[\"python\"]]\n",
    "\n",
    "# Write alternating MathML and Python lines\n",
    "with open(\"Tokenizer_Files/TokenizerCorpus.txt\", \"w\", encoding=\"utf-8\") as f:\n",
    "    for mathml, python in zip(mathml_texts, python_texts):\n",
    "        f.write(mathml + \"\\n\")\n",
    "        f.write(python + \"\\n\")\n"
   ]
  },
  {
   "cell_type": "code",
   "execution_count": 74,
   "metadata": {},
   "outputs": [],
   "source": [
    "model_prefix = \"Tokenizer_Files/spm-mathml-py-tokenizer/tokenizer_v1\"\n",
    "vocab_size = 3800\n",
    "character_coverage = 1.0\n",
    "model_type = \"unigram\"\n",
    "\n",
    "td.load_csv(\"Tokenizer_Files/TokenizerDataset.csv\")\n",
    "tag_list = td.extract_tags(td.dataset)\n",
    "sympy_tags = [\"Symbol\", \"Eq\", \"exp\", \"sin\", \"cos\", \"tan\", \"diff\", \"log\", \"Sum\", \"Derivative\", \"Integral\", \"\\n\", \"\\r\"]\n",
    "prefix = [\"translate\", \"MathML\", \"to\", \"Python\", \":\"]\n",
    "user_defined_symbols = tag_list + sympy_tags + prefix\n",
    "special_tokens = [\"<pad>\", \"<s>\", \"</s>\", \"<unk>\"]\n",
    "\n",
    "spm.SentencePieceTrainer.Train(\n",
    "    input=\"Tokenizer_Files/TokenizerCorpus.txt\",\n",
    "    model_prefix=model_prefix,\n",
    "    vocab_size=vocab_size,\n",
    "    character_coverage=character_coverage,\n",
    "    model_type=model_type,\n",
    "    user_defined_symbols=user_defined_symbols,\n",
    "    pad_id=0,\n",
    "    bos_id=1,\n",
    "    eos_id=2,\n",
    "    unk_id=3,\n",
    "    control_symbols=[\"<s>\", \"</s>\"],\n",
    ")\n",
    "\n"
   ]
  },
  {
   "cell_type": "code",
   "execution_count": 75,
   "metadata": {},
   "outputs": [],
   "source": [
    "tokenizer_config = {\n",
    "    \"model_max_length\": 512,\n",
    "    \"unk_token\": \"<unk>\",\n",
    "    \"pad_token\": \"<pad>\",\n",
    "    \"bos_token\": \"<s>\",\n",
    "    \"eos_token\": \"</s>\",\n",
    "}\n",
    "\n",
    "special_tokens_map = {\n",
    "    \"unk_token\": \"<unk>\",\n",
    "    \"pad_token\": \"<pad>\",\n",
    "    \"bos_token\": \"<s>\",\n",
    "    \"eos_token\": \"</s>\",\n",
    "}\n",
    "\n",
    "with open(\"Tokenizer_Files/spm-mathml-py-tokenizer/tokenizer_config.json\", \"w\") as f:\n",
    "    json.dump(tokenizer_config, f, indent=4)\n",
    "\n",
    "with open(\"Tokenizer_Files/spm-mathml-py-tokenizer/special_tokens_map.json\", \"w\") as f:\n",
    "    json.dump(special_tokens_map, f, indent=4)\n",
    "    "
   ]
  },
  {
   "cell_type": "code",
   "execution_count": 82,
   "metadata": {},
   "outputs": [
    {
     "data": {
      "text/plain": [
       "('Tokenizer_Files/spm-mathml-py-tokenizer\\\\tokenizer_config.json',\n",
       " 'Tokenizer_Files/spm-mathml-py-tokenizer\\\\special_tokens_map.json',\n",
       " 'Tokenizer_Files/spm-mathml-py-tokenizer\\\\spiece.model',\n",
       " 'Tokenizer_Files/spm-mathml-py-tokenizer\\\\added_tokens.json')"
      ]
     },
     "execution_count": 82,
     "metadata": {},
     "output_type": "execute_result"
    }
   ],
   "source": [
    "tokenizer = T5Tokenizer(\n",
    "    vocab_file=\"Tokenizer_Files/spm-mathml-py-tokenizer/tokenizer_v1.model\",\n",
    "    unk_token=\"<unk>\",\n",
    "    pad_token=\"<pad>\",\n",
    "    bos_token=\"<s>\",\n",
    "    eos_token=\"</s>\",\n",
    ")\n",
    "\n",
    "tokenizer.save_pretrained(\"Tokenizer_Files/spm-mathml-py-tokenizer\")"
   ]
  },
  {
   "cell_type": "code",
   "execution_count": 83,
   "metadata": {},
   "outputs": [
    {
     "data": {
      "text/plain": [
       "CommitInfo(commit_url='https://huggingface.co/kj821/mathml-py-tokenizer-sentencepiece-v1/commit/60b6b568a89ebf47807706ea71b6a8c741a0f01d', commit_message='Upload tokenizer', commit_description='', oid='60b6b568a89ebf47807706ea71b6a8c741a0f01d', pr_url=None, pr_revision=None, pr_num=None)"
      ]
     },
     "execution_count": 83,
     "metadata": {},
     "output_type": "execute_result"
    }
   ],
   "source": [
    "tokenizer.push_to_hub(\"mathml-py-tokenizer-sentencepiece-v1\")"
   ]
  },
  {
   "cell_type": "code",
   "execution_count": 87,
   "metadata": {},
   "outputs": [
    {
     "name": "stdout",
     "output_type": "stream",
     "text": [
      "Error importing huggingface_hub._snapshot_download: cannot import name 'GatedRepoError' from 'huggingface_hub.errors' (c:\\Users\\kyanj\\anaconda3\\envs\\fyp_env\\Lib\\site-packages\\huggingface_hub\\errors.py)\n"
     ]
    },
    {
     "ename": "ImportError",
     "evalue": "cannot import name 'GatedRepoError' from 'huggingface_hub.errors' (c:\\Users\\kyanj\\anaconda3\\envs\\fyp_env\\Lib\\site-packages\\huggingface_hub\\errors.py)",
     "output_type": "error",
     "traceback": [
      "\u001b[1;31m---------------------------------------------------------------------------\u001b[0m",
      "\u001b[1;31mImportError\u001b[0m                               Traceback (most recent call last)",
      "Cell \u001b[1;32mIn[87], line 1\u001b[0m\n\u001b[1;32m----> 1\u001b[0m \u001b[38;5;28;01mfrom\u001b[39;00m \u001b[38;5;21;01mpeft\u001b[39;00m \u001b[38;5;28;01mimport\u001b[39;00m LoraConfig\n",
      "File \u001b[1;32mc:\\Users\\kyanj\\anaconda3\\envs\\fyp_env\\Lib\\site-packages\\peft\\__init__.py:17\u001b[0m\n\u001b[0;32m      1\u001b[0m \u001b[38;5;66;03m# Copyright 2023-present the HuggingFace Inc. team.\u001b[39;00m\n\u001b[0;32m      2\u001b[0m \u001b[38;5;66;03m#\u001b[39;00m\n\u001b[0;32m      3\u001b[0m \u001b[38;5;66;03m# Licensed under the Apache License, Version 2.0 (the \"License\");\u001b[39;00m\n\u001b[1;32m   (...)\u001b[0m\n\u001b[0;32m     12\u001b[0m \u001b[38;5;66;03m# See the License for the specific language governing permissions and\u001b[39;00m\n\u001b[0;32m     13\u001b[0m \u001b[38;5;66;03m# limitations under the License.\u001b[39;00m\n\u001b[0;32m     15\u001b[0m __version__ \u001b[38;5;241m=\u001b[39m \u001b[38;5;124m\"\u001b[39m\u001b[38;5;124m0.15.1\u001b[39m\u001b[38;5;124m\"\u001b[39m\n\u001b[1;32m---> 17\u001b[0m \u001b[38;5;28;01mfrom\u001b[39;00m \u001b[38;5;21;01m.\u001b[39;00m\u001b[38;5;21;01mauto\u001b[39;00m \u001b[38;5;28;01mimport\u001b[39;00m (\n\u001b[0;32m     18\u001b[0m     MODEL_TYPE_TO_PEFT_MODEL_MAPPING,\n\u001b[0;32m     19\u001b[0m     AutoPeftModel,\n\u001b[0;32m     20\u001b[0m     AutoPeftModelForCausalLM,\n\u001b[0;32m     21\u001b[0m     AutoPeftModelForFeatureExtraction,\n\u001b[0;32m     22\u001b[0m     AutoPeftModelForQuestionAnswering,\n\u001b[0;32m     23\u001b[0m     AutoPeftModelForSeq2SeqLM,\n\u001b[0;32m     24\u001b[0m     AutoPeftModelForSequenceClassification,\n\u001b[0;32m     25\u001b[0m     AutoPeftModelForTokenClassification,\n\u001b[0;32m     26\u001b[0m )\n\u001b[0;32m     27\u001b[0m \u001b[38;5;28;01mfrom\u001b[39;00m \u001b[38;5;21;01m.\u001b[39;00m\u001b[38;5;21;01mconfig\u001b[39;00m \u001b[38;5;28;01mimport\u001b[39;00m PeftConfig, PromptLearningConfig\n\u001b[0;32m     28\u001b[0m \u001b[38;5;28;01mfrom\u001b[39;00m \u001b[38;5;21;01m.\u001b[39;00m\u001b[38;5;21;01mmapping\u001b[39;00m \u001b[38;5;28;01mimport\u001b[39;00m (\n\u001b[0;32m     29\u001b[0m     PEFT_TYPE_TO_CONFIG_MAPPING,\n\u001b[0;32m     30\u001b[0m     PEFT_TYPE_TO_MIXED_MODEL_MAPPING,\n\u001b[1;32m   (...)\u001b[0m\n\u001b[0;32m     33\u001b[0m     inject_adapter_in_model,\n\u001b[0;32m     34\u001b[0m )\n",
      "File \u001b[1;32mc:\\Users\\kyanj\\anaconda3\\envs\\fyp_env\\Lib\\site-packages\\peft\\auto.py:31\u001b[0m\n\u001b[0;32m     19\u001b[0m \u001b[38;5;28;01mfrom\u001b[39;00m \u001b[38;5;21;01mtyping\u001b[39;00m \u001b[38;5;28;01mimport\u001b[39;00m Optional\n\u001b[0;32m     21\u001b[0m \u001b[38;5;28;01mfrom\u001b[39;00m \u001b[38;5;21;01mtransformers\u001b[39;00m \u001b[38;5;28;01mimport\u001b[39;00m (\n\u001b[0;32m     22\u001b[0m     AutoModel,\n\u001b[0;32m     23\u001b[0m     AutoModelForCausalLM,\n\u001b[1;32m   (...)\u001b[0m\n\u001b[0;32m     28\u001b[0m     AutoTokenizer,\n\u001b[0;32m     29\u001b[0m )\n\u001b[1;32m---> 31\u001b[0m \u001b[38;5;28;01mfrom\u001b[39;00m \u001b[38;5;21;01m.\u001b[39;00m\u001b[38;5;21;01mconfig\u001b[39;00m \u001b[38;5;28;01mimport\u001b[39;00m PeftConfig\n\u001b[0;32m     32\u001b[0m \u001b[38;5;28;01mfrom\u001b[39;00m \u001b[38;5;21;01m.\u001b[39;00m\u001b[38;5;21;01mpeft_model\u001b[39;00m \u001b[38;5;28;01mimport\u001b[39;00m (\n\u001b[0;32m     33\u001b[0m     PeftModel,\n\u001b[0;32m     34\u001b[0m     PeftModelForCausalLM,\n\u001b[1;32m   (...)\u001b[0m\n\u001b[0;32m     39\u001b[0m     PeftModelForTokenClassification,\n\u001b[0;32m     40\u001b[0m )\n\u001b[0;32m     41\u001b[0m \u001b[38;5;28;01mfrom\u001b[39;00m \u001b[38;5;21;01m.\u001b[39;00m\u001b[38;5;21;01mutils\u001b[39;00m\u001b[38;5;21;01m.\u001b[39;00m\u001b[38;5;21;01mconstants\u001b[39;00m \u001b[38;5;28;01mimport\u001b[39;00m TOKENIZER_CONFIG_NAME\n",
      "File \u001b[1;32mc:\\Users\\kyanj\\anaconda3\\envs\\fyp_env\\Lib\\site-packages\\peft\\config.py:24\u001b[0m\n\u001b[0;32m     21\u001b[0m \u001b[38;5;28;01mfrom\u001b[39;00m \u001b[38;5;21;01mhuggingface_hub\u001b[39;00m \u001b[38;5;28;01mimport\u001b[39;00m hf_hub_download\n\u001b[0;32m     22\u001b[0m \u001b[38;5;28;01mfrom\u001b[39;00m \u001b[38;5;21;01mtransformers\u001b[39;00m\u001b[38;5;21;01m.\u001b[39;00m\u001b[38;5;21;01mutils\u001b[39;00m \u001b[38;5;28;01mimport\u001b[39;00m PushToHubMixin\n\u001b[1;32m---> 24\u001b[0m \u001b[38;5;28;01mfrom\u001b[39;00m \u001b[38;5;21;01m.\u001b[39;00m\u001b[38;5;21;01mutils\u001b[39;00m \u001b[38;5;28;01mimport\u001b[39;00m CONFIG_NAME, PeftType, TaskType\n\u001b[0;32m     27\u001b[0m \u001b[38;5;66;03m# we expect at least these keys to be present in a PEFT adapter_config.json\u001b[39;00m\n\u001b[0;32m     28\u001b[0m MIN_EXPECTED_CONFIG_KEYS \u001b[38;5;241m=\u001b[39m {\u001b[38;5;124m\"\u001b[39m\u001b[38;5;124mpeft_type\u001b[39m\u001b[38;5;124m\"\u001b[39m}\n",
      "File \u001b[1;32mc:\\Users\\kyanj\\anaconda3\\envs\\fyp_env\\Lib\\site-packages\\peft\\utils\\__init__.py:16\u001b[0m\n\u001b[0;32m      1\u001b[0m \u001b[38;5;66;03m# Copyright 2023-present the HuggingFace Inc. team.\u001b[39;00m\n\u001b[0;32m      2\u001b[0m \u001b[38;5;66;03m#\u001b[39;00m\n\u001b[0;32m      3\u001b[0m \u001b[38;5;66;03m# Licensed under the Apache License, Version 2.0 (the \"License\");\u001b[39;00m\n\u001b[1;32m   (...)\u001b[0m\n\u001b[0;32m     12\u001b[0m \u001b[38;5;66;03m# See the License for the specific language governing permissions and\u001b[39;00m\n\u001b[0;32m     13\u001b[0m \u001b[38;5;66;03m# limitations under the License.\u001b[39;00m\n\u001b[0;32m     15\u001b[0m \u001b[38;5;28;01mfrom\u001b[39;00m \u001b[38;5;21;01m.\u001b[39;00m\u001b[38;5;21;01mintegrations\u001b[39;00m \u001b[38;5;28;01mimport\u001b[39;00m map_cache_to_layer_device_map\n\u001b[1;32m---> 16\u001b[0m \u001b[38;5;28;01mfrom\u001b[39;00m \u001b[38;5;21;01m.\u001b[39;00m\u001b[38;5;21;01mloftq_utils\u001b[39;00m \u001b[38;5;28;01mimport\u001b[39;00m replace_lora_weights_loftq\n\u001b[0;32m     17\u001b[0m \u001b[38;5;28;01mfrom\u001b[39;00m \u001b[38;5;21;01m.\u001b[39;00m\u001b[38;5;21;01mother\u001b[39;00m \u001b[38;5;28;01mimport\u001b[39;00m (\n\u001b[0;32m     18\u001b[0m     CONFIG_NAME,\n\u001b[0;32m     19\u001b[0m     INCLUDE_LINEAR_LAYERS_SHORTHAND,\n\u001b[1;32m   (...)\u001b[0m\n\u001b[0;32m     50\u001b[0m     transpose,\n\u001b[0;32m     51\u001b[0m )\n\u001b[0;32m     52\u001b[0m \u001b[38;5;28;01mfrom\u001b[39;00m \u001b[38;5;21;01m.\u001b[39;00m\u001b[38;5;21;01mpeft_types\u001b[39;00m \u001b[38;5;28;01mimport\u001b[39;00m PeftType, TaskType, register_peft_method\n",
      "File \u001b[1;32mc:\\Users\\kyanj\\anaconda3\\envs\\fyp_env\\Lib\\site-packages\\peft\\utils\\loftq_utils.py:26\u001b[0m\n\u001b[0;32m     24\u001b[0m \u001b[38;5;28;01mimport\u001b[39;00m \u001b[38;5;21;01mtorch\u001b[39;00m\n\u001b[0;32m     25\u001b[0m \u001b[38;5;28;01mfrom\u001b[39;00m \u001b[38;5;21;01maccelerate\u001b[39;00m\u001b[38;5;21;01m.\u001b[39;00m\u001b[38;5;21;01mutils\u001b[39;00m\u001b[38;5;21;01m.\u001b[39;00m\u001b[38;5;21;01mmemory\u001b[39;00m \u001b[38;5;28;01mimport\u001b[39;00m clear_device_cache\n\u001b[1;32m---> 26\u001b[0m \u001b[38;5;28;01mfrom\u001b[39;00m \u001b[38;5;21;01mhuggingface_hub\u001b[39;00m \u001b[38;5;28;01mimport\u001b[39;00m snapshot_download\n\u001b[0;32m     27\u001b[0m \u001b[38;5;28;01mfrom\u001b[39;00m \u001b[38;5;21;01mhuggingface_hub\u001b[39;00m\u001b[38;5;21;01m.\u001b[39;00m\u001b[38;5;21;01merrors\u001b[39;00m \u001b[38;5;28;01mimport\u001b[39;00m HFValidationError, LocalEntryNotFoundError\n\u001b[0;32m     28\u001b[0m \u001b[38;5;28;01mfrom\u001b[39;00m \u001b[38;5;21;01msafetensors\u001b[39;00m \u001b[38;5;28;01mimport\u001b[39;00m SafetensorError, safe_open\n",
      "File \u001b[1;32mc:\\Users\\kyanj\\anaconda3\\envs\\fyp_env\\Lib\\site-packages\\huggingface_hub\\__init__.py:520\u001b[0m, in \u001b[0;36m__getattr__\u001b[1;34m(name)\u001b[0m\n\u001b[0;32m     54\u001b[0m _SUBMOD_ATTRS \u001b[38;5;241m=\u001b[39m {\n\u001b[0;32m     55\u001b[0m     \u001b[38;5;124m\"\u001b[39m\u001b[38;5;124m_commit_scheduler\u001b[39m\u001b[38;5;124m\"\u001b[39m: [\n\u001b[0;32m     56\u001b[0m         \u001b[38;5;124m\"\u001b[39m\u001b[38;5;124mCommitScheduler\u001b[39m\u001b[38;5;124m\"\u001b[39m,\n\u001b[1;32m   (...)\u001b[0m\n\u001b[0;32m    500\u001b[0m     ],\n\u001b[0;32m    501\u001b[0m }\n\u001b[0;32m    503\u001b[0m \u001b[38;5;66;03m# WARNING: __all__ is generated automatically, Any manual edit will be lost when re-generating this file !\u001b[39;00m\n\u001b[0;32m    504\u001b[0m \u001b[38;5;66;03m#\u001b[39;00m\n\u001b[0;32m    505\u001b[0m \u001b[38;5;66;03m# To update the static imports, please run the following command and commit the changes.\u001b[39;00m\n\u001b[1;32m   (...)\u001b[0m\n\u001b[0;32m    511\u001b[0m \u001b[38;5;66;03m# make style\u001b[39;00m\n\u001b[0;32m    512\u001b[0m \u001b[38;5;66;03m# ```\u001b[39;00m\n\u001b[0;32m    514\u001b[0m __all__ \u001b[38;5;241m=\u001b[39m [\n\u001b[0;32m    515\u001b[0m     \u001b[38;5;124m\"\u001b[39m\u001b[38;5;124mAsyncInferenceClient\u001b[39m\u001b[38;5;124m\"\u001b[39m,\n\u001b[0;32m    516\u001b[0m     \u001b[38;5;124m\"\u001b[39m\u001b[38;5;124mAudioClassificationInput\u001b[39m\u001b[38;5;124m\"\u001b[39m,\n\u001b[0;32m    517\u001b[0m     \u001b[38;5;124m\"\u001b[39m\u001b[38;5;124mAudioClassificationOutputElement\u001b[39m\u001b[38;5;124m\"\u001b[39m,\n\u001b[0;32m    518\u001b[0m     \u001b[38;5;124m\"\u001b[39m\u001b[38;5;124mAudioClassificationOutputTransform\u001b[39m\u001b[38;5;124m\"\u001b[39m,\n\u001b[0;32m    519\u001b[0m     \u001b[38;5;124m\"\u001b[39m\u001b[38;5;124mAudioClassificationParameters\u001b[39m\u001b[38;5;124m\"\u001b[39m,\n\u001b[1;32m--> 520\u001b[0m     \u001b[38;5;124m\"\u001b[39m\u001b[38;5;124mAudioToAudioInput\u001b[39m\u001b[38;5;124m\"\u001b[39m,\n\u001b[0;32m    521\u001b[0m     \u001b[38;5;124m\"\u001b[39m\u001b[38;5;124mAudioToAudioOutputElement\u001b[39m\u001b[38;5;124m\"\u001b[39m,\n\u001b[0;32m    522\u001b[0m     \u001b[38;5;124m\"\u001b[39m\u001b[38;5;124mAutomaticSpeechRecognitionEarlyStoppingEnum\u001b[39m\u001b[38;5;124m\"\u001b[39m,\n\u001b[0;32m    523\u001b[0m     \u001b[38;5;124m\"\u001b[39m\u001b[38;5;124mAutomaticSpeechRecognitionGenerationParameters\u001b[39m\u001b[38;5;124m\"\u001b[39m,\n\u001b[0;32m    524\u001b[0m     \u001b[38;5;124m\"\u001b[39m\u001b[38;5;124mAutomaticSpeechRecognitionInput\u001b[39m\u001b[38;5;124m\"\u001b[39m,\n\u001b[0;32m    525\u001b[0m     \u001b[38;5;124m\"\u001b[39m\u001b[38;5;124mAutomaticSpeechRecognitionOutput\u001b[39m\u001b[38;5;124m\"\u001b[39m,\n\u001b[0;32m    526\u001b[0m     \u001b[38;5;124m\"\u001b[39m\u001b[38;5;124mAutomaticSpeechRecognitionOutputChunk\u001b[39m\u001b[38;5;124m\"\u001b[39m,\n\u001b[0;32m    527\u001b[0m     \u001b[38;5;124m\"\u001b[39m\u001b[38;5;124mAutomaticSpeechRecognitionParameters\u001b[39m\u001b[38;5;124m\"\u001b[39m,\n\u001b[0;32m    528\u001b[0m     \u001b[38;5;124m\"\u001b[39m\u001b[38;5;124mCONFIG_NAME\u001b[39m\u001b[38;5;124m\"\u001b[39m,\n\u001b[0;32m    529\u001b[0m     \u001b[38;5;124m\"\u001b[39m\u001b[38;5;124mCacheNotFound\u001b[39m\u001b[38;5;124m\"\u001b[39m,\n\u001b[0;32m    530\u001b[0m     \u001b[38;5;124m\"\u001b[39m\u001b[38;5;124mCachedFileInfo\u001b[39m\u001b[38;5;124m\"\u001b[39m,\n\u001b[0;32m    531\u001b[0m     \u001b[38;5;124m\"\u001b[39m\u001b[38;5;124mCachedRepoInfo\u001b[39m\u001b[38;5;124m\"\u001b[39m,\n\u001b[0;32m    532\u001b[0m     \u001b[38;5;124m\"\u001b[39m\u001b[38;5;124mCachedRevisionInfo\u001b[39m\u001b[38;5;124m\"\u001b[39m,\n\u001b[0;32m    533\u001b[0m     \u001b[38;5;124m\"\u001b[39m\u001b[38;5;124mCardData\u001b[39m\u001b[38;5;124m\"\u001b[39m,\n\u001b[0;32m    534\u001b[0m     \u001b[38;5;124m\"\u001b[39m\u001b[38;5;124mChatCompletionInput\u001b[39m\u001b[38;5;124m\"\u001b[39m,\n\u001b[0;32m    535\u001b[0m     \u001b[38;5;124m\"\u001b[39m\u001b[38;5;124mChatCompletionInputFunctionDefinition\u001b[39m\u001b[38;5;124m\"\u001b[39m,\n\u001b[0;32m    536\u001b[0m     \u001b[38;5;124m\"\u001b[39m\u001b[38;5;124mChatCompletionInputFunctionName\u001b[39m\u001b[38;5;124m\"\u001b[39m,\n\u001b[0;32m    537\u001b[0m     \u001b[38;5;124m\"\u001b[39m\u001b[38;5;124mChatCompletionInputGrammarType\u001b[39m\u001b[38;5;124m\"\u001b[39m,\n\u001b[0;32m    538\u001b[0m     \u001b[38;5;124m\"\u001b[39m\u001b[38;5;124mChatCompletionInputGrammarTypeType\u001b[39m\u001b[38;5;124m\"\u001b[39m,\n\u001b[0;32m    539\u001b[0m     \u001b[38;5;124m\"\u001b[39m\u001b[38;5;124mChatCompletionInputMessage\u001b[39m\u001b[38;5;124m\"\u001b[39m,\n\u001b[0;32m    540\u001b[0m     \u001b[38;5;124m\"\u001b[39m\u001b[38;5;124mChatCompletionInputMessageChunk\u001b[39m\u001b[38;5;124m\"\u001b[39m,\n\u001b[0;32m    541\u001b[0m     \u001b[38;5;124m\"\u001b[39m\u001b[38;5;124mChatCompletionInputMessageChunkType\u001b[39m\u001b[38;5;124m\"\u001b[39m,\n\u001b[0;32m    542\u001b[0m     \u001b[38;5;124m\"\u001b[39m\u001b[38;5;124mChatCompletionInputStreamOptions\u001b[39m\u001b[38;5;124m\"\u001b[39m,\n\u001b[0;32m    543\u001b[0m     \u001b[38;5;124m\"\u001b[39m\u001b[38;5;124mChatCompletionInputTool\u001b[39m\u001b[38;5;124m\"\u001b[39m,\n\u001b[0;32m    544\u001b[0m     \u001b[38;5;124m\"\u001b[39m\u001b[38;5;124mChatCompletionInputToolCall\u001b[39m\u001b[38;5;124m\"\u001b[39m,\n\u001b[0;32m    545\u001b[0m     \u001b[38;5;124m\"\u001b[39m\u001b[38;5;124mChatCompletionInputToolChoiceClass\u001b[39m\u001b[38;5;124m\"\u001b[39m,\n\u001b[0;32m    546\u001b[0m     \u001b[38;5;124m\"\u001b[39m\u001b[38;5;124mChatCompletionInputToolChoiceEnum\u001b[39m\u001b[38;5;124m\"\u001b[39m,\n\u001b[0;32m    547\u001b[0m     \u001b[38;5;124m\"\u001b[39m\u001b[38;5;124mChatCompletionInputURL\u001b[39m\u001b[38;5;124m\"\u001b[39m,\n\u001b[0;32m    548\u001b[0m     \u001b[38;5;124m\"\u001b[39m\u001b[38;5;124mChatCompletionOutput\u001b[39m\u001b[38;5;124m\"\u001b[39m,\n\u001b[0;32m    549\u001b[0m     \u001b[38;5;124m\"\u001b[39m\u001b[38;5;124mChatCompletionOutputComplete\u001b[39m\u001b[38;5;124m\"\u001b[39m,\n\u001b[0;32m    550\u001b[0m     \u001b[38;5;124m\"\u001b[39m\u001b[38;5;124mChatCompletionOutputFunctionDefinition\u001b[39m\u001b[38;5;124m\"\u001b[39m,\n\u001b[0;32m    551\u001b[0m     \u001b[38;5;124m\"\u001b[39m\u001b[38;5;124mChatCompletionOutputLogprob\u001b[39m\u001b[38;5;124m\"\u001b[39m,\n\u001b[0;32m    552\u001b[0m     \u001b[38;5;124m\"\u001b[39m\u001b[38;5;124mChatCompletionOutputLogprobs\u001b[39m\u001b[38;5;124m\"\u001b[39m,\n\u001b[0;32m    553\u001b[0m     \u001b[38;5;124m\"\u001b[39m\u001b[38;5;124mChatCompletionOutputMessage\u001b[39m\u001b[38;5;124m\"\u001b[39m,\n\u001b[0;32m    554\u001b[0m     \u001b[38;5;124m\"\u001b[39m\u001b[38;5;124mChatCompletionOutputToolCall\u001b[39m\u001b[38;5;124m\"\u001b[39m,\n\u001b[0;32m    555\u001b[0m     \u001b[38;5;124m\"\u001b[39m\u001b[38;5;124mChatCompletionOutputTopLogprob\u001b[39m\u001b[38;5;124m\"\u001b[39m,\n\u001b[0;32m    556\u001b[0m     \u001b[38;5;124m\"\u001b[39m\u001b[38;5;124mChatCompletionOutputUsage\u001b[39m\u001b[38;5;124m\"\u001b[39m,\n\u001b[0;32m    557\u001b[0m     \u001b[38;5;124m\"\u001b[39m\u001b[38;5;124mChatCompletionStreamOutput\u001b[39m\u001b[38;5;124m\"\u001b[39m,\n\u001b[0;32m    558\u001b[0m     \u001b[38;5;124m\"\u001b[39m\u001b[38;5;124mChatCompletionStreamOutputChoice\u001b[39m\u001b[38;5;124m\"\u001b[39m,\n\u001b[0;32m    559\u001b[0m     \u001b[38;5;124m\"\u001b[39m\u001b[38;5;124mChatCompletionStreamOutputDelta\u001b[39m\u001b[38;5;124m\"\u001b[39m,\n\u001b[0;32m    560\u001b[0m     \u001b[38;5;124m\"\u001b[39m\u001b[38;5;124mChatCompletionStreamOutputDeltaToolCall\u001b[39m\u001b[38;5;124m\"\u001b[39m,\n\u001b[0;32m    561\u001b[0m     \u001b[38;5;124m\"\u001b[39m\u001b[38;5;124mChatCompletionStreamOutputFunction\u001b[39m\u001b[38;5;124m\"\u001b[39m,\n\u001b[0;32m    562\u001b[0m     \u001b[38;5;124m\"\u001b[39m\u001b[38;5;124mChatCompletionStreamOutputLogprob\u001b[39m\u001b[38;5;124m\"\u001b[39m,\n\u001b[0;32m    563\u001b[0m     \u001b[38;5;124m\"\u001b[39m\u001b[38;5;124mChatCompletionStreamOutputLogprobs\u001b[39m\u001b[38;5;124m\"\u001b[39m,\n\u001b[0;32m    564\u001b[0m     \u001b[38;5;124m\"\u001b[39m\u001b[38;5;124mChatCompletionStreamOutputTopLogprob\u001b[39m\u001b[38;5;124m\"\u001b[39m,\n\u001b[0;32m    565\u001b[0m     \u001b[38;5;124m\"\u001b[39m\u001b[38;5;124mChatCompletionStreamOutputUsage\u001b[39m\u001b[38;5;124m\"\u001b[39m,\n\u001b[0;32m    566\u001b[0m     \u001b[38;5;124m\"\u001b[39m\u001b[38;5;124mCollection\u001b[39m\u001b[38;5;124m\"\u001b[39m,\n\u001b[0;32m    567\u001b[0m     \u001b[38;5;124m\"\u001b[39m\u001b[38;5;124mCollectionItem\u001b[39m\u001b[38;5;124m\"\u001b[39m,\n\u001b[0;32m    568\u001b[0m     \u001b[38;5;124m\"\u001b[39m\u001b[38;5;124mCommitInfo\u001b[39m\u001b[38;5;124m\"\u001b[39m,\n\u001b[0;32m    569\u001b[0m     \u001b[38;5;124m\"\u001b[39m\u001b[38;5;124mCommitOperation\u001b[39m\u001b[38;5;124m\"\u001b[39m,\n\u001b[0;32m    570\u001b[0m     \u001b[38;5;124m\"\u001b[39m\u001b[38;5;124mCommitOperationAdd\u001b[39m\u001b[38;5;124m\"\u001b[39m,\n\u001b[0;32m    571\u001b[0m     \u001b[38;5;124m\"\u001b[39m\u001b[38;5;124mCommitOperationCopy\u001b[39m\u001b[38;5;124m\"\u001b[39m,\n\u001b[0;32m    572\u001b[0m     \u001b[38;5;124m\"\u001b[39m\u001b[38;5;124mCommitOperationDelete\u001b[39m\u001b[38;5;124m\"\u001b[39m,\n\u001b[0;32m    573\u001b[0m     \u001b[38;5;124m\"\u001b[39m\u001b[38;5;124mCommitScheduler\u001b[39m\u001b[38;5;124m\"\u001b[39m,\n\u001b[0;32m    574\u001b[0m     \u001b[38;5;124m\"\u001b[39m\u001b[38;5;124mCorruptedCacheException\u001b[39m\u001b[38;5;124m\"\u001b[39m,\n\u001b[0;32m    575\u001b[0m     \u001b[38;5;124m\"\u001b[39m\u001b[38;5;124mDDUFEntry\u001b[39m\u001b[38;5;124m\"\u001b[39m,\n\u001b[0;32m    576\u001b[0m     \u001b[38;5;124m\"\u001b[39m\u001b[38;5;124mDatasetCard\u001b[39m\u001b[38;5;124m\"\u001b[39m,\n\u001b[0;32m    577\u001b[0m     \u001b[38;5;124m\"\u001b[39m\u001b[38;5;124mDatasetCardData\u001b[39m\u001b[38;5;124m\"\u001b[39m,\n\u001b[0;32m    578\u001b[0m     \u001b[38;5;124m\"\u001b[39m\u001b[38;5;124mDatasetInfo\u001b[39m\u001b[38;5;124m\"\u001b[39m,\n\u001b[0;32m    579\u001b[0m     \u001b[38;5;124m\"\u001b[39m\u001b[38;5;124mDeleteCacheStrategy\u001b[39m\u001b[38;5;124m\"\u001b[39m,\n\u001b[0;32m    580\u001b[0m     \u001b[38;5;124m\"\u001b[39m\u001b[38;5;124mDepthEstimationInput\u001b[39m\u001b[38;5;124m\"\u001b[39m,\n\u001b[0;32m    581\u001b[0m     \u001b[38;5;124m\"\u001b[39m\u001b[38;5;124mDepthEstimationOutput\u001b[39m\u001b[38;5;124m\"\u001b[39m,\n\u001b[0;32m    582\u001b[0m     \u001b[38;5;124m\"\u001b[39m\u001b[38;5;124mDiscussion\u001b[39m\u001b[38;5;124m\"\u001b[39m,\n\u001b[0;32m    583\u001b[0m     \u001b[38;5;124m\"\u001b[39m\u001b[38;5;124mDiscussionComment\u001b[39m\u001b[38;5;124m\"\u001b[39m,\n\u001b[0;32m    584\u001b[0m     \u001b[38;5;124m\"\u001b[39m\u001b[38;5;124mDiscussionCommit\u001b[39m\u001b[38;5;124m\"\u001b[39m,\n\u001b[0;32m    585\u001b[0m     \u001b[38;5;124m\"\u001b[39m\u001b[38;5;124mDiscussionEvent\u001b[39m\u001b[38;5;124m\"\u001b[39m,\n\u001b[0;32m    586\u001b[0m     \u001b[38;5;124m\"\u001b[39m\u001b[38;5;124mDiscussionStatusChange\u001b[39m\u001b[38;5;124m\"\u001b[39m,\n\u001b[0;32m    587\u001b[0m     \u001b[38;5;124m\"\u001b[39m\u001b[38;5;124mDiscussionTitleChange\u001b[39m\u001b[38;5;124m\"\u001b[39m,\n\u001b[0;32m    588\u001b[0m     \u001b[38;5;124m\"\u001b[39m\u001b[38;5;124mDiscussionWithDetails\u001b[39m\u001b[38;5;124m\"\u001b[39m,\n\u001b[0;32m    589\u001b[0m     \u001b[38;5;124m\"\u001b[39m\u001b[38;5;124mDocumentQuestionAnsweringInput\u001b[39m\u001b[38;5;124m\"\u001b[39m,\n\u001b[0;32m    590\u001b[0m     \u001b[38;5;124m\"\u001b[39m\u001b[38;5;124mDocumentQuestionAnsweringInputData\u001b[39m\u001b[38;5;124m\"\u001b[39m,\n\u001b[0;32m    591\u001b[0m     \u001b[38;5;124m\"\u001b[39m\u001b[38;5;124mDocumentQuestionAnsweringOutputElement\u001b[39m\u001b[38;5;124m\"\u001b[39m,\n\u001b[0;32m    592\u001b[0m     \u001b[38;5;124m\"\u001b[39m\u001b[38;5;124mDocumentQuestionAnsweringParameters\u001b[39m\u001b[38;5;124m\"\u001b[39m,\n\u001b[0;32m    593\u001b[0m     \u001b[38;5;124m\"\u001b[39m\u001b[38;5;124mEvalResult\u001b[39m\u001b[38;5;124m\"\u001b[39m,\n\u001b[0;32m    594\u001b[0m     \u001b[38;5;124m\"\u001b[39m\u001b[38;5;124mFLAX_WEIGHTS_NAME\u001b[39m\u001b[38;5;124m\"\u001b[39m,\n\u001b[0;32m    595\u001b[0m     \u001b[38;5;124m\"\u001b[39m\u001b[38;5;124mFeatureExtractionInput\u001b[39m\u001b[38;5;124m\"\u001b[39m,\n\u001b[0;32m    596\u001b[0m     \u001b[38;5;124m\"\u001b[39m\u001b[38;5;124mFeatureExtractionInputTruncationDirection\u001b[39m\u001b[38;5;124m\"\u001b[39m,\n\u001b[0;32m    597\u001b[0m     \u001b[38;5;124m\"\u001b[39m\u001b[38;5;124mFillMaskInput\u001b[39m\u001b[38;5;124m\"\u001b[39m,\n\u001b[0;32m    598\u001b[0m     \u001b[38;5;124m\"\u001b[39m\u001b[38;5;124mFillMaskOutputElement\u001b[39m\u001b[38;5;124m\"\u001b[39m,\n\u001b[0;32m    599\u001b[0m     \u001b[38;5;124m\"\u001b[39m\u001b[38;5;124mFillMaskParameters\u001b[39m\u001b[38;5;124m\"\u001b[39m,\n\u001b[0;32m    600\u001b[0m     \u001b[38;5;124m\"\u001b[39m\u001b[38;5;124mGitCommitInfo\u001b[39m\u001b[38;5;124m\"\u001b[39m,\n\u001b[0;32m    601\u001b[0m     \u001b[38;5;124m\"\u001b[39m\u001b[38;5;124mGitRefInfo\u001b[39m\u001b[38;5;124m\"\u001b[39m,\n\u001b[0;32m    602\u001b[0m     \u001b[38;5;124m\"\u001b[39m\u001b[38;5;124mGitRefs\u001b[39m\u001b[38;5;124m\"\u001b[39m,\n\u001b[0;32m    603\u001b[0m     \u001b[38;5;124m\"\u001b[39m\u001b[38;5;124mHFCacheInfo\u001b[39m\u001b[38;5;124m\"\u001b[39m,\n\u001b[0;32m    604\u001b[0m     \u001b[38;5;124m\"\u001b[39m\u001b[38;5;124mHFSummaryWriter\u001b[39m\u001b[38;5;124m\"\u001b[39m,\n\u001b[0;32m    605\u001b[0m     \u001b[38;5;124m\"\u001b[39m\u001b[38;5;124mHUGGINGFACE_CO_URL_HOME\u001b[39m\u001b[38;5;124m\"\u001b[39m,\n\u001b[0;32m    606\u001b[0m     \u001b[38;5;124m\"\u001b[39m\u001b[38;5;124mHUGGINGFACE_CO_URL_TEMPLATE\u001b[39m\u001b[38;5;124m\"\u001b[39m,\n\u001b[0;32m    607\u001b[0m     \u001b[38;5;124m\"\u001b[39m\u001b[38;5;124mHfApi\u001b[39m\u001b[38;5;124m\"\u001b[39m,\n\u001b[0;32m    608\u001b[0m     \u001b[38;5;124m\"\u001b[39m\u001b[38;5;124mHfFileMetadata\u001b[39m\u001b[38;5;124m\"\u001b[39m,\n\u001b[0;32m    609\u001b[0m     \u001b[38;5;124m\"\u001b[39m\u001b[38;5;124mHfFileSystem\u001b[39m\u001b[38;5;124m\"\u001b[39m,\n\u001b[0;32m    610\u001b[0m     \u001b[38;5;124m\"\u001b[39m\u001b[38;5;124mHfFileSystemFile\u001b[39m\u001b[38;5;124m\"\u001b[39m,\n\u001b[0;32m    611\u001b[0m     \u001b[38;5;124m\"\u001b[39m\u001b[38;5;124mHfFileSystemResolvedPath\u001b[39m\u001b[38;5;124m\"\u001b[39m,\n\u001b[0;32m    612\u001b[0m     \u001b[38;5;124m\"\u001b[39m\u001b[38;5;124mHfFileSystemStreamFile\u001b[39m\u001b[38;5;124m\"\u001b[39m,\n\u001b[0;32m    613\u001b[0m     \u001b[38;5;124m\"\u001b[39m\u001b[38;5;124mHfFolder\u001b[39m\u001b[38;5;124m\"\u001b[39m,\n\u001b[0;32m    614\u001b[0m     \u001b[38;5;124m\"\u001b[39m\u001b[38;5;124mImageClassificationInput\u001b[39m\u001b[38;5;124m\"\u001b[39m,\n\u001b[0;32m    615\u001b[0m     \u001b[38;5;124m\"\u001b[39m\u001b[38;5;124mImageClassificationOutputElement\u001b[39m\u001b[38;5;124m\"\u001b[39m,\n\u001b[0;32m    616\u001b[0m     \u001b[38;5;124m\"\u001b[39m\u001b[38;5;124mImageClassificationOutputTransform\u001b[39m\u001b[38;5;124m\"\u001b[39m,\n\u001b[0;32m    617\u001b[0m     \u001b[38;5;124m\"\u001b[39m\u001b[38;5;124mImageClassificationParameters\u001b[39m\u001b[38;5;124m\"\u001b[39m,\n\u001b[0;32m    618\u001b[0m     \u001b[38;5;124m\"\u001b[39m\u001b[38;5;124mImageSegmentationInput\u001b[39m\u001b[38;5;124m\"\u001b[39m,\n\u001b[0;32m    619\u001b[0m     \u001b[38;5;124m\"\u001b[39m\u001b[38;5;124mImageSegmentationOutputElement\u001b[39m\u001b[38;5;124m\"\u001b[39m,\n\u001b[0;32m    620\u001b[0m     \u001b[38;5;124m\"\u001b[39m\u001b[38;5;124mImageSegmentationParameters\u001b[39m\u001b[38;5;124m\"\u001b[39m,\n\u001b[0;32m    621\u001b[0m     \u001b[38;5;124m\"\u001b[39m\u001b[38;5;124mImageSegmentationSubtask\u001b[39m\u001b[38;5;124m\"\u001b[39m,\n\u001b[0;32m    622\u001b[0m     \u001b[38;5;124m\"\u001b[39m\u001b[38;5;124mImageToImageInput\u001b[39m\u001b[38;5;124m\"\u001b[39m,\n\u001b[0;32m    623\u001b[0m     \u001b[38;5;124m\"\u001b[39m\u001b[38;5;124mImageToImageOutput\u001b[39m\u001b[38;5;124m\"\u001b[39m,\n\u001b[0;32m    624\u001b[0m     \u001b[38;5;124m\"\u001b[39m\u001b[38;5;124mImageToImageParameters\u001b[39m\u001b[38;5;124m\"\u001b[39m,\n\u001b[0;32m    625\u001b[0m     \u001b[38;5;124m\"\u001b[39m\u001b[38;5;124mImageToImageTargetSize\u001b[39m\u001b[38;5;124m\"\u001b[39m,\n\u001b[0;32m    626\u001b[0m     \u001b[38;5;124m\"\u001b[39m\u001b[38;5;124mImageToTextEarlyStoppingEnum\u001b[39m\u001b[38;5;124m\"\u001b[39m,\n\u001b[0;32m    627\u001b[0m     \u001b[38;5;124m\"\u001b[39m\u001b[38;5;124mImageToTextGenerationParameters\u001b[39m\u001b[38;5;124m\"\u001b[39m,\n\u001b[0;32m    628\u001b[0m     \u001b[38;5;124m\"\u001b[39m\u001b[38;5;124mImageToTextInput\u001b[39m\u001b[38;5;124m\"\u001b[39m,\n\u001b[0;32m    629\u001b[0m     \u001b[38;5;124m\"\u001b[39m\u001b[38;5;124mImageToTextOutput\u001b[39m\u001b[38;5;124m\"\u001b[39m,\n\u001b[0;32m    630\u001b[0m     \u001b[38;5;124m\"\u001b[39m\u001b[38;5;124mImageToTextParameters\u001b[39m\u001b[38;5;124m\"\u001b[39m,\n\u001b[0;32m    631\u001b[0m     \u001b[38;5;124m\"\u001b[39m\u001b[38;5;124mInferenceApi\u001b[39m\u001b[38;5;124m\"\u001b[39m,\n\u001b[0;32m    632\u001b[0m     \u001b[38;5;124m\"\u001b[39m\u001b[38;5;124mInferenceClient\u001b[39m\u001b[38;5;124m\"\u001b[39m,\n\u001b[0;32m    633\u001b[0m     \u001b[38;5;124m\"\u001b[39m\u001b[38;5;124mInferenceEndpoint\u001b[39m\u001b[38;5;124m\"\u001b[39m,\n\u001b[0;32m    634\u001b[0m     \u001b[38;5;124m\"\u001b[39m\u001b[38;5;124mInferenceEndpointError\u001b[39m\u001b[38;5;124m\"\u001b[39m,\n\u001b[0;32m    635\u001b[0m     \u001b[38;5;124m\"\u001b[39m\u001b[38;5;124mInferenceEndpointStatus\u001b[39m\u001b[38;5;124m\"\u001b[39m,\n\u001b[0;32m    636\u001b[0m     \u001b[38;5;124m\"\u001b[39m\u001b[38;5;124mInferenceEndpointTimeoutError\u001b[39m\u001b[38;5;124m\"\u001b[39m,\n\u001b[0;32m    637\u001b[0m     \u001b[38;5;124m\"\u001b[39m\u001b[38;5;124mInferenceEndpointType\u001b[39m\u001b[38;5;124m\"\u001b[39m,\n\u001b[0;32m    638\u001b[0m     \u001b[38;5;124m\"\u001b[39m\u001b[38;5;124mInferenceTimeoutError\u001b[39m\u001b[38;5;124m\"\u001b[39m,\n\u001b[0;32m    639\u001b[0m     \u001b[38;5;124m\"\u001b[39m\u001b[38;5;124mKerasModelHubMixin\u001b[39m\u001b[38;5;124m\"\u001b[39m,\n\u001b[0;32m    640\u001b[0m     \u001b[38;5;124m\"\u001b[39m\u001b[38;5;124mModelCard\u001b[39m\u001b[38;5;124m\"\u001b[39m,\n\u001b[0;32m    641\u001b[0m     \u001b[38;5;124m\"\u001b[39m\u001b[38;5;124mModelCardData\u001b[39m\u001b[38;5;124m\"\u001b[39m,\n\u001b[0;32m    642\u001b[0m     \u001b[38;5;124m\"\u001b[39m\u001b[38;5;124mModelHubMixin\u001b[39m\u001b[38;5;124m\"\u001b[39m,\n\u001b[0;32m    643\u001b[0m     \u001b[38;5;124m\"\u001b[39m\u001b[38;5;124mModelInfo\u001b[39m\u001b[38;5;124m\"\u001b[39m,\n\u001b[0;32m    644\u001b[0m     \u001b[38;5;124m\"\u001b[39m\u001b[38;5;124mObjectDetectionBoundingBox\u001b[39m\u001b[38;5;124m\"\u001b[39m,\n\u001b[0;32m    645\u001b[0m     \u001b[38;5;124m\"\u001b[39m\u001b[38;5;124mObjectDetectionInput\u001b[39m\u001b[38;5;124m\"\u001b[39m,\n\u001b[0;32m    646\u001b[0m     \u001b[38;5;124m\"\u001b[39m\u001b[38;5;124mObjectDetectionOutputElement\u001b[39m\u001b[38;5;124m\"\u001b[39m,\n\u001b[0;32m    647\u001b[0m     \u001b[38;5;124m\"\u001b[39m\u001b[38;5;124mObjectDetectionParameters\u001b[39m\u001b[38;5;124m\"\u001b[39m,\n\u001b[0;32m    648\u001b[0m     \u001b[38;5;124m\"\u001b[39m\u001b[38;5;124mPYTORCH_WEIGHTS_NAME\u001b[39m\u001b[38;5;124m\"\u001b[39m,\n\u001b[0;32m    649\u001b[0m     \u001b[38;5;124m\"\u001b[39m\u001b[38;5;124mPadding\u001b[39m\u001b[38;5;124m\"\u001b[39m,\n\u001b[0;32m    650\u001b[0m     \u001b[38;5;124m\"\u001b[39m\u001b[38;5;124mPyTorchModelHubMixin\u001b[39m\u001b[38;5;124m\"\u001b[39m,\n\u001b[0;32m    651\u001b[0m     \u001b[38;5;124m\"\u001b[39m\u001b[38;5;124mQuestionAnsweringInput\u001b[39m\u001b[38;5;124m\"\u001b[39m,\n\u001b[0;32m    652\u001b[0m     \u001b[38;5;124m\"\u001b[39m\u001b[38;5;124mQuestionAnsweringInputData\u001b[39m\u001b[38;5;124m\"\u001b[39m,\n\u001b[0;32m    653\u001b[0m     \u001b[38;5;124m\"\u001b[39m\u001b[38;5;124mQuestionAnsweringOutputElement\u001b[39m\u001b[38;5;124m\"\u001b[39m,\n\u001b[0;32m    654\u001b[0m     \u001b[38;5;124m\"\u001b[39m\u001b[38;5;124mQuestionAnsweringParameters\u001b[39m\u001b[38;5;124m\"\u001b[39m,\n\u001b[0;32m    655\u001b[0m     \u001b[38;5;124m\"\u001b[39m\u001b[38;5;124mREPO_TYPE_DATASET\u001b[39m\u001b[38;5;124m\"\u001b[39m,\n\u001b[0;32m    656\u001b[0m     \u001b[38;5;124m\"\u001b[39m\u001b[38;5;124mREPO_TYPE_MODEL\u001b[39m\u001b[38;5;124m\"\u001b[39m,\n\u001b[0;32m    657\u001b[0m     \u001b[38;5;124m\"\u001b[39m\u001b[38;5;124mREPO_TYPE_SPACE\u001b[39m\u001b[38;5;124m\"\u001b[39m,\n\u001b[0;32m    658\u001b[0m     \u001b[38;5;124m\"\u001b[39m\u001b[38;5;124mRepoCard\u001b[39m\u001b[38;5;124m\"\u001b[39m,\n\u001b[0;32m    659\u001b[0m     \u001b[38;5;124m\"\u001b[39m\u001b[38;5;124mRepoUrl\u001b[39m\u001b[38;5;124m\"\u001b[39m,\n\u001b[0;32m    660\u001b[0m     \u001b[38;5;124m\"\u001b[39m\u001b[38;5;124mRepository\u001b[39m\u001b[38;5;124m\"\u001b[39m,\n\u001b[0;32m    661\u001b[0m     \u001b[38;5;124m\"\u001b[39m\u001b[38;5;124mSentenceSimilarityInput\u001b[39m\u001b[38;5;124m\"\u001b[39m,\n\u001b[0;32m    662\u001b[0m     \u001b[38;5;124m\"\u001b[39m\u001b[38;5;124mSentenceSimilarityInputData\u001b[39m\u001b[38;5;124m\"\u001b[39m,\n\u001b[0;32m    663\u001b[0m     \u001b[38;5;124m\"\u001b[39m\u001b[38;5;124mSpaceCard\u001b[39m\u001b[38;5;124m\"\u001b[39m,\n\u001b[0;32m    664\u001b[0m     \u001b[38;5;124m\"\u001b[39m\u001b[38;5;124mSpaceCardData\u001b[39m\u001b[38;5;124m\"\u001b[39m,\n\u001b[0;32m    665\u001b[0m     \u001b[38;5;124m\"\u001b[39m\u001b[38;5;124mSpaceHardware\u001b[39m\u001b[38;5;124m\"\u001b[39m,\n\u001b[0;32m    666\u001b[0m     \u001b[38;5;124m\"\u001b[39m\u001b[38;5;124mSpaceInfo\u001b[39m\u001b[38;5;124m\"\u001b[39m,\n\u001b[0;32m    667\u001b[0m     \u001b[38;5;124m\"\u001b[39m\u001b[38;5;124mSpaceRuntime\u001b[39m\u001b[38;5;124m\"\u001b[39m,\n\u001b[0;32m    668\u001b[0m     \u001b[38;5;124m\"\u001b[39m\u001b[38;5;124mSpaceStage\u001b[39m\u001b[38;5;124m\"\u001b[39m,\n\u001b[0;32m    669\u001b[0m     \u001b[38;5;124m\"\u001b[39m\u001b[38;5;124mSpaceStorage\u001b[39m\u001b[38;5;124m\"\u001b[39m,\n\u001b[0;32m    670\u001b[0m     \u001b[38;5;124m\"\u001b[39m\u001b[38;5;124mSpaceVariable\u001b[39m\u001b[38;5;124m\"\u001b[39m,\n\u001b[0;32m    671\u001b[0m     \u001b[38;5;124m\"\u001b[39m\u001b[38;5;124mStateDictSplit\u001b[39m\u001b[38;5;124m\"\u001b[39m,\n\u001b[0;32m    672\u001b[0m     \u001b[38;5;124m\"\u001b[39m\u001b[38;5;124mSummarizationInput\u001b[39m\u001b[38;5;124m\"\u001b[39m,\n\u001b[0;32m    673\u001b[0m     \u001b[38;5;124m\"\u001b[39m\u001b[38;5;124mSummarizationOutput\u001b[39m\u001b[38;5;124m\"\u001b[39m,\n\u001b[0;32m    674\u001b[0m     \u001b[38;5;124m\"\u001b[39m\u001b[38;5;124mSummarizationParameters\u001b[39m\u001b[38;5;124m\"\u001b[39m,\n\u001b[0;32m    675\u001b[0m     \u001b[38;5;124m\"\u001b[39m\u001b[38;5;124mSummarizationTruncationStrategy\u001b[39m\u001b[38;5;124m\"\u001b[39m,\n\u001b[0;32m    676\u001b[0m     \u001b[38;5;124m\"\u001b[39m\u001b[38;5;124mTF2_WEIGHTS_NAME\u001b[39m\u001b[38;5;124m\"\u001b[39m,\n\u001b[0;32m    677\u001b[0m     \u001b[38;5;124m\"\u001b[39m\u001b[38;5;124mTF_WEIGHTS_NAME\u001b[39m\u001b[38;5;124m\"\u001b[39m,\n\u001b[0;32m    678\u001b[0m     \u001b[38;5;124m\"\u001b[39m\u001b[38;5;124mTableQuestionAnsweringInput\u001b[39m\u001b[38;5;124m\"\u001b[39m,\n\u001b[0;32m    679\u001b[0m     \u001b[38;5;124m\"\u001b[39m\u001b[38;5;124mTableQuestionAnsweringInputData\u001b[39m\u001b[38;5;124m\"\u001b[39m,\n\u001b[0;32m    680\u001b[0m     \u001b[38;5;124m\"\u001b[39m\u001b[38;5;124mTableQuestionAnsweringOutputElement\u001b[39m\u001b[38;5;124m\"\u001b[39m,\n\u001b[0;32m    681\u001b[0m     \u001b[38;5;124m\"\u001b[39m\u001b[38;5;124mTableQuestionAnsweringParameters\u001b[39m\u001b[38;5;124m\"\u001b[39m,\n\u001b[0;32m    682\u001b[0m     \u001b[38;5;124m\"\u001b[39m\u001b[38;5;124mText2TextGenerationInput\u001b[39m\u001b[38;5;124m\"\u001b[39m,\n\u001b[0;32m    683\u001b[0m     \u001b[38;5;124m\"\u001b[39m\u001b[38;5;124mText2TextGenerationOutput\u001b[39m\u001b[38;5;124m\"\u001b[39m,\n\u001b[0;32m    684\u001b[0m     \u001b[38;5;124m\"\u001b[39m\u001b[38;5;124mText2TextGenerationParameters\u001b[39m\u001b[38;5;124m\"\u001b[39m,\n\u001b[0;32m    685\u001b[0m     \u001b[38;5;124m\"\u001b[39m\u001b[38;5;124mText2TextGenerationTruncationStrategy\u001b[39m\u001b[38;5;124m\"\u001b[39m,\n\u001b[0;32m    686\u001b[0m     \u001b[38;5;124m\"\u001b[39m\u001b[38;5;124mTextClassificationInput\u001b[39m\u001b[38;5;124m\"\u001b[39m,\n\u001b[0;32m    687\u001b[0m     \u001b[38;5;124m\"\u001b[39m\u001b[38;5;124mTextClassificationOutputElement\u001b[39m\u001b[38;5;124m\"\u001b[39m,\n\u001b[0;32m    688\u001b[0m     \u001b[38;5;124m\"\u001b[39m\u001b[38;5;124mTextClassificationOutputTransform\u001b[39m\u001b[38;5;124m\"\u001b[39m,\n\u001b[0;32m    689\u001b[0m     \u001b[38;5;124m\"\u001b[39m\u001b[38;5;124mTextClassificationParameters\u001b[39m\u001b[38;5;124m\"\u001b[39m,\n\u001b[0;32m    690\u001b[0m     \u001b[38;5;124m\"\u001b[39m\u001b[38;5;124mTextGenerationInput\u001b[39m\u001b[38;5;124m\"\u001b[39m,\n\u001b[0;32m    691\u001b[0m     \u001b[38;5;124m\"\u001b[39m\u001b[38;5;124mTextGenerationInputGenerateParameters\u001b[39m\u001b[38;5;124m\"\u001b[39m,\n\u001b[0;32m    692\u001b[0m     \u001b[38;5;124m\"\u001b[39m\u001b[38;5;124mTextGenerationInputGrammarType\u001b[39m\u001b[38;5;124m\"\u001b[39m,\n\u001b[0;32m    693\u001b[0m     \u001b[38;5;124m\"\u001b[39m\u001b[38;5;124mTextGenerationOutput\u001b[39m\u001b[38;5;124m\"\u001b[39m,\n\u001b[0;32m    694\u001b[0m     \u001b[38;5;124m\"\u001b[39m\u001b[38;5;124mTextGenerationOutputBestOfSequence\u001b[39m\u001b[38;5;124m\"\u001b[39m,\n\u001b[0;32m    695\u001b[0m     \u001b[38;5;124m\"\u001b[39m\u001b[38;5;124mTextGenerationOutputDetails\u001b[39m\u001b[38;5;124m\"\u001b[39m,\n\u001b[0;32m    696\u001b[0m     \u001b[38;5;124m\"\u001b[39m\u001b[38;5;124mTextGenerationOutputFinishReason\u001b[39m\u001b[38;5;124m\"\u001b[39m,\n\u001b[0;32m    697\u001b[0m     \u001b[38;5;124m\"\u001b[39m\u001b[38;5;124mTextGenerationOutputPrefillToken\u001b[39m\u001b[38;5;124m\"\u001b[39m,\n\u001b[0;32m    698\u001b[0m     \u001b[38;5;124m\"\u001b[39m\u001b[38;5;124mTextGenerationOutputToken\u001b[39m\u001b[38;5;124m\"\u001b[39m,\n\u001b[0;32m    699\u001b[0m     \u001b[38;5;124m\"\u001b[39m\u001b[38;5;124mTextGenerationStreamOutput\u001b[39m\u001b[38;5;124m\"\u001b[39m,\n\u001b[0;32m    700\u001b[0m     \u001b[38;5;124m\"\u001b[39m\u001b[38;5;124mTextGenerationStreamOutputStreamDetails\u001b[39m\u001b[38;5;124m\"\u001b[39m,\n\u001b[0;32m    701\u001b[0m     \u001b[38;5;124m\"\u001b[39m\u001b[38;5;124mTextGenerationStreamOutputToken\u001b[39m\u001b[38;5;124m\"\u001b[39m,\n\u001b[0;32m    702\u001b[0m     \u001b[38;5;124m\"\u001b[39m\u001b[38;5;124mTextToAudioEarlyStoppingEnum\u001b[39m\u001b[38;5;124m\"\u001b[39m,\n\u001b[0;32m    703\u001b[0m     \u001b[38;5;124m\"\u001b[39m\u001b[38;5;124mTextToAudioGenerationParameters\u001b[39m\u001b[38;5;124m\"\u001b[39m,\n\u001b[0;32m    704\u001b[0m     \u001b[38;5;124m\"\u001b[39m\u001b[38;5;124mTextToAudioInput\u001b[39m\u001b[38;5;124m\"\u001b[39m,\n\u001b[0;32m    705\u001b[0m     \u001b[38;5;124m\"\u001b[39m\u001b[38;5;124mTextToAudioOutput\u001b[39m\u001b[38;5;124m\"\u001b[39m,\n\u001b[0;32m    706\u001b[0m     \u001b[38;5;124m\"\u001b[39m\u001b[38;5;124mTextToAudioParameters\u001b[39m\u001b[38;5;124m\"\u001b[39m,\n\u001b[0;32m    707\u001b[0m     \u001b[38;5;124m\"\u001b[39m\u001b[38;5;124mTextToImageInput\u001b[39m\u001b[38;5;124m\"\u001b[39m,\n\u001b[0;32m    708\u001b[0m     \u001b[38;5;124m\"\u001b[39m\u001b[38;5;124mTextToImageOutput\u001b[39m\u001b[38;5;124m\"\u001b[39m,\n\u001b[0;32m    709\u001b[0m     \u001b[38;5;124m\"\u001b[39m\u001b[38;5;124mTextToImageParameters\u001b[39m\u001b[38;5;124m\"\u001b[39m,\n\u001b[0;32m    710\u001b[0m     \u001b[38;5;124m\"\u001b[39m\u001b[38;5;124mTextToSpeechEarlyStoppingEnum\u001b[39m\u001b[38;5;124m\"\u001b[39m,\n\u001b[0;32m    711\u001b[0m     \u001b[38;5;124m\"\u001b[39m\u001b[38;5;124mTextToSpeechGenerationParameters\u001b[39m\u001b[38;5;124m\"\u001b[39m,\n\u001b[0;32m    712\u001b[0m     \u001b[38;5;124m\"\u001b[39m\u001b[38;5;124mTextToSpeechInput\u001b[39m\u001b[38;5;124m\"\u001b[39m,\n\u001b[0;32m    713\u001b[0m     \u001b[38;5;124m\"\u001b[39m\u001b[38;5;124mTextToSpeechOutput\u001b[39m\u001b[38;5;124m\"\u001b[39m,\n\u001b[0;32m    714\u001b[0m     \u001b[38;5;124m\"\u001b[39m\u001b[38;5;124mTextToSpeechParameters\u001b[39m\u001b[38;5;124m\"\u001b[39m,\n\u001b[0;32m    715\u001b[0m     \u001b[38;5;124m\"\u001b[39m\u001b[38;5;124mTextToVideoInput\u001b[39m\u001b[38;5;124m\"\u001b[39m,\n\u001b[0;32m    716\u001b[0m     \u001b[38;5;124m\"\u001b[39m\u001b[38;5;124mTextToVideoOutput\u001b[39m\u001b[38;5;124m\"\u001b[39m,\n\u001b[0;32m    717\u001b[0m     \u001b[38;5;124m\"\u001b[39m\u001b[38;5;124mTextToVideoParameters\u001b[39m\u001b[38;5;124m\"\u001b[39m,\n\u001b[0;32m    718\u001b[0m     \u001b[38;5;124m\"\u001b[39m\u001b[38;5;124mTokenClassificationAggregationStrategy\u001b[39m\u001b[38;5;124m\"\u001b[39m,\n\u001b[0;32m    719\u001b[0m     \u001b[38;5;124m\"\u001b[39m\u001b[38;5;124mTokenClassificationInput\u001b[39m\u001b[38;5;124m\"\u001b[39m,\n\u001b[0;32m    720\u001b[0m     \u001b[38;5;124m\"\u001b[39m\u001b[38;5;124mTokenClassificationOutputElement\u001b[39m\u001b[38;5;124m\"\u001b[39m,\n\u001b[0;32m    721\u001b[0m     \u001b[38;5;124m\"\u001b[39m\u001b[38;5;124mTokenClassificationParameters\u001b[39m\u001b[38;5;124m\"\u001b[39m,\n\u001b[0;32m    722\u001b[0m     \u001b[38;5;124m\"\u001b[39m\u001b[38;5;124mTranslationInput\u001b[39m\u001b[38;5;124m\"\u001b[39m,\n\u001b[0;32m    723\u001b[0m     \u001b[38;5;124m\"\u001b[39m\u001b[38;5;124mTranslationOutput\u001b[39m\u001b[38;5;124m\"\u001b[39m,\n\u001b[0;32m    724\u001b[0m     \u001b[38;5;124m\"\u001b[39m\u001b[38;5;124mTranslationParameters\u001b[39m\u001b[38;5;124m\"\u001b[39m,\n\u001b[0;32m    725\u001b[0m     \u001b[38;5;124m\"\u001b[39m\u001b[38;5;124mTranslationTruncationStrategy\u001b[39m\u001b[38;5;124m\"\u001b[39m,\n\u001b[0;32m    726\u001b[0m     \u001b[38;5;124m\"\u001b[39m\u001b[38;5;124mTypeEnum\u001b[39m\u001b[38;5;124m\"\u001b[39m,\n\u001b[0;32m    727\u001b[0m     \u001b[38;5;124m\"\u001b[39m\u001b[38;5;124mUser\u001b[39m\u001b[38;5;124m\"\u001b[39m,\n\u001b[0;32m    728\u001b[0m     \u001b[38;5;124m\"\u001b[39m\u001b[38;5;124mUserLikes\u001b[39m\u001b[38;5;124m\"\u001b[39m,\n\u001b[0;32m    729\u001b[0m     \u001b[38;5;124m\"\u001b[39m\u001b[38;5;124mVideoClassificationInput\u001b[39m\u001b[38;5;124m\"\u001b[39m,\n\u001b[0;32m    730\u001b[0m     \u001b[38;5;124m\"\u001b[39m\u001b[38;5;124mVideoClassificationOutputElement\u001b[39m\u001b[38;5;124m\"\u001b[39m,\n\u001b[0;32m    731\u001b[0m     \u001b[38;5;124m\"\u001b[39m\u001b[38;5;124mVideoClassificationOutputTransform\u001b[39m\u001b[38;5;124m\"\u001b[39m,\n\u001b[0;32m    732\u001b[0m     \u001b[38;5;124m\"\u001b[39m\u001b[38;5;124mVideoClassificationParameters\u001b[39m\u001b[38;5;124m\"\u001b[39m,\n\u001b[0;32m    733\u001b[0m     \u001b[38;5;124m\"\u001b[39m\u001b[38;5;124mVisualQuestionAnsweringInput\u001b[39m\u001b[38;5;124m\"\u001b[39m,\n\u001b[0;32m    734\u001b[0m     \u001b[38;5;124m\"\u001b[39m\u001b[38;5;124mVisualQuestionAnsweringInputData\u001b[39m\u001b[38;5;124m\"\u001b[39m,\n\u001b[0;32m    735\u001b[0m     \u001b[38;5;124m\"\u001b[39m\u001b[38;5;124mVisualQuestionAnsweringOutputElement\u001b[39m\u001b[38;5;124m\"\u001b[39m,\n\u001b[0;32m    736\u001b[0m     \u001b[38;5;124m\"\u001b[39m\u001b[38;5;124mVisualQuestionAnsweringParameters\u001b[39m\u001b[38;5;124m\"\u001b[39m,\n\u001b[0;32m    737\u001b[0m     \u001b[38;5;124m\"\u001b[39m\u001b[38;5;124mWebhookInfo\u001b[39m\u001b[38;5;124m\"\u001b[39m,\n\u001b[0;32m    738\u001b[0m     \u001b[38;5;124m\"\u001b[39m\u001b[38;5;124mWebhookPayload\u001b[39m\u001b[38;5;124m\"\u001b[39m,\n\u001b[0;32m    739\u001b[0m     \u001b[38;5;124m\"\u001b[39m\u001b[38;5;124mWebhookPayloadComment\u001b[39m\u001b[38;5;124m\"\u001b[39m,\n\u001b[0;32m    740\u001b[0m     \u001b[38;5;124m\"\u001b[39m\u001b[38;5;124mWebhookPayloadDiscussion\u001b[39m\u001b[38;5;124m\"\u001b[39m,\n\u001b[0;32m    741\u001b[0m     \u001b[38;5;124m\"\u001b[39m\u001b[38;5;124mWebhookPayloadDiscussionChanges\u001b[39m\u001b[38;5;124m\"\u001b[39m,\n\u001b[0;32m    742\u001b[0m     \u001b[38;5;124m\"\u001b[39m\u001b[38;5;124mWebhookPayloadEvent\u001b[39m\u001b[38;5;124m\"\u001b[39m,\n\u001b[0;32m    743\u001b[0m     \u001b[38;5;124m\"\u001b[39m\u001b[38;5;124mWebhookPayloadMovedTo\u001b[39m\u001b[38;5;124m\"\u001b[39m,\n\u001b[0;32m    744\u001b[0m     \u001b[38;5;124m\"\u001b[39m\u001b[38;5;124mWebhookPayloadRepo\u001b[39m\u001b[38;5;124m\"\u001b[39m,\n\u001b[0;32m    745\u001b[0m     \u001b[38;5;124m\"\u001b[39m\u001b[38;5;124mWebhookPayloadUrl\u001b[39m\u001b[38;5;124m\"\u001b[39m,\n\u001b[0;32m    746\u001b[0m     \u001b[38;5;124m\"\u001b[39m\u001b[38;5;124mWebhookPayloadWebhook\u001b[39m\u001b[38;5;124m\"\u001b[39m,\n\u001b[0;32m    747\u001b[0m     \u001b[38;5;124m\"\u001b[39m\u001b[38;5;124mWebhookWatchedItem\u001b[39m\u001b[38;5;124m\"\u001b[39m,\n\u001b[0;32m    748\u001b[0m     \u001b[38;5;124m\"\u001b[39m\u001b[38;5;124mWebhooksServer\u001b[39m\u001b[38;5;124m\"\u001b[39m,\n\u001b[0;32m    749\u001b[0m     \u001b[38;5;124m\"\u001b[39m\u001b[38;5;124mZeroShotClassificationInput\u001b[39m\u001b[38;5;124m\"\u001b[39m,\n\u001b[0;32m    750\u001b[0m     \u001b[38;5;124m\"\u001b[39m\u001b[38;5;124mZeroShotClassificationOutputElement\u001b[39m\u001b[38;5;124m\"\u001b[39m,\n\u001b[0;32m    751\u001b[0m     \u001b[38;5;124m\"\u001b[39m\u001b[38;5;124mZeroShotClassificationParameters\u001b[39m\u001b[38;5;124m\"\u001b[39m,\n\u001b[0;32m    752\u001b[0m     \u001b[38;5;124m\"\u001b[39m\u001b[38;5;124mZeroShotImageClassificationInput\u001b[39m\u001b[38;5;124m\"\u001b[39m,\n\u001b[0;32m    753\u001b[0m     \u001b[38;5;124m\"\u001b[39m\u001b[38;5;124mZeroShotImageClassificationOutputElement\u001b[39m\u001b[38;5;124m\"\u001b[39m,\n\u001b[0;32m    754\u001b[0m     \u001b[38;5;124m\"\u001b[39m\u001b[38;5;124mZeroShotImageClassificationParameters\u001b[39m\u001b[38;5;124m\"\u001b[39m,\n\u001b[0;32m    755\u001b[0m     \u001b[38;5;124m\"\u001b[39m\u001b[38;5;124mZeroShotObjectDetectionBoundingBox\u001b[39m\u001b[38;5;124m\"\u001b[39m,\n\u001b[0;32m    756\u001b[0m     \u001b[38;5;124m\"\u001b[39m\u001b[38;5;124mZeroShotObjectDetectionInput\u001b[39m\u001b[38;5;124m\"\u001b[39m,\n\u001b[0;32m    757\u001b[0m     \u001b[38;5;124m\"\u001b[39m\u001b[38;5;124mZeroShotObjectDetectionOutputElement\u001b[39m\u001b[38;5;124m\"\u001b[39m,\n\u001b[0;32m    758\u001b[0m     \u001b[38;5;124m\"\u001b[39m\u001b[38;5;124mZeroShotObjectDetectionParameters\u001b[39m\u001b[38;5;124m\"\u001b[39m,\n\u001b[0;32m    759\u001b[0m     \u001b[38;5;124m\"\u001b[39m\u001b[38;5;124m_CACHED_NO_EXIST\u001b[39m\u001b[38;5;124m\"\u001b[39m,\n\u001b[0;32m    760\u001b[0m     \u001b[38;5;124m\"\u001b[39m\u001b[38;5;124m_save_pretrained_fastai\u001b[39m\u001b[38;5;124m\"\u001b[39m,\n\u001b[0;32m    761\u001b[0m     \u001b[38;5;124m\"\u001b[39m\u001b[38;5;124maccept_access_request\u001b[39m\u001b[38;5;124m\"\u001b[39m,\n\u001b[0;32m    762\u001b[0m     \u001b[38;5;124m\"\u001b[39m\u001b[38;5;124madd_collection_item\u001b[39m\u001b[38;5;124m\"\u001b[39m,\n\u001b[0;32m    763\u001b[0m     \u001b[38;5;124m\"\u001b[39m\u001b[38;5;124madd_space_secret\u001b[39m\u001b[38;5;124m\"\u001b[39m,\n\u001b[0;32m    764\u001b[0m     \u001b[38;5;124m\"\u001b[39m\u001b[38;5;124madd_space_variable\u001b[39m\u001b[38;5;124m\"\u001b[39m,\n\u001b[0;32m    765\u001b[0m     \u001b[38;5;124m\"\u001b[39m\u001b[38;5;124mauth_check\u001b[39m\u001b[38;5;124m\"\u001b[39m,\n\u001b[0;32m    766\u001b[0m     \u001b[38;5;124m\"\u001b[39m\u001b[38;5;124mauth_list\u001b[39m\u001b[38;5;124m\"\u001b[39m,\n\u001b[0;32m    767\u001b[0m     \u001b[38;5;124m\"\u001b[39m\u001b[38;5;124mauth_switch\u001b[39m\u001b[38;5;124m\"\u001b[39m,\n\u001b[0;32m    768\u001b[0m     \u001b[38;5;124m\"\u001b[39m\u001b[38;5;124mcached_assets_path\u001b[39m\u001b[38;5;124m\"\u001b[39m,\n\u001b[0;32m    769\u001b[0m     \u001b[38;5;124m\"\u001b[39m\u001b[38;5;124mcancel_access_request\u001b[39m\u001b[38;5;124m\"\u001b[39m,\n\u001b[0;32m    770\u001b[0m     \u001b[38;5;124m\"\u001b[39m\u001b[38;5;124mchange_discussion_status\u001b[39m\u001b[38;5;124m\"\u001b[39m,\n\u001b[0;32m    771\u001b[0m     \u001b[38;5;124m\"\u001b[39m\u001b[38;5;124mcomment_discussion\u001b[39m\u001b[38;5;124m\"\u001b[39m,\n\u001b[0;32m    772\u001b[0m     \u001b[38;5;124m\"\u001b[39m\u001b[38;5;124mconfigure_http_backend\u001b[39m\u001b[38;5;124m\"\u001b[39m,\n\u001b[0;32m    773\u001b[0m     \u001b[38;5;124m\"\u001b[39m\u001b[38;5;124mcreate_branch\u001b[39m\u001b[38;5;124m\"\u001b[39m,\n\u001b[0;32m    774\u001b[0m     \u001b[38;5;124m\"\u001b[39m\u001b[38;5;124mcreate_collection\u001b[39m\u001b[38;5;124m\"\u001b[39m,\n\u001b[0;32m    775\u001b[0m     \u001b[38;5;124m\"\u001b[39m\u001b[38;5;124mcreate_commit\u001b[39m\u001b[38;5;124m\"\u001b[39m,\n\u001b[0;32m    776\u001b[0m     \u001b[38;5;124m\"\u001b[39m\u001b[38;5;124mcreate_discussion\u001b[39m\u001b[38;5;124m\"\u001b[39m,\n\u001b[0;32m    777\u001b[0m     \u001b[38;5;124m\"\u001b[39m\u001b[38;5;124mcreate_inference_endpoint\u001b[39m\u001b[38;5;124m\"\u001b[39m,\n\u001b[0;32m    778\u001b[0m     \u001b[38;5;124m\"\u001b[39m\u001b[38;5;124mcreate_inference_endpoint_from_catalog\u001b[39m\u001b[38;5;124m\"\u001b[39m,\n\u001b[0;32m    779\u001b[0m     \u001b[38;5;124m\"\u001b[39m\u001b[38;5;124mcreate_pull_request\u001b[39m\u001b[38;5;124m\"\u001b[39m,\n\u001b[0;32m    780\u001b[0m     \u001b[38;5;124m\"\u001b[39m\u001b[38;5;124mcreate_repo\u001b[39m\u001b[38;5;124m\"\u001b[39m,\n\u001b[0;32m    781\u001b[0m     \u001b[38;5;124m\"\u001b[39m\u001b[38;5;124mcreate_tag\u001b[39m\u001b[38;5;124m\"\u001b[39m,\n\u001b[0;32m    782\u001b[0m     \u001b[38;5;124m\"\u001b[39m\u001b[38;5;124mcreate_webhook\u001b[39m\u001b[38;5;124m\"\u001b[39m,\n\u001b[0;32m    783\u001b[0m     \u001b[38;5;124m\"\u001b[39m\u001b[38;5;124mdataset_info\u001b[39m\u001b[38;5;124m\"\u001b[39m,\n\u001b[0;32m    784\u001b[0m     \u001b[38;5;124m\"\u001b[39m\u001b[38;5;124mdelete_branch\u001b[39m\u001b[38;5;124m\"\u001b[39m,\n\u001b[0;32m    785\u001b[0m     \u001b[38;5;124m\"\u001b[39m\u001b[38;5;124mdelete_collection\u001b[39m\u001b[38;5;124m\"\u001b[39m,\n\u001b[0;32m    786\u001b[0m     \u001b[38;5;124m\"\u001b[39m\u001b[38;5;124mdelete_collection_item\u001b[39m\u001b[38;5;124m\"\u001b[39m,\n\u001b[0;32m    787\u001b[0m     \u001b[38;5;124m\"\u001b[39m\u001b[38;5;124mdelete_file\u001b[39m\u001b[38;5;124m\"\u001b[39m,\n\u001b[0;32m    788\u001b[0m     \u001b[38;5;124m\"\u001b[39m\u001b[38;5;124mdelete_folder\u001b[39m\u001b[38;5;124m\"\u001b[39m,\n\u001b[0;32m    789\u001b[0m     \u001b[38;5;124m\"\u001b[39m\u001b[38;5;124mdelete_inference_endpoint\u001b[39m\u001b[38;5;124m\"\u001b[39m,\n\u001b[0;32m    790\u001b[0m     \u001b[38;5;124m\"\u001b[39m\u001b[38;5;124mdelete_repo\u001b[39m\u001b[38;5;124m\"\u001b[39m,\n\u001b[0;32m    791\u001b[0m     \u001b[38;5;124m\"\u001b[39m\u001b[38;5;124mdelete_space_secret\u001b[39m\u001b[38;5;124m\"\u001b[39m,\n\u001b[0;32m    792\u001b[0m     \u001b[38;5;124m\"\u001b[39m\u001b[38;5;124mdelete_space_storage\u001b[39m\u001b[38;5;124m\"\u001b[39m,\n\u001b[0;32m    793\u001b[0m     \u001b[38;5;124m\"\u001b[39m\u001b[38;5;124mdelete_space_variable\u001b[39m\u001b[38;5;124m\"\u001b[39m,\n\u001b[0;32m    794\u001b[0m     \u001b[38;5;124m\"\u001b[39m\u001b[38;5;124mdelete_tag\u001b[39m\u001b[38;5;124m\"\u001b[39m,\n\u001b[0;32m    795\u001b[0m     \u001b[38;5;124m\"\u001b[39m\u001b[38;5;124mdelete_webhook\u001b[39m\u001b[38;5;124m\"\u001b[39m,\n\u001b[0;32m    796\u001b[0m     \u001b[38;5;124m\"\u001b[39m\u001b[38;5;124mdisable_webhook\u001b[39m\u001b[38;5;124m\"\u001b[39m,\n\u001b[0;32m    797\u001b[0m     \u001b[38;5;124m\"\u001b[39m\u001b[38;5;124mdump_environment_info\u001b[39m\u001b[38;5;124m\"\u001b[39m,\n\u001b[0;32m    798\u001b[0m     \u001b[38;5;124m\"\u001b[39m\u001b[38;5;124mduplicate_space\u001b[39m\u001b[38;5;124m\"\u001b[39m,\n\u001b[0;32m    799\u001b[0m     \u001b[38;5;124m\"\u001b[39m\u001b[38;5;124medit_discussion_comment\u001b[39m\u001b[38;5;124m\"\u001b[39m,\n\u001b[0;32m    800\u001b[0m     \u001b[38;5;124m\"\u001b[39m\u001b[38;5;124menable_webhook\u001b[39m\u001b[38;5;124m\"\u001b[39m,\n\u001b[0;32m    801\u001b[0m     \u001b[38;5;124m\"\u001b[39m\u001b[38;5;124mexport_entries_as_dduf\u001b[39m\u001b[38;5;124m\"\u001b[39m,\n\u001b[0;32m    802\u001b[0m     \u001b[38;5;124m\"\u001b[39m\u001b[38;5;124mexport_folder_as_dduf\u001b[39m\u001b[38;5;124m\"\u001b[39m,\n\u001b[0;32m    803\u001b[0m     \u001b[38;5;124m\"\u001b[39m\u001b[38;5;124mfile_exists\u001b[39m\u001b[38;5;124m\"\u001b[39m,\n\u001b[0;32m    804\u001b[0m     \u001b[38;5;124m\"\u001b[39m\u001b[38;5;124mfrom_pretrained_fastai\u001b[39m\u001b[38;5;124m\"\u001b[39m,\n\u001b[0;32m    805\u001b[0m     \u001b[38;5;124m\"\u001b[39m\u001b[38;5;124mfrom_pretrained_keras\u001b[39m\u001b[38;5;124m\"\u001b[39m,\n\u001b[0;32m    806\u001b[0m     \u001b[38;5;124m\"\u001b[39m\u001b[38;5;124mget_collection\u001b[39m\u001b[38;5;124m\"\u001b[39m,\n\u001b[0;32m    807\u001b[0m     \u001b[38;5;124m\"\u001b[39m\u001b[38;5;124mget_dataset_tags\u001b[39m\u001b[38;5;124m\"\u001b[39m,\n\u001b[0;32m    808\u001b[0m     \u001b[38;5;124m\"\u001b[39m\u001b[38;5;124mget_discussion_details\u001b[39m\u001b[38;5;124m\"\u001b[39m,\n\u001b[0;32m    809\u001b[0m     \u001b[38;5;124m\"\u001b[39m\u001b[38;5;124mget_full_repo_name\u001b[39m\u001b[38;5;124m\"\u001b[39m,\n\u001b[0;32m    810\u001b[0m     \u001b[38;5;124m\"\u001b[39m\u001b[38;5;124mget_hf_file_metadata\u001b[39m\u001b[38;5;124m\"\u001b[39m,\n\u001b[0;32m    811\u001b[0m     \u001b[38;5;124m\"\u001b[39m\u001b[38;5;124mget_inference_endpoint\u001b[39m\u001b[38;5;124m\"\u001b[39m,\n\u001b[0;32m    812\u001b[0m     \u001b[38;5;124m\"\u001b[39m\u001b[38;5;124mget_model_tags\u001b[39m\u001b[38;5;124m\"\u001b[39m,\n\u001b[0;32m    813\u001b[0m     \u001b[38;5;124m\"\u001b[39m\u001b[38;5;124mget_paths_info\u001b[39m\u001b[38;5;124m\"\u001b[39m,\n\u001b[0;32m    814\u001b[0m     \u001b[38;5;124m\"\u001b[39m\u001b[38;5;124mget_repo_discussions\u001b[39m\u001b[38;5;124m\"\u001b[39m,\n\u001b[0;32m    815\u001b[0m     \u001b[38;5;124m\"\u001b[39m\u001b[38;5;124mget_safetensors_metadata\u001b[39m\u001b[38;5;124m\"\u001b[39m,\n\u001b[0;32m    816\u001b[0m     \u001b[38;5;124m\"\u001b[39m\u001b[38;5;124mget_session\u001b[39m\u001b[38;5;124m\"\u001b[39m,\n\u001b[0;32m    817\u001b[0m     \u001b[38;5;124m\"\u001b[39m\u001b[38;5;124mget_space_runtime\u001b[39m\u001b[38;5;124m\"\u001b[39m,\n\u001b[0;32m    818\u001b[0m     \u001b[38;5;124m\"\u001b[39m\u001b[38;5;124mget_space_variables\u001b[39m\u001b[38;5;124m\"\u001b[39m,\n\u001b[0;32m    819\u001b[0m     \u001b[38;5;124m\"\u001b[39m\u001b[38;5;124mget_tf_storage_size\u001b[39m\u001b[38;5;124m\"\u001b[39m,\n\u001b[0;32m    820\u001b[0m     \u001b[38;5;124m\"\u001b[39m\u001b[38;5;124mget_token\u001b[39m\u001b[38;5;124m\"\u001b[39m,\n\u001b[0;32m    821\u001b[0m     \u001b[38;5;124m\"\u001b[39m\u001b[38;5;124mget_token_permission\u001b[39m\u001b[38;5;124m\"\u001b[39m,\n\u001b[0;32m    822\u001b[0m     \u001b[38;5;124m\"\u001b[39m\u001b[38;5;124mget_torch_storage_id\u001b[39m\u001b[38;5;124m\"\u001b[39m,\n\u001b[0;32m    823\u001b[0m     \u001b[38;5;124m\"\u001b[39m\u001b[38;5;124mget_torch_storage_size\u001b[39m\u001b[38;5;124m\"\u001b[39m,\n\u001b[0;32m    824\u001b[0m     \u001b[38;5;124m\"\u001b[39m\u001b[38;5;124mget_user_overview\u001b[39m\u001b[38;5;124m\"\u001b[39m,\n\u001b[0;32m    825\u001b[0m     \u001b[38;5;124m\"\u001b[39m\u001b[38;5;124mget_webhook\u001b[39m\u001b[38;5;124m\"\u001b[39m,\n\u001b[0;32m    826\u001b[0m     \u001b[38;5;124m\"\u001b[39m\u001b[38;5;124mgrant_access\u001b[39m\u001b[38;5;124m\"\u001b[39m,\n\u001b[0;32m    827\u001b[0m     \u001b[38;5;124m\"\u001b[39m\u001b[38;5;124mhf_hub_download\u001b[39m\u001b[38;5;124m\"\u001b[39m,\n\u001b[0;32m    828\u001b[0m     \u001b[38;5;124m\"\u001b[39m\u001b[38;5;124mhf_hub_url\u001b[39m\u001b[38;5;124m\"\u001b[39m,\n\u001b[0;32m    829\u001b[0m     \u001b[38;5;124m\"\u001b[39m\u001b[38;5;124minterpreter_login\u001b[39m\u001b[38;5;124m\"\u001b[39m,\n\u001b[0;32m    830\u001b[0m     \u001b[38;5;124m\"\u001b[39m\u001b[38;5;124mlist_accepted_access_requests\u001b[39m\u001b[38;5;124m\"\u001b[39m,\n\u001b[0;32m    831\u001b[0m     \u001b[38;5;124m\"\u001b[39m\u001b[38;5;124mlist_collections\u001b[39m\u001b[38;5;124m\"\u001b[39m,\n\u001b[0;32m    832\u001b[0m     \u001b[38;5;124m\"\u001b[39m\u001b[38;5;124mlist_datasets\u001b[39m\u001b[38;5;124m\"\u001b[39m,\n\u001b[0;32m    833\u001b[0m     \u001b[38;5;124m\"\u001b[39m\u001b[38;5;124mlist_inference_catalog\u001b[39m\u001b[38;5;124m\"\u001b[39m,\n\u001b[0;32m    834\u001b[0m     \u001b[38;5;124m\"\u001b[39m\u001b[38;5;124mlist_inference_endpoints\u001b[39m\u001b[38;5;124m\"\u001b[39m,\n\u001b[0;32m    835\u001b[0m     \u001b[38;5;124m\"\u001b[39m\u001b[38;5;124mlist_lfs_files\u001b[39m\u001b[38;5;124m\"\u001b[39m,\n\u001b[0;32m    836\u001b[0m     \u001b[38;5;124m\"\u001b[39m\u001b[38;5;124mlist_liked_repos\u001b[39m\u001b[38;5;124m\"\u001b[39m,\n\u001b[0;32m    837\u001b[0m     \u001b[38;5;124m\"\u001b[39m\u001b[38;5;124mlist_models\u001b[39m\u001b[38;5;124m\"\u001b[39m,\n\u001b[0;32m    838\u001b[0m     \u001b[38;5;124m\"\u001b[39m\u001b[38;5;124mlist_organization_members\u001b[39m\u001b[38;5;124m\"\u001b[39m,\n\u001b[0;32m    839\u001b[0m     \u001b[38;5;124m\"\u001b[39m\u001b[38;5;124mlist_papers\u001b[39m\u001b[38;5;124m\"\u001b[39m,\n\u001b[0;32m    840\u001b[0m     \u001b[38;5;124m\"\u001b[39m\u001b[38;5;124mlist_pending_access_requests\u001b[39m\u001b[38;5;124m\"\u001b[39m,\n\u001b[0;32m    841\u001b[0m     \u001b[38;5;124m\"\u001b[39m\u001b[38;5;124mlist_rejected_access_requests\u001b[39m\u001b[38;5;124m\"\u001b[39m,\n\u001b[0;32m    842\u001b[0m     \u001b[38;5;124m\"\u001b[39m\u001b[38;5;124mlist_repo_commits\u001b[39m\u001b[38;5;124m\"\u001b[39m,\n\u001b[0;32m    843\u001b[0m     \u001b[38;5;124m\"\u001b[39m\u001b[38;5;124mlist_repo_files\u001b[39m\u001b[38;5;124m\"\u001b[39m,\n\u001b[0;32m    844\u001b[0m     \u001b[38;5;124m\"\u001b[39m\u001b[38;5;124mlist_repo_likers\u001b[39m\u001b[38;5;124m\"\u001b[39m,\n\u001b[0;32m    845\u001b[0m     \u001b[38;5;124m\"\u001b[39m\u001b[38;5;124mlist_repo_refs\u001b[39m\u001b[38;5;124m\"\u001b[39m,\n\u001b[0;32m    846\u001b[0m     \u001b[38;5;124m\"\u001b[39m\u001b[38;5;124mlist_repo_tree\u001b[39m\u001b[38;5;124m\"\u001b[39m,\n\u001b[0;32m    847\u001b[0m     \u001b[38;5;124m\"\u001b[39m\u001b[38;5;124mlist_spaces\u001b[39m\u001b[38;5;124m\"\u001b[39m,\n\u001b[0;32m    848\u001b[0m     \u001b[38;5;124m\"\u001b[39m\u001b[38;5;124mlist_user_followers\u001b[39m\u001b[38;5;124m\"\u001b[39m,\n\u001b[0;32m    849\u001b[0m     \u001b[38;5;124m\"\u001b[39m\u001b[38;5;124mlist_user_following\u001b[39m\u001b[38;5;124m\"\u001b[39m,\n\u001b[0;32m    850\u001b[0m     \u001b[38;5;124m\"\u001b[39m\u001b[38;5;124mlist_webhooks\u001b[39m\u001b[38;5;124m\"\u001b[39m,\n\u001b[0;32m    851\u001b[0m     \u001b[38;5;124m\"\u001b[39m\u001b[38;5;124mload_state_dict_from_file\u001b[39m\u001b[38;5;124m\"\u001b[39m,\n\u001b[0;32m    852\u001b[0m     \u001b[38;5;124m\"\u001b[39m\u001b[38;5;124mload_torch_model\u001b[39m\u001b[38;5;124m\"\u001b[39m,\n\u001b[0;32m    853\u001b[0m     \u001b[38;5;124m\"\u001b[39m\u001b[38;5;124mlogging\u001b[39m\u001b[38;5;124m\"\u001b[39m,\n\u001b[0;32m    854\u001b[0m     \u001b[38;5;124m\"\u001b[39m\u001b[38;5;124mlogin\u001b[39m\u001b[38;5;124m\"\u001b[39m,\n\u001b[0;32m    855\u001b[0m     \u001b[38;5;124m\"\u001b[39m\u001b[38;5;124mlogout\u001b[39m\u001b[38;5;124m\"\u001b[39m,\n\u001b[0;32m    856\u001b[0m     \u001b[38;5;124m\"\u001b[39m\u001b[38;5;124mmerge_pull_request\u001b[39m\u001b[38;5;124m\"\u001b[39m,\n\u001b[0;32m    857\u001b[0m     \u001b[38;5;124m\"\u001b[39m\u001b[38;5;124mmetadata_eval_result\u001b[39m\u001b[38;5;124m\"\u001b[39m,\n\u001b[0;32m    858\u001b[0m     \u001b[38;5;124m\"\u001b[39m\u001b[38;5;124mmetadata_load\u001b[39m\u001b[38;5;124m\"\u001b[39m,\n\u001b[0;32m    859\u001b[0m     \u001b[38;5;124m\"\u001b[39m\u001b[38;5;124mmetadata_save\u001b[39m\u001b[38;5;124m\"\u001b[39m,\n\u001b[0;32m    860\u001b[0m     \u001b[38;5;124m\"\u001b[39m\u001b[38;5;124mmetadata_update\u001b[39m\u001b[38;5;124m\"\u001b[39m,\n\u001b[0;32m    861\u001b[0m     \u001b[38;5;124m\"\u001b[39m\u001b[38;5;124mmodel_info\u001b[39m\u001b[38;5;124m\"\u001b[39m,\n\u001b[0;32m    862\u001b[0m     \u001b[38;5;124m\"\u001b[39m\u001b[38;5;124mmove_repo\u001b[39m\u001b[38;5;124m\"\u001b[39m,\n\u001b[0;32m    863\u001b[0m     \u001b[38;5;124m\"\u001b[39m\u001b[38;5;124mnotebook_login\u001b[39m\u001b[38;5;124m\"\u001b[39m,\n\u001b[0;32m    864\u001b[0m     \u001b[38;5;124m\"\u001b[39m\u001b[38;5;124mpaper_info\u001b[39m\u001b[38;5;124m\"\u001b[39m,\n\u001b[0;32m    865\u001b[0m     \u001b[38;5;124m\"\u001b[39m\u001b[38;5;124mparse_safetensors_file_metadata\u001b[39m\u001b[38;5;124m\"\u001b[39m,\n\u001b[0;32m    866\u001b[0m     \u001b[38;5;124m\"\u001b[39m\u001b[38;5;124mpause_inference_endpoint\u001b[39m\u001b[38;5;124m\"\u001b[39m,\n\u001b[0;32m    867\u001b[0m     \u001b[38;5;124m\"\u001b[39m\u001b[38;5;124mpause_space\u001b[39m\u001b[38;5;124m\"\u001b[39m,\n\u001b[0;32m    868\u001b[0m     \u001b[38;5;124m\"\u001b[39m\u001b[38;5;124mpermanently_delete_lfs_files\u001b[39m\u001b[38;5;124m\"\u001b[39m,\n\u001b[0;32m    869\u001b[0m     \u001b[38;5;124m\"\u001b[39m\u001b[38;5;124mpreupload_lfs_files\u001b[39m\u001b[38;5;124m\"\u001b[39m,\n\u001b[0;32m    870\u001b[0m     \u001b[38;5;124m\"\u001b[39m\u001b[38;5;124mpush_to_hub_fastai\u001b[39m\u001b[38;5;124m\"\u001b[39m,\n\u001b[0;32m    871\u001b[0m     \u001b[38;5;124m\"\u001b[39m\u001b[38;5;124mpush_to_hub_keras\u001b[39m\u001b[38;5;124m\"\u001b[39m,\n\u001b[0;32m    872\u001b[0m     \u001b[38;5;124m\"\u001b[39m\u001b[38;5;124mread_dduf_file\u001b[39m\u001b[38;5;124m\"\u001b[39m,\n\u001b[0;32m    873\u001b[0m     \u001b[38;5;124m\"\u001b[39m\u001b[38;5;124mreject_access_request\u001b[39m\u001b[38;5;124m\"\u001b[39m,\n\u001b[0;32m    874\u001b[0m     \u001b[38;5;124m\"\u001b[39m\u001b[38;5;124mrename_discussion\u001b[39m\u001b[38;5;124m\"\u001b[39m,\n\u001b[0;32m    875\u001b[0m     \u001b[38;5;124m\"\u001b[39m\u001b[38;5;124mrepo_exists\u001b[39m\u001b[38;5;124m\"\u001b[39m,\n\u001b[0;32m    876\u001b[0m     \u001b[38;5;124m\"\u001b[39m\u001b[38;5;124mrepo_info\u001b[39m\u001b[38;5;124m\"\u001b[39m,\n\u001b[0;32m    877\u001b[0m     \u001b[38;5;124m\"\u001b[39m\u001b[38;5;124mrepo_type_and_id_from_hf_id\u001b[39m\u001b[38;5;124m\"\u001b[39m,\n\u001b[0;32m    878\u001b[0m     \u001b[38;5;124m\"\u001b[39m\u001b[38;5;124mrequest_space_hardware\u001b[39m\u001b[38;5;124m\"\u001b[39m,\n\u001b[0;32m    879\u001b[0m     \u001b[38;5;124m\"\u001b[39m\u001b[38;5;124mrequest_space_storage\u001b[39m\u001b[38;5;124m\"\u001b[39m,\n\u001b[0;32m    880\u001b[0m     \u001b[38;5;124m\"\u001b[39m\u001b[38;5;124mrestart_space\u001b[39m\u001b[38;5;124m\"\u001b[39m,\n\u001b[0;32m    881\u001b[0m     \u001b[38;5;124m\"\u001b[39m\u001b[38;5;124mresume_inference_endpoint\u001b[39m\u001b[38;5;124m\"\u001b[39m,\n\u001b[0;32m    882\u001b[0m     \u001b[38;5;124m\"\u001b[39m\u001b[38;5;124mrevision_exists\u001b[39m\u001b[38;5;124m\"\u001b[39m,\n\u001b[0;32m    883\u001b[0m     \u001b[38;5;124m\"\u001b[39m\u001b[38;5;124mrun_as_future\u001b[39m\u001b[38;5;124m\"\u001b[39m,\n\u001b[0;32m    884\u001b[0m     \u001b[38;5;124m\"\u001b[39m\u001b[38;5;124msave_pretrained_keras\u001b[39m\u001b[38;5;124m\"\u001b[39m,\n\u001b[0;32m    885\u001b[0m     \u001b[38;5;124m\"\u001b[39m\u001b[38;5;124msave_torch_model\u001b[39m\u001b[38;5;124m\"\u001b[39m,\n\u001b[0;32m    886\u001b[0m     \u001b[38;5;124m\"\u001b[39m\u001b[38;5;124msave_torch_state_dict\u001b[39m\u001b[38;5;124m\"\u001b[39m,\n\u001b[0;32m    887\u001b[0m     \u001b[38;5;124m\"\u001b[39m\u001b[38;5;124mscale_to_zero_inference_endpoint\u001b[39m\u001b[38;5;124m\"\u001b[39m,\n\u001b[0;32m    888\u001b[0m     \u001b[38;5;124m\"\u001b[39m\u001b[38;5;124mscan_cache_dir\u001b[39m\u001b[38;5;124m\"\u001b[39m,\n\u001b[0;32m    889\u001b[0m     \u001b[38;5;124m\"\u001b[39m\u001b[38;5;124mset_space_sleep_time\u001b[39m\u001b[38;5;124m\"\u001b[39m,\n\u001b[0;32m    890\u001b[0m     \u001b[38;5;124m\"\u001b[39m\u001b[38;5;124msnapshot_download\u001b[39m\u001b[38;5;124m\"\u001b[39m,\n\u001b[0;32m    891\u001b[0m     \u001b[38;5;124m\"\u001b[39m\u001b[38;5;124mspace_info\u001b[39m\u001b[38;5;124m\"\u001b[39m,\n\u001b[0;32m    892\u001b[0m     \u001b[38;5;124m\"\u001b[39m\u001b[38;5;124msplit_state_dict_into_shards_factory\u001b[39m\u001b[38;5;124m\"\u001b[39m,\n\u001b[0;32m    893\u001b[0m     \u001b[38;5;124m\"\u001b[39m\u001b[38;5;124msplit_tf_state_dict_into_shards\u001b[39m\u001b[38;5;124m\"\u001b[39m,\n\u001b[0;32m    894\u001b[0m     \u001b[38;5;124m\"\u001b[39m\u001b[38;5;124msplit_torch_state_dict_into_shards\u001b[39m\u001b[38;5;124m\"\u001b[39m,\n\u001b[0;32m    895\u001b[0m     \u001b[38;5;124m\"\u001b[39m\u001b[38;5;124msuper_squash_history\u001b[39m\u001b[38;5;124m\"\u001b[39m,\n\u001b[0;32m    896\u001b[0m     \u001b[38;5;124m\"\u001b[39m\u001b[38;5;124mtry_to_load_from_cache\u001b[39m\u001b[38;5;124m\"\u001b[39m,\n\u001b[0;32m    897\u001b[0m     \u001b[38;5;124m\"\u001b[39m\u001b[38;5;124munlike\u001b[39m\u001b[38;5;124m\"\u001b[39m,\n\u001b[0;32m    898\u001b[0m     \u001b[38;5;124m\"\u001b[39m\u001b[38;5;124mupdate_collection_item\u001b[39m\u001b[38;5;124m\"\u001b[39m,\n\u001b[0;32m    899\u001b[0m     \u001b[38;5;124m\"\u001b[39m\u001b[38;5;124mupdate_collection_metadata\u001b[39m\u001b[38;5;124m\"\u001b[39m,\n\u001b[0;32m    900\u001b[0m     \u001b[38;5;124m\"\u001b[39m\u001b[38;5;124mupdate_inference_endpoint\u001b[39m\u001b[38;5;124m\"\u001b[39m,\n\u001b[0;32m    901\u001b[0m     \u001b[38;5;124m\"\u001b[39m\u001b[38;5;124mupdate_repo_settings\u001b[39m\u001b[38;5;124m\"\u001b[39m,\n\u001b[0;32m    902\u001b[0m     \u001b[38;5;124m\"\u001b[39m\u001b[38;5;124mupdate_repo_visibility\u001b[39m\u001b[38;5;124m\"\u001b[39m,\n\u001b[0;32m    903\u001b[0m     \u001b[38;5;124m\"\u001b[39m\u001b[38;5;124mupdate_webhook\u001b[39m\u001b[38;5;124m\"\u001b[39m,\n\u001b[0;32m    904\u001b[0m     \u001b[38;5;124m\"\u001b[39m\u001b[38;5;124mupload_file\u001b[39m\u001b[38;5;124m\"\u001b[39m,\n\u001b[0;32m    905\u001b[0m     \u001b[38;5;124m\"\u001b[39m\u001b[38;5;124mupload_folder\u001b[39m\u001b[38;5;124m\"\u001b[39m,\n\u001b[0;32m    906\u001b[0m     \u001b[38;5;124m\"\u001b[39m\u001b[38;5;124mupload_large_folder\u001b[39m\u001b[38;5;124m\"\u001b[39m,\n\u001b[0;32m    907\u001b[0m     \u001b[38;5;124m\"\u001b[39m\u001b[38;5;124mwebhook_endpoint\u001b[39m\u001b[38;5;124m\"\u001b[39m,\n\u001b[0;32m    908\u001b[0m     \u001b[38;5;124m\"\u001b[39m\u001b[38;5;124mwhoami\u001b[39m\u001b[38;5;124m\"\u001b[39m,\n\u001b[0;32m    909\u001b[0m ]\n\u001b[0;32m    912\u001b[0m \u001b[38;5;28;01mdef\u001b[39;00m \u001b[38;5;21m_attach\u001b[39m(package_name, submodules\u001b[38;5;241m=\u001b[39m\u001b[38;5;28;01mNone\u001b[39;00m, submod_attrs\u001b[38;5;241m=\u001b[39m\u001b[38;5;28;01mNone\u001b[39;00m):\n\u001b[0;32m    913\u001b[0m \u001b[38;5;250m    \u001b[39m\u001b[38;5;124;03m\"\"\"Attach lazily loaded submodules, functions, or other attributes.\u001b[39;00m\n\u001b[0;32m    914\u001b[0m \n\u001b[0;32m    915\u001b[0m \u001b[38;5;124;03m    Typically, modules import submodules and attributes as follows:\u001b[39;00m\n\u001b[1;32m   (...)\u001b[0m\n\u001b[0;32m    950\u001b[0m \n\u001b[0;32m    951\u001b[0m \u001b[38;5;124;03m    \"\"\"\u001b[39;00m\n",
      "File \u001b[1;32mc:\\Users\\kyanj\\anaconda3\\envs\\fyp_env\\Lib\\importlib\\__init__.py:126\u001b[0m, in \u001b[0;36mimport_module\u001b[1;34m(name, package)\u001b[0m\n\u001b[0;32m    124\u001b[0m             \u001b[38;5;28;01mbreak\u001b[39;00m\n\u001b[0;32m    125\u001b[0m         level \u001b[38;5;241m+\u001b[39m\u001b[38;5;241m=\u001b[39m \u001b[38;5;241m1\u001b[39m\n\u001b[1;32m--> 126\u001b[0m \u001b[38;5;28;01mreturn\u001b[39;00m \u001b[43m_bootstrap\u001b[49m\u001b[38;5;241;43m.\u001b[39;49m\u001b[43m_gcd_import\u001b[49m\u001b[43m(\u001b[49m\u001b[43mname\u001b[49m\u001b[43m[\u001b[49m\u001b[43mlevel\u001b[49m\u001b[43m:\u001b[49m\u001b[43m]\u001b[49m\u001b[43m,\u001b[49m\u001b[43m \u001b[49m\u001b[43mpackage\u001b[49m\u001b[43m,\u001b[49m\u001b[43m \u001b[49m\u001b[43mlevel\u001b[49m\u001b[43m)\u001b[49m\n",
      "File \u001b[1;32mc:\\Users\\kyanj\\anaconda3\\envs\\fyp_env\\Lib\\site-packages\\huggingface_hub\\_snapshot_download.py:10\u001b[0m\n\u001b[0;32m      7\u001b[0m \u001b[38;5;28;01mfrom\u001b[39;00m \u001b[38;5;21;01mtqdm\u001b[39;00m\u001b[38;5;21;01m.\u001b[39;00m\u001b[38;5;21;01mcontrib\u001b[39;00m\u001b[38;5;21;01m.\u001b[39;00m\u001b[38;5;21;01mconcurrent\u001b[39;00m \u001b[38;5;28;01mimport\u001b[39;00m thread_map\n\u001b[0;32m      9\u001b[0m \u001b[38;5;28;01mfrom\u001b[39;00m \u001b[38;5;21;01m.\u001b[39;00m \u001b[38;5;28;01mimport\u001b[39;00m constants\n\u001b[1;32m---> 10\u001b[0m \u001b[38;5;28;01mfrom\u001b[39;00m \u001b[38;5;21;01m.\u001b[39;00m\u001b[38;5;21;01merrors\u001b[39;00m \u001b[38;5;28;01mimport\u001b[39;00m GatedRepoError, LocalEntryNotFoundError, RepositoryNotFoundError, RevisionNotFoundError\n\u001b[0;32m     11\u001b[0m \u001b[38;5;28;01mfrom\u001b[39;00m \u001b[38;5;21;01m.\u001b[39;00m\u001b[38;5;21;01mfile_download\u001b[39;00m \u001b[38;5;28;01mimport\u001b[39;00m REGEX_COMMIT_HASH, hf_hub_download, repo_folder_name\n\u001b[0;32m     12\u001b[0m \u001b[38;5;28;01mfrom\u001b[39;00m \u001b[38;5;21;01m.\u001b[39;00m\u001b[38;5;21;01mhf_api\u001b[39;00m \u001b[38;5;28;01mimport\u001b[39;00m DatasetInfo, HfApi, ModelInfo, SpaceInfo\n",
      "\u001b[1;31mImportError\u001b[0m: cannot import name 'GatedRepoError' from 'huggingface_hub.errors' (c:\\Users\\kyanj\\anaconda3\\envs\\fyp_env\\Lib\\site-packages\\huggingface_hub\\errors.py)"
     ]
    }
   ],
   "source": [
    "from peft import LoraConfig"
   ]
  }
 ],
 "metadata": {
  "kernelspec": {
   "display_name": "fyp_env",
   "language": "python",
   "name": "python3"
  },
  "language_info": {
   "codemirror_mode": {
    "name": "ipython",
    "version": 3
   },
   "file_extension": ".py",
   "mimetype": "text/x-python",
   "name": "python",
   "nbconvert_exporter": "python",
   "pygments_lexer": "ipython3",
   "version": "3.11.10"
  }
 },
 "nbformat": 4,
 "nbformat_minor": 2
}
